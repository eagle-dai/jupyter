{
 "cells": [
  {
   "cell_type": "code",
   "execution_count": 4,
   "metadata": {},
   "outputs": [],
   "source": [
    "import time\n",
    "import requests\n",
    "from pprint import pprint\n",
    "import os\n",
    "\n",
    "cfg = {}\n",
    "cfg['imageRoot'] = 'D:/Dev/workspace/traffic/map-tile/nanjing/dark/'\n",
    "cfg['pngFiles'] = cfg['imageRoot'] + 'img/'\n",
    "cfg['defaultSeaPng'] = cfg['imageRoot'] + 'defaults/sea.png'\n",
    "cfg['defaultLandPng'] = cfg['imageRoot'] + 'defaults/land.png'\n",
    "cfg['metaDir'] = cfg['imageRoot'] + '/meta/'\n",
    "\n",
    "cfg['outDefaultCsv'] = cfg['imageRoot'] + '/csv/map_tile_default.csv'\n",
    "cfg['outTileCsv'] = cfg['imageRoot'] + '/csv/map_tile.csv'"
   ]
  },
  {
   "cell_type": "code",
   "execution_count": 5,
   "metadata": {},
   "outputs": [],
   "source": [
    "def readBinFile(pathname):\n",
    "    data = None\n",
    "    statinfo = os.stat(pathname)\n",
    "    if statinfo.st_size <= 0:\n",
    "        raise Exception('Invalid file: ' + pathname)\n",
    "    with open(pathname, 'rb') as f:\n",
    "        data = f.read(statinfo.st_size)\n",
    "    return ''.join('{:02x}'.format(x) for x in data)\n",
    "\n",
    "# print(readBinFile(cfg['defaultSeaPng']))"
   ]
  },
  {
   "cell_type": "code",
   "execution_count": 6,
   "metadata": {},
   "outputs": [],
   "source": [
    "def generateDefaultCsv():\n",
    "    with open(cfg['outDefaultCsv'], 'w') as f:\n",
    "        f.write('THEME,PNG,TAG\\n')\n",
    "        f.write(','.join(['dark', readBinFile(cfg['defaultLandPng']), 'land\\n']))\n",
    "        f.write(','.join(['dark', readBinFile(cfg['defaultSeaPng']), 'sea\\n']))\n",
    "\n",
    "generateDefaultCsv()"
   ]
  },
  {
   "cell_type": "code",
   "execution_count": 20,
   "metadata": {},
   "outputs": [],
   "source": [
    "import csv\n",
    "\n",
    "def generateTileCsv():\n",
    "    with open(cfg['outTileCsv'], 'w') as f:\n",
    "        # head line\n",
    "        f.write('THEME,Z,X,Y,PNG,TAG\\n')\n",
    "\n",
    "        # for png tiles\n",
    "        for root, subdirs, files in os.walk(cfg['pngFiles']):\n",
    "            #print(root, subdirs, files, '\\n')\n",
    "            for file in files:\n",
    "                if file.endswith('.png'):\n",
    "                    z_str = root[root.rfind('/') + 1:]\n",
    "\n",
    "                    pathname = os.path.join(root, file)\n",
    "                    f.write(','.join(['dark',\n",
    "                                      z_str,\n",
    "                                      file.replace('-', ',').replace('.png', ''),\n",
    "                                      readBinFile(pathname),\n",
    "                                      '\\n']))\n",
    "\n",
    "        # for default land and sea pngs\n",
    "        for file in os.listdir(cfg['metaDir']):\n",
    "            if file.endswith('.meta'):\n",
    "                str_z = file.replace('.meta', '')\n",
    "\n",
    "                with open(os.path.join(cfg['metaDir'], file), 'r') as csv_file:\n",
    "                    reader = csv.reader(csv_file)\n",
    "                    for line in reader:\n",
    "                        x, y, tag = line[0], line[1], line[2]\n",
    "                        f.write(','.join(['dark', str_z, str(x), str(y), '',tag + '\\n']))\n",
    "\n",
    "generateTileCsv()"
   ]
  }
 ],
 "metadata": {
  "kernelspec": {
   "display_name": "Python 3",
   "language": "python",
   "name": "python3"
  },
  "language_info": {
   "codemirror_mode": {
    "name": "ipython",
    "version": 3
   },
   "file_extension": ".py",
   "mimetype": "text/x-python",
   "name": "python",
   "nbconvert_exporter": "python",
   "pygments_lexer": "ipython3",
   "version": "3.6.7"
  }
 },
 "nbformat": 4,
 "nbformat_minor": 2
}
