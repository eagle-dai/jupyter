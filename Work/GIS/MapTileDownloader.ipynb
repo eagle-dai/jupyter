{
 "cells": [
  {
   "cell_type": "code",
   "execution_count": 1,
   "metadata": {},
   "outputs": [],
   "source": [
    "import time\n",
    "import requests\n",
    "from pprint import pprint\n",
    "import threading\n",
    "import queue\n",
    "import os\n",
    "\n",
    "cfg = {}\n",
    "cfg['tileServer'] = 'http://10.128.162.208:8081/hot/{z}/{x}/{y}.png'\n",
    "cfg['z-range'] = [10, 18]\n",
    "cfg['x-range'] = [10, 18]\n",
    "cfg['y-range'] = [10, 18]\n",
    "cfg['outFolder'] = 'D:/Dev/tmp/Tile/'"
   ]
  },
  {
   "cell_type": "code",
   "execution_count": 2,
   "metadata": {},
   "outputs": [],
   "source": [
    "def myprint(s):\n",
    "    enable_log = True\n",
    "    if enable_log:\n",
    "        print(s)\n",
    "\n",
    "def download(z, x, y):\n",
    "    url = cfg['tileServer']\n",
    "    url = url.replace('{z}', str(z)).replace('{x}', str(x)).replace('{y}', str(y))\n",
    "    #myprint(url)\n",
    "\n",
    "    res1 = requests.get(url, verify=False)\n",
    "    if res1.status_code != 200:\n",
    "        raise Exception('Error: 200 expected!')\n",
    "\n",
    "    path = cfg['outFolder'] + str(z) + '/' + str(x) + '/'\n",
    "    os.makedirs(path, exist_ok=True)\n",
    "    with open(path + str(y) + '.png', 'wb') as the_file:\n",
    "        the_file.write(res1.content)\n",
    "\n",
    "#download(15, 27192, 13301)"
   ]
  }
 ],
 "metadata": {
  "kernelspec": {
   "display_name": "Python 3",
   "language": "python",
   "name": "python3"
  },
  "language_info": {
   "codemirror_mode": {
    "name": "ipython",
    "version": 3
   },
   "file_extension": ".py",
   "mimetype": "text/x-python",
   "name": "python",
   "nbconvert_exporter": "python",
   "pygments_lexer": "ipython3",
   "version": "3.6.7"
  }
 },
 "nbformat": 4,
 "nbformat_minor": 2
}
