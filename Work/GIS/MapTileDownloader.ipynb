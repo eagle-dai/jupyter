{
 "cells": [
  {
   "cell_type": "code",
   "execution_count": null,
   "metadata": {},
   "outputs": [],
   "source": [
    "import time\n",
    "import requests\n",
    "from pprint import pprint\n",
    "import os\n",
    "\n",
    "cfg = {}\n",
    "cfg['tileServer'] = 'http://192.168.44.128/hot/{z}/{x}/{y}.png'\n",
    "cfg['z-range'] = [11, 17]\n",
    "cfg['minLat'] = 31.23\n",
    "cfg['maxLat'] = 32.62\n",
    "cfg['minLng'] = 118.37\n",
    "cfg['maxLng'] = 119.23\n",
    "cfg['outFolderRoot'] = 'D:/Dev/tmp/Tile/'\n",
    "cfg['outFolder'] = cfg['outFolderRoot'] + 'files/'\n",
    "\n",
    "cfg['defaultSeaPng'] = cfg['outFolderRoot'] + 'defaults/sea.png'\n",
    "cfg['defaultSeaContent'] = None\n",
    "cfg['defaultLandPng'] = cfg['outFolderRoot'] + 'defaults/land.png'\n",
    "cfg['defaultLandContent'] = None\n",
    "cfg['metaDir'] = cfg['outFolderRoot'] + '/meta/'"
   ]
  },
  {
   "cell_type": "code",
   "execution_count": null,
   "metadata": {},
   "outputs": [],
   "source": [
    "def myprint(s):\n",
    "    enable_log = True\n",
    "    if enable_log:\n",
    "        print(s)\n",
    "\n",
    "def readDefaults():\n",
    "    pathname = cfg['defaultSeaPng']\n",
    "    statinfo = os.stat(pathname)\n",
    "    if statinfo.st_size <= 0:\n",
    "        raise Exception('Invalid default PNG: ' + pathname)\n",
    "    with open(pathname, 'rb') as f:\n",
    "        cfg['defaultSeaContent'] = f.read(statinfo.st_size)\n",
    "\n",
    "    pathname = cfg['defaultLandPng']\n",
    "    statinfo = os.stat(pathname)\n",
    "    if statinfo.st_size <= 0:\n",
    "        raise Exception('Invalid default PNG: ' + pathname)\n",
    "    with open(pathname, 'rb') as f:\n",
    "        cfg['defaultLandContent'] = f.read(statinfo.st_size)\n",
    "\n",
    "\n",
    "def download(z, x, y):\n",
    "    url = cfg['tileServer']\n",
    "    url = url.replace('{z}', str(z)).replace('{x}', str(x)).replace('{y}', str(y))\n",
    "    #myprint(url)\n",
    "\n",
    "    res1 = requests.get(url, verify=False)\n",
    "    if res1.status_code != 200:\n",
    "        raise Exception('Error: 200 expected!')\n",
    "\n",
    "    if (res1.content == cfg['defaultSeaContent']):\n",
    "        return \"sea\"\n",
    "    elif (res1.content == cfg['defaultLandContent']):\n",
    "        return \"land\"\n",
    "    else:\n",
    "        pathname = cfg['outFolder'] + str(z) + '-' + str(x) + '-' + str(y) + '.png'\n",
    "        with open(pathname, 'wb') as f:\n",
    "            f.write(res1.content)\n",
    "        return \"png\"\n",
    "\n",
    "readDefaults();\n",
    "#download(15, 27192, 13301)"
   ]
  },
  {
   "cell_type": "code",
   "execution_count": null,
   "metadata": {},
   "outputs": [],
   "source": [
    "import math\n",
    "\n",
    "def long2tilex(lon, z):\n",
    "    return math.floor((lon + 180.0) / 360.0 * math.pow(2.0, z))\n",
    "\n",
    "def lat2tiley(lat, z):\n",
    "    return math.floor(\n",
    "        (1.0 - math.log(math.tan(lat * math.pi/180.0) + 1.0 / math.cos(lat * math.pi/180.0)) / math.pi) / 2.0 * math.pow(2.0, z))\n",
    "\n",
    "\n",
    "def download_z(z):\n",
    "    print('')\n",
    "    print('--------------- z = ' + str(z) + ' ---------------')\n",
    "    y1 = lat2tiley(cfg['minLat'], z)\n",
    "    y2 = lat2tiley(cfg['maxLat'], z)\n",
    "    x1 = long2tilex(cfg['minLat'], z)\n",
    "    x2 = long2tilex(cfg['maxLat'], z)\n",
    "\n",
    "    if (y1 > y2): (y1, y2) = (y2, y1)\n",
    "    if (x1 > x2): (x1, x2) = (x2, x1)\n",
    "\n",
    "    with open(cfg['metaDir'] + str(z) + '.meta', 'w') as f:\n",
    "        tag = ''\n",
    "        for x in range(x1, x2 + 1):\n",
    "            myprint('downloading: x = ' + str(x))\n",
    "\n",
    "            for y in range(y1, y2 + 1):\n",
    "                while True:\n",
    "                    try:\n",
    "                        tag = download(z, x, y)\n",
    "                        break\n",
    "                    except:\n",
    "                        time.sleep(0.5)\n",
    "\n",
    "                if tag != 'png':\n",
    "                    f.write(str(x) + ',' + str(y) + ',' + tag + '\\n')\n",
    "\n",
    "download(0, 0, 0)"
   ]
  },
  {
   "cell_type": "code",
   "execution_count": null,
   "metadata": {},
   "outputs": [],
   "source": [
    "download_z(11)"
   ]
  },
  {
   "cell_type": "code",
   "execution_count": null,
   "metadata": {},
   "outputs": [],
   "source": [
    "download_z(12)"
   ]
  },
  {
   "cell_type": "code",
   "execution_count": null,
   "metadata": {},
   "outputs": [],
   "source": [
    "download_z(13)"
   ]
  },
  {
   "cell_type": "code",
   "execution_count": null,
   "metadata": {},
   "outputs": [],
   "source": [
    "download_z(14)"
   ]
  },
  {
   "cell_type": "code",
   "execution_count": null,
   "metadata": {},
   "outputs": [],
   "source": [
    "download_z(15)"
   ]
  },
  {
   "cell_type": "code",
   "execution_count": null,
   "metadata": {},
   "outputs": [],
   "source": [
    "download_z(16)"
   ]
  },
  {
   "cell_type": "code",
   "execution_count": null,
   "metadata": {
    "scrolled": true
   },
   "outputs": [],
   "source": [
    "download_z(17)"
   ]
  }
 ],
 "metadata": {
  "kernelspec": {
   "display_name": "Python 3",
   "language": "python",
   "name": "python3"
  },
  "language_info": {
   "codemirror_mode": {
    "name": "ipython",
    "version": 3
   },
   "file_extension": ".py",
   "mimetype": "text/x-python",
   "name": "python",
   "nbconvert_exporter": "python",
   "pygments_lexer": "ipython3",
   "version": "3.6.7"
  }
 },
 "nbformat": 4,
 "nbformat_minor": 2
}
