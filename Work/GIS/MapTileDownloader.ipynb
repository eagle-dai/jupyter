{
 "cells": [
  {
   "cell_type": "code",
   "execution_count": 1,
   "metadata": {},
   "outputs": [],
   "source": [
    "import time\n",
    "import requests\n",
    "from pprint import pprint\n",
    "import os\n",
    "\n",
    "cfg = {}\n",
    "cfg['tileServer'] = 'http://192.168.44.128/hot/{z}/{x}/{y}.png'\n",
    "cfg['z-range'] = [11, 17]\n",
    "cfg['minLat'] = 31.23\n",
    "cfg['maxLat'] = 32.62\n",
    "cfg['minLng'] = 118.37\n",
    "cfg['maxLng'] = 119.23\n",
    "cfg['outFolderRoot'] = 'D:/Dev/tmp/Tile/'\n",
    "cfg['outFolder'] = cfg['outFolderRoot'] + 'files/'\n",
    "\n",
    "cfg['compareWithDefaults'] = True\n",
    "cfg['defaultSeaPng'] = cfg['outFolderRoot'] + 'defaults/sea.png'\n",
    "cfg['defaultSeaContent'] = None\n",
    "cfg['defaultLandPng'] = cfg['outFolderRoot'] + 'defaults/land.png'\n",
    "cfg['defaultLandContent'] = None\n",
    "cfg['metaDir'] = cfg['outFolderRoot'] + '/meta/'\n"
   ]
  },
  {
   "cell_type": "code",
   "execution_count": 2,
   "metadata": {},
   "outputs": [],
   "source": [
    "def myprint(s):\n",
    "    enable_log = True\n",
    "    if enable_log:\n",
    "        print(s)\n",
    "\n",
    "def readDefaults():\n",
    "    pathname = cfg['defaultSeaPng']\n",
    "    statinfo = os.stat(pathname)\n",
    "    if statinfo.st_size <= 0:\n",
    "        raise Exception('Invalid default PNG: ' + pathname)\n",
    "    with open(pathname, 'rb') as f:\n",
    "        cfg['defaultSeaContent'] = f.read(statinfo.st_size)\n",
    "\n",
    "    pathname = cfg['defaultLandPng']\n",
    "    statinfo = os.stat(pathname)\n",
    "    if statinfo.st_size <= 0:\n",
    "        raise Exception('Invalid default PNG: ' + pathname)\n",
    "    with open(pathname, 'rb') as f:\n",
    "        cfg['defaultLandContent'] = f.read(statinfo.st_size)\n",
    "\n",
    "\n",
    "def download(z, x, y):\n",
    "    url = cfg['tileServer']\n",
    "    url = url.replace('{z}', str(z)).replace('{x}', str(x)).replace('{y}', str(y))\n",
    "    #myprint(url)\n",
    "\n",
    "    res1 = requests.get(url, verify=False)\n",
    "    if res1.status_code != 200:\n",
    "        raise Exception('Error: 200 expected!')\n",
    "\n",
    "    if (cfg['compareWithDefaults'] and res1.content == cfg['defaultSeaContent']):\n",
    "        return \"sea\"\n",
    "    elif (cfg['compareWithDefaults'] and res1.content == cfg['defaultLandContent']):\n",
    "        return \"land\"\n",
    "    else:\n",
    "        path = cfg['outFolder'] + str(z) + '/'\n",
    "        os.makedirs(path, exist_ok=True)\n",
    "\n",
    "        pathname = path + str(x) + '-' + str(y) + '.png'\n",
    "        with open(pathname, 'wb') as f:\n",
    "            f.write(res1.content)\n",
    "        return \"png\"\n",
    "\n",
    "if cfg['compareWithDefaults']:\n",
    "    readDefaults();\n",
    "#download(15, 27192, 13301)"
   ]
  },
  {
   "cell_type": "code",
   "execution_count": 3,
   "metadata": {},
   "outputs": [
    {
     "data": {
      "text/plain": [
       "'png'"
      ]
     },
     "execution_count": 3,
     "metadata": {},
     "output_type": "execute_result"
    }
   ],
   "source": [
    "import math\n",
    "\n",
    "def deg2num(lat_deg, lon_deg, zoom):\n",
    "    lat_rad = math.radians(lat_deg)\n",
    "    n = 2.0 ** zoom\n",
    "    xtile = int((lon_deg + 180.0) / 360.0 * n)\n",
    "    ytile = int((1.0 - math.log(math.tan(lat_rad) + (1 / math.cos(lat_rad))) / math.pi) / 2.0 * n)\n",
    "    return (xtile, ytile)\n",
    "\n",
    "def long2tilex(lon, z):\n",
    "    return math.floor((lon + 180.0) / 360.0 * (2.0 ** z))\n",
    "\n",
    "def lat2tiley(lat, z):\n",
    "    return math.floor(\n",
    "        (1.0 - math.log(math.tan(lat * math.pi/180.0) + 1.0 / math.cos(lat * math.pi/180.0)) / math.pi) / 2.0 * (2.0 ** z))\n",
    "\n",
    "\n",
    "def download_z(z):\n",
    "    print('')\n",
    "    print('--------------- z = ' + str(z) + ' ---------------')\n",
    "    y1 = lat2tiley(cfg['minLat'], z)\n",
    "    y2 = lat2tiley(cfg['maxLat'], z)\n",
    "    x1 = long2tilex(cfg['minLng'], z)\n",
    "    x2 = long2tilex(cfg['maxLng'], z)\n",
    "\n",
    "    if (y1 > y2): (y1, y2) = (y2, y1)\n",
    "    if (x1 > x2): (x1, x2) = (x2, x1)\n",
    "\n",
    "    with open(cfg['metaDir'] + str(z) + '.meta', 'w') as f:\n",
    "        tag = ''\n",
    "        for x in range(x1, x2 + 1):\n",
    "            myprint('downloading: x = ' + str(x))\n",
    "\n",
    "            for y in range(y1, y2 + 1):\n",
    "                while True:\n",
    "                    try:\n",
    "                        tag = download(z, x, y)\n",
    "                        break\n",
    "                    except:\n",
    "                        time.sleep(0.1)\n",
    "\n",
    "                if tag != 'png':\n",
    "                    f.write(str(x) + ',' + str(y) + ',' + tag + '\\n')\n",
    "\n",
    "download(0, 0, 0)"
   ]
  },
  {
   "cell_type": "code",
   "execution_count": null,
   "metadata": {},
   "outputs": [],
   "source": [
    "for z in range(cfg['z-range'][0], cfg['z-range'][1] + 1):\n",
    "    download_z(z)"
   ]
  }
 ],
 "metadata": {
  "kernelspec": {
   "display_name": "Python 3",
   "language": "python",
   "name": "python3"
  },
  "language_info": {
   "codemirror_mode": {
    "name": "ipython",
    "version": 3
   },
   "file_extension": ".py",
   "mimetype": "text/x-python",
   "name": "python",
   "nbconvert_exporter": "python",
   "pygments_lexer": "ipython3",
   "version": "3.6.7"
  }
 },
 "nbformat": 4,
 "nbformat_minor": 2
}
