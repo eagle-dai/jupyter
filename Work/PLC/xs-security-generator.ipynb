{
 "cells": [
  {
   "cell_type": "code",
   "execution_count": 1,
   "metadata": {},
   "outputs": [
    {
     "name": "stdout",
     "output_type": "stream",
     "text": [
      "['C:/Users/I078212/workspace/plc/hana/src/PLC/sap/plc_repl/xs/.xsprivileges', 'C:/Users/I078212/workspace/plc/hana/src/PLC/sap/plc/doc/.xsprivileges', 'C:/Users/I078212/workspace/plc/hana/src/PLC/sap/plc/xs/.xsprivileges']\n"
     ]
    },
    {
     "data": {
      "text/plain": [
       "' src/PLC/sap/plc/doc/.xsprivileges as an example:\\n{\\n    \"privileges\" : [\\n        { \"name\" : \"API_Documentation_Read\", \"description\": \"Read access for the swagger api documentation\"}\\n    ]\\n}\\n'"
      ]
     },
     "execution_count": 1,
     "metadata": {},
     "output_type": "execute_result"
    }
   ],
   "source": [
    "#defines\n",
    "\n",
    "base_path = 'C:/Users/I078212/workspace/plc/hana/'\n",
    "\n",
    "xsprivileges_files = [\n",
    "    base_path + 'src/PLC/sap/plc_repl/xs/.xsprivileges',\n",
    "    base_path + 'src/PLC/sap/plc/doc/.xsprivileges',\n",
    "    base_path + 'src/PLC/sap/plc/xs/.xsprivileges'\n",
    "]\n",
    "\n",
    "print(xsprivileges_files)\n",
    "\n",
    "\n",
    "''' src/PLC/sap/plc/doc/.xsprivileges as an example:\n",
    "{\n",
    "    \"privileges\" : [\n",
    "        { \"name\" : \"API_Documentation_Read\", \"description\": \"Read access for the swagger api documentation\"}\n",
    "    ]\n",
    "}\n",
    "'''"
   ]
  },
  {
   "cell_type": "code",
   "execution_count": 2,
   "metadata": {},
   "outputs": [
    {
     "name": "stdout",
     "output_type": "stream",
     "text": [
      "{'privileges': [{'name': 'generators', 'description': 'Allows usage of artifact generators.'}]}\n"
     ]
    }
   ],
   "source": [
    "# parse .xsprivileges which are in json files\n",
    "\n",
    "import json\n",
    "\n",
    "in_jsons = []\n",
    "\n",
    "for f in xsprivileges_files:\n",
    "    with open(f) as json_data:\n",
    "        in_jsons.append(json.load(json_data))\n",
    "\n",
    "print(in_jsons[0])"
   ]
  },
  {
   "cell_type": "code",
   "execution_count": 3,
   "metadata": {
    "collapsed": true
   },
   "outputs": [],
   "source": [
    "# generate scopes, role-templates\n",
    "\n",
    "scopes = []\n",
    "for data in in_jsons:\n",
    "    for priviledge in data['privileges']:\n",
    "        scope = {}\n",
    "        scope['name'] = '$XSAPPNAME.' + priviledge['name']\n",
    "        scope['description'] = priviledge['description']\n",
    "        scopes.append(scope)\n",
    "#print(scopes)\n",
    "\n",
    "role_templates = []\n",
    "\n",
    "# add the most basic role templates, each is associated with one scope\n",
    "for data in in_jsons:\n",
    "    for priviledge in data['privileges']:\n",
    "        role_template = {}\n",
    "        role_template['name'] = priviledge['name'] + '_RT'\n",
    "        role_template['scope-references'] = ['$XSAPPNAME.' + priviledge['name']]\n",
    "        role_templates.append(role_template)\n"
   ]
  },
  {
   "cell_type": "code",
   "execution_count": 12,
   "metadata": {},
   "outputs": [
    {
     "name": "stdout",
     "output_type": "stream",
     "text": [
      "['role sap.plc.authorizations::Addin_Administrator extends role sap.plc.authorizations::Addin_User{application privilege: \"sap.plc.xs::AddIn_Edit\";application privilege: \"sap.plc.xs::AddIn_Read_All\";}', 'role sap.plc.authorizations::Addin_User extends role sap.plc.authorizations::Base_Viewer{application privilege: \"sap.plc.xs::AddIn_Read_Activated\";}', 'role sap.plc.authorizations::Base_Viewer{ application privilege: \"sap.plc.xs::Base_Access\";  application privilege: \"sap.plc.xs::User_Default_Settings_Edit\"; application privilege: \"sap.plc.xs::Tasks_Read\";}']\n"
     ]
    }
   ],
   "source": [
    "# more role-templates\n",
    "root_path = 'C:/Users/I078212/workspace/plc/hana/src/PLC/sap/'\n",
    "xsc_roles_files = [\n",
    "    'plc/authorizations/Addin_Administrator.hdbrole',\n",
    "    'plc/authorizations/Addin_User.hdbrole',\n",
    "    'plc/authorizations/Base_Viewer.hdbrole',\n",
    "    # TODO: and more ...\n",
    "]\n",
    "\n",
    "xsc_roles_data = []\n",
    "\n",
    "# prepare xsc_roles_data[]\n",
    "for i in range(len(xsc_roles_files)):\n",
    "    xsc_roles_files[i] = root_path + xsc_roles_files[i]\n",
    "    with open(xsc_roles_files[i], 'r') as my_file:\n",
    "        file_data = my_file.read().replace('\\n', '')\n",
    "        xsc_roles_data.append(file_data.replace('\\t', ' '))\n",
    "\n",
    "#print(xsc_roles_files)\n",
    "print(xsc_roles_data)\n",
    "\n",
    "''' XSC role file example:\n",
    "role sap.plc.authorizations::Contributor\n",
    "    extends role sap.plc.authorizations::Calculation_Version_Viewer, \n",
    "    sap.plc.authorizations::Admin_Costing_And_Analysis_Viewer, \n",
    "    sap.plc.authorizations::Admin_Finance_Viewer, \n",
    "    sap.plc.authorizations::Admin_Global_Settings_Viewer,\n",
    "    sap.plc.authorizations::Admin_Logistics_Viewer,\n",
    "    sap.plc.authorizations::Admin_Prices_Viewer\t\n",
    "{\n",
    "    application privilege: sap.plc.xs::Projects_Create_Update;\n",
    "    application privilege: sap.plc.xs::Calculations_Create_Update;\n",
    "    application privilege: sap.plc.xs::Calculation_Versions_Create_Update;\n",
    "    application privilege: sap.plc.xs::Calculation_Versions_Freeze;\n",
    "    application privilege: sap.plc.xs::Users_Read;\n",
    "}\n",
    "'''\n",
    "def parse_hdbrole(role_file):\n",
    "    parsed_role = {}\n",
    "    # TODO:\n",
    "    return parsed_role\n",
    "\n"
   ]
  },
  {
   "cell_type": "code",
   "execution_count": 4,
   "metadata": {
    "collapsed": true
   },
   "outputs": [],
   "source": [
    "# write output file\n",
    "xs_security_file = 'C:/Users/I078212/tmp/xs-security.json'\n",
    "\n",
    "xs_security = {}\n",
    "xs_security['xsappname'] = 'HCO_PLC'\n",
    "xs_security['scopes'] = scopes\n",
    "xs_security['role-templates'] = role_templates\n",
    "#print(xs_security)\n",
    "\n",
    "import json\n",
    "with open(xs_security_file, 'w') as out_file:\n",
    "    out_file.write(json.dumps(xs_security, ensure_ascii=True, indent=4))\n"
   ]
  }
 ],
 "metadata": {
  "kernelspec": {
   "display_name": "Python 3",
   "language": "python",
   "name": "python3"
  },
  "language_info": {
   "codemirror_mode": {
    "name": "ipython",
    "version": 3
   },
   "file_extension": ".py",
   "mimetype": "text/x-python",
   "name": "python",
   "nbconvert_exporter": "python",
   "pygments_lexer": "ipython3",
   "version": "3.6.3"
  }
 },
 "nbformat": 4,
 "nbformat_minor": 2
}
