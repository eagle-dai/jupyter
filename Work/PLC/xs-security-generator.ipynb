{
 "cells": [
  {
   "cell_type": "code",
   "execution_count": 16,
   "metadata": {},
   "outputs": [
    {
     "name": "stdout",
     "output_type": "stream",
     "text": [
      "['C:/Users/I078212/workspace/plc/hana/src/PLC/sap/plc_repl/xs/.xsprivileges', 'C:/Users/I078212/workspace/plc/hana/src/PLC/sap/plc/doc/.xsprivileges', 'C:/Users/I078212/workspace/plc/hana/src/PLC/sap/plc/xs/.xsprivileges']\n"
     ]
    },
    {
     "data": {
      "text/plain": [
       "'\\nsrc/PLC/sap/plc/doc/.xsprivileges as an example:\\n{\\n    \"privileges\" : [\\n        { \"name\" : \"API_Documentation_Read\", \"description\": \"Read access for the swagger api documentation\"}\\n    ]\\n}\\n'"
      ]
     },
     "execution_count": 16,
     "metadata": {},
     "output_type": "execute_result"
    }
   ],
   "source": [
    "#defines\n",
    "\n",
    "base_path = 'C:/Users/I078212/workspace/plc/hana/'\n",
    "\n",
    "xsprivileges_files = [\n",
    "    base_path + 'src/PLC/sap/plc_repl/xs/.xsprivileges',\n",
    "    base_path + 'src/PLC/sap/plc/doc/.xsprivileges',\n",
    "    base_path + 'src/PLC/sap/plc/xs/.xsprivileges'\n",
    "]\n",
    "\n",
    "print(xsprivileges_files)\n",
    "\n",
    "\n",
    "\"\"\"\n",
    "src/PLC/sap/plc/doc/.xsprivileges as an example:\n",
    "{\n",
    "    \"privileges\" : [\n",
    "        { \"name\" : \"API_Documentation_Read\", \"description\": \"Read access for the swagger api documentation\"}\n",
    "    ]\n",
    "}\n",
    "\"\"\""
   ]
  },
  {
   "cell_type": "code",
   "execution_count": 17,
   "metadata": {},
   "outputs": [
    {
     "name": "stdout",
     "output_type": "stream",
     "text": [
      "{'privileges': [{'name': 'generators', 'description': 'Allows usage of artifact generators.'}]}\n"
     ]
    }
   ],
   "source": [
    "# parse .xsprivileges which are in json files\n",
    "\n",
    "import json\n",
    "\n",
    "in_jsons = []\n",
    "\n",
    "for f in xsprivileges_files:\n",
    "    with open(f) as json_data:\n",
    "        in_jsons.append(json.load(json_data))\n",
    "\n",
    "print(in_jsons[0])"
   ]
  },
  {
   "cell_type": "code",
   "execution_count": 33,
   "metadata": {},
   "outputs": [],
   "source": [
    "# generate scopes, role-templates\n",
    "\n",
    "scopes = []\n",
    "for data in in_jsons:\n",
    "    for priviledge in data['privileges']:\n",
    "        scope = {}\n",
    "        scope['name'] = '$XSAPPNAME.' + priviledge['name']\n",
    "        scope['description'] = priviledge['description']\n",
    "        scopes.append(scope)\n",
    "#print(scopes)\n",
    "\n",
    "role_templates = []\n",
    "\n",
    "# add the most basic role templates, each is associated with one scope\n",
    "for data in in_jsons:\n",
    "    for priviledge in data['privileges']:\n",
    "        role_template = {}\n",
    "        role_template['name'] = priviledge['name'] + '_RT'\n",
    "        role_template['scope-references'] = ['$XSAPPNAME.' + priviledge['name']]\n",
    "        role_templates.append(role_template)\n"
   ]
  },
  {
   "cell_type": "code",
   "execution_count": 34,
   "metadata": {},
   "outputs": [],
   "source": [
    "# write output file\n",
    "xs_security_file = 'C:/Users/I078212/tmp/xs-security.json'\n",
    "\n",
    "xs_security = {}\n",
    "xs_security['xsappname'] = 'HCO_PLC'\n",
    "xs_security['scopes'] = scopes\n",
    "xs_security['role-templates'] = role_templates\n",
    "#print(xs_security)\n",
    "\n",
    "import json\n",
    "with open(xs_security_file, 'w') as out_file:\n",
    "    out_file.write(json.dumps(xs_security, ensure_ascii=False, indent=4))\n"
   ]
  },
  {
   "cell_type": "code",
   "execution_count": null,
   "metadata": {
    "collapsed": true
   },
   "outputs": [],
   "source": []
  }
 ],
 "metadata": {
  "kernelspec": {
   "display_name": "Python 3",
   "language": "python",
   "name": "python3"
  },
  "language_info": {
   "codemirror_mode": {
    "name": "ipython",
    "version": 3
   },
   "file_extension": ".py",
   "mimetype": "text/x-python",
   "name": "python",
   "nbconvert_exporter": "python",
   "pygments_lexer": "ipython3",
   "version": "3.6.3"
  }
 },
 "nbformat": 4,
 "nbformat_minor": 2
}
