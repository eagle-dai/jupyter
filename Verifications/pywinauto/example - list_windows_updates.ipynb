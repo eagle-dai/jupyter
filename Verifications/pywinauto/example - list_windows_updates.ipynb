{
 "cells": [
  {
   "cell_type": "code",
   "execution_count": 14,
   "metadata": {},
   "outputs": [],
   "source": [
    "\"\"\"\n",
    "Example script for listing installed updates on Windows 10\n",
    "Requirements:\n",
    "  - Windows 10 (may work on Win7+)\n",
    "  - pywinauto 0.6.1+\n",
    "This example opens \"Control Panel\", navigates to \"Installed Updates\" page\n",
    "and lists all updates (for all apps) as well as OS Windows updates only.\n",
    "\"\"\"\n",
    "\n",
    "from __future__ import print_function\n",
    "from pywinauto import Application"
   ]
  },
  {
   "cell_type": "code",
   "execution_count": 15,
   "metadata": {
    "collapsed": true
   },
   "outputs": [],
   "source": [
    "# Open \"Control Panel\"\n",
    "Application().start('control.exe')\n",
    "app = Application(backend='uia').connect(path='explorer.exe', title='Control Panel')"
   ]
  },
  {
   "cell_type": "code",
   "execution_count": 16,
   "metadata": {},
   "outputs": [
    {
     "data": {
      "text/plain": [
       "<pywinauto.application.Application at 0x23ccbd727f0>"
      ]
     },
     "execution_count": 16,
     "metadata": {},
     "output_type": "execute_result"
    }
   ],
   "source": [
    "# Go to \"Programs\"\n",
    "app.window(title='Control Panel').ProgramsHyperlink.invoke()\n",
    "app.wait_cpu_usage_lower(threshold=0.5, timeout=30, usage_interval=1.0)"
   ]
  },
  {
   "cell_type": "code",
   "execution_count": 17,
   "metadata": {},
   "outputs": [],
   "source": [
    "# Go to \"Installed Updates\"\n",
    "app.window(title='Programs').child_window(title='View installed updates', control_type='Hyperlink').invoke()\n",
    "app.wait_cpu_usage_lower(threshold=0.5, timeout=30, usage_interval=1.0)\n",
    "\n",
    "list_box = app.InstalledUpdates.FolderViewListBox"
   ]
  },
  {
   "cell_type": "code",
   "execution_count": 18,
   "metadata": {},
   "outputs": [
    {
     "name": "stdout",
     "output_type": "stream",
     "text": [
      "\n",
      "All updates (8):\n",
      "\n",
      "['Microsoft Silverlight 5.1.50907.0', 'KB2565063', 'KB2565063', 'Visual Studio 2015 Update 3 (KB3022398)', 'Update for Microsoft Visual Studio 2015 (KB3165756)', 'Security Update for Microsoft Windows (KB4034658)', 'Security Update for Adobe Flash Player', 'Update for  (KB2504637)']\n"
     ]
    }
   ],
   "source": [
    "# list all updates\n",
    "items = list_box.descendants(control_type='ListItem')\n",
    "all_updates = [item.window_text() for item in items]\n",
    "print('\\nAll updates ({}):\\n'.format(len(all_updates)))\n",
    "print(all_updates)"
   ]
  },
  {
   "cell_type": "code",
   "execution_count": 19,
   "metadata": {},
   "outputs": [
    {
     "name": "stdout",
     "output_type": "stream",
     "text": [
      "\n",
      "Windows updates only (2):\n",
      "\n",
      "['Security Update for Microsoft Windows (KB4034658)', 'Security Update for Adobe Flash Player']\n"
     ]
    }
   ],
   "source": [
    "# list updates from \"Microsoft Windows\" group only\n",
    "windows_group_box = list_box.child_window(title_re='^Microsoft Windows.*', control_type='Group')\n",
    "windows_items = windows_group_box.descendants(control_type='ListItem')\n",
    "windows_updates = [item.window_text() for item in windows_items]\n",
    "print('\\nWindows updates only ({}):\\n'.format(len(windows_updates)))\n",
    "print(windows_updates)"
   ]
  },
  {
   "cell_type": "code",
   "execution_count": null,
   "metadata": {
    "collapsed": true
   },
   "outputs": [],
   "source": []
  }
 ],
 "metadata": {
  "kernelspec": {
   "display_name": "Python 3",
   "language": "python",
   "name": "python3"
  },
  "language_info": {
   "codemirror_mode": {
    "name": "ipython",
    "version": 3
   },
   "file_extension": ".py",
   "mimetype": "text/x-python",
   "name": "python",
   "nbconvert_exporter": "python",
   "pygments_lexer": "ipython3",
   "version": "3.6.1"
  }
 },
 "nbformat": 4,
 "nbformat_minor": 2
}
