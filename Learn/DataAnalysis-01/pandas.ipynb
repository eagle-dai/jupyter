{
 "cells": [
  {
   "cell_type": "markdown",
   "metadata": {},
   "source": [
    "## Pandas\n",
    "### 基于Numpy的高级数据结构和精巧工具，快速简单的处理数据\n",
    "- 自动或明确的数据对齐\n",
    "- 时间序列功能\n",
    "- 以相同的数据结构来处理时间序列和非时间序列\n",
    "- 支持传递元数据（坐标轴标签）的算术运算和缩减\n",
    "- 处理丢失数据，缺失值\n",
    "\n",
    "### 数据结构\n",
    "- Series\n",
    "- DataFrame"
   ]
  },
  {
   "cell_type": "code",
   "execution_count": 1,
   "metadata": {},
   "outputs": [
    {
     "data": {
      "text/plain": [
       "0    1.0\n",
       "1    3.0\n",
       "2    5.0\n",
       "3    NaN\n",
       "4    6.0\n",
       "5    8.0\n",
       "dtype: float64"
      ]
     },
     "execution_count": 1,
     "metadata": {},
     "output_type": "execute_result"
    }
   ],
   "source": [
    "import pandas as pd\n",
    "import numpy as np\n",
    "a = pd.Series([1,3,5,np.nan,6,8])\n",
    "a"
   ]
  },
  {
   "cell_type": "code",
   "execution_count": 2,
   "metadata": {},
   "outputs": [
    {
     "data": {
      "text/plain": [
       "DatetimeIndex(['2013-01-01', '2013-01-02', '2013-01-03', '2013-01-04',\n",
       "               '2013-01-05', '2013-01-06'],\n",
       "              dtype='datetime64[ns]', freq='D')"
      ]
     },
     "execution_count": 2,
     "metadata": {},
     "output_type": "execute_result"
    }
   ],
   "source": [
    "dates = pd.date_range('2013-01-01', periods=6)\n",
    "dates"
   ]
  },
  {
   "cell_type": "code",
   "execution_count": 3,
   "metadata": {},
   "outputs": [
    {
     "data": {
      "text/html": [
       "<div>\n",
       "<style>\n",
       "    .dataframe thead tr:only-child th {\n",
       "        text-align: right;\n",
       "    }\n",
       "\n",
       "    .dataframe thead th {\n",
       "        text-align: left;\n",
       "    }\n",
       "\n",
       "    .dataframe tbody tr th {\n",
       "        vertical-align: top;\n",
       "    }\n",
       "</style>\n",
       "<table border=\"1\" class=\"dataframe\">\n",
       "  <thead>\n",
       "    <tr style=\"text-align: right;\">\n",
       "      <th></th>\n",
       "      <th>A</th>\n",
       "      <th>B</th>\n",
       "      <th>C</th>\n",
       "      <th>D</th>\n",
       "    </tr>\n",
       "  </thead>\n",
       "  <tbody>\n",
       "    <tr>\n",
       "      <th>2013-01-01</th>\n",
       "      <td>-0.810479</td>\n",
       "      <td>1.285681</td>\n",
       "      <td>-1.029797</td>\n",
       "      <td>1.384755</td>\n",
       "    </tr>\n",
       "    <tr>\n",
       "      <th>2013-01-02</th>\n",
       "      <td>0.535963</td>\n",
       "      <td>1.640086</td>\n",
       "      <td>-0.480090</td>\n",
       "      <td>0.745207</td>\n",
       "    </tr>\n",
       "    <tr>\n",
       "      <th>2013-01-03</th>\n",
       "      <td>0.113613</td>\n",
       "      <td>-0.003081</td>\n",
       "      <td>-0.102008</td>\n",
       "      <td>1.395351</td>\n",
       "    </tr>\n",
       "    <tr>\n",
       "      <th>2013-01-04</th>\n",
       "      <td>0.431961</td>\n",
       "      <td>-1.191429</td>\n",
       "      <td>0.907321</td>\n",
       "      <td>1.340646</td>\n",
       "    </tr>\n",
       "    <tr>\n",
       "      <th>2013-01-05</th>\n",
       "      <td>-0.511627</td>\n",
       "      <td>-0.297069</td>\n",
       "      <td>-1.120703</td>\n",
       "      <td>-0.942699</td>\n",
       "    </tr>\n",
       "    <tr>\n",
       "      <th>2013-01-06</th>\n",
       "      <td>0.401615</td>\n",
       "      <td>0.298942</td>\n",
       "      <td>-0.348988</td>\n",
       "      <td>-1.016558</td>\n",
       "    </tr>\n",
       "  </tbody>\n",
       "</table>\n",
       "</div>"
      ],
      "text/plain": [
       "                   A         B         C         D\n",
       "2013-01-01 -0.810479  1.285681 -1.029797  1.384755\n",
       "2013-01-02  0.535963  1.640086 -0.480090  0.745207\n",
       "2013-01-03  0.113613 -0.003081 -0.102008  1.395351\n",
       "2013-01-04  0.431961 -1.191429  0.907321  1.340646\n",
       "2013-01-05 -0.511627 -0.297069 -1.120703 -0.942699\n",
       "2013-01-06  0.401615  0.298942 -0.348988 -1.016558"
      ]
     },
     "execution_count": 3,
     "metadata": {},
     "output_type": "execute_result"
    }
   ],
   "source": [
    "df = pd.DataFrame(np.random.randn(6,4), index=dates, columns=list('ABCD'))\n",
    "df"
   ]
  },
  {
   "cell_type": "code",
   "execution_count": 4,
   "metadata": {},
   "outputs": [
    {
     "name": "stdout",
     "output_type": "stream",
     "text": [
      "                   A         B         C         D\n",
      "2013-01-01 -0.810479  1.285681 -1.029797  1.384755\n",
      "2013-01-02  0.535963  1.640086 -0.480090  0.745207\n",
      "2013-01-03  0.113613 -0.003081 -0.102008  1.395351\n",
      "2013-01-04  0.431961 -1.191429  0.907321  1.340646\n",
      "2013-01-05 -0.511627 -0.297069 -1.120703 -0.942699\n"
     ]
    },
    {
     "data": {
      "text/html": [
       "<div>\n",
       "<style>\n",
       "    .dataframe thead tr:only-child th {\n",
       "        text-align: right;\n",
       "    }\n",
       "\n",
       "    .dataframe thead th {\n",
       "        text-align: left;\n",
       "    }\n",
       "\n",
       "    .dataframe tbody tr th {\n",
       "        vertical-align: top;\n",
       "    }\n",
       "</style>\n",
       "<table border=\"1\" class=\"dataframe\">\n",
       "  <thead>\n",
       "    <tr style=\"text-align: right;\">\n",
       "      <th></th>\n",
       "      <th>A</th>\n",
       "      <th>B</th>\n",
       "      <th>C</th>\n",
       "      <th>D</th>\n",
       "    </tr>\n",
       "  </thead>\n",
       "  <tbody>\n",
       "    <tr>\n",
       "      <th>2013-01-01</th>\n",
       "      <td>-0.810479</td>\n",
       "      <td>1.285681</td>\n",
       "      <td>-1.029797</td>\n",
       "      <td>1.384755</td>\n",
       "    </tr>\n",
       "  </tbody>\n",
       "</table>\n",
       "</div>"
      ],
      "text/plain": [
       "                   A         B         C         D\n",
       "2013-01-01 -0.810479  1.285681 -1.029797  1.384755"
      ]
     },
     "execution_count": 4,
     "metadata": {},
     "output_type": "execute_result"
    }
   ],
   "source": [
    "print(df.head())\n",
    "df.head(1)"
   ]
  },
  {
   "cell_type": "code",
   "execution_count": 5,
   "metadata": {},
   "outputs": [
    {
     "name": "stdout",
     "output_type": "stream",
     "text": [
      "                   A         B         C         D\n",
      "2013-01-02  0.535963  1.640086 -0.480090  0.745207\n",
      "2013-01-03  0.113613 -0.003081 -0.102008  1.395351\n",
      "2013-01-04  0.431961 -1.191429  0.907321  1.340646\n",
      "2013-01-05 -0.511627 -0.297069 -1.120703 -0.942699\n",
      "2013-01-06  0.401615  0.298942 -0.348988 -1.016558\n",
      "                   A         B         C         D\n",
      "2013-01-05 -0.511627 -0.297069 -1.120703 -0.942699\n",
      "2013-01-06  0.401615  0.298942 -0.348988 -1.016558\n"
     ]
    }
   ],
   "source": [
    "print(df.tail())\n",
    "print(df.tail(2))"
   ]
  },
  {
   "cell_type": "code",
   "execution_count": 6,
   "metadata": {},
   "outputs": [
    {
     "data": {
      "text/html": [
       "<div>\n",
       "<style>\n",
       "    .dataframe thead tr:only-child th {\n",
       "        text-align: right;\n",
       "    }\n",
       "\n",
       "    .dataframe thead th {\n",
       "        text-align: left;\n",
       "    }\n",
       "\n",
       "    .dataframe tbody tr th {\n",
       "        vertical-align: top;\n",
       "    }\n",
       "</style>\n",
       "<table border=\"1\" class=\"dataframe\">\n",
       "  <thead>\n",
       "    <tr style=\"text-align: right;\">\n",
       "      <th></th>\n",
       "      <th>A</th>\n",
       "      <th>B</th>\n",
       "      <th>C</th>\n",
       "      <th>D</th>\n",
       "    </tr>\n",
       "  </thead>\n",
       "  <tbody>\n",
       "    <tr>\n",
       "      <th>count</th>\n",
       "      <td>6.000000</td>\n",
       "      <td>6.000000</td>\n",
       "      <td>6.000000</td>\n",
       "      <td>6.000000</td>\n",
       "    </tr>\n",
       "    <tr>\n",
       "      <th>mean</th>\n",
       "      <td>0.026841</td>\n",
       "      <td>0.288855</td>\n",
       "      <td>-0.362377</td>\n",
       "      <td>0.484450</td>\n",
       "    </tr>\n",
       "    <tr>\n",
       "      <th>std</th>\n",
       "      <td>0.558993</td>\n",
       "      <td>1.043011</td>\n",
       "      <td>0.736813</td>\n",
       "      <td>1.160270</td>\n",
       "    </tr>\n",
       "    <tr>\n",
       "      <th>min</th>\n",
       "      <td>-0.810479</td>\n",
       "      <td>-1.191429</td>\n",
       "      <td>-1.120703</td>\n",
       "      <td>-1.016558</td>\n",
       "    </tr>\n",
       "    <tr>\n",
       "      <th>25%</th>\n",
       "      <td>-0.355317</td>\n",
       "      <td>-0.223572</td>\n",
       "      <td>-0.892370</td>\n",
       "      <td>-0.520722</td>\n",
       "    </tr>\n",
       "    <tr>\n",
       "      <th>50%</th>\n",
       "      <td>0.257614</td>\n",
       "      <td>0.147931</td>\n",
       "      <td>-0.414539</td>\n",
       "      <td>1.042926</td>\n",
       "    </tr>\n",
       "    <tr>\n",
       "      <th>75%</th>\n",
       "      <td>0.424374</td>\n",
       "      <td>1.038997</td>\n",
       "      <td>-0.163753</td>\n",
       "      <td>1.373728</td>\n",
       "    </tr>\n",
       "    <tr>\n",
       "      <th>max</th>\n",
       "      <td>0.535963</td>\n",
       "      <td>1.640086</td>\n",
       "      <td>0.907321</td>\n",
       "      <td>1.395351</td>\n",
       "    </tr>\n",
       "  </tbody>\n",
       "</table>\n",
       "</div>"
      ],
      "text/plain": [
       "              A         B         C         D\n",
       "count  6.000000  6.000000  6.000000  6.000000\n",
       "mean   0.026841  0.288855 -0.362377  0.484450\n",
       "std    0.558993  1.043011  0.736813  1.160270\n",
       "min   -0.810479 -1.191429 -1.120703 -1.016558\n",
       "25%   -0.355317 -0.223572 -0.892370 -0.520722\n",
       "50%    0.257614  0.147931 -0.414539  1.042926\n",
       "75%    0.424374  1.038997 -0.163753  1.373728\n",
       "max    0.535963  1.640086  0.907321  1.395351"
      ]
     },
     "execution_count": 6,
     "metadata": {},
     "output_type": "execute_result"
    }
   ],
   "source": [
    "df.describe()"
   ]
  },
  {
   "cell_type": "code",
   "execution_count": 7,
   "metadata": {},
   "outputs": [
    {
     "data": {
      "text/html": [
       "<div>\n",
       "<style>\n",
       "    .dataframe thead tr:only-child th {\n",
       "        text-align: right;\n",
       "    }\n",
       "\n",
       "    .dataframe thead th {\n",
       "        text-align: left;\n",
       "    }\n",
       "\n",
       "    .dataframe tbody tr th {\n",
       "        vertical-align: top;\n",
       "    }\n",
       "</style>\n",
       "<table border=\"1\" class=\"dataframe\">\n",
       "  <thead>\n",
       "    <tr style=\"text-align: right;\">\n",
       "      <th></th>\n",
       "      <th>2013-01-01 00:00:00</th>\n",
       "      <th>2013-01-02 00:00:00</th>\n",
       "      <th>2013-01-03 00:00:00</th>\n",
       "      <th>2013-01-04 00:00:00</th>\n",
       "      <th>2013-01-05 00:00:00</th>\n",
       "      <th>2013-01-06 00:00:00</th>\n",
       "    </tr>\n",
       "  </thead>\n",
       "  <tbody>\n",
       "    <tr>\n",
       "      <th>A</th>\n",
       "      <td>-0.810479</td>\n",
       "      <td>0.535963</td>\n",
       "      <td>0.113613</td>\n",
       "      <td>0.431961</td>\n",
       "      <td>-0.511627</td>\n",
       "      <td>0.401615</td>\n",
       "    </tr>\n",
       "    <tr>\n",
       "      <th>B</th>\n",
       "      <td>1.285681</td>\n",
       "      <td>1.640086</td>\n",
       "      <td>-0.003081</td>\n",
       "      <td>-1.191429</td>\n",
       "      <td>-0.297069</td>\n",
       "      <td>0.298942</td>\n",
       "    </tr>\n",
       "    <tr>\n",
       "      <th>C</th>\n",
       "      <td>-1.029797</td>\n",
       "      <td>-0.480090</td>\n",
       "      <td>-0.102008</td>\n",
       "      <td>0.907321</td>\n",
       "      <td>-1.120703</td>\n",
       "      <td>-0.348988</td>\n",
       "    </tr>\n",
       "    <tr>\n",
       "      <th>D</th>\n",
       "      <td>1.384755</td>\n",
       "      <td>0.745207</td>\n",
       "      <td>1.395351</td>\n",
       "      <td>1.340646</td>\n",
       "      <td>-0.942699</td>\n",
       "      <td>-1.016558</td>\n",
       "    </tr>\n",
       "  </tbody>\n",
       "</table>\n",
       "</div>"
      ],
      "text/plain": [
       "   2013-01-01  2013-01-02  2013-01-03  2013-01-04  2013-01-05  2013-01-06\n",
       "A   -0.810479    0.535963    0.113613    0.431961   -0.511627    0.401615\n",
       "B    1.285681    1.640086   -0.003081   -1.191429   -0.297069    0.298942\n",
       "C   -1.029797   -0.480090   -0.102008    0.907321   -1.120703   -0.348988\n",
       "D    1.384755    0.745207    1.395351    1.340646   -0.942699   -1.016558"
      ]
     },
     "execution_count": 7,
     "metadata": {},
     "output_type": "execute_result"
    }
   ],
   "source": [
    "df.T # transpose"
   ]
  },
  {
   "cell_type": "code",
   "execution_count": 8,
   "metadata": {},
   "outputs": [
    {
     "data": {
      "text/html": [
       "<div>\n",
       "<style>\n",
       "    .dataframe thead tr:only-child th {\n",
       "        text-align: right;\n",
       "    }\n",
       "\n",
       "    .dataframe thead th {\n",
       "        text-align: left;\n",
       "    }\n",
       "\n",
       "    .dataframe tbody tr th {\n",
       "        vertical-align: top;\n",
       "    }\n",
       "</style>\n",
       "<table border=\"1\" class=\"dataframe\">\n",
       "  <thead>\n",
       "    <tr style=\"text-align: right;\">\n",
       "      <th></th>\n",
       "      <th>A</th>\n",
       "      <th>B</th>\n",
       "      <th>C</th>\n",
       "      <th>D</th>\n",
       "    </tr>\n",
       "  </thead>\n",
       "  <tbody>\n",
       "    <tr>\n",
       "      <th>2013-01-01</th>\n",
       "      <td>-0.810479</td>\n",
       "      <td>1.285681</td>\n",
       "      <td>-1.029797</td>\n",
       "      <td>1.384755</td>\n",
       "    </tr>\n",
       "    <tr>\n",
       "      <th>2013-01-02</th>\n",
       "      <td>0.535963</td>\n",
       "      <td>1.640086</td>\n",
       "      <td>-0.480090</td>\n",
       "      <td>0.745207</td>\n",
       "    </tr>\n",
       "    <tr>\n",
       "      <th>2013-01-03</th>\n",
       "      <td>0.113613</td>\n",
       "      <td>-0.003081</td>\n",
       "      <td>-0.102008</td>\n",
       "      <td>1.395351</td>\n",
       "    </tr>\n",
       "    <tr>\n",
       "      <th>2013-01-04</th>\n",
       "      <td>0.431961</td>\n",
       "      <td>-1.191429</td>\n",
       "      <td>0.907321</td>\n",
       "      <td>1.340646</td>\n",
       "    </tr>\n",
       "    <tr>\n",
       "      <th>2013-01-05</th>\n",
       "      <td>-0.511627</td>\n",
       "      <td>-0.297069</td>\n",
       "      <td>-1.120703</td>\n",
       "      <td>-0.942699</td>\n",
       "    </tr>\n",
       "    <tr>\n",
       "      <th>2013-01-06</th>\n",
       "      <td>0.401615</td>\n",
       "      <td>0.298942</td>\n",
       "      <td>-0.348988</td>\n",
       "      <td>-1.016558</td>\n",
       "    </tr>\n",
       "  </tbody>\n",
       "</table>\n",
       "</div>"
      ],
      "text/plain": [
       "                   A         B         C         D\n",
       "2013-01-01 -0.810479  1.285681 -1.029797  1.384755\n",
       "2013-01-02  0.535963  1.640086 -0.480090  0.745207\n",
       "2013-01-03  0.113613 -0.003081 -0.102008  1.395351\n",
       "2013-01-04  0.431961 -1.191429  0.907321  1.340646\n",
       "2013-01-05 -0.511627 -0.297069 -1.120703 -0.942699\n",
       "2013-01-06  0.401615  0.298942 -0.348988 -1.016558"
      ]
     },
     "execution_count": 8,
     "metadata": {},
     "output_type": "execute_result"
    }
   ],
   "source": [
    "df"
   ]
  },
  {
   "cell_type": "code",
   "execution_count": 9,
   "metadata": {},
   "outputs": [
    {
     "data": {
      "text/html": [
       "<div>\n",
       "<style>\n",
       "    .dataframe thead tr:only-child th {\n",
       "        text-align: right;\n",
       "    }\n",
       "\n",
       "    .dataframe thead th {\n",
       "        text-align: left;\n",
       "    }\n",
       "\n",
       "    .dataframe tbody tr th {\n",
       "        vertical-align: top;\n",
       "    }\n",
       "</style>\n",
       "<table border=\"1\" class=\"dataframe\">\n",
       "  <thead>\n",
       "    <tr style=\"text-align: right;\">\n",
       "      <th></th>\n",
       "      <th>A</th>\n",
       "      <th>B</th>\n",
       "      <th>C</th>\n",
       "      <th>D</th>\n",
       "    </tr>\n",
       "  </thead>\n",
       "  <tbody>\n",
       "    <tr>\n",
       "      <th>2013-01-04</th>\n",
       "      <td>0.431961</td>\n",
       "      <td>-1.191429</td>\n",
       "      <td>0.907321</td>\n",
       "      <td>1.340646</td>\n",
       "    </tr>\n",
       "    <tr>\n",
       "      <th>2013-01-05</th>\n",
       "      <td>-0.511627</td>\n",
       "      <td>-0.297069</td>\n",
       "      <td>-1.120703</td>\n",
       "      <td>-0.942699</td>\n",
       "    </tr>\n",
       "    <tr>\n",
       "      <th>2013-01-03</th>\n",
       "      <td>0.113613</td>\n",
       "      <td>-0.003081</td>\n",
       "      <td>-0.102008</td>\n",
       "      <td>1.395351</td>\n",
       "    </tr>\n",
       "    <tr>\n",
       "      <th>2013-01-06</th>\n",
       "      <td>0.401615</td>\n",
       "      <td>0.298942</td>\n",
       "      <td>-0.348988</td>\n",
       "      <td>-1.016558</td>\n",
       "    </tr>\n",
       "    <tr>\n",
       "      <th>2013-01-01</th>\n",
       "      <td>-0.810479</td>\n",
       "      <td>1.285681</td>\n",
       "      <td>-1.029797</td>\n",
       "      <td>1.384755</td>\n",
       "    </tr>\n",
       "    <tr>\n",
       "      <th>2013-01-02</th>\n",
       "      <td>0.535963</td>\n",
       "      <td>1.640086</td>\n",
       "      <td>-0.480090</td>\n",
       "      <td>0.745207</td>\n",
       "    </tr>\n",
       "  </tbody>\n",
       "</table>\n",
       "</div>"
      ],
      "text/plain": [
       "                   A         B         C         D\n",
       "2013-01-04  0.431961 -1.191429  0.907321  1.340646\n",
       "2013-01-05 -0.511627 -0.297069 -1.120703 -0.942699\n",
       "2013-01-03  0.113613 -0.003081 -0.102008  1.395351\n",
       "2013-01-06  0.401615  0.298942 -0.348988 -1.016558\n",
       "2013-01-01 -0.810479  1.285681 -1.029797  1.384755\n",
       "2013-01-02  0.535963  1.640086 -0.480090  0.745207"
      ]
     },
     "execution_count": 9,
     "metadata": {},
     "output_type": "execute_result"
    }
   ],
   "source": [
    "df.sort_values(by='B')"
   ]
  },
  {
   "cell_type": "code",
   "execution_count": null,
   "metadata": {
    "collapsed": true
   },
   "outputs": [],
   "source": []
  }
 ],
 "metadata": {
  "kernelspec": {
   "display_name": "Python 2",
   "language": "python",
   "name": "python2"
  },
  "language_info": {
   "codemirror_mode": {
    "name": "ipython",
    "version": 2
   },
   "file_extension": ".py",
   "mimetype": "text/x-python",
   "name": "python",
   "nbconvert_exporter": "python",
   "pygments_lexer": "ipython2",
   "version": "2.7.13"
  }
 },
 "nbformat": 4,
 "nbformat_minor": 2
}
