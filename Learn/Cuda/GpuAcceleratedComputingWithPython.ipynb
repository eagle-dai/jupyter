{
 "cells": [
  {
   "cell_type": "markdown",
   "metadata": {},
   "source": [
    "https://developer.nvidia.com/how-to-cuda-python\n",
    "\n",
    "preconditions:\n",
    "- conda update conda\n",
    "- conda install numba\n",
    "- conda install cudatoolkit"
   ]
  },
  {
   "cell_type": "code",
   "execution_count": 1,
   "metadata": {},
   "outputs": [
    {
     "name": "stdout",
     "output_type": "stream",
     "text": [
      "C[:5] = [ 2.  2.  2.  2.  2.]\n",
      "C[-5:] = [ 2.  2.  2.  2.  2.]\n",
      "VectorAdd took for 0.24799990654econds\n"
     ]
    }
   ],
   "source": [
    "import numpy as np\n",
    "import time\n",
    "\n",
    "from numba import vectorize, cuda\n",
    "\n",
    "@vectorize(['float32(float32, float32)'], target='cuda')\n",
    "def VectorAdd(a, b):\n",
    "    return a + b\n",
    "\n",
    "def main():\n",
    "    #N = 32000000 # error: Call to cuLaunchKernel results in CUDA_ERROR_INVALID_VALUE in Python\n",
    "                  # https://stackoverflow.com/questions/39323256/cudaapierror-1-call-to-culaunchkernel-results-in-cuda-error-invalid-value-in\n",
    "    N = 12000000\n",
    "\n",
    "    A = np.ones(N, dtype=np.float32)\n",
    "    B = np.ones(N, dtype=np.float32)\n",
    "\n",
    "    start = time.time()\n",
    "    C = VectorAdd(A, B)\n",
    "    vector_add_time = time.time() - start\n",
    "\n",
    "    print(\"C[:5] = \" + str(C[:5]))\n",
    "    print(\"C[-5:] = \" + str(C[-5:]))\n",
    "\n",
    "    print(\"VectorAdd took for % seconds\" % vector_add_time)\n",
    "\n",
    "main()"
   ]
  }
 ],
 "metadata": {
  "kernelspec": {
   "display_name": "Python 2",
   "language": "python",
   "name": "python2"
  },
  "language_info": {
   "codemirror_mode": {
    "name": "ipython",
    "version": 2
   },
   "file_extension": ".py",
   "mimetype": "text/x-python",
   "name": "python",
   "nbconvert_exporter": "python",
   "pygments_lexer": "ipython2",
   "version": "2.7.13"
  }
 },
 "nbformat": 4,
 "nbformat_minor": 2
}
