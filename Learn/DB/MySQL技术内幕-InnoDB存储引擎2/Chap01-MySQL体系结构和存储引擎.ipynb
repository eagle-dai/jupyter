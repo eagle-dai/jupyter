{
 "cells": [
  {
   "cell_type": "markdown",
   "metadata": {},
   "source": [
    "# 第1章 MySQL体系结构和存储引擎\n",
    "\n",
    "## 1.1 定义数据库和实例\n",
    "\n",
    "- 数据库：操作系统上的文件\n",
    "- 实例：后台线程+共享内存区域\n",
    "\n",
    "MySQL通常数据库和实例一一对应，但在集群情况下，可能存在一个数据库被多个实例使用的情况。\n",
    "\n",
    "MySQL一般是单进程多线程架构。"
   ]
  }
 ],
 "metadata": {
  "kernelspec": {
   "display_name": "Python 3",
   "language": "python",
   "name": "python3"
  },
  "language_info": {
   "codemirror_mode": {
    "name": "ipython",
    "version": 3
   },
   "file_extension": ".py",
   "mimetype": "text/x-python",
   "name": "python",
   "nbconvert_exporter": "python",
   "pygments_lexer": "ipython3",
   "version": "3.6.4"
  }
 },
 "nbformat": 4,
 "nbformat_minor": 2
}
