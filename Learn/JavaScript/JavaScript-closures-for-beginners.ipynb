{
 "cells": [
  {
   "cell_type": "markdown",
   "metadata": {},
   "source": [
    "# JavaScript closures for beginners\n",
    "https://stackoverflow.com/questions/111102/how-do-javascript-closures-work\n",
    "\n",
    "### 例1"
   ]
  },
  {
   "cell_type": "code",
   "execution_count": 1,
   "metadata": {},
   "outputs": [
    {
     "name": "stdout",
     "output_type": "stream",
     "text": [
      "Hello Joe\n"
     ]
    }
   ],
   "source": [
    "// 首先需要能理解下列代码，作为基础\n",
    "function sayHello(name) {\n",
    "  var text = 'Hello ' + name;\n",
    "  var say = function() { console.log(text); }\n",
    "  say();\n",
    "}\n",
    "sayHello('Joe');"
   ]
  },
  {
   "cell_type": "markdown",
   "metadata": {},
   "source": [
    "### Two one sentence summaries:\n",
    "- A closure is one way of supporting first-class functions; it is an expression that can reference variables within its scope (when it was first declared), be assigned to a variable, be passed as an argument to a function, or be returned as a function result.\n",
    "- Or, a closure is a stack frame which is allocated when a function starts its execution, and not freed after the function returns (as if a 'stack frame' were allocated on the heap rather than the stack!).\n",
    "\n",
    "### 例2"
   ]
  },
  {
   "cell_type": "code",
   "execution_count": 2,
   "metadata": {},
   "outputs": [
    {
     "name": "stdout",
     "output_type": "stream",
     "text": [
      "Hello Bob\n"
     ]
    }
   ],
   "source": [
    "function sayHello2(name) {\n",
    "  var text = 'Hello ' + name; // Local variable\n",
    "  var say = function() { console.log(text); }\n",
    "  return say;\n",
    "}\n",
    "var say2 = sayHello2('Bob');\n",
    "say2(); // logs \"Hello Bob\""
   ]
  },
  {
   "cell_type": "markdown",
   "metadata": {},
   "source": [
    "这里JavaScript 和 C语言有关键性的不同。\n",
    "- 在JavaScript里，函数引用变量（如例2中的say2）可以理解成\n",
    " - 既有一个指向函数的指针\n",
    " - 也包含一个隐藏的指向 Closure 的指针\n",
    "- 在C语言里（以及其它大部分语言里），函数返回后，局部变量就不可以访问了，这是因为stack-frame被销毁了\n",
    "\n",
    "例2之所以有闭包，是因为函数中还有一个匿名函数。在JavaScript里，如果你在另外一个函数内部使用 function 关键字，你就创建了一个闭包。\n",
    "\n",
    "这里，sayHello2('Bob')已经返回了，但是我们还能访问sayHello2()中的局部变量 text"
   ]
  },
  {
   "cell_type": "code",
   "execution_count": 3,
   "metadata": {},
   "outputs": [
    {
     "data": {
      "text/plain": [
       "function () { console.log(text); }"
      ]
     },
     "execution_count": 3,
     "metadata": {},
     "output_type": "execute_result"
    }
   ],
   "source": [
    "say2"
   ]
  },
  {
   "cell_type": "markdown",
   "metadata": {},
   "source": [
    "观察say2本身，这个匿名函数仍然引用 text，值应该是：\"Hello Bob\"。魔法就在于，这个函数还有一个隐秘的对 closure 的引用。\n",
    "\n",
    "**建议读者通过例子完全弄懂闭包再使用它，否则会遇到非常奇怪的错误！**"
   ]
  },
  {
   "cell_type": "markdown",
   "metadata": {},
   "source": [
    "### 例3\n",
    "该例子演示的是局部变量并没有新的拷贝，仅仅是个引用。"
   ]
  },
  {
   "cell_type": "code",
   "execution_count": 4,
   "metadata": {},
   "outputs": [
    {
     "name": "stdout",
     "output_type": "stream",
     "text": [
      "43\n"
     ]
    }
   ],
   "source": [
    "function say667() {\n",
    "  // Local variable that ends up within closure\n",
    "  var num = 42;\n",
    "  var say = function() { console.log(num); }\n",
    "  num++;\n",
    "  return say;\n",
    "}\n",
    "var sayNumber = say667();\n",
    "sayNumber(); // logs 43"
   ]
  },
  {
   "cell_type": "markdown",
   "metadata": {},
   "source": [
    "### 例4\n",
    "例子中三个全局变量引用相同的闭包"
   ]
  },
  {
   "cell_type": "code",
   "execution_count": 5,
   "metadata": {},
   "outputs": [
    {
     "name": "stdout",
     "output_type": "stream",
     "text": [
      "43\n"
     ]
    }
   ],
   "source": [
    "var gLogNumber, gIncreaseNumber, gSetNumber;\n",
    "function setupSomeGlobals() {\n",
    "  // Local variable that ends up within closure\n",
    "  var num = 42;\n",
    "  // Store some references to functions as global variables\n",
    "  gLogNumber = function() { console.log(num); }\n",
    "  gIncreaseNumber = function() { num++; }\n",
    "  gSetNumber = function(x) { num = x; }\n",
    "}\n",
    "\n",
    "setupSomeGlobals();\n",
    "gIncreaseNumber();\n",
    "gLogNumber(); // 43"
   ]
  },
  {
   "cell_type": "code",
   "execution_count": 6,
   "metadata": {},
   "outputs": [
    {
     "name": "stdout",
     "output_type": "stream",
     "text": [
      "5\n"
     ]
    }
   ],
   "source": [
    "gSetNumber(5);\n",
    "gLogNumber(); // 5"
   ]
  },
  {
   "cell_type": "code",
   "execution_count": 7,
   "metadata": {},
   "outputs": [
    {
     "name": "stdout",
     "output_type": "stream",
     "text": [
      "42\n"
     ]
    }
   ],
   "source": [
    "var oldLog = gLogNumber;\n",
    "\n",
    "setupSomeGlobals();\n",
    "gLogNumber(); // 42"
   ]
  },
  {
   "cell_type": "code",
   "execution_count": 8,
   "metadata": {},
   "outputs": [
    {
     "name": "stdout",
     "output_type": "stream",
     "text": [
      "5\n"
     ]
    }
   ],
   "source": [
    "oldLog() // 5"
   ]
  },
  {
   "cell_type": "markdown",
   "metadata": {},
   "source": [
    "**注意**：setupSomeGlobals()第二次被调用的时候，一个新的闭包被创建了。在JavaScript里，每次当外部函数被调用时，内部函数都会被重新创建。"
   ]
  },
  {
   "cell_type": "markdown",
   "metadata": {},
   "source": [
    "### 例5\n",
    "TODO:"
   ]
  }
 ],
 "metadata": {
  "kernelspec": {
   "display_name": "NodeJS",
   "language": "javascript",
   "name": "nodejs"
  },
  "language_info": {
   "codemirror_mode": "javascript",
   "file_extension": ".js",
   "mimetype": "text/javascript",
   "name": "nodejs",
   "pygments_lexer": "javascript",
   "version": "0.10"
  }
 },
 "nbformat": 4,
 "nbformat_minor": 2
}
