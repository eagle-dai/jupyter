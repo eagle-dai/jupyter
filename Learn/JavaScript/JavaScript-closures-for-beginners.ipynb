{
 "cells": [
  {
   "cell_type": "markdown",
   "metadata": {},
   "source": [
    "# JavaScript closures for beginners\n",
    "https://stackoverflow.com/questions/111102/how-do-javascript-closures-work\n",
    "\n",
    "### 例1"
   ]
  },
  {
   "cell_type": "code",
   "execution_count": 1,
   "metadata": {},
   "outputs": [
    {
     "name": "stdout",
     "output_type": "stream",
     "text": [
      "Hello Joe\n"
     ]
    }
   ],
   "source": [
    "// 首先需要能理解下列代码，作为基础\n",
    "function sayHello(name) {\n",
    "  var text = 'Hello ' + name;\n",
    "  var say = function() { console.log(text); }\n",
    "  say();\n",
    "}\n",
    "sayHello('Joe');"
   ]
  },
  {
   "cell_type": "markdown",
   "metadata": {},
   "source": [
    "### Two one sentence summaries:\n",
    "- A closure is one way of supporting first-class functions; it is an expression that can reference variables within its scope (when it was first declared), be assigned to a variable, be passed as an argument to a function, or be returned as a function result.\n",
    "- Or, a closure is a stack frame which is allocated when a function starts its execution, and not freed after the function returns (as if a 'stack frame' were allocated on the heap rather than the stack!).\n",
    "\n",
    "### 例2"
   ]
  },
  {
   "cell_type": "code",
   "execution_count": 2,
   "metadata": {},
   "outputs": [
    {
     "name": "stdout",
     "output_type": "stream",
     "text": [
      "Hello Bob\n"
     ]
    }
   ],
   "source": [
    "function sayHello2(name) {\n",
    "  var text = 'Hello ' + name; // Local variable\n",
    "  var say = function() { console.log(text); }\n",
    "  return say;\n",
    "}\n",
    "var say2 = sayHello2('Bob');\n",
    "say2(); // logs \"Hello Bob\""
   ]
  },
  {
   "cell_type": "markdown",
   "metadata": {},
   "source": [
    "这里JavaScript 和 C语言有关键性的不同。\n",
    "- 在JavaScript里，函数引用变量（如例2中的say2）可以理解成\n",
    " - 既有一个指向函数的指针\n",
    " - 也包含一个隐藏的指向 Closure 的指针\n",
    "- 在C语言里（以及其它大部分语言里），函数返回后，局部变量就不可以访问了，这是因为stack-frame被销毁了\n",
    "\n",
    "例2之所以有闭包，是因为函数中还有一个匿名函数。在JavaScript里，如果你在另外一个函数内部使用 function 关键字，你就创建了一个闭包。\n",
    "\n",
    "这里，sayHello2('Bob')已经返回了，但是我们还能访问sayHello2()中的局部变量 text"
   ]
  },
  {
   "cell_type": "code",
   "execution_count": 3,
   "metadata": {},
   "outputs": [
    {
     "data": {
      "text/plain": [
       "function () { console.log(text); }"
      ]
     },
     "execution_count": 3,
     "metadata": {},
     "output_type": "execute_result"
    }
   ],
   "source": [
    "say2"
   ]
  },
  {
   "cell_type": "markdown",
   "metadata": {},
   "source": [
    "观察say2本身，这个匿名函数仍然引用 text，值应该是：\"Hello Bob\"。魔法就在于，这个函数还有一个隐秘的对 closure 的引用。\n",
    "\n",
    "**建议读者通过例子完全弄懂闭包再使用它，否则会遇到非常奇怪的错误！**"
   ]
  },
  {
   "cell_type": "markdown",
   "metadata": {},
   "source": [
    "### 例3\n",
    "该例子演示的是局部变量并没有新的拷贝，仅仅是个引用。"
   ]
  },
  {
   "cell_type": "code",
   "execution_count": 4,
   "metadata": {},
   "outputs": [
    {
     "name": "stdout",
     "output_type": "stream",
     "text": [
      "43\n"
     ]
    }
   ],
   "source": [
    "function say667() {\n",
    "  // Local variable that ends up within closure\n",
    "  var num = 42;\n",
    "  var say = function() { console.log(num); }\n",
    "  num++;\n",
    "  return say;\n",
    "}\n",
    "var sayNumber = say667();\n",
    "sayNumber(); // logs 43"
   ]
  },
  {
   "cell_type": "markdown",
   "metadata": {},
   "source": [
    "### 例4\n",
    "例子中三个全局变量引用相同的闭包"
   ]
  },
  {
   "cell_type": "code",
   "execution_count": 5,
   "metadata": {},
   "outputs": [
    {
     "name": "stdout",
     "output_type": "stream",
     "text": [
      "43\n"
     ]
    }
   ],
   "source": [
    "var gLogNumber, gIncreaseNumber, gSetNumber;\n",
    "function setupSomeGlobals() {\n",
    "  // Local variable that ends up within closure\n",
    "  var num = 42;\n",
    "  // Store some references to functions as global variables\n",
    "  gLogNumber = function() { console.log(num); }\n",
    "  gIncreaseNumber = function() { num++; }\n",
    "  gSetNumber = function(x) { num = x; }\n",
    "}\n",
    "\n",
    "setupSomeGlobals();\n",
    "gIncreaseNumber();\n",
    "gLogNumber(); // 43"
   ]
  },
  {
   "cell_type": "code",
   "execution_count": 6,
   "metadata": {},
   "outputs": [
    {
     "name": "stdout",
     "output_type": "stream",
     "text": [
      "5\n"
     ]
    }
   ],
   "source": [
    "gSetNumber(5);\n",
    "gLogNumber(); // 5"
   ]
  },
  {
   "cell_type": "code",
   "execution_count": 7,
   "metadata": {},
   "outputs": [
    {
     "name": "stdout",
     "output_type": "stream",
     "text": [
      "42\n"
     ]
    }
   ],
   "source": [
    "var oldLog = gLogNumber;\n",
    "\n",
    "setupSomeGlobals();\n",
    "gLogNumber(); // 42"
   ]
  },
  {
   "cell_type": "code",
   "execution_count": 8,
   "metadata": {},
   "outputs": [
    {
     "name": "stdout",
     "output_type": "stream",
     "text": [
      "5\n"
     ]
    }
   ],
   "source": [
    "oldLog() // 5"
   ]
  },
  {
   "cell_type": "markdown",
   "metadata": {},
   "source": [
    "**注意**：setupSomeGlobals()第二次被调用的时候，一个新的闭包被创建了。在JavaScript里，每次当外部函数被调用时，内部函数都会被重新创建。"
   ]
  },
  {
   "cell_type": "markdown",
   "metadata": {},
   "source": [
    "### 例5\n",
    "这个例子可能会让很多人中招！**小心在循环中定义函数！**闭包中的局部变量可能和你想象的不一样。"
   ]
  },
  {
   "cell_type": "code",
   "execution_count": 9,
   "metadata": {},
   "outputs": [
    {
     "name": "stdout",
     "output_type": "stream",
     "text": [
      "item2 undefined\n",
      "item2 undefined\n",
      "item2 undefined\n"
     ]
    }
   ],
   "source": [
    "function buildList(list) {\n",
    "    var result = [];\n",
    "    for (var i = 0; i < list.length; i++) {\n",
    "        var item = 'item' + i;\n",
    "        result.push( function() {console.log(item + ' ' + list[i])} );\n",
    "    }\n",
    "    return result;\n",
    "}\n",
    "\n",
    "function testList() {\n",
    "    var fnlist = buildList([1,2,3]);\n",
    "    // Using j only to help prevent confusion -- could use i.\n",
    "    for (var j = 0; j < fnlist.length; j++) {\n",
    "        fnlist[j]();\n",
    "    }\n",
    "}\n",
    "\n",
    "testList() //logs \"item2 undefined\" 3 times"
   ]
  },
  {
   "cell_type": "markdown",
   "metadata": {},
   "source": [
    "返回的result里面有三个函数，并且共享相同的闭包。循环过后，\n",
    "- item = 'item2'\n",
    "- i = 3"
   ]
  },
  {
   "cell_type": "markdown",
   "metadata": {},
   "source": [
    "### 例6\n",
    "该例子说明了闭包包含所有的外部函数中局部变量，只要在函数退出之前。例子中alice变量在匿名函数之后定义的，也一样可以进入闭包，并被匿名函数引用。"
   ]
  },
  {
   "cell_type": "code",
   "execution_count": 10,
   "metadata": {},
   "outputs": [
    {
     "name": "stdout",
     "output_type": "stream",
     "text": [
      "Hello Alice\n"
     ]
    }
   ],
   "source": [
    "function sayAlice() {\n",
    "    var say = function() { console.log(alice); }\n",
    "    // Local variable that ends up within closure\n",
    "    var alice = 'Hello Alice';\n",
    "    return say;\n",
    "}\n",
    "sayAlice()();// logs \"Hello Alice\""
   ]
  },
  {
   "cell_type": "markdown",
   "metadata": {},
   "source": [
    "### 例7\n",
    "例子显示每次调用都会创建一个独立的闭包，**并不是一个函数申明一本闭包。一次函数调用生成一个闭包**。"
   ]
  },
  {
   "cell_type": "code",
   "execution_count": 11,
   "metadata": {},
   "outputs": [
    {
     "name": "stdout",
     "output_type": "stream",
     "text": [
      "num: 5; anArray: 1,2,3,5; ref.someVar: 4;\n"
     ]
    }
   ],
   "source": [
    "function newClosure(someNum, someRef) {\n",
    "    // Local variables that end up within closure\n",
    "    var num = someNum;\n",
    "    var anArray = [1,2,3];\n",
    "    var ref = someRef;\n",
    "    return function(x) {\n",
    "        num += x;\n",
    "        anArray.push(num);\n",
    "        console.log('num: ' + num +\n",
    "            '; anArray: ' + anArray.toString() +\n",
    "            '; ref.someVar: ' + ref.someVar + ';');\n",
    "      }\n",
    "}\n",
    "obj = {someVar: 4};\n",
    "fn1 = newClosure(4, obj);\n",
    "fn1(1); // num: 5; anArray: 1,2,3,5; ref.someVar: 4;"
   ]
  },
  {
   "cell_type": "code",
   "execution_count": 12,
   "metadata": {},
   "outputs": [
    {
     "name": "stdout",
     "output_type": "stream",
     "text": [
      "num: 6; anArray: 1,2,3,6; ref.someVar: 4;\n"
     ]
    }
   ],
   "source": [
    "fn2 = newClosure(5, obj);\n",
    "fn2(1); // num: 6; anArray: 1,2,3,6; ref.someVar: 4;"
   ]
  },
  {
   "cell_type": "code",
   "execution_count": 13,
   "metadata": {},
   "outputs": [
    {
     "name": "stdout",
     "output_type": "stream",
     "text": [
      "num: 7; anArray: 1,2,3,5,7; ref.someVar: 5;\n"
     ]
    }
   ],
   "source": [
    "obj.someVar++;\n",
    "fn1(2); // num: 7; anArray: 1,2,3,5,7; ref.someVar: 5;"
   ]
  },
  {
   "cell_type": "code",
   "execution_count": 14,
   "metadata": {},
   "outputs": [
    {
     "name": "stdout",
     "output_type": "stream",
     "text": [
      "num: 8; anArray: 1,2,3,6,8; ref.someVar: 5;\n"
     ]
    }
   ],
   "source": [
    "fn2(2); // num: 8; anArray: 1,2,3,6,8; ref.someVar: 5;"
   ]
  },
  {
   "cell_type": "markdown",
   "metadata": {},
   "source": [
    "### 总结\n",
    "- Whenever you use function inside another function, a closure is used.\n",
    "- Whenever you use eval() inside a function, a closure is used. The text you eval can reference local variables of the function, and within eval you can even create new local variables by using eval('var foo = …')\n",
    "- When you use new Function(…) (the Function constructor) inside a function, it does not create a closure. (The new function cannot reference the local variables of the outer function.)\n",
    "- A closure in JavaScript is like keeping a copy of all the local variables, just as they were when a function exited.\n",
    "- It is probably best to think that a closure is always created just an entry to a function, and the local variables are added to that closure.\n",
    "- A new set of local variables is kept every time a function with a closure is called (given that the function contains a function declaration inside it, and a reference to that inside function is either returned or an external reference is kept for it in some way).\n",
    "- Two functions might look like they have the same source text, but have completely different behaviour because of their 'hidden' closure. I don't think JavaScript code can actually find out if a function reference has a closure or not.\n",
    "- If you are trying to do any dynamic source code modifications (for example: myFunction = Function(myFunction.toString().replace(/Hello/,'Hola'));), it won't work if myFunction is a closure (of course, you would never even think of doing source code string substitution at runtime, but...).\n",
    "- It is possible to get function declarations within function declarations within functions — and you can get closures at more than one level.\n",
    "- I think normally a closure is the term for both the function along with the variables that are captured. Note that I do not use that definition in this article!\n",
    "- I suspect that closures in JavaScript differ from those normally found in functional languages."
   ]
  }
 ],
 "metadata": {
  "kernelspec": {
   "display_name": "NodeJS",
   "language": "javascript",
   "name": "nodejs"
  },
  "language_info": {
   "codemirror_mode": "javascript",
   "file_extension": ".js",
   "mimetype": "text/javascript",
   "name": "nodejs",
   "pygments_lexer": "javascript",
   "version": "0.10"
  }
 },
 "nbformat": 4,
 "nbformat_minor": 2
}
