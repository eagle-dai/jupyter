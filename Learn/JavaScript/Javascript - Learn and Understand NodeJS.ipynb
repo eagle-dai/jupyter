{
 "cells": [
  {
   "cell_type": "markdown",
   "metadata": {},
   "source": [
    "## 01 Introduction and Setup\n",
    "## 02 V8 The Javascript Engine\n",
    "## 03 The Node Core"
   ]
  },
  {
   "cell_type": "markdown",
   "metadata": {},
   "source": [
    "## 04 Modules Exports and Require\n",
    "### 027 exports vs module.exports\n",
    "require() 实际上是类似下面的 wrapper 函数。其中第一个参数其实就是 module.exports。\n",
    "```javascript\n",
    "fn(module.exports, require, module, __filename, __dirname);\n",
    "```"
   ]
  },
  {
   "cell_type": "markdown",
   "metadata": {},
   "source": [
    "```javascript\n",
    "(function (exports, require, module, __filename, __dirname) {\n",
    "\n",
    "    var greet = function() {\n",
    "        console.log('Hello!');\n",
    "    };\n",
    "\n",
    "    module.exports = greet;\n",
    "});\n",
    "```"
   ]
  },
  {
   "cell_type": "code",
   "execution_count": 1,
   "metadata": {},
   "outputs": [],
   "source": [
    "// 模拟 exports 换成其它值\n",
    "(function() {\n",
    "\n",
    "    var module = {};\n",
    "    module.exports = {};\n",
    "    var require = function() {};\n",
    "\n",
    "    // 模拟 require('./greet.js')\n",
    "    (function (exports, require, module, __filename, __dirname) {\n",
    "\n",
    "        // 这里相当于是 greet.js\n",
    "        exports = function() {\n",
    "            console.log('Hello!');\n",
    "        };\n",
    "\n",
    "        console.log(exports);\n",
    "        console.log(module.exports);\n",
    "\n",
    "    })(module.exports, require, module, 'filename', 'dirname');\n",
    "    return module.exports; // simulate return in require()\n",
    "})();"
   ]
  },
  {
   "cell_type": "markdown",
   "metadata": {},
   "source": [
    "上面例子让 exports 指向了不同的对象。**一般可能期望 exports 改了，module.exports 也跟着修改，但这里不是这样。**"
   ]
  },
  {
   "cell_type": "code",
   "execution_count": 2,
   "metadata": {},
   "outputs": [],
   "source": [
    "// 再模拟，改变 exports 内部（mutate exports），但 exports 本身引用不变\n",
    "(function() {\n",
    "\n",
    "    var module = {};\n",
    "    module.exports = {};\n",
    "    var require = function() {};\n",
    "\n",
    "    // 模拟 require('./greet.js')\n",
    "    (function (exports, require, module, __filename, __dirname) {\n",
    "\n",
    "        // 这里相当于是 greet.js\n",
    "        // NOTE: 由于某些原因，函数并不会输出，所以又加了字符串属性来验证\n",
    "        exports.greet = function() { console.log('Hello!'); };\n",
    "        exports.greetStr = `function() { console.log('Hello!'); }`;\n",
    "\n",
    "        console.log(exports);\n",
    "        console.log(module.exports);\n",
    "\n",
    "    })(module.exports, require, module, 'filename', 'dirname');\n",
    "    return module.exports; // simulate return in require()\n",
    "})();"
   ]
  },
  {
   "cell_type": "markdown",
   "metadata": {},
   "source": [
    "这里容易造成误解，所以简单的方法：***Just use module.exports**"
   ]
  },
  {
   "cell_type": "markdown",
   "metadata": {},
   "source": [
    "### 028 Requiring Native Core Modules"
   ]
  },
  {
   "cell_type": "code",
   "execution_count": 3,
   "metadata": {},
   "outputs": [],
   "source": [
    "var util = require('util');\n",
    "\n",
    "var name = 'Tony';\n",
    "var greeting = util.format('Hello, %s', name);\n",
    "//util.log(greeting); // jupyter 里面似乎不工作\n",
    "console.log(greeting);"
   ]
  },
  {
   "cell_type": "markdown",
   "metadata": {},
   "source": [
    "如果自己也有同名的 module 怎么办？问题不大，自己的使用相对路径：\n",
    "```javascript\n",
    "require('./util');\n",
    "```\n",
    "但是还是不建议使用相同的名字，造成混淆。"
   ]
  },
  {
   "cell_type": "markdown",
   "metadata": {},
   "source": [
    "### 029 Modules and ES6\n",
    "\n",
    "- greet.js\n",
    "```javascript\n",
    "export function greet() {\n",
    "    console.log('Hello');\n",
    "}\n",
    "```\n",
    "- app.js\n",
    "```javascript\n",
    "import * as greetr from 'greet';\n",
    "greetr.greet();\n",
    "```"
   ]
  },
  {
   "cell_type": "markdown",
   "metadata": {},
   "source": [
    "## 05 Events and the Event Emitter"
   ]
  },
  {
   "cell_type": "markdown",
   "metadata": {},
   "source": [
    "### 031 Conceptual Aside Events\n",
    "- System Events\n",
    "  - C++ Core (libuv)\n",
    "- Custom Event\n",
    "  - Javascript Core (Event Emitter)"
   ]
  },
  {
   "cell_type": "markdown",
   "metadata": {},
   "source": [
    "### 033 The Node Event Emitter - Part 1\n",
    "下面是一个模拟的 Event Emitter"
   ]
  },
  {
   "cell_type": "code",
   "execution_count": 4,
   "metadata": {},
   "outputs": [],
   "source": [
    "(function() {\n",
    "    var module = {};\n",
    "    var require = function() {\n",
    "        return module.exports;\n",
    "    };\n",
    "\n",
    "    // ----- begin of emitter.js -----\n",
    "    function Emitter() {\n",
    "        this.events = {};\n",
    "    }\n",
    "\n",
    "    Emitter.prototype.on = function(type, listener) {\n",
    "        this.events[type] = this.events[type] || [];\n",
    "        this.events[type].push(listener);\n",
    "    };\n",
    "\n",
    "    Emitter.prototype.emit = function(type) {\n",
    "        if (this.events[type]) {\n",
    "            this.events[type].forEach(function(listener) {\n",
    "                listener();\n",
    "            });\n",
    "        }\n",
    "    }\n",
    "    \n",
    "    module.exports = Emitter;\n",
    "    // ----- end of emitter.js -----\n",
    "\n",
    "    // ----- begin of app.js -----\n",
    "    var Emitter = require('./emitter');\n",
    "    var emtr = new Emitter();\n",
    "\n",
    "    emtr.on('greet', function() {\n",
    "        console.log('Somewhere, some said hello.');\n",
    "    });\n",
    "\n",
    "    emtr.on('greet', function() {\n",
    "        console.log('A greeting occurred!');\n",
    "    });\n",
    "\n",
    "    console.log('Hello!');\n",
    "    emtr.emit('greet');\n",
    "})();"
   ]
  },
  {
   "cell_type": "markdown",
   "metadata": {},
   "source": [
    "### 034 The Node Event Emitter - Part 2\n",
    "Node 提供的 Event Emitter"
   ]
  },
  {
   "cell_type": "code",
   "execution_count": 5,
   "metadata": {},
   "outputs": [
    {
     "name": "stdout",
     "output_type": "stream",
     "text": [
      "Hello!\n",
      "Somewhere, some said hello.\n",
      "A greeting occurred!\n"
     ]
    }
   ],
   "source": [
    "(function() {\n",
    "    var Emitter = require('events');\n",
    "    var emtr = new Emitter();\n",
    "\n",
    "    emtr.on('greet', function() {\n",
    "        console.log('Somewhere, some said hello.');\n",
    "    });\n",
    "\n",
    "    emtr.on('greet', function() {\n",
    "        console.log('A greeting occurred!');\n",
    "    });\n",
    "\n",
    "    console.log('Hello!');\n",
    "    emtr.emit('greet');\n",
    "})();"
   ]
  },
  {
   "cell_type": "markdown",
   "metadata": {},
   "source": [
    "怎么避免使用这些 magic strings?"
   ]
  },
  {
   "cell_type": "code",
   "execution_count": 6,
   "metadata": {},
   "outputs": [
    {
     "name": "stdout",
     "output_type": "stream",
     "text": [
      "Hello!\n",
      "Somewhere, some said hello.\n",
      "A greeting occurred!\n"
     ]
    }
   ],
   "source": [
    "(function() {\n",
    "    var module = {};\n",
    "    var _require = require;\n",
    "    require = function(name) {\n",
    "        return (name === './config') ? module.exports : _require(name);\n",
    "    };\n",
    "\n",
    "    // ----- begin of config.js -----\n",
    "    module.exports = {\n",
    "        events: {\n",
    "            GREET: 'greet'\n",
    "        }\n",
    "    };\n",
    "\n",
    "    // ----- begin of app.js -----\n",
    "    var Emitter = require('events');\n",
    "    var eventConfig = require('./config').events;\n",
    "    var emtr = new Emitter();\n",
    "\n",
    "    emtr.on(eventConfig.GREET, function() {\n",
    "        console.log('Somewhere, some said hello.');\n",
    "    });\n",
    "\n",
    "    emtr.on(eventConfig.GREET, function() {\n",
    "        console.log('A greeting occurred!');\n",
    "    });\n",
    "\n",
    "    console.log('Hello!');\n",
    "    emtr.emit(eventConfig.GREET);\n",
    "})();"
   ]
  },
  {
   "cell_type": "markdown",
   "metadata": {},
   "source": [
    "### 036 Inheriting From the Event Emitter"
   ]
  },
  {
   "cell_type": "code",
   "execution_count": 7,
   "metadata": {},
   "outputs": [
    {
     "name": "stdout",
     "output_type": "stream",
     "text": [
      "Hello world!\n",
      "Someone greeted!\n"
     ]
    }
   ],
   "source": [
    "(function() {\n",
    "\n",
    "    var EventEmitter = require('events');\n",
    "    var util = require('util');\n",
    "    \n",
    "    function Greetr() {\n",
    "        this.greeting = 'Hello world!';\n",
    "    }\n",
    "\n",
    "    util.inherits(Greetr, EventEmitter);\n",
    "\n",
    "    Greetr.prototype.greet = function() {\n",
    "        console.log(this.greeting);\n",
    "        this.emit('greet');\n",
    "    };\n",
    "\n",
    "    var greeter1 = new Greetr();\n",
    "    greeter1.on('greet', function() {\n",
    "        console.log('Someone greeted!')\n",
    "    });\n",
    "\n",
    "    greeter1.greet();\n",
    "})();"
   ]
  },
  {
   "cell_type": "markdown",
   "metadata": {},
   "source": [
    "如果想要给 event 参数？"
   ]
  },
  {
   "cell_type": "code",
   "execution_count": 8,
   "metadata": {},
   "outputs": [
    {
     "name": "stdout",
     "output_type": "stream",
     "text": [
      "Hello world!: Tony\n",
      "Someone greeted: Tony\n"
     ]
    }
   ],
   "source": [
    "(function() {\n",
    "\n",
    "    var EventEmitter = require('events');\n",
    "    var util = require('util');\n",
    "    \n",
    "    function Greetr() {\n",
    "        this.greeting = 'Hello world!';\n",
    "    }\n",
    "\n",
    "    util.inherits(Greetr, EventEmitter);\n",
    "\n",
    "    Greetr.prototype.greet = function(data) {\n",
    "        console.log(this.greeting + ': ' + data);\n",
    "        this.emit('greet', data);\n",
    "    };\n",
    "\n",
    "    var greeter1 = new Greetr();\n",
    "    greeter1.on('greet', function(data) {\n",
    "        console.log('Someone greeted: ' + data)\n",
    "    });\n",
    "\n",
    "    greeter1.greet('Tony');\n",
    "})();"
   ]
  },
  {
   "cell_type": "markdown",
   "metadata": {},
   "source": [
    "### 037 Javascript Aside Node ES6 and Template Literals\n",
    "如果使用 ES6，需要文件 jsconfig.json\n",
    "```json\n",
    "    {\n",
    "        \"compilerOptions\": {\n",
    "            \"target\": \"ES6\"\n",
    "        }\n",
    "    }\n",
    "```\n",
    "\n",
    "对于浏览器，Template Literals不一定能用，但是 node 很容易确定ES6可用"
   ]
  },
  {
   "cell_type": "code",
   "execution_count": 9,
   "metadata": {},
   "outputs": [
    {
     "name": "stdout",
     "output_type": "stream",
     "text": [
      "Hello John Doe\n",
      "Hello John Doe\n"
     ]
    }
   ],
   "source": [
    "(function() {\n",
    "    var name = 'John Doe';\n",
    "\n",
    "    var greet = 'Hello ' + name;\n",
    "    var greet2 = `Hello ${ name }`; // Template Literals\n",
    "    \n",
    "    console.log(greet);\n",
    "    console.log(greet2);\n",
    "})();"
   ]
  },
  {
   "cell_type": "markdown",
   "metadata": {},
   "source": [
    "### 038 Javascript Aside .call and .apply"
   ]
  },
  {
   "cell_type": "code",
   "execution_count": 10,
   "metadata": {},
   "outputs": [
    {
     "name": "stdout",
     "output_type": "stream",
     "text": [
      "Hello John Doe\n",
      "Hello Jane Doe\n",
      "Hello Jane Doe\n"
     ]
    }
   ],
   "source": [
    "(function() {\n",
    "    var obj = {\n",
    "        name: 'John Doe',\n",
    "        greet: function() {\n",
    "            console.log(`Hello ${ this.name }`);\n",
    "        }\n",
    "    };\n",
    "\n",
    "    obj.greet();\n",
    "    obj.greet.call({ name: 'Jane Doe' });\n",
    "    obj.greet.apply({ name: 'Jane Doe' });\n",
    "})();"
   ]
  },
  {
   "cell_type": "markdown",
   "metadata": {},
   "source": [
    "### 039 Inheriting From the Event Emitter - Part 2"
   ]
  },
  {
   "cell_type": "code",
   "execution_count": 11,
   "metadata": {},
   "outputs": [
    {
     "name": "stdout",
     "output_type": "stream",
     "text": [
      "Hello world!: Tony\n",
      "Someone greeted: Tony\n"
     ]
    }
   ],
   "source": [
    "(function() {\n",
    "\n",
    "    var EventEmitter = require('events');\n",
    "    var util = require('util');\n",
    "    \n",
    "    function Greetr() {\n",
    "        EventEmitter.call(this); // 和前面的例子，区别在这里\n",
    "        this.greeting = 'Hello world!';\n",
    "    }\n",
    "\n",
    "    util.inherits(Greetr, EventEmitter);\n",
    "\n",
    "    Greetr.prototype.greet = function(data) {\n",
    "        console.log(this.greeting + ': ' + data);\n",
    "        this.emit('greet', data);\n",
    "    };\n",
    "\n",
    "    var greeter1 = new Greetr();\n",
    "    greeter1.on('greet', function(data) {\n",
    "        console.log('Someone greeted: ' + data)\n",
    "    });\n",
    "\n",
    "    greeter1.greet('Tony');\n",
    "})();"
   ]
  }
 ],
 "metadata": {
  "kernelspec": {
   "display_name": "NodeJS",
   "language": "javascript",
   "name": "nodejs"
  },
  "language_info": {
   "codemirror_mode": "javascript",
   "file_extension": ".js",
   "mimetype": "text/javascript",
   "name": "nodejs",
   "pygments_lexer": "javascript",
   "version": "0.10"
  }
 },
 "nbformat": 4,
 "nbformat_minor": 2
}
