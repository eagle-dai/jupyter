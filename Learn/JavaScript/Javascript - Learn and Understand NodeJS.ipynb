{
 "cells": [
  {
   "cell_type": "markdown",
   "metadata": {},
   "source": [
    "### 027 exports vs module.exports\n",
    "require() 实际上是类似下面的 wrapper 函数。其中第一个参数其实就是 module.exports。\n",
    "```\n",
    "fn(module.exports, require, module, __filename, __dirname);\n",
    "```"
   ]
  },
  {
   "cell_type": "code",
   "execution_count": 1,
   "metadata": {},
   "outputs": [
    {
     "data": {
      "text/plain": [
       "function (exports, require, module, __filename, __dirname) {\n",
       "\n",
       "    var greet = function() {\n",
       "        console.log('Hello!');\n",
       "    };\n",
       "    \n",
       "    module.exports = greet;\n",
       "}"
      ]
     },
     "execution_count": 1,
     "metadata": {},
     "output_type": "execute_result"
    }
   ],
   "source": [
    "(function (exports, require, module, __filename, __dirname) {\n",
    "\n",
    "    var greet = function() {\n",
    "        console.log('Hello!');\n",
    "    };\n",
    "    \n",
    "    module.exports = greet;\n",
    "});"
   ]
  },
  {
   "cell_type": "code",
   "execution_count": 2,
   "metadata": {},
   "outputs": [
    {
     "name": "stdout",
     "output_type": "stream",
     "text": [
      "function () {\n",
      "            console.log('Hello!');\n",
      "        }\n",
      "{}\n"
     ]
    },
    {
     "data": {
      "text/plain": [
       "{}"
      ]
     },
     "execution_count": 2,
     "metadata": {},
     "output_type": "execute_result"
    }
   ],
   "source": [
    "// 模拟 exports 换成其它值\n",
    "(function() {\n",
    " \n",
    "    var module = {};\n",
    "    module.exports = {};\n",
    "    var require = function() {};\n",
    "\n",
    "    // 模拟 require('./greet.js')\n",
    "    (function (exports, require, module, __filename, __dirname) {\n",
    "\n",
    "        // 这里相当于是 greet.js\n",
    "        exports = function() {\n",
    "            console.log('Hello!');\n",
    "        };\n",
    "\n",
    "        console.log(exports);\n",
    "        console.log(module.exports);\n",
    "\n",
    "    })(module.exports, require, module, 'filename', 'dirname');\n",
    "    return module.exports; // simulate return in require()\n",
    "})();"
   ]
  },
  {
   "cell_type": "markdown",
   "metadata": {},
   "source": [
    "上面例子让 exports 指向了不同的对象。**一般可能期望 exports 改了，module.exports 也跟着修改，但这里不是这样。**"
   ]
  },
  {
   "cell_type": "code",
   "execution_count": 3,
   "metadata": {},
   "outputs": [
    {
     "name": "stdout",
     "output_type": "stream",
     "text": [
      "{\"greetStr\":\"function() { console.log('Hello!'); }\"}\n",
      "{\"greetStr\":\"function() { console.log('Hello!'); }\"}\n"
     ]
    },
    {
     "data": {
      "text/plain": [
       "{\"greetStr\":\"function() { console.log('Hello!'); }\"}"
      ]
     },
     "execution_count": 3,
     "metadata": {},
     "output_type": "execute_result"
    }
   ],
   "source": [
    "// 再模拟，改变 exports 内部（mutate exports），但 exports 本身引用不变\n",
    "(function() {\n",
    " \n",
    "    var module = {};\n",
    "    module.exports = {};\n",
    "    var require = function() {};\n",
    "\n",
    "    // 模拟 require('./greet.js')\n",
    "    (function (exports, require, module, __filename, __dirname) {\n",
    "\n",
    "        // 这里相当于是 greet.js\n",
    "        // NOTE: 由于某些原因，函数并不会输出，所以又加了字符串属性来验证\n",
    "        exports.greet = function() { console.log('Hello!'); };\n",
    "        exports.greetStr = `function() { console.log('Hello!'); }`;\n",
    "\n",
    "        console.log(exports);\n",
    "        console.log(module.exports);\n",
    "\n",
    "    })(module.exports, require, module, 'filename', 'dirname');\n",
    "    return module.exports; // simulate return in require()\n",
    "})();"
   ]
  },
  {
   "cell_type": "markdown",
   "metadata": {},
   "source": [
    "这里容易造成误解，所以简单的方法：***Just use module.exports**"
   ]
  },
  {
   "cell_type": "markdown",
   "metadata": {},
   "source": [
    "### 028 Requiring Native Core Modules"
   ]
  },
  {
   "cell_type": "code",
   "execution_count": 4,
   "metadata": {},
   "outputs": [
    {
     "name": "stdout",
     "output_type": "stream",
     "text": [
      "Hello, Tony\n"
     ]
    }
   ],
   "source": [
    "var util = require('util');\n",
    "\n",
    "var name = 'Tony';\n",
    "var greeting = util.format('Hello, %s', name);\n",
    "//util.log(greeting); // jupyter 里面似乎不工作\n",
    "console.log(greeting);"
   ]
  },
  {
   "cell_type": "markdown",
   "metadata": {},
   "source": [
    "如果自己也有同名的 module 怎么办？问题不大，自己的使用相对路径：\n",
    "```\n",
    "require('./util');\n",
    "```\n",
    "但是还是不建议使用相同的名字，造成混淆。"
   ]
  }
 ],
 "metadata": {
  "kernelspec": {
   "display_name": "NodeJS",
   "language": "javascript",
   "name": "nodejs"
  },
  "language_info": {
   "codemirror_mode": "javascript",
   "file_extension": ".js",
   "mimetype": "text/javascript",
   "name": "nodejs",
   "pygments_lexer": "javascript",
   "version": "0.10"
  }
 },
 "nbformat": 4,
 "nbformat_minor": 2
}
