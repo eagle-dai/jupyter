{
 "cells": [
  {
   "cell_type": "markdown",
   "metadata": {},
   "source": [
    "# How to run code using Node.js Fibers\n",
    "https://stackoverflow.com/questions/14854346/how-to-run-code-using-node-js-fibers"
   ]
  },
  {
   "cell_type": "markdown",
   "metadata": {},
   "source": [
    "A fiber is a sort of lightweight thread of execution. Like real threads and processes, a fiber must be given a block of code to execute upon run."
   ]
  },
  {
   "cell_type": "code",
   "execution_count": 1,
   "metadata": {},
   "outputs": [
    {
     "ename": "Javascript Error",
     "evalue": "This Fiber is already running",
     "output_type": "error",
     "traceback": [
      "evalmachine.<anonymous>:17\nf.run();\n  ^\n\nError: This Fiber is already running\n    at evalmachine.<anonymous>:10:15\n    at sample (evalmachine.<anonymous>:4:5)\n    at evalmachine.<anonymous>:9:5"
     ]
    }
   ],
   "source": [
    "var Fiber = require('fibers');\n",
    "\n",
    "function sample(callback) {\n",
    "    callback(\"this callback\");\n",
    "}\n",
    "var f = Fiber(function() {\n",
    "    var fiber = Fiber.current;\n",
    "\n",
    "    sample(function(str) {\n",
    "        fiber.run(str);\n",
    "    });\n",
    "\n",
    "    var str = Fiber.yield();\n",
    "    console.log(str);\n",
    "});\n",
    "\n",
    "f.run();"
   ]
  },
  {
   "cell_type": "markdown",
   "metadata": {
    "collapsed": true
   },
   "source": [
    "上面的例子会给出Error: This Fiber is already running，原因是执行过程如下：\n",
    "1. Set variable f as a fiber.\n",
    "1. Run the fiber:\n",
    " 1. Set variable fiber pointing to the current running fiber.\n",
    " 1. Call function sample.\n",
    " 1. Call the callback.\n",
    " 1. Call fiber.run, which gives the error as the current fiber is already running.\n",
    " \n",
    "上面的代码结构是没有问题的，问题在于它假定sample是个异步函数。下面把sample重新改写一下："
   ]
  },
  {
   "cell_type": "code",
   "execution_count": 2,
   "metadata": {
    "collapsed": true
   },
   "outputs": [],
   "source": [
    "function sample(callback) {\n",
    "    setTimeout(function() {\n",
    "        callback(\"this callback\");\n",
    "    }, 500);\n",
    "}\n",
    "f.run();"
   ]
  },
  {
   "cell_type": "markdown",
   "metadata": {},
   "source": [
    "改写过的执行过程：\n",
    "1. 设置变量fiber指向当前运行的Ffiber\n",
    "1. 调用函数sample()。该函数立即返回，暂时不调用callback\n",
    "1. 调用Fiber.yield(), 暂停当前的fiber.\n",
    "1. 500 ms后, 调用callback.\n",
    "1. 调用fiber.run() 参数字符串'this callback', 恢复运行fiber.\n",
    "1. Fiber.yield()返回，设置str to 'this callback'.\n",
    "1. Log the string to console.\n",
    "\n",
    "注意：step 4在fiber之外运行的"
   ]
  },
  {
   "cell_type": "markdown",
   "metadata": {},
   "source": [
    "### The function of yield and run\n",
    "Fiber必须协作地把控制交给另外的fiber，或者主执行程序。放弃控制权，需要调用：Fiber.yield()\n",
    "\n",
    "而继续执行（直接从yield之后的那个点），必须要调用run()\n",
    "\n",
    "把值传入传出fiber的机制，主要靠yield和run的互相配合。\n",
    "- An argument given to run (which is outside the fiber), is returned by yield (inside the fiber).\n",
    "- An argument given to yield (inside the fiber), is returned by run (outside the fiber)."
   ]
  },
  {
   "cell_type": "code",
   "execution_count": 3,
   "metadata": {},
   "outputs": [
    {
     "name": "stdout",
     "output_type": "stream",
     "text": [
      "wait... Tue Dec 05 2017 17:46:09 GMT+0800 (CST)\n",
      "back in main\n",
      "this callback\n",
      "ok... Tue Dec 05 2017 17:46:10 GMT+0800 (CST)\n"
     ]
    }
   ],
   "source": [
    "//var Fiber = require('fibers');\n",
    "\n",
    "Fiber(function() {\n",
    "    let sleep = function (ms) {\n",
    "        let fiber = Fiber.current;\n",
    "        //console.log('enter sleep(), fiber = ' + fiber.toString());\n",
    "        setTimeout(function() {\n",
    "            //console.log('enter timeout callback');\n",
    "            fiber.run();\n",
    "        }, ms);\n",
    "        Fiber.yield();\n",
    "    };\n",
    "\n",
    "    console.log('wait... ' + new Date);\n",
    "    sleep(1000);\n",
    "    console.log('ok... ' + new Date);\n",
    "}).run();\n",
    "console.log('back in main');"
   ]
  }
 ],
 "metadata": {
  "kernelspec": {
   "display_name": "NodeJS",
   "language": "javascript",
   "name": "nodejs"
  },
  "language_info": {
   "codemirror_mode": "javascript",
   "file_extension": ".js",
   "mimetype": "text/javascript",
   "name": "nodejs",
   "pygments_lexer": "javascript",
   "version": "0.10"
  }
 },
 "nbformat": 4,
 "nbformat_minor": 2
}
