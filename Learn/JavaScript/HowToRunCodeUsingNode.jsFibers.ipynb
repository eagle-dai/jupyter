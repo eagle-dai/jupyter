{
 "cells": [
  {
   "cell_type": "markdown",
   "metadata": {},
   "source": [
    "https://stackoverflow.com/questions/14854346/how-to-run-code-using-node-js-fibers"
   ]
  },
  {
   "cell_type": "markdown",
   "metadata": {},
   "source": [
    "# Example 1\n",
    "A fiber is a sort of lightweight thread of execution. Like real threads and processes, a fiber must be given a block of code to execute upon run. The code as you took it from bjouhier does not work as is. It was intended to run inside a fiber, like so:"
   ]
  },
  {
   "cell_type": "code",
   "execution_count": 2,
   "metadata": {},
   "outputs": [
    {
     "ename": "Javascript Error",
     "evalue": "Cannot find module 'fibers'",
     "output_type": "error",
     "traceback": [
      "module.js:538\n    throw err;\n    ^\n\nError: Cannot find module 'fibers'\n    at Function.Module._resolveFilename (module.js:536:15)\n    at Function.Module._load (module.js:466:25)\n    at Module.require (module.js:579:17)\n    at require (internal/module.js:11:18)\n    at /home/dy/workspace/eagle/jupyter-nodejs/build/context.js:78:16\n    at require (/home/dy/workspace/eagle/jupyter-nodejs/build/context.js:58:27)\n    at evalmachine.<anonymous>:1:13\n    at ContextifyScript.Script.runInContext (vm.js:59:29)\n    at Object.runInContext (vm.js:120:6)\n    at Context.rawRun (/home/dy/workspace/eagle/jupyter-nodejs/build/context.js:184:30)"
     ]
    }
   ],
   "source": [
    "var Fiber = require('fibers');\n",
    "var f = Fiber(function() {\n",
    "    var fiber = Fiber.current;\n",
    "\n",
    "    sample(function(str) {\n",
    "        fiber.run(string);\n",
    "    });\n",
    "\n",
    "    var str = Fiber.yield();\n",
    "    console.log(str);\n",
    "});\n",
    "\n",
    "f.run();"
   ]
  },
  {
   "cell_type": "code",
   "execution_count": null,
   "metadata": {
    "collapsed": true
   },
   "outputs": [],
   "source": []
  }
 ],
 "metadata": {
  "kernelspec": {
   "display_name": "NodeJS",
   "language": "javascript",
   "name": "nodejs"
  },
  "language_info": {
   "codemirror_mode": "javascript",
   "file_extension": ".js",
   "mimetype": "text/javascript",
   "name": "nodejs",
   "pygments_lexer": "javascript",
   "version": "0.10"
  }
 },
 "nbformat": 4,
 "nbformat_minor": 2
}
