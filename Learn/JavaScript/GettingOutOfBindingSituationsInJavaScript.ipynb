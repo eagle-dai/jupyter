{
 "cells": [
  {
   "cell_type": "markdown",
   "metadata": {},
   "source": [
    "http://alistapart.com/article/getoutbindingsituations"
   ]
  },
  {
   "cell_type": "code",
   "execution_count": 1,
   "metadata": {},
   "outputs": [],
   "source": [
    "var alert = function(str) {\n",
    "    console.log(str);\n",
    "}"
   ]
  },
  {
   "cell_type": "code",
   "execution_count": 2,
   "metadata": {},
   "outputs": [],
   "source": [
    "\n",
    "var john = {\n",
    "  name: 'John',\n",
    "  greet: function(person) {\n",
    "    alert(\"Hi \" + person + \", my name is \" + name);\n",
    "  }\n",
    "};\n",
    "john.greet(\"Mark\");"
   ]
  },
  {
   "cell_type": "code",
   "execution_count": 3,
   "metadata": {},
   "outputs": [],
   "source": [
    "name = 'Ray'; // Or explictly: window.name = 'Ray';\n",
    "var john = {\n",
    "  name: 'John',\n",
    "  greet: function(person) {\n",
    "    alert(\"Hi \" + person + \", my name is \" + name);\n",
    "  }\n",
    "};\n",
    "john.greet(\"Mark\");"
   ]
  },
  {
   "cell_type": "code",
   "execution_count": 4,
   "metadata": {},
   "outputs": [],
   "source": [
    "name = 'Ray';\n",
    "var john = {\n",
    "  name: 'John',\n",
    "  greet: function(person) {\n",
    "    alert(\"Hi \" + person + \", my name is \" + this.name);\n",
    "  }\n",
    "};\n",
    "john.greet(\"Mark\");\n",
    "var fx = john.greet;\n",
    "fx(\"Mark\");"
   ]
  },
  {
   "cell_type": "markdown",
   "metadata": {},
   "source": [
    "### RECOGNIZING BINDING-SENSITIVE CODE PATTERNS"
   ]
  },
  {
   "cell_type": "code",
   "execution_count": 5,
   "metadata": {},
   "outputs": [],
   "source": [
    "var alert = function(str) {\n",
    "    console.log(str);\n",
    "}\n",
    "\n",
    "function Person(first, last, age) {\n",
    "  this.first = first;\n",
    "  this.last = last;\n",
    "  this.age = age;\n",
    "}\n",
    "Person.prototype = {\n",
    "  getFullName: function() {\n",
    "    alert(this.first + ' ' + this.last);\n",
    "  },\n",
    "  greet: function(other) {\n",
    "    alert(\"Hi \" + other.first + \", I'm \" + this.first + \".\");\n",
    "  }\n",
    "};"
   ]
  },
  {
   "cell_type": "code",
   "execution_count": 6,
   "metadata": {},
   "outputs": [],
   "source": [
    "var elodie = new Person('Elodie', 'Jaubert', 27);\n",
    "var christophe = new Person('Christophe', 'Porteneuve', 30);\n",
    "christophe.greet(elodie);"
   ]
  },
  {
   "cell_type": "code",
   "execution_count": 7,
   "metadata": {},
   "outputs": [],
   "source": [
    "function times(n, fx, arg) {\n",
    "  for (var index = 0; index < n; ++index) {\n",
    "    fx(arg);\n",
    "  }\n",
    "}\n",
    "times(3, christophe.greet, elodie);\n",
    "times(1, elodie.getFullName);"
   ]
  },
  {
   "cell_type": "markdown",
   "metadata": {},
   "source": [
    "### APPLY WITHIN"
   ]
  },
  {
   "cell_type": "code",
   "execution_count": 8,
   "metadata": {},
   "outputs": [
    {
     "name": "stdout",
     "output_type": "stream",
     "text": [
      "Hi Elodie, I'm Christophe.\n"
     ]
    }
   ],
   "source": [
    "var fx = christophe.greet;\n",
    "fx.apply(christophe, [elodie]);"
   ]
  },
  {
   "cell_type": "markdown",
   "metadata": {},
   "source": [
    "### CALL NOW"
   ]
  },
  {
   "cell_type": "code",
   "execution_count": 9,
   "metadata": {},
   "outputs": [
    {
     "name": "stdout",
     "output_type": "stream",
     "text": [
      "Hi Elodie, I'm Christophe.\n"
     ]
    }
   ],
   "source": [
    "var fx = christophe.greet;\n",
    "fx.call(christophe, elodie);"
   ]
  },
  {
   "cell_type": "code",
   "execution_count": 10,
   "metadata": {},
   "outputs": [
    {
     "name": "stdout",
     "output_type": "stream",
     "text": [
      "Hi Elodie, I'm Christophe.\n"
     ]
    }
   ],
   "source": [
    "function createBoundedWrapper(object, method) {\n",
    "  return function() {\n",
    "    return method.apply(object, arguments);\n",
    "  };\n",
    "}\n",
    "var chrisGreet = createBoundedWrapper(christophe, christophe.greet);\n",
    "chrisGreet(elodie);"
   ]
  },
  {
   "cell_type": "markdown",
   "metadata": {},
   "source": [
    "### JavaScript frameworks do it\n",
    "Our createBoundedWrapper function is neat, but may prove a bit unwieldy."
   ]
  },
  {
   "cell_type": "code",
   "execution_count": 11,
   "metadata": {},
   "outputs": [
    {
     "name": "stdout",
     "output_type": "stream",
     "text": [
      "Hi Elodie, I'm Christophe.\n"
     ]
    }
   ],
   "source": [
    "var chrisGreet = christophe.greet.bind(christophe);\n",
    "chrisGreet(elodie);"
   ]
  },
  {
   "cell_type": "code",
   "execution_count": 12,
   "metadata": {},
   "outputs": [
    {
     "name": "stdout",
     "output_type": "stream",
     "text": [
      "{}\n",
      "{\"enabled\":true}\n",
      "{\"enabled\":false}\n"
     ]
    }
   ],
   "source": [
    "var coolBehavior = {\n",
    "  // ...\n",
    "  toggle: function(enabled) {\n",
    "    this.enabled = enabled;\n",
    "    // ...\n",
    "  },\n",
    "  // ...\n",
    "};\n",
    "coolBehavior.enable = coolBehavior.toggle.bind(coolBehavior, true);\n",
    "coolBehavior.disable = coolBehavior.toggle.bind(coolBehavior, false);\n",
    "\n",
    "alert(coolBehavior)\n",
    "\n",
    "coolBehavior.enable();\n",
    "alert(coolBehavior)\n",
    "\n",
    "coolBehavior.disable();\n",
    "alert(coolBehavior)"
   ]
  },
  {
   "cell_type": "code",
   "execution_count": 13,
   "metadata": {},
   "outputs": [
    {
     "name": "stdout",
     "output_type": "stream",
     "text": [
      "abc\n",
      "abc\n",
      "abc\n"
     ]
    }
   ],
   "source": [
    "function times (count, fx) {\n",
    "  for (var index = 0; index < count; ++index) {\n",
    "    fx();\n",
    "  }\n",
    "}\n",
    "var threeTimes = times.bind(null, 3);\n",
    "threeTimes(function() {alert('abc')});"
   ]
  },
  {
   "cell_type": "markdown",
   "metadata": {},
   "source": [
    "So as a side note, with Prototype 1.6, if you’re only interested in pre-filling, prefer curry—it preserves the current binding and focuses on argument pre-filling\n",
    "\n",
    "var threeTimes = times.curry(3);"
   ]
  },
  {
   "cell_type": "markdown",
   "metadata": {},
   "source": [
    "### Should you even bind?\n",
    "binding is overkill.  Specifically, there’s a code pattern in which binding can be replaced, with significant performance profit, by using the lexical closure"
   ]
  },
  {
   "cell_type": "code",
   "execution_count": 14,
   "metadata": {},
   "outputs": [],
   "source": [
    "var some = {\n",
    "  // ...\n",
    "  processItems: function() {\n",
    "    var that = this;\n",
    "    this.items.each(function(item) {\n",
    "      // Process item\n",
    "      that.markItemAsProcessed(item);\n",
    "    });\n",
    "  },\n",
    "  // ...\n",
    "};\n",
    "\n",
    "//some.processItems();"
   ]
  },
  {
   "cell_type": "markdown",
   "metadata": {},
   "source": [
    "### Takeaway points\n",
    "- Any member access must be qualified with the object it pertains to, even when it is this.\n",
    "- Any sort of function reference (assigning as a value, passing as an argument) loses the function’s original binding.\n",
    "- JavaScript provides two equivalent ways of explicitly specifying a function’s binding when calling it: apply and call.\n",
    "- Creating a “bound method reference” requires an anonymous wrapper function, and a calling cost. In specific situations, leveraging closures may be a better alternative."
   ]
  }
 ],
 "metadata": {
  "kernelspec": {
   "display_name": "NodeJS",
   "language": "javascript",
   "name": "nodejs"
  },
  "language_info": {
   "codemirror_mode": "javascript",
   "file_extension": ".js",
   "mimetype": "text/javascript",
   "name": "nodejs",
   "pygments_lexer": "javascript",
   "version": "0.10"
  }
 },
 "nbformat": 4,
 "nbformat_minor": 2
}
