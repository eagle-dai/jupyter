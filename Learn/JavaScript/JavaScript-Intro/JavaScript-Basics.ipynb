{
 "cells": [
  {
   "cell_type": "markdown",
   "metadata": {},
   "source": [
    "# JavaScript中的操作符\n",
    "http://www.prglab.com/blog/js-tutorial"
   ]
  },
  {
   "cell_type": "code",
   "execution_count": 1,
   "metadata": {},
   "outputs": [
    {
     "data": {
      "text/plain": [
       "true"
      ]
     },
     "execution_count": 1,
     "metadata": {},
     "output_type": "execute_result"
    }
   ],
   "source": [
    "// == 等于（只检查值）， 例如：5==8 返回假\n",
    "// === 等于 （这个比较特殊，值和类型都要检查），例如：\n",
    "x = 5\n",
    "y = \"5\"\n",
    "x == y"
   ]
  },
  {
   "cell_type": "code",
   "execution_count": 2,
   "metadata": {},
   "outputs": [
    {
     "data": {
      "text/plain": [
       "false"
      ]
     },
     "execution_count": 2,
     "metadata": {},
     "output_type": "execute_result"
    }
   ],
   "source": [
    "x === y"
   ]
  },
  {
   "cell_type": "code",
   "execution_count": 3,
   "metadata": {},
   "outputs": [
    {
     "data": {
      "text/plain": [
       "\"What a very nice day!\""
      ]
     },
     "execution_count": 3,
     "metadata": {},
     "output_type": "execute_result"
    }
   ],
   "source": [
    "txt1 = \"What a very\"\n",
    "txt2 = \"nice day!\"\n",
    "txt3 = txt1 + \" \" + txt2"
   ]
  },
  {
   "cell_type": "markdown",
   "metadata": {},
   "source": [
    "# JavaScript中的循环"
   ]
  },
  {
   "cell_type": "code",
   "execution_count": 4,
   "metadata": {},
   "outputs": [
    {
     "name": "stdout",
     "output_type": "stream",
     "text": [
      "The number is 0\n",
      "The number is 1\n",
      "The number is 2\n",
      "The number is 3\n",
      "The number is 4\n",
      "The number is 5\n"
     ]
    }
   ],
   "source": [
    "var i=0\n",
    "for (i = 0;i <= 5; i++) {\n",
    "    console.log(\"The number is \" + i)\n",
    "}"
   ]
  },
  {
   "cell_type": "code",
   "execution_count": 5,
   "metadata": {},
   "outputs": [
    {
     "name": "stdout",
     "output_type": "stream",
     "text": [
      "The number is 0\n",
      "The number is 1\n",
      "The number is 2\n",
      "The number is 3\n",
      "The number is 4\n",
      "The number is 5\n"
     ]
    },
    {
     "data": {
      "text/plain": [
       "6"
      ]
     },
     "execution_count": 5,
     "metadata": {},
     "output_type": "execute_result"
    }
   ],
   "source": [
    "var i = 0;\n",
    "while (i <= 5) {\n",
    "    console.log(\"The number is \" + i)\n",
    "    i += 1\n",
    "}"
   ]
  },
  {
   "cell_type": "code",
   "execution_count": 6,
   "metadata": {},
   "outputs": [
    {
     "name": "stdout",
     "output_type": "stream",
     "text": [
      "The number is 0\n"
     ]
    },
    {
     "data": {
      "text/plain": [
       "1"
      ]
     },
     "execution_count": 6,
     "metadata": {},
     "output_type": "execute_result"
    }
   ],
   "source": [
    "var i = 0\n",
    "do {\n",
    "    console.log(\"The number is \" + i)\n",
    "    i= i + 1\n",
    "}\n",
    "while (i < 0)"
   ]
  },
  {
   "cell_type": "markdown",
   "metadata": {},
   "source": [
    "# JavaScript 的For…In 语句"
   ]
  },
  {
   "cell_type": "code",
   "execution_count": 7,
   "metadata": {},
   "outputs": [
    {
     "name": "stdout",
     "output_type": "stream",
     "text": [
      "Saab\n",
      "Volvo\n",
      "BMW\n"
     ]
    }
   ],
   "source": [
    "var x\n",
    "var mycars = new Array()\n",
    "mycars[0] = \"Saab\"\n",
    "mycars[1] = \"Volvo\"\n",
    "mycars[2] = \"BMW\"\n",
    "for (x in mycars) {\n",
    "    console.log(mycars[x])\n",
    "}"
   ]
  },
  {
   "cell_type": "markdown",
   "metadata": {},
   "source": [
    "# JavaScript中的Try…Catch 语句"
   ]
  },
  {
   "cell_type": "code",
   "execution_count": 8,
   "metadata": {},
   "outputs": [
    {
     "name": "stdout",
     "output_type": "stream",
     "text": [
      "There was an error on this page.\n",
      "Error description: undefined\n",
      "Click OK to continue.\n"
     ]
    }
   ],
   "source": [
    "var txt = \"\"\n",
    "function message() {\n",
    "    try {\n",
    "        adddlert(\"Welcome guest!\") // undefined function\n",
    "    }\n",
    "    catch(err) {\n",
    "        txt = \"There was an error on this page.\\n\"\n",
    "        txt += \"Error description: \" + err.description + \"\\n\"\n",
    "        txt += \"Click OK to continue.\"\n",
    "        console.log(txt)\n",
    "    }\n",
    "}\n",
    "message()"
   ]
  },
  {
   "cell_type": "markdown",
   "metadata": {},
   "source": [
    "# JavaScript中的throw 语句"
   ]
  },
  {
   "cell_type": "code",
   "execution_count": 9,
   "metadata": {},
   "outputs": [
    {
     "name": "stdout",
     "output_type": "stream",
     "text": [
      "错误! 值太大了\n"
     ]
    }
   ],
   "source": [
    "function alert(txt) {\n",
    "    console.log(txt)\n",
    "}\n",
    "\n",
    "//var x=prompt(\"请输入一个 0 和 10之间的数:\",\"\")\n",
    "x = 12\n",
    "try {\n",
    "    if(x>10)\n",
    "        throw \"Err1\"\n",
    "    else if(x<0)\n",
    "        throw \"Err2\"\n",
    "}\n",
    "catch(er) {\n",
    "    if(er==\"Err1\")\n",
    "        alert(\"错误! 值太大了\")\n",
    "    if(er == \"Err2\")\n",
    "        alert(\"错误! 值太小了\")\n",
    "}"
   ]
  },
  {
   "cell_type": "markdown",
   "metadata": {},
   "source": [
    "# JavaScript中的特殊字符\n",
    "- \\' 单引号(single quote)\n",
    "- \\\" 双引号(double quote)\n",
    "- \\& 与符号(ampersand)\n",
    "- \\\\ 反斜杠(backslash)\n",
    "- \\n 换行(new line)\n",
    "- \\r 回车键(carriage return)\n",
    "- \\t 制表符(tab)\n",
    "- \\b 退格符(backspace)\n",
    "- \\f 换页(form feed)"
   ]
  },
  {
   "cell_type": "code",
   "execution_count": 12,
   "metadata": {},
   "outputs": [
    {
     "name": "stdout",
     "output_type": "stream",
     "text": [
      "We are the so-called \"Vikings\" from the north.\n"
     ]
    }
   ],
   "source": [
    "console.log(\"We are the so-called \\\"Vikings\\\" from the north.\")"
   ]
  },
  {
   "cell_type": "code",
   "execution_count": 14,
   "metadata": {},
   "outputs": [
    {
     "name": "stdout",
     "output_type": "stream",
     "text": [
      "You & me are singing!\n"
     ]
    }
   ],
   "source": [
    "console.log(\"You \\& me are singing!\")"
   ]
  }
 ],
 "metadata": {
  "kernelspec": {
   "display_name": "NodeJS",
   "language": "javascript",
   "name": "nodejs"
  },
  "language_info": {
   "codemirror_mode": "javascript",
   "file_extension": ".js",
   "mimetype": "text/javascript",
   "name": "nodejs",
   "pygments_lexer": "javascript",
   "version": "0.10"
  }
 },
 "nbformat": 4,
 "nbformat_minor": 2
}
