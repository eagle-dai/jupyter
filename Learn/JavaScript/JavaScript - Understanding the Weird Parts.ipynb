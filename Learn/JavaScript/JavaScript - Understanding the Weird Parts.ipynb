{
 "cells": [
  {
   "cell_type": "markdown",
   "metadata": {},
   "source": [
    "# 04 Objects and Functions\n",
    "### 037 Objects Functions and this"
   ]
  },
  {
   "cell_type": "code",
   "execution_count": 1,
   "metadata": {},
   "outputs": [
    {
     "name": "stdout",
     "output_type": "stream",
     "text": [
      "[object Object]\n",
      "hello\n",
      "[object Object]\n"
     ]
    }
   ],
   "source": [
    "function a() {\n",
    "    console.log(this);\n",
    "    this.newvariable = 'hello';\n",
    "}\n",
    "\n",
    "var b = function() {\n",
    "    console.log(this);\n",
    "}\n",
    "\n",
    "// 这里 this 都是 global object\n",
    "a();\n",
    "console.log(newvariable); // 注意，newvariable进入了global object\n",
    "b();"
   ]
  },
  {
   "cell_type": "code",
   "execution_count": 2,
   "metadata": {},
   "outputs": [
    {
     "name": "stdout",
     "output_type": "stream",
     "text": [
      "{\"name\":\"the c object\"}\n",
      "{\"name\":\"Updated c object\"}\n",
      "{\"name\":\"Updated c object\"}\n",
      "Updated again! The c object\n"
     ]
    }
   ],
   "source": [
    "var c = {\n",
    "    name: 'the c object',\n",
    "    log: function() {\n",
    "        console.log(this);\n",
    "\n",
    "        this.name = 'Updated c object';\n",
    "        console.log(this);\n",
    "        \n",
    "        // 一般认为这里是 javascript 语言的一个 bug\n",
    "        var setname = function(newname) { // function in function\n",
    "            this.name = newname; // 竟然又写到了 global object\n",
    "        };\n",
    "        setname('Updated again! The c object');\n",
    "        console.log(this);\n",
    "    }\n",
    "};\n",
    "c.log();\n",
    "console.log(name);"
   ]
  },
  {
   "cell_type": "code",
   "execution_count": 3,
   "metadata": {},
   "outputs": [
    {
     "name": "stdout",
     "output_type": "stream",
     "text": [
      "{\"name\":\"the c object\"}\n",
      "{\"name\":\"Updated c object\"}\n",
      "{\"name\":\"Updated again! The c object\"}\n"
     ]
    }
   ],
   "source": [
    "var c = {\n",
    "    name: 'the c object',\n",
    "    log: function() {\n",
    "        var self = this; // 一般的 pattern！all other this=>self\n",
    "        console.log(self);\n",
    "\n",
    "        this.name = 'Updated c object';\n",
    "        console.log(self);\n",
    "        \n",
    "        var setname = function(newname) {\n",
    "            self.name = newname;\n",
    "        };\n",
    "        setname('Updated again! The c object');\n",
    "        console.log(self);\n",
    "    }\n",
    "};\n",
    "c.log();"
   ]
  },
  {
   "cell_type": "markdown",
   "metadata": {},
   "source": [
    "### 038 Conceptual Aside Arrays - Collections of Anything"
   ]
  },
  {
   "cell_type": "code",
   "execution_count": 4,
   "metadata": {},
   "outputs": [
    {
     "name": "stdout",
     "output_type": "stream",
     "text": [
      "[Array] [1,false,{\"name\":\"Tony\",\"address\":\"111 Main St.\"},null,\"Hello\"]\n",
      "Hello Tony\n"
     ]
    }
   ],
   "source": [
    "var arr = [ // array can contain everything\n",
    "    1,\n",
    "    false,\n",
    "    {\n",
    "        name: 'Tony',\n",
    "        address: '111 Main St.'\n",
    "    },\n",
    "    function(name) {\n",
    "        var greeting = 'Hello ';\n",
    "        console.log(greeting + name);\n",
    "    },\n",
    "    \"Hello\"\n",
    "];\n",
    "console.log(arr);\n",
    "arr[3](arr[2].name)"
   ]
  },
  {
   "cell_type": "markdown",
   "metadata": {},
   "source": [
    "### 039 arguments and spread"
   ]
  },
  {
   "cell_type": "markdown",
   "metadata": {},
   "source": [
    "### 040 Framework Aside Function Overloading"
   ]
  },
  {
   "cell_type": "code",
   "execution_count": 5,
   "metadata": {},
   "outputs": [
    {
     "name": "stdout",
     "output_type": "stream",
     "text": [
      "Hello John Doe\n",
      "Hola John Doe\n",
      "Hello John Doe\n",
      "Hola John Doe\n"
     ]
    }
   ],
   "source": [
    "function greet(firstname, lastname, language) {\n",
    "    language = language || 'en';\n",
    "    if (language === 'en') {\n",
    "        console.log('Hello ' + firstname + ' ' + lastname);\n",
    "    }\n",
    "    if (language === 'es') {\n",
    "        console.log('Hola ' + firstname + ' ' + lastname);\n",
    "    }\n",
    "}\n",
    "greet('John', 'Doe', 'en');\n",
    "greet('John', 'Doe', 'es');\n",
    "\n",
    "// 虽然没有类似其它语言的函数重载，但也有解决方法，其中最简单的一种如下\n",
    "function greetEnglish(firstname, lastname) {\n",
    "    greet(firstname, lastname, 'en');\n",
    "}\n",
    "function greetSpanish(firstname, lastname) {\n",
    "    greet(firstname, lastname, 'es');\n",
    "}\n",
    "greetEnglish('John', 'Doe');\n",
    "greetSpanish('John', 'Doe');"
   ]
  },
  {
   "cell_type": "markdown",
   "metadata": {},
   "source": [
    "### 042 Dangerous Aside Automatic Semicolon Insertion"
   ]
  },
  {
   "cell_type": "code",
   "execution_count": 6,
   "metadata": {},
   "outputs": [
    {
     "name": "stdout",
     "output_type": "stream",
     "text": [
      "undefined\n",
      "{\"firstname\":\"Tony\"}\n"
     ]
    }
   ],
   "source": [
    "function getPerson1() {\n",
    "    return // 自动插入;\n",
    "    {\n",
    "        firstname: 'Tony'\n",
    "    }\n",
    "}\n",
    "\n",
    "function getPerson2() {\n",
    "    return {\n",
    "        firstname: 'Tony'\n",
    "    }\n",
    "}\n",
    "\n",
    "console.log(getPerson1());\n",
    "console.log(getPerson2());"
   ]
  },
  {
   "cell_type": "markdown",
   "metadata": {},
   "source": [
    "\n",
    "### 044 Immediately Invoked Functions Expressions IIFEs"
   ]
  },
  {
   "cell_type": "code",
   "execution_count": 7,
   "metadata": {},
   "outputs": [
    {
     "name": "stdout",
     "output_type": "stream",
     "text": [
      "Hello John\n"
     ]
    }
   ],
   "source": [
    "// using Immediately Invoked Functions Expressions - IIFEs\n",
    "var greeting = function(name) {\n",
    "    return 'Hello ' + name;\n",
    "}('John');\n",
    "console.log(greeting);"
   ]
  },
  {
   "cell_type": "code",
   "execution_count": 8,
   "metadata": {},
   "outputs": [
    {
     "ename": "Javascript Error",
     "evalue": "Unexpected token (",
     "output_type": "error",
     "traceback": [
      "evalmachine.<anonymous>:2\nfunction (name) {\n         ^\n\nSyntaxError: Unexpected token (\n    at createScript (vm.js:80:10)\n    at Object.runInContext (vm.js:119:10)\n    at Context.rawRun (/home/dy/workspace/eagle/jupyter-nodejs/build/context.js:184:30)\n    at Domain.<anonymous> (/home/dy/workspace/eagle/jupyter-nodejs/build/context.js:204:27)\n    at Domain.run (domain.js:242:14)\n    at Context.rawEvaluate (/home/dy/workspace/eagle/jupyter-nodejs/build/context.js:202:9)\n    at Context.execute (/home/dy/workspace/eagle/jupyter-nodejs/build/context.js:354:21)\n    at Kernel.executeRequest (/home/dy/workspace/eagle/jupyter-nodejs/build/kernel.js:224:16)\n    at Kernel.onShell (/home/dy/workspace/eagle/jupyter-nodejs/build/kernel.js:126:14)\n    at emitMany (events.js:147:13)"
     ]
    }
   ],
   "source": [
    "// Error: syntax发现function关键字，需要一个函数的申明，却没有函数名称\n",
    "function (name) {\n",
    "    return 'Hello ' + name;\n",
    "}"
   ]
  },
  {
   "cell_type": "code",
   "execution_count": 9,
   "metadata": {},
   "outputs": [
    {
     "name": "stdout",
     "output_type": "stream",
     "text": [
      "Inside IIFE: Hello John\n",
      "Inside IIFE: Hello John\n"
     ]
    }
   ],
   "source": [
    "// 上述问题的解决方法\n",
    "var firstname = 'John';\n",
    "\n",
    "(function (name) {\n",
    "    var greeting = 'Inside IIFE: Hello';\n",
    "    console.log(greeting + ' ' + name);\n",
    "}(firstname));\n",
    "\n",
    "(function (name) {\n",
    "    var greeting = 'Inside IIFE: Hello';\n",
    "    console.log(greeting + ' ' + name);\n",
    "})(firstname); // 括号在外面也行"
   ]
  },
  {
   "cell_type": "markdown",
   "metadata": {},
   "source": [
    "### 046 Understanding Closures"
   ]
  },
  {
   "cell_type": "code",
   "execution_count": 10,
   "metadata": {},
   "outputs": [
    {
     "name": "stdout",
     "output_type": "stream",
     "text": [
      "Hi John\n",
      "Hi John\n"
     ]
    }
   ],
   "source": [
    "function greet(whattosay) {\n",
    "    return function(name) {\n",
    "        console.log(whattosay + ' ' + name);\n",
    "    }\n",
    "}\n",
    "greet('Hi')('John');\n",
    "\n",
    "var sayHi = greet('Hi');\n",
    "sayHi('John');\n",
    "\n",
    "// whattosay仍然有效！"
   ]
  },
  {
   "cell_type": "markdown",
   "metadata": {},
   "source": [
    "### 047 Understanding Closures - Part 2"
   ]
  },
  {
   "cell_type": "code",
   "execution_count": 11,
   "metadata": {},
   "outputs": [
    {
     "name": "stdout",
     "output_type": "stream",
     "text": [
      "3\n",
      "3\n",
      "3\n"
     ]
    }
   ],
   "source": [
    "function buildFunctions() {\n",
    "    var arr = [];\n",
    "    for (var i = 0; i < 3; i++) {\n",
    "        arr.push(\n",
    "            function() {\n",
    "                console.log(i);\n",
    "            }\n",
    "        );\n",
    "    }\n",
    "    return arr;\n",
    "}\n",
    "\n",
    "var fs = buildFunctions();\n",
    "fs[0]();\n",
    "fs[1]();\n",
    "fs[2]();"
   ]
  },
  {
   "cell_type": "code",
   "execution_count": 12,
   "metadata": {},
   "outputs": [
    {
     "name": "stdout",
     "output_type": "stream",
     "text": [
      "0\n",
      "1\n",
      "2\n"
     ]
    }
   ],
   "source": [
    "// 解决方法1：ES6 let j=i 变量属于一个scope，不再属于外层的scope\n",
    "function buildFunctions2() {\n",
    "    var arr = [];\n",
    "    for (var i = 0; i < 3; i++) {\n",
    "        let j = i; // ES6\n",
    "        arr.push(\n",
    "            function() {\n",
    "                console.log(j);\n",
    "            }\n",
    "        );\n",
    "    }\n",
    "    return arr;\n",
    "}\n",
    "\n",
    "var fs2 = buildFunctions2();\n",
    "fs2[0]();\n",
    "fs2[1]();\n",
    "fs2[2]();"
   ]
  },
  {
   "cell_type": "code",
   "execution_count": 13,
   "metadata": {},
   "outputs": [
    {
     "name": "stdout",
     "output_type": "stream",
     "text": [
      "0\n",
      "1\n",
      "2\n"
     ]
    }
   ],
   "source": [
    "// 解决方法2：IIFE，让IIFE返回一个函数，从而得到j=函数创建时的值，而不是i(=3)\n",
    "function buildFunctions2() {\n",
    "    var arr = [];\n",
    "    for (var i = 0; i < 3; i++) {\n",
    "        arr.push(\n",
    "            (function(j) {\n",
    "                return function() {\n",
    "                    console.log(j);\n",
    "                }\n",
    "            })(i)\n",
    "        );\n",
    "    }\n",
    "    return arr;\n",
    "}\n",
    "\n",
    "var fs2 = buildFunctions2();\n",
    "fs2[0]();\n",
    "fs2[1]();\n",
    "fs2[2]();"
   ]
  },
  {
   "cell_type": "markdown",
   "metadata": {},
   "source": [
    "### 048 Framework Aside Function Factories"
   ]
  },
  {
   "cell_type": "code",
   "execution_count": 14,
   "metadata": {},
   "outputs": [
    {
     "name": "stdout",
     "output_type": "stream",
     "text": [
      "Hello John Doe\n",
      "Hola John Doe\n"
     ]
    }
   ],
   "source": [
    "function makeGreeting(language) {\n",
    "    return function (firstname, lastname) {\n",
    "        if (language === 'en') {\n",
    "            console.log('Hello ' + firstname + ' ' + lastname);\n",
    "        }\n",
    "        if (language === 'es') {\n",
    "            console.log('Hola ' + firstname + ' ' + lastname);\n",
    "        }\n",
    "    }\n",
    "}\n",
    "\n",
    "var greetEnglish = makeGreeting('en');\n",
    "var greetSpanish = makeGreeting('es');\n",
    "greetEnglish('John', 'Doe');\n",
    "greetSpanish('John', 'Doe');"
   ]
  },
  {
   "cell_type": "markdown",
   "metadata": {},
   "source": [
    "### 049 Closures and Callbacks"
   ]
  },
  {
   "cell_type": "code",
   "execution_count": 15,
   "metadata": {},
   "outputs": [],
   "source": [
    "function sayHiLater() {\n",
    "    var greeting = 'Hi!';\n",
    "    setTimeout(function() {\n",
    "        //console.log(greeting);\n",
    "    }, 200);\n",
    "}\n",
    "sayHiLater();"
   ]
  },
  {
   "cell_type": "markdown",
   "metadata": {},
   "source": [
    "### 050 call apply and bind"
   ]
  },
  {
   "cell_type": "code",
   "execution_count": 16,
   "metadata": {},
   "outputs": [
    {
     "name": "stdout",
     "output_type": "stream",
     "text": [
      "Logged: Jonh Doe\n",
      "Arguments: en, undefined\n",
      "------------------\n",
      "Logged: Jonh Doe\n",
      "Arguments: en, es\n",
      "------------------\n",
      "Logged: Jonh Doe\n",
      "Arguments: en, es\n",
      "------------------\n",
      "Logged: Jonh Doe\n",
      "Arguments: es, en\n",
      "------------------\n"
     ]
    }
   ],
   "source": [
    "var person = {\n",
    "    firstname: 'Jonh',\n",
    "    lastname: 'Doe',\n",
    "    getFullName: function() {\n",
    "        var fullName = this.firstname + ' ' + this.lastname;\n",
    "        return fullName;\n",
    "    }\n",
    "};\n",
    "\n",
    "var logName = function(lang1, lang2) {\n",
    "    console.log('Logged: ' + this.getFullName());\n",
    "    console.log('Arguments: ' + lang1 + ', ' + lang2);\n",
    "    console.log('------------------');\n",
    "}\n",
    "\n",
    "var logPersonName = logName.bind(person);\n",
    "logPersonName('en');\n",
    "\n",
    "logName.call(person, 'en', 'es');\n",
    "logName.apply(person, ['en', 'es']);\n",
    "\n",
    "(function(lang1, lang2) {\n",
    "    console.log('Logged: ' + this.getFullName());\n",
    "    console.log('Arguments: ' + lang1 + ', ' + lang2);\n",
    "    console.log('------------------');\n",
    "}).apply(person, ['es', 'en']);"
   ]
  },
  {
   "cell_type": "code",
   "execution_count": 17,
   "metadata": {},
   "outputs": [
    {
     "data": {
      "text/plain": [
       "\"Jane Doe\""
      ]
     },
     "execution_count": 17,
     "metadata": {},
     "output_type": "execute_result"
    }
   ],
   "source": [
    "// function borrowing\n",
    "var person2 = {\n",
    "    firstname: 'Jane',\n",
    "    lastname: 'Doe'\n",
    "};\n",
    "person.getFullName.apply(person2);"
   ]
  },
  {
   "cell_type": "markdown",
   "metadata": {},
   "source": [
    "#### Function Currying\n",
    "Create a copy of function but with some preset parameters"
   ]
  },
  {
   "cell_type": "code",
   "execution_count": 18,
   "metadata": {},
   "outputs": [
    {
     "name": "stdout",
     "output_type": "stream",
     "text": [
      "8\n",
      "12\n",
      "4\n"
     ]
    }
   ],
   "source": [
    "// function currying\n",
    "function multiply(a, b) {\n",
    "    return a * b;\n",
    "}\n",
    "\n",
    "var multiplyByTwo = multiply.bind(this, 2); // 第一个参数不重要，因为没有使用，第二个参数 2 => a\n",
    "console.log(multiplyByTwo(4));\n",
    "\n",
    "var multiplyByThree = multiply.bind(this, 3);\n",
    "console.log(multiplyByThree(4));\n",
    "\n",
    "var multiplyTwoByTwo = multiply.bind(this, 2, 2);\n",
    "console.log(multiplyTwoByTwo(5)); // 额外的参数不起作用了"
   ]
  },
  {
   "cell_type": "markdown",
   "metadata": {},
   "source": [
    "### 051 Functional Programming"
   ]
  },
  {
   "cell_type": "code",
   "execution_count": 19,
   "metadata": {},
   "outputs": [
    {
     "name": "stdout",
     "output_type": "stream",
     "text": [
      "[Array] [1,2,3]\n",
      "[Array] [2,4,6]\n"
     ]
    }
   ],
   "source": [
    "var arr1 = [1, 2, 3];\n",
    "console.log(arr1);\n",
    "\n",
    "var arr2 = [];\n",
    "for (var i=0; i<arr1.length; i++) {\n",
    "    arr2.push(arr1[i] * 2);\n",
    "}\n",
    "console.log(arr2);"
   ]
  },
  {
   "cell_type": "code",
   "execution_count": 20,
   "metadata": {},
   "outputs": [
    {
     "name": "stdout",
     "output_type": "stream",
     "text": [
      "[Array] [1,2,3]\n",
      "[Array] [2,4,6]\n",
      "[Array] [false,false,true]\n",
      "[Array] [false,true,true]\n",
      "[Array] [false,true,true]\n"
     ]
    }
   ],
   "source": [
    "function mapForEach(arr, fn) {\n",
    "    var newArr = [];\n",
    "    for (var i=0; i<arr.length; i++) {\n",
    "        newArr.push(fn(arr[i]));\n",
    "    }\n",
    "    return newArr;\n",
    "}\n",
    "var arr1 = [1, 2, 3];\n",
    "console.log(arr1);\n",
    "\n",
    "\n",
    "var arr2 = mapForEach(arr1, function(item) {\n",
    "    return item * 2;\n",
    "});\n",
    "console.log(arr2);\n",
    "\n",
    "\n",
    "var arr3 = mapForEach(arr1, function(item) {\n",
    "    return item > 2;\n",
    "});\n",
    "console.log(arr3);\n",
    "\n",
    "\n",
    "var checkPastLimit = function(limiter, item) {\n",
    "    return item > limiter;\n",
    "}\n",
    "var arr4 = mapForEach(arr1, checkPastLimit.bind(this, 1));\n",
    "console.log(arr4);\n",
    "\n",
    "\n",
    "var checkPastLimitSimplified = function(limiter) {\n",
    "    return function(limiter, item) {\n",
    "        return item > limiter;\n",
    "    }.bind(this, limiter);\n",
    "}\n",
    "var arr5 = mapForEach(arr1, checkPastLimitSimplified(1));\n",
    "console.log(arr5);"
   ]
  },
  {
   "cell_type": "markdown",
   "metadata": {},
   "source": [
    "### 052 Functional Programming - Part 2"
   ]
  },
  {
   "cell_type": "code",
   "execution_count": 21,
   "metadata": {},
   "outputs": [
    {
     "name": "stdout",
     "output_type": "stream",
     "text": [
      "[Array] [3,6,9]\n"
     ]
    }
   ],
   "source": [
    "var _ = require(\"lodash\"); // or underscore\n",
    "var arr6 = _.map(arr1, function(item) {return item * 3});\n",
    "console.log(arr6);"
   ]
  },
  {
   "cell_type": "code",
   "execution_count": 22,
   "metadata": {},
   "outputs": [
    {
     "name": "stdout",
     "output_type": "stream",
     "text": [
      "[Array] [2,4,6]\n"
     ]
    }
   ],
   "source": [
    "var arr7 = _.filter([2,3,4,5,6,7], function(item) {\n",
    "    return item % 2 === 0;\n",
    "});\n",
    "console.log(arr7);"
   ]
  },
  {
   "cell_type": "markdown",
   "metadata": {},
   "source": [
    "# 05 Object-Oriented Javascript and Prototypal Inheritance\n",
    "### 053 Conceptual Aside Classical vs Prototypal Inheritance"
   ]
  },
  {
   "cell_type": "markdown",
   "metadata": {},
   "source": [
    "### 054 Understanding the Prototype"
   ]
  },
  {
   "cell_type": "code",
   "execution_count": 23,
   "metadata": {},
   "outputs": [
    {
     "name": "stdout",
     "output_type": "stream",
     "text": [
      "John Doe\n",
      "John\n",
      "Jane Default\n",
      "Jane\n"
     ]
    }
   ],
   "source": [
    "var person = {\n",
    "    firstname: 'Default',\n",
    "    lastname: 'Default',\n",
    "    getFullName: function() {\n",
    "        return this.firstname + ' ' + this.lastname;\n",
    "    }\n",
    "}\n",
    "\n",
    "\n",
    "var john = {\n",
    "    firstname: 'John',\n",
    "    lastname: 'Doe'\n",
    "}\n",
    "john.__proto__ = person; // don't do this EVER! for demo purposes only!!!\n",
    "console.log(john.getFullName());\n",
    "console.log(john.firstname); // not 'Default'!\n",
    "\n",
    "\n",
    "var jane = {\n",
    "    firstname: 'Jane'\n",
    "}\n",
    "jane.__proto__ = person;\n",
    "console.log(jane.getFullName());\n",
    "console.log(jane.firstname);\n"
   ]
  },
  {
   "cell_type": "markdown",
   "metadata": {},
   "source": [
    "### 055 Everything is an Object or a primitive"
   ]
  },
  {
   "cell_type": "code",
   "execution_count": 24,
   "metadata": {},
   "outputs": [
    {
     "name": "stdout",
     "output_type": "stream",
     "text": [
      "{}\n",
      "function () { [native code] }\n",
      "function apply() { [native code] }\n",
      "[Array] []\n",
      "function push() { [native code] }\n"
     ]
    }
   ],
   "source": [
    "var a = {};\n",
    "var b = function() {};\n",
    "var c = [];\n",
    "\n",
    "// object\n",
    "console.log(a.__proto__);\n",
    "\n",
    "// function\n",
    "console.log(b.__proto__);\n",
    "console.log(b.__proto__.apply);\n",
    "\n",
    "// array\n",
    "console.log(c.__proto__);\n",
    "console.log(c.__proto__.push);"
   ]
  },
  {
   "cell_type": "code",
   "execution_count": 25,
   "metadata": {},
   "outputs": [
    {
     "name": "stdout",
     "output_type": "stream",
     "text": [
      "{}\n",
      "{}\n",
      "{}\n"
     ]
    }
   ],
   "source": [
    "\n",
    "// 原型链的顶端，最终的 prototype都是 Object {}\n",
    "console.log(a.__proto__);\n",
    "console.log(b.__proto__.__proto__);\n",
    "console.log(c.__proto__.__proto__);"
   ]
  },
  {
   "cell_type": "markdown",
   "metadata": {},
   "source": [
    "### 056 Reflection and Extend"
   ]
  },
  {
   "cell_type": "code",
   "execution_count": 26,
   "metadata": {},
   "outputs": [
    {
     "name": "stdout",
     "output_type": "stream",
     "text": [
      "firstname: John\n",
      "lastname: Doe\n",
      "getFullName: function () {\n",
      "        return this.firstname + ' ' + this.lastname;\n",
      "    }\n"
     ]
    }
   ],
   "source": [
    "var person = {\n",
    "    firstname: 'Default',\n",
    "    lastname: 'Default',\n",
    "    getFullName: function() {\n",
    "        return this.firstname + ' ' + this.lastname;\n",
    "    }\n",
    "}\n",
    "\n",
    "var john = {\n",
    "    firstname: 'John',\n",
    "    lastname: 'Doe'\n",
    "}\n",
    "\n",
    "john.__proto__ = person; // don't do this EVER! for demo purposes only!!!\n",
    "\n",
    "for (var prop in john) {\n",
    "    console.log(prop + ': ' + john[prop]);\n",
    "}"
   ]
  },
  {
   "cell_type": "code",
   "execution_count": 27,
   "metadata": {},
   "outputs": [
    {
     "name": "stdout",
     "output_type": "stream",
     "text": [
      "firstname: John\n",
      "lastname: Doe\n"
     ]
    }
   ],
   "source": [
    "// 如果不想列出 prototype 中的属性，如getFullName\n",
    "for (var prop in john) {\n",
    "    if (john.hasOwnProperty(prop)) {\n",
    "        console.log(prop + ': ' + john[prop]);\n",
    "    }\n",
    "}"
   ]
  },
  {
   "cell_type": "code",
   "execution_count": 28,
   "metadata": {},
   "outputs": [
    {
     "name": "stdout",
     "output_type": "stream",
     "text": [
      "{\"firstname\":\"John\",\"lastname\":\"Doe\",\"address\":\"111 Main St.\"}\n",
      "Doe, John\n",
      "John\n"
     ]
    }
   ],
   "source": [
    "var jane = {\n",
    "    address: '111 Main St.',\n",
    "    getFormalFullName: function() {\n",
    "        return this.lastname + ', ' + this.firstname;\n",
    "    }\n",
    "};\n",
    "\n",
    "var jim = {\n",
    "    getFirstName:function() {\n",
    "        return firstname;\n",
    "    }\n",
    "}\n",
    "\n",
    "_ = require(\"lodash\");\n",
    "_.extend(john, jane, jim); // jane, jim 的属性和方法 copy to john\n",
    "console.log(john);\n",
    "\n",
    "console.log(john.getFormalFullName());\n",
    "console.log(john.getFirstName());"
   ]
  },
  {
   "cell_type": "markdown",
   "metadata": {},
   "source": [
    "### 057 Function Constructors new and the History of Javascript"
   ]
  },
  {
   "cell_type": "code",
   "execution_count": 29,
   "metadata": {},
   "outputs": [
    {
     "name": "stdout",
     "output_type": "stream",
     "text": [
      "[Person] {}\n",
      "This function is invoked.\n",
      "[Person] {\"firstname\":\"John\",\"lastname\":\"Doe\"}\n"
     ]
    }
   ],
   "source": [
    "function Person() {\n",
    "    console.log(this);\n",
    "    this.firstname = 'John';\n",
    "    this.lastname = 'Doe';\n",
    "    console.log('This function is invoked.');\n",
    "}\n",
    "\n",
    "// 1. 创建空 object {}，2. 用此object当做this，来调用函数 Person, 3:返回此object，如果函数没有explicitly返回其它对象\n",
    "var john = new Person();\n",
    "console.log(john);"
   ]
  },
  {
   "cell_type": "code",
   "execution_count": 30,
   "metadata": {},
   "outputs": [
    {
     "name": "stdout",
     "output_type": "stream",
     "text": [
      "[Person] {\"firstname\":\"John\",\"lastname\":\"Doe\"}\n",
      "[Person] {\"firstname\":\"Jane\",\"lastname\":\"Doe\"}\n"
     ]
    }
   ],
   "source": [
    "// 一般的 pattern\n",
    "function Person(firstname, lastname) {\n",
    "    this.firstname = firstname;\n",
    "    this.lastname = lastname;\n",
    "}\n",
    "\n",
    "var john = new Person('John', 'Doe');\n",
    "console.log(john);\n",
    "var jane = new Person('Jane', 'Doe');\n",
    "console.log(jane);"
   ]
  },
  {
   "cell_type": "markdown",
   "metadata": {},
   "source": [
    "### 058 Function Constructors and .prototype"
   ]
  },
  {
   "cell_type": "code",
   "execution_count": 31,
   "metadata": {},
   "outputs": [
    {
     "name": "stdout",
     "output_type": "stream",
     "text": [
      "[Person] {}\n",
      "John Doe\n",
      "Doe, John\n"
     ]
    }
   ],
   "source": [
    "function Person(firstname, lastname) {\n",
    "    this.firstname = firstname;\n",
    "    this.lastname = lastname;\n",
    "}\n",
    "\n",
    "// Person.prototype 只有一份，所有的 Person 对象共享，可约内存。如果 this.xxx，每个对象都要有一份，浪费内存\n",
    "Person.prototype.getFullName = function() {\n",
    "    return this.firstname + ' ' + this.lastname;\n",
    "}\n",
    "\n",
    "var john = new Person('John', 'Doe');\n",
    "console.log(john.__proto__); // 已经有prototype了\n",
    "console.log(john.getFullName());\n",
    "\n",
    "Person.prototype.getFormalFullName = function() {\n",
    "    return this.lastname + ', ' + this.firstname;\n",
    "}\n",
    "console.log(john.getFormalFullName());"
   ]
  },
  {
   "cell_type": "markdown",
   "metadata": {},
   "source": [
    "Function是一种特殊的object，具有下面的属性\n",
    "- code，invocable\n",
    "- name, optional\n",
    "- prototype, only used by the new operator"
   ]
  },
  {
   "cell_type": "code",
   "execution_count": 32,
   "metadata": {},
   "outputs": [
    {
     "name": "stdout",
     "output_type": "stream",
     "text": [
      "true\n",
      "true\n",
      "abc\n"
     ]
    }
   ],
   "source": [
    "var jane = new Person('Jane', 'Doe');\n",
    "console.log(Person.prototype === john.__proto__)\n",
    "console.log(Person.prototype === jane.__proto__)\n",
    "jane.__proto__.abc = 'abc';\n",
    "console.log(john.__proto__.abc);"
   ]
  },
  {
   "cell_type": "markdown",
   "metadata": {},
   "source": [
    "### 059 Dangerous Aside new and functions"
   ]
  },
  {
   "cell_type": "code",
   "execution_count": 33,
   "metadata": {},
   "outputs": [
    {
     "name": "stdout",
     "output_type": "stream",
     "text": [
      "undefined\n"
     ]
    }
   ],
   "source": [
    "function Person(firstname, lastname) {\n",
    "    this.firstname = firstname;\n",
    "    this.lastname = lastname;\n",
    "}\n",
    "\n",
    "// Person.prototype 只有一份，所有的 Person 对象共享，可约内存。如果 this.xxx，每个对象都要有一份，浪费内存\n",
    "Person.prototype.getFullName = function() {\n",
    "    return this.firstname + ' ' + this.lastname;\n",
    "};\n",
    "\n",
    "// 万一忘了 new，返回的实际上是 undefined，赋值给变量 john\n",
    "var john = Person('John', 'Doe');\n",
    "console.log(john);"
   ]
  },
  {
   "cell_type": "markdown",
   "metadata": {},
   "source": [
    "解决方法：如果是function constructor，**首字母大写**，以方便提醒使用 new"
   ]
  },
  {
   "cell_type": "markdown",
   "metadata": {},
   "source": [
    "### 060 Conceptual Aside Built-In Function Constructors"
   ]
  },
  {
   "cell_type": "code",
   "execution_count": 34,
   "metadata": {},
   "outputs": [
    {
     "name": "stdout",
     "output_type": "stream",
     "text": [
      "true\n"
     ]
    }
   ],
   "source": [
    "String.prototype.isLengthGreaterThan = function(limiter) {\n",
    "    return this.length > limiter;\n",
    "};\n",
    "\n",
    "// console.log(\"John\".isLengthGreaterThan(3));\n",
    "// 正常情况下，这里应该返回 true，因为 \"John\" 会自动转换成 String\n",
    "// 但是这里jupyter的后台将上面程序放入 Node.js VM中运行（ContextifyScript.Script.runInContext），这种方式不起作用，\n",
    "//   但是换种方式会起作用：\n",
    "console.log(new String(\"John\").isLengthGreaterThan(3));"
   ]
  },
  {
   "cell_type": "code",
   "execution_count": 35,
   "metadata": {},
   "outputs": [
    {
     "name": "stdout",
     "output_type": "stream",
     "text": [
      "true\n"
     ]
    }
   ],
   "source": [
    "Number.prototype.isPositive = function() {\n",
    "    return this > 0;\n",
    "};\n",
    "\n",
    "// SyntaxError: Invalid or unexpected token\n",
    "//   因为数字并不会被自动转换\n",
    "//console.log(3.isPositive());\n",
    "\n",
    "var a = new Number(3);\n",
    "console.log(a.isPositive()); // true"
   ]
  },
  {
   "cell_type": "markdown",
   "metadata": {},
   "source": [
    "### 061 Dangerous Aside Built-In Function Constructors\n",
    "为什么上面的操作是危险的？"
   ]
  },
  {
   "cell_type": "code",
   "execution_count": 36,
   "metadata": {},
   "outputs": [
    {
     "name": "stdout",
     "output_type": "stream",
     "text": [
      "true\n",
      "false\n"
     ]
    }
   ],
   "source": [
    "var a = 3;\n",
    "var b = new Number(3);\n",
    "console.log(a == b);\n",
    "console.log(a === b); // false，因为不是一个类型的，这里非常容易造成错误"
   ]
  },
  {
   "cell_type": "markdown",
   "metadata": {},
   "source": [
    "所以，一般情形下，尽量使用字面量，不要使用 new Number(...)\n",
    "有时，需要使用 var c = Number(\"3\"); 仅仅是用来把字符串转换成 primitive，这是没有问题的。"
   ]
  },
  {
   "cell_type": "markdown",
   "metadata": {},
   "source": [
    "### 062 Dangerous Aside Arrays and for..in"
   ]
  },
  {
   "cell_type": "code",
   "execution_count": 37,
   "metadata": {},
   "outputs": [
    {
     "name": "stdout",
     "output_type": "stream",
     "text": [
      "0: John\n",
      "1: Jane\n",
      "2: Jim\n"
     ]
    }
   ],
   "source": [
    "var arr = [\"John\", \"Jane\", \"Jim\"];\n",
    "\n",
    "for (var prop in arr) {\n",
    "    console.log(prop + ': ' + arr[prop]);\n",
    "}"
   ]
  },
  {
   "cell_type": "code",
   "execution_count": 38,
   "metadata": {},
   "outputs": [
    {
     "name": "stdout",
     "output_type": "stream",
     "text": [
      "0: John\n",
      "1: Jane\n",
      "2: Jim\n",
      "myCustomFeature: cool!\n"
     ]
    }
   ],
   "source": [
    "Array.prototype.myCustomFeature = 'cool!'; // 鬼知道有没有某人在什么地方加上这个\n",
    "\n",
    "var arr = [\"John\", \"Jane\", \"Jim\"];\n",
    "\n",
    "for (var prop in arr) {\n",
    "    console.log(prop + ': ' + arr[prop]);\n",
    "}"
   ]
  },
  {
   "cell_type": "markdown",
   "metadata": {},
   "source": [
    "安全的方法，还是使用标准 for loop"
   ]
  },
  {
   "cell_type": "code",
   "execution_count": 39,
   "metadata": {},
   "outputs": [
    {
     "name": "stdout",
     "output_type": "stream",
     "text": [
      "0: John\n",
      "1: Jane\n",
      "2: Jim\n"
     ]
    }
   ],
   "source": [
    "for (var i = 0; i <arr.length; i++) {\n",
    "    console.log(i + ': ' + arr[i]);\n",
    "}"
   ]
  },
  {
   "cell_type": "markdown",
   "metadata": {},
   "source": [
    "### 063 Object.create and Pure Prototypal Inheritance"
   ]
  },
  {
   "cell_type": "code",
   "execution_count": 40,
   "metadata": {},
   "outputs": [
    {
     "name": "stdout",
     "output_type": "stream",
     "text": [
      "{}\n",
      "Hi Default\n"
     ]
    }
   ],
   "source": [
    "var person = {\n",
    "    firstname: 'Default',\n",
    "    lastname: 'Default',\n",
    "    greet: function() {\n",
    "        return 'Hi ' + this.firstname;\n",
    "    }\n",
    "}\n",
    "\n",
    "var john = Object.create(person); // 创建一个空object，但是prototype是 person\n",
    "console.log(john);\n",
    "console.log(john.greet());"
   ]
  },
  {
   "cell_type": "code",
   "execution_count": 41,
   "metadata": {},
   "outputs": [
    {
     "name": "stdout",
     "output_type": "stream",
     "text": [
      "{\"firstname\":\"John\",\"lastname\":\"Doe\"}\n",
      "Hi John\n"
     ]
    }
   ],
   "source": [
    "john.firstname = 'John';\n",
    "john.lastname = 'Doe';\n",
    "console.log(john);\n",
    "console.log(john.greet());"
   ]
  },
  {
   "cell_type": "markdown",
   "metadata": {},
   "source": [
    "也许某些旧的浏览器不支持 Object.create()\n",
    "#### Polyfill\n",
    "Codes that add a feature which the engine may lack"
   ]
  },
  {
   "cell_type": "code",
   "execution_count": 42,
   "metadata": {},
   "outputs": [],
   "source": [
    "if (!Object.create) {\n",
    "    Object.create = function(o) {\n",
    "        if (arguments.length > 1) {\n",
    "            throw new Error('Object.create implementation'\n",
    "                           + ' only accepts the first parameter.');\n",
    "        }\n",
    "        function F() {}\n",
    "        F.prototype = o;\n",
    "        return new F();\n",
    "    }\n",
    "}\n",
    "\n",
    "var john = Object.create(person);\n",
    "// ..."
   ]
  },
  {
   "cell_type": "markdown",
   "metadata": {},
   "source": [
    "### 064 ES6 and Classes"
   ]
  },
  {
   "cell_type": "code",
   "execution_count": 43,
   "metadata": {},
   "outputs": [
    {
     "name": "stdout",
     "output_type": "stream",
     "text": [
      "[Person] {\"firstname\":\"John\",\"lastname\":\"Doe\"}\n",
      "[Person] {}\n",
      "John\n",
      "------------------\n",
      "[InformalPerson] {\"firstname\":\"Jane\",\"lastname\":\"Doe\"}\n",
      "[InformalPerson] {}\n",
      "[Person] {}\n",
      "Jane\n"
     ]
    }
   ],
   "source": [
    "// Fix of: SyntaxError: Identifier 'Person' has already been declared\n",
    "//   原因是前面出现过 Person\n",
    "(function() {\n",
    "\n",
    "    class Person {\n",
    "        constructor(firstname, lastname) {\n",
    "            this.firstname = firstname;\n",
    "            this.lastname = lastname;\n",
    "        }\n",
    "\n",
    "        greet() {\n",
    "            return 'Hi ' + this.firstname;\n",
    "        }\n",
    "    }\n",
    "\n",
    "    var john = new Person('John', 'Doe');\n",
    "    console.log(john);\n",
    "    console.log(john.__proto__);\n",
    "    console.log(john.firstname);\n",
    "    console.log('------------------');\n",
    "\n",
    "    // 继承. extends set the Prototype(__proto__)\n",
    "    class InformalPerson extends Person {\n",
    "        constructor(firstname, lastname) {\n",
    "            super(firstname, lastname);\n",
    "        }\n",
    "\n",
    "        greet() {\n",
    "            return 'Hi ' + this.firstname;\n",
    "        }\n",
    "    }\n",
    "    var jane = new InformalPerson('Jane', 'Doe');\n",
    "    console.log(jane);\n",
    "    console.log(jane.__proto__);\n",
    "    console.log(jane.__proto__.__proto__);\n",
    "    console.log(jane.firstname);\n",
    "\n",
    "})();"
   ]
  },
  {
   "cell_type": "markdown",
   "metadata": {},
   "source": [
    "### 065 Initialization"
   ]
  },
  {
   "cell_type": "markdown",
   "metadata": {},
   "source": [
    "### 066 typeof  instanceof and Figuring Out What Something Is"
   ]
  },
  {
   "cell_type": "code",
   "execution_count": 44,
   "metadata": {},
   "outputs": [
    {
     "name": "stdout",
     "output_type": "stream",
     "text": [
      "number\n",
      "string\n",
      "object\n",
      "object\n",
      "\n",
      "[object Array]\n"
     ]
    }
   ],
   "source": [
    "var a = 3;\n",
    "console.log(typeof a); // primitive\n",
    "\n",
    "var b = \"Hello\";\n",
    "console.log(typeof b);\n",
    "\n",
    "var c = {};\n",
    "console.log(typeof c);\n",
    "\n",
    "var d = [];\n",
    "console.log(typeof d); // 输出object, weird\n",
    "console.log(d.toString()); // 输出空字符串,因为 d 是空数组，没有帮助\n",
    "console.log(Object.prototype.toString.call(d)); // better，终于能表示出是个数组了"
   ]
  },
  {
   "cell_type": "code",
   "execution_count": 45,
   "metadata": {},
   "outputs": [
    {
     "name": "stdout",
     "output_type": "stream",
     "text": [
      "object\n",
      "true\n"
     ]
    }
   ],
   "source": [
    "function Person(name) {\n",
    "    this.name  = name;\n",
    "}\n",
    "var e = new Person('Jane');\n",
    "console.log(typeof e);\n",
    "console.log(e instanceof Person); // 检查在不在原型链上"
   ]
  },
  {
   "cell_type": "code",
   "execution_count": 46,
   "metadata": {},
   "outputs": [
    {
     "name": "stdout",
     "output_type": "stream",
     "text": [
      "undefined\n",
      "object\n"
     ]
    }
   ],
   "source": [
    "console.log(typeof undefined); // 合理\n",
    "console.log(typeof null); // javascript bug，但永远不会修了"
   ]
  },
  {
   "cell_type": "code",
   "execution_count": 47,
   "metadata": {},
   "outputs": [
    {
     "name": "stdout",
     "output_type": "stream",
     "text": [
      "function\n"
     ]
    }
   ],
   "source": [
    "var z = function() {};\n",
    "console.log(typeof z);"
   ]
  },
  {
   "cell_type": "markdown",
   "metadata": {},
   "source": [
    "### 067 Strict Mode"
   ]
  },
  {
   "cell_type": "code",
   "execution_count": 48,
   "metadata": {},
   "outputs": [
    {
     "name": "stdout",
     "output_type": "stream",
     "text": [
      "{}\n",
      "undefined\n"
     ]
    }
   ],
   "source": [
    "(function() {\n",
    "    \n",
    "var person;\n",
    "persom = {}; // typo，但后面操作并不会报错\n",
    "console.log(persom);\n",
    "console.log(person);\n",
    "\n",
    "delete persom; // clean up\n",
    "})();"
   ]
  },
  {
   "cell_type": "code",
   "execution_count": 49,
   "metadata": {},
   "outputs": [
    {
     "ename": "Javascript Error",
     "evalue": "persom is not defined",
     "output_type": "error",
     "traceback": [
      "evalmachine.<anonymous>:6\n    persom = {}; // typo\n           ^\n\nReferenceError: persom is not defined\n    at evalmachine.<anonymous>:6:12\n    at evalmachine.<anonymous>:10:3\n    at ContextifyScript.Script.runInContext (vm.js:59:29)\n    at Object.runInContext (vm.js:120:6)\n    at Context.rawRun (/home/dy/workspace/eagle/jupyter-nodejs/build/context.js:184:30)\n    at Domain.<anonymous> (/home/dy/workspace/eagle/jupyter-nodejs/build/context.js:204:27)\n    at Domain.run (domain.js:242:14)\n    at Context.rawEvaluate (/home/dy/workspace/eagle/jupyter-nodejs/build/context.js:202:9)\n    at Context.execute (/home/dy/workspace/eagle/jupyter-nodejs/build/context.js:354:21)\n    at Kernel.executeRequest (/home/dy/workspace/eagle/jupyter-nodejs/build/kernel.js:224:16)"
     ]
    }
   ],
   "source": [
    "// 报错\n",
    "(function() {\n",
    "    \"use strict\";\n",
    "\n",
    "    var person;\n",
    "    persom = {}; // typo\n",
    "    console.log(persom);\n",
    "    console.log(person);\n",
    "    \n",
    "})();"
   ]
  },
  {
   "cell_type": "markdown",
   "metadata": {},
   "source": [
    "\"use strict\";\n",
    "\n",
    "既可以全文件使用，也可以函数内使用，作用范围不同"
   ]
  },
  {
   "cell_type": "markdown",
   "metadata": {},
   "source": [
    "### 069 Learning From Others Good Code"
   ]
  },
  {
   "cell_type": "markdown",
   "metadata": {},
   "source": [
    "### 070 Deep Dive into Source Code jQuery - Part 1"
   ]
  },
  {
   "cell_type": "code",
   "execution_count": null,
   "metadata": {},
   "outputs": [],
   "source": []
  }
 ],
 "metadata": {
  "kernelspec": {
   "display_name": "NodeJS",
   "language": "javascript",
   "name": "nodejs"
  },
  "language_info": {
   "codemirror_mode": "javascript",
   "file_extension": ".js",
   "mimetype": "text/javascript",
   "name": "nodejs",
   "pygments_lexer": "javascript",
   "version": "0.10"
  }
 },
 "nbformat": 4,
 "nbformat_minor": 2
}
