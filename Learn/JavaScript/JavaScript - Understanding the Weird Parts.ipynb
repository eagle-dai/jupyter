{
 "cells": [
  {
   "cell_type": "markdown",
   "metadata": {},
   "source": [
    "# 04 Objects and Functions\n",
    "### 037 Objects Functions and this"
   ]
  },
  {
   "cell_type": "code",
   "execution_count": 1,
   "metadata": {},
   "outputs": [
    {
     "name": "stdout",
     "output_type": "stream",
     "text": [
      "[object Object]\n",
      "hello\n",
      "[object Object]\n"
     ]
    }
   ],
   "source": [
    "function a() {\n",
    "    console.log(this);\n",
    "    this.newvariable = 'hello';\n",
    "}\n",
    "\n",
    "var b = function() {\n",
    "    console.log(this);\n",
    "}\n",
    "\n",
    "// 这里 this 都是 global object\n",
    "a();\n",
    "console.log(newvariable); // 注意，newvariable进入了global object\n",
    "b();"
   ]
  },
  {
   "cell_type": "code",
   "execution_count": 2,
   "metadata": {},
   "outputs": [
    {
     "name": "stdout",
     "output_type": "stream",
     "text": [
      "{\"name\":\"the c object\"}\n",
      "{\"name\":\"Updated c object\"}\n",
      "{\"name\":\"Updated c object\"}\n",
      "Updated again! The c object\n"
     ]
    }
   ],
   "source": [
    "var c = {\n",
    "    name: 'the c object',\n",
    "    log: function() {\n",
    "        console.log(this);\n",
    "\n",
    "        this.name = 'Updated c object';\n",
    "        console.log(this);\n",
    "        \n",
    "        // 一般认为这里是 javascript 语言的一个 bug\n",
    "        var setname = function(newname) { // function in function\n",
    "            this.name = newname; // 竟然又写到了 global object\n",
    "        };\n",
    "        setname('Updated again! The c object');\n",
    "        console.log(this);\n",
    "    }\n",
    "};\n",
    "c.log();\n",
    "console.log(name);"
   ]
  },
  {
   "cell_type": "code",
   "execution_count": 3,
   "metadata": {},
   "outputs": [
    {
     "name": "stdout",
     "output_type": "stream",
     "text": [
      "{\"name\":\"the c object\"}\n",
      "{\"name\":\"Updated c object\"}\n",
      "{\"name\":\"Updated again! The c object\"}\n"
     ]
    }
   ],
   "source": [
    "var c = {\n",
    "    name: 'the c object',\n",
    "    log: function() {\n",
    "        var self = this; // 一般的 pattern！all other this=>self\n",
    "        console.log(self);\n",
    "\n",
    "        this.name = 'Updated c object';\n",
    "        console.log(self);\n",
    "        \n",
    "        var setname = function(newname) {\n",
    "            self.name = newname;\n",
    "        };\n",
    "        setname('Updated again! The c object');\n",
    "        console.log(self);\n",
    "    }\n",
    "};\n",
    "c.log();"
   ]
  },
  {
   "cell_type": "markdown",
   "metadata": {},
   "source": [
    "### 038 Conceptual Aside Arrays - Collections of Anything"
   ]
  },
  {
   "cell_type": "code",
   "execution_count": 4,
   "metadata": {},
   "outputs": [
    {
     "name": "stdout",
     "output_type": "stream",
     "text": [
      "[Array] [1,false,{\"name\":\"Tony\",\"address\":\"111 Main St.\"},null,\"Hello\"]\n",
      "Hello Tony\n"
     ]
    }
   ],
   "source": [
    "var arr = [ // array can contain everything\n",
    "    1,\n",
    "    false,\n",
    "    {\n",
    "        name: 'Tony',\n",
    "        address: '111 Main St.'\n",
    "    },\n",
    "    function(name) {\n",
    "        var greeting = 'Hello ';\n",
    "        console.log(greeting + name);\n",
    "    },\n",
    "    \"Hello\"\n",
    "];\n",
    "console.log(arr);\n",
    "arr[3](arr[2].name)"
   ]
  },
  {
   "cell_type": "markdown",
   "metadata": {},
   "source": [
    "### 039 arguments and spread"
   ]
  },
  {
   "cell_type": "markdown",
   "metadata": {},
   "source": [
    "### 040 Framework Aside Function Overloading"
   ]
  },
  {
   "cell_type": "code",
   "execution_count": 5,
   "metadata": {},
   "outputs": [
    {
     "name": "stdout",
     "output_type": "stream",
     "text": [
      "Hello John Doe\n",
      "Hola John Doe\n",
      "Hello John Doe\n",
      "Hola John Doe\n"
     ]
    }
   ],
   "source": [
    "function greet(firstname, lastname, language) {\n",
    "    language = language || 'en';\n",
    "    if (language === 'en') {\n",
    "        console.log('Hello ' + firstname + ' ' + lastname);\n",
    "    }\n",
    "    if (language === 'es') {\n",
    "        console.log('Hola ' + firstname + ' ' + lastname);\n",
    "    }\n",
    "}\n",
    "greet('John', 'Doe', 'en');\n",
    "greet('John', 'Doe', 'es');\n",
    "\n",
    "// 虽然没有类似其它语言的函数重载，但也有解决方法，其中最简单的一种如下\n",
    "function greetEnglish(firstname, lastname) {\n",
    "    greet(firstname, lastname, 'en');\n",
    "}\n",
    "function greetSpanish(firstname, lastname) {\n",
    "    greet(firstname, lastname, 'es');\n",
    "}\n",
    "greetEnglish('John', 'Doe');\n",
    "greetSpanish('John', 'Doe');"
   ]
  },
  {
   "cell_type": "markdown",
   "metadata": {},
   "source": [
    "### 042 Dangerous Aside Automatic Semicolon Insertion"
   ]
  },
  {
   "cell_type": "code",
   "execution_count": 6,
   "metadata": {},
   "outputs": [
    {
     "name": "stdout",
     "output_type": "stream",
     "text": [
      "undefined\n",
      "{\"firstname\":\"Tony\"}\n"
     ]
    }
   ],
   "source": [
    "function getPerson1() {\n",
    "    return // 自动插入;\n",
    "    {\n",
    "        firstname: 'Tony'\n",
    "    }\n",
    "}\n",
    "\n",
    "function getPerson2() {\n",
    "    return {\n",
    "        firstname: 'Tony'\n",
    "    }\n",
    "}\n",
    "\n",
    "console.log(getPerson1());\n",
    "console.log(getPerson2());"
   ]
  },
  {
   "cell_type": "markdown",
   "metadata": {},
   "source": [
    "\n",
    "### 044 Immediately Invoked Functions Expressions IIFEs"
   ]
  },
  {
   "cell_type": "code",
   "execution_count": 7,
   "metadata": {},
   "outputs": [
    {
     "name": "stdout",
     "output_type": "stream",
     "text": [
      "Hello John\n"
     ]
    }
   ],
   "source": [
    "// using Immediately Invoked Functions Expressions - IIFEs\n",
    "var greeting = function(name) {\n",
    "    return 'Hello ' + name;\n",
    "}('John');\n",
    "console.log(greeting);"
   ]
  },
  {
   "cell_type": "code",
   "execution_count": 8,
   "metadata": {},
   "outputs": [
    {
     "ename": "Javascript Error",
     "evalue": "Unexpected token (",
     "output_type": "error",
     "traceback": [
      "evalmachine.<anonymous>:2\nfunction (name) {\n         ^\n\nSyntaxError: Unexpected token (\n    at createScript (vm.js:80:10)\n    at Object.runInContext (vm.js:119:10)\n    at Context.rawRun (/home/dy/workspace/eagle/jupyter-nodejs/build/context.js:184:30)\n    at Domain.<anonymous> (/home/dy/workspace/eagle/jupyter-nodejs/build/context.js:204:27)\n    at Domain.run (domain.js:242:14)\n    at Context.rawEvaluate (/home/dy/workspace/eagle/jupyter-nodejs/build/context.js:202:9)\n    at Context.execute (/home/dy/workspace/eagle/jupyter-nodejs/build/context.js:354:21)\n    at Kernel.executeRequest (/home/dy/workspace/eagle/jupyter-nodejs/build/kernel.js:224:16)\n    at Kernel.onShell (/home/dy/workspace/eagle/jupyter-nodejs/build/kernel.js:126:14)\n    at emitMany (events.js:147:13)"
     ]
    }
   ],
   "source": [
    "// Error: syntax发现function关键字，需要一个函数的申明，却没有函数名称\n",
    "function (name) {\n",
    "    return 'Hello ' + name;\n",
    "}"
   ]
  },
  {
   "cell_type": "code",
   "execution_count": 9,
   "metadata": {},
   "outputs": [
    {
     "name": "stdout",
     "output_type": "stream",
     "text": [
      "Inside IIFE: Hello John\n",
      "Inside IIFE: Hello John\n"
     ]
    }
   ],
   "source": [
    "// 上述问题的解决方法\n",
    "var firstname = 'John';\n",
    "\n",
    "(function (name) {\n",
    "    var greeting = 'Inside IIFE: Hello';\n",
    "    console.log(greeting + ' ' + name);\n",
    "}(firstname));\n",
    "\n",
    "(function (name) {\n",
    "    var greeting = 'Inside IIFE: Hello';\n",
    "    console.log(greeting + ' ' + name);\n",
    "})(firstname); // 括号在外面也行"
   ]
  },
  {
   "cell_type": "markdown",
   "metadata": {},
   "source": [
    "### 046 Understanding Closures"
   ]
  },
  {
   "cell_type": "code",
   "execution_count": 10,
   "metadata": {},
   "outputs": [
    {
     "name": "stdout",
     "output_type": "stream",
     "text": [
      "Hi John\n",
      "Hi John\n"
     ]
    }
   ],
   "source": [
    "function greet(whattosay) {\n",
    "    return function(name) {\n",
    "        console.log(whattosay + ' ' + name);\n",
    "    }\n",
    "}\n",
    "greet('Hi')('John');\n",
    "\n",
    "var sayHi = greet('Hi');\n",
    "sayHi('John');\n",
    "\n",
    "// whattosay仍然有效！"
   ]
  },
  {
   "cell_type": "markdown",
   "metadata": {},
   "source": [
    "### 047 Understanding Closures - Part 2"
   ]
  },
  {
   "cell_type": "code",
   "execution_count": 11,
   "metadata": {},
   "outputs": [
    {
     "name": "stdout",
     "output_type": "stream",
     "text": [
      "3\n",
      "3\n",
      "3\n"
     ]
    }
   ],
   "source": [
    "function buildFunctions() {\n",
    "    var arr = [];\n",
    "    for (var i = 0; i < 3; i++) {\n",
    "        arr.push(\n",
    "            function() {\n",
    "                console.log(i);\n",
    "            }\n",
    "        );\n",
    "    }\n",
    "    return arr;\n",
    "}\n",
    "\n",
    "var fs = buildFunctions();\n",
    "fs[0]();\n",
    "fs[1]();\n",
    "fs[2]();"
   ]
  },
  {
   "cell_type": "code",
   "execution_count": 12,
   "metadata": {},
   "outputs": [
    {
     "name": "stdout",
     "output_type": "stream",
     "text": [
      "0\n",
      "1\n",
      "2\n"
     ]
    }
   ],
   "source": [
    "// 解决方法1：ES6 let j=i 变量属于一个scope，不再属于外层的scope\n",
    "function buildFunctions2() {\n",
    "    var arr = [];\n",
    "    for (var i = 0; i < 3; i++) {\n",
    "        let j = i; // ES6\n",
    "        arr.push(\n",
    "            function() {\n",
    "                console.log(j);\n",
    "            }\n",
    "        );\n",
    "    }\n",
    "    return arr;\n",
    "}\n",
    "\n",
    "var fs2 = buildFunctions2();\n",
    "fs2[0]();\n",
    "fs2[1]();\n",
    "fs2[2]();"
   ]
  },
  {
   "cell_type": "code",
   "execution_count": 13,
   "metadata": {},
   "outputs": [
    {
     "name": "stdout",
     "output_type": "stream",
     "text": [
      "0\n",
      "1\n",
      "2\n"
     ]
    }
   ],
   "source": [
    "// 解决方法2：IIFE，让IIFE返回一个函数，从而得到j=函数创建时的值，而不是i(=3)\n",
    "function buildFunctions2() {\n",
    "    var arr = [];\n",
    "    for (var i = 0; i < 3; i++) {\n",
    "        arr.push(\n",
    "            (function(j) {\n",
    "                return function() {\n",
    "                    console.log(j);\n",
    "                }\n",
    "            })(i)\n",
    "        );\n",
    "    }\n",
    "    return arr;\n",
    "}\n",
    "\n",
    "var fs2 = buildFunctions2();\n",
    "fs2[0]();\n",
    "fs2[1]();\n",
    "fs2[2]();"
   ]
  },
  {
   "cell_type": "markdown",
   "metadata": {},
   "source": [
    "### 048 Framework Aside Function Factories"
   ]
  },
  {
   "cell_type": "code",
   "execution_count": 14,
   "metadata": {},
   "outputs": [
    {
     "name": "stdout",
     "output_type": "stream",
     "text": [
      "Hello John Doe\n",
      "Hola John Doe\n"
     ]
    }
   ],
   "source": [
    "function makeGreeting(language) {\n",
    "    return function (firstname, lastname) {\n",
    "        if (language === 'en') {\n",
    "            console.log('Hello ' + firstname + ' ' + lastname);\n",
    "        }\n",
    "        if (language === 'es') {\n",
    "            console.log('Hola ' + firstname + ' ' + lastname);\n",
    "        }\n",
    "    }\n",
    "}\n",
    "\n",
    "var greetEnglish = makeGreeting('en');\n",
    "var greetSpanish = makeGreeting('es');\n",
    "greetEnglish('John', 'Doe');\n",
    "greetSpanish('John', 'Doe');"
   ]
  },
  {
   "cell_type": "markdown",
   "metadata": {},
   "source": [
    "### 049 Closures and Callbacks"
   ]
  },
  {
   "cell_type": "code",
   "execution_count": 15,
   "metadata": {},
   "outputs": [],
   "source": [
    "function sayHiLater() {\n",
    "    var greeting = 'Hi!';\n",
    "    setTimeout(function() {\n",
    "        //console.log(greeting);\n",
    "    }, 200);\n",
    "}\n",
    "sayHiLater();"
   ]
  },
  {
   "cell_type": "markdown",
   "metadata": {},
   "source": [
    "### 050 call apply and bind"
   ]
  },
  {
   "cell_type": "code",
   "execution_count": 16,
   "metadata": {},
   "outputs": [
    {
     "name": "stdout",
     "output_type": "stream",
     "text": [
      "Logged: Jonh Doe\n",
      "Arguments: en, undefined\n",
      "------------------\n",
      "Logged: Jonh Doe\n",
      "Arguments: en, es\n",
      "------------------\n",
      "Logged: Jonh Doe\n",
      "Arguments: en, es\n",
      "------------------\n",
      "Logged: Jonh Doe\n",
      "Arguments: es, en\n",
      "------------------\n"
     ]
    }
   ],
   "source": [
    "var person = {\n",
    "    firstname: 'Jonh',\n",
    "    lastname: 'Doe',\n",
    "    getFullName: function() {\n",
    "        var fullName = this.firstname + ' ' + this.lastname;\n",
    "        return fullName;\n",
    "    }\n",
    "};\n",
    "\n",
    "var logName = function(lang1, lang2) {\n",
    "    console.log('Logged: ' + this.getFullName());\n",
    "    console.log('Arguments: ' + lang1 + ', ' + lang2);\n",
    "    console.log('------------------');\n",
    "}\n",
    "\n",
    "var logPersonName = logName.bind(person);\n",
    "logPersonName('en');\n",
    "\n",
    "logName.call(person, 'en', 'es');\n",
    "logName.apply(person, ['en', 'es']);\n",
    "\n",
    "(function(lang1, lang2) {\n",
    "    console.log('Logged: ' + this.getFullName());\n",
    "    console.log('Arguments: ' + lang1 + ', ' + lang2);\n",
    "    console.log('------------------');\n",
    "}).apply(person, ['es', 'en']);"
   ]
  },
  {
   "cell_type": "code",
   "execution_count": 17,
   "metadata": {},
   "outputs": [
    {
     "data": {
      "text/plain": [
       "\"Jane Doe\""
      ]
     },
     "execution_count": 17,
     "metadata": {},
     "output_type": "execute_result"
    }
   ],
   "source": [
    "// function borrowing\n",
    "var person2 = {\n",
    "    firstname: 'Jane',\n",
    "    lastname: 'Doe'\n",
    "};\n",
    "person.getFullName.apply(person2);"
   ]
  },
  {
   "cell_type": "markdown",
   "metadata": {},
   "source": [
    "#### Function Currying\n",
    "Create a copy of function but with some preset parameters"
   ]
  },
  {
   "cell_type": "code",
   "execution_count": 18,
   "metadata": {},
   "outputs": [
    {
     "name": "stdout",
     "output_type": "stream",
     "text": [
      "8\n",
      "12\n",
      "4\n"
     ]
    }
   ],
   "source": [
    "// function currying\n",
    "function multiply(a, b) {\n",
    "    return a * b;\n",
    "}\n",
    "\n",
    "var multiplyByTwo = multiply.bind(this, 2); // 第一个参数不重要，因为没有使用，第二个参数 2 => a\n",
    "console.log(multiplyByTwo(4));\n",
    "\n",
    "var multiplyByThree = multiply.bind(this, 3);\n",
    "console.log(multiplyByThree(4));\n",
    "\n",
    "var multiplyTwoByTwo = multiply.bind(this, 2, 2);\n",
    "console.log(multiplyTwoByTwo(5)); // 额外的参数不起作用了"
   ]
  },
  {
   "cell_type": "markdown",
   "metadata": {},
   "source": [
    "### 051 Functional Programming"
   ]
  },
  {
   "cell_type": "code",
   "execution_count": 19,
   "metadata": {},
   "outputs": [
    {
     "name": "stdout",
     "output_type": "stream",
     "text": [
      "[Array] [1,2,3]\n",
      "[Array] [2,4,6]\n"
     ]
    }
   ],
   "source": [
    "var arr1 = [1, 2, 3];\n",
    "console.log(arr1);\n",
    "\n",
    "var arr2 = [];\n",
    "for (var i=0; i<arr1.length; i++) {\n",
    "    arr2.push(arr1[i] * 2);\n",
    "}\n",
    "console.log(arr2);"
   ]
  },
  {
   "cell_type": "code",
   "execution_count": 20,
   "metadata": {},
   "outputs": [
    {
     "name": "stdout",
     "output_type": "stream",
     "text": [
      "[Array] [1,2,3]\n",
      "[Array] [2,4,6]\n",
      "[Array] [false,false,true]\n",
      "[Array] [false,true,true]\n",
      "[Array] [false,true,true]\n"
     ]
    }
   ],
   "source": [
    "function mapForEach(arr, fn) {\n",
    "    var newArr = [];\n",
    "    for (var i=0; i<arr.length; i++) {\n",
    "        newArr.push(fn(arr[i]));\n",
    "    }\n",
    "    return newArr;\n",
    "}\n",
    "var arr1 = [1, 2, 3];\n",
    "console.log(arr1);\n",
    "\n",
    "\n",
    "var arr2 = mapForEach(arr1, function(item) {\n",
    "    return item * 2;\n",
    "});\n",
    "console.log(arr2);\n",
    "\n",
    "\n",
    "var arr3 = mapForEach(arr1, function(item) {\n",
    "    return item > 2;\n",
    "});\n",
    "console.log(arr3);\n",
    "\n",
    "\n",
    "var checkPastLimit = function(limiter, item) {\n",
    "    return item > limiter;\n",
    "}\n",
    "var arr4 = mapForEach(arr1, checkPastLimit.bind(this, 1));\n",
    "console.log(arr4);\n",
    "\n",
    "\n",
    "var checkPastLimitSimplified = function(limiter) {\n",
    "    return function(limiter, item) {\n",
    "        return item > limiter;\n",
    "    }.bind(this, limiter);\n",
    "}\n",
    "var arr5 = mapForEach(arr1, checkPastLimitSimplified(1));\n",
    "console.log(arr5);"
   ]
  },
  {
   "cell_type": "markdown",
   "metadata": {},
   "source": [
    "### 052 Functional Programming - Part 2"
   ]
  },
  {
   "cell_type": "code",
   "execution_count": 21,
   "metadata": {},
   "outputs": [
    {
     "name": "stdout",
     "output_type": "stream",
     "text": [
      "[Array] [3,6,9]\n"
     ]
    }
   ],
   "source": [
    "var _ = require(\"lodash\"); // or underscore\n",
    "var arr6 = _.map(arr1, function(item) {return item * 3});\n",
    "console.log(arr6);"
   ]
  },
  {
   "cell_type": "code",
   "execution_count": 22,
   "metadata": {},
   "outputs": [
    {
     "name": "stdout",
     "output_type": "stream",
     "text": [
      "[Array] [2,4,6]\n"
     ]
    }
   ],
   "source": [
    "var arr7 = _.filter([2,3,4,5,6,7], function(item) {\n",
    "    return item % 2 === 0;\n",
    "});\n",
    "console.log(arr7);"
   ]
  },
  {
   "cell_type": "markdown",
   "metadata": {},
   "source": [
    "# 05 Object-Oriented Javascript and Prototypal Inheritance\n",
    "### 053 Conceptual Aside Classical vs Prototypal Inheritance"
   ]
  },
  {
   "cell_type": "code",
   "execution_count": null,
   "metadata": {},
   "outputs": [],
   "source": []
  }
 ],
 "metadata": {
  "kernelspec": {
   "display_name": "NodeJS",
   "language": "javascript",
   "name": "nodejs"
  },
  "language_info": {
   "codemirror_mode": "javascript",
   "file_extension": ".js",
   "mimetype": "text/javascript",
   "name": "nodejs",
   "pygments_lexer": "javascript",
   "version": "0.10"
  }
 },
 "nbformat": 4,
 "nbformat_minor": 2
}
