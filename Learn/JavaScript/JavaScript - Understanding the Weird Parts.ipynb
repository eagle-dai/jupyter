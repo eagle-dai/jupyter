{
 "cells": [
  {
   "cell_type": "markdown",
   "metadata": {},
   "source": [
    "### 037 Objects Functions and this"
   ]
  },
  {
   "cell_type": "code",
   "execution_count": 1,
   "metadata": {},
   "outputs": [
    {
     "name": "stdout",
     "output_type": "stream",
     "text": [
      "[object Object]\n",
      "hello\n",
      "[object Object]\n"
     ]
    }
   ],
   "source": [
    "function a() {\n",
    "    console.log(this);\n",
    "    this.newvariable = 'hello';\n",
    "}\n",
    "\n",
    "var b = function() {\n",
    "    console.log(this);\n",
    "}\n",
    "\n",
    "// 这里 this 都是 global object\n",
    "a();\n",
    "console.log(newvariable); // 注意，newvariable进入了global object\n",
    "b();"
   ]
  },
  {
   "cell_type": "code",
   "execution_count": 2,
   "metadata": {},
   "outputs": [
    {
     "name": "stdout",
     "output_type": "stream",
     "text": [
      "{\"name\":\"the c object\"}\n",
      "{\"name\":\"Updated c object\"}\n",
      "{\"name\":\"Updated c object\"}\n",
      "Updated again! The c object\n"
     ]
    }
   ],
   "source": [
    "var c = {\n",
    "    name: 'the c object',\n",
    "    log: function() {\n",
    "        console.log(this);\n",
    "\n",
    "        this.name = 'Updated c object';\n",
    "        console.log(this);\n",
    "        \n",
    "        // 一般认为这里是 javascript 语言的一个 bug\n",
    "        var setname = function(newname) { // function in function\n",
    "            this.name = newname; // 竟然又写到了 global object\n",
    "        };\n",
    "        setname('Updated again! The c object');\n",
    "        console.log(this);\n",
    "    }\n",
    "};\n",
    "c.log();\n",
    "console.log(name);"
   ]
  },
  {
   "cell_type": "code",
   "execution_count": 3,
   "metadata": {},
   "outputs": [
    {
     "name": "stdout",
     "output_type": "stream",
     "text": [
      "{\"name\":\"the c object\"}\n",
      "{\"name\":\"Updated c object\"}\n",
      "{\"name\":\"Updated again! The c object\"}\n"
     ]
    }
   ],
   "source": [
    "var c = {\n",
    "    name: 'the c object',\n",
    "    log: function() {\n",
    "        var self = this; // 一般的 pattern！all other this=>self\n",
    "        console.log(self);\n",
    "\n",
    "        this.name = 'Updated c object';\n",
    "        console.log(self);\n",
    "        \n",
    "        var setname = function(newname) {\n",
    "            self.name = newname;\n",
    "        };\n",
    "        setname('Updated again! The c object');\n",
    "        console.log(self);\n",
    "    }\n",
    "};\n",
    "c.log();"
   ]
  },
  {
   "cell_type": "markdown",
   "metadata": {},
   "source": [
    "### 038 Conceptual Aside Arrays - Collections of Anything"
   ]
  },
  {
   "cell_type": "code",
   "execution_count": 4,
   "metadata": {},
   "outputs": [
    {
     "name": "stdout",
     "output_type": "stream",
     "text": [
      "[Array] [1,false,{\"name\":\"Tony\",\"address\":\"111 Main St.\"},null,\"Hello\"]\n",
      "Hello Tony\n"
     ]
    }
   ],
   "source": [
    "var arr = [ // array can contain everything\n",
    "    1,\n",
    "    false,\n",
    "    {\n",
    "        name: 'Tony',\n",
    "        address: '111 Main St.'\n",
    "    },\n",
    "    function(name) {\n",
    "        var greeting = 'Hello ';\n",
    "        console.log(greeting + name);\n",
    "    },\n",
    "    \"Hello\"\n",
    "];\n",
    "console.log(arr);\n",
    "arr[3](arr[2].name)"
   ]
  },
  {
   "cell_type": "markdown",
   "metadata": {},
   "source": [
    "### 039 arguments and spread"
   ]
  },
  {
   "cell_type": "markdown",
   "metadata": {},
   "source": [
    "### 040 Framework Aside Function Overloading"
   ]
  },
  {
   "cell_type": "code",
   "execution_count": 5,
   "metadata": {},
   "outputs": [
    {
     "name": "stdout",
     "output_type": "stream",
     "text": [
      "Hello John Doe\n",
      "Hola John Doe\n",
      "Hello John Doe\n",
      "Hola John Doe\n"
     ]
    }
   ],
   "source": [
    "function greet(firstname, lastname, language) {\n",
    "    language = language || 'en';\n",
    "    if (language === 'en') {\n",
    "        console.log('Hello ' + firstname + ' ' + lastname);\n",
    "    }\n",
    "    if (language === 'es') {\n",
    "        console.log('Hola ' + firstname + ' ' + lastname);\n",
    "    }\n",
    "}\n",
    "greet('John', 'Doe', 'en');\n",
    "greet('John', 'Doe', 'es');\n",
    "\n",
    "// 虽然没有类似其它语言的函数重载，但也有解决方法，其中最简单的一种如下\n",
    "function greetEnglish(firstname, lastname) {\n",
    "    greet(firstname, lastname, 'en');\n",
    "}\n",
    "function greetSpanish(firstname, lastname) {\n",
    "    greet(firstname, lastname, 'es');\n",
    "}\n",
    "greetEnglish('John', 'Doe');\n",
    "greetSpanish('John', 'Doe');"
   ]
  },
  {
   "cell_type": "markdown",
   "metadata": {},
   "source": [
    "### 042 Dangerous Aside Automatic Semicolon Insertion"
   ]
  },
  {
   "cell_type": "code",
   "execution_count": 6,
   "metadata": {},
   "outputs": [
    {
     "name": "stdout",
     "output_type": "stream",
     "text": [
      "undefined\n",
      "{\"firstname\":\"Tony\"}\n"
     ]
    }
   ],
   "source": [
    "function getPerson1() {\n",
    "    return // 自动插入;\n",
    "    {\n",
    "        firstname: 'Tony'\n",
    "    }\n",
    "}\n",
    "\n",
    "function getPerson2() {\n",
    "    return {\n",
    "        firstname: 'Tony'\n",
    "    }\n",
    "}\n",
    "\n",
    "console.log(getPerson1());\n",
    "console.log(getPerson2());"
   ]
  },
  {
   "cell_type": "markdown",
   "metadata": {},
   "source": [
    "\n",
    "### 044 Immediately Invoked Functions Expressions IIFEs"
   ]
  },
  {
   "cell_type": "code",
   "execution_count": 7,
   "metadata": {},
   "outputs": [
    {
     "name": "stdout",
     "output_type": "stream",
     "text": [
      "Hello John\n"
     ]
    }
   ],
   "source": [
    "// using Immediately Invoked Functions Expressions - IIFEs\n",
    "var greeting = function(name) {\n",
    "    return 'Hello ' + name;\n",
    "}('John');\n",
    "console.log(greeting);"
   ]
  },
  {
   "cell_type": "code",
   "execution_count": 8,
   "metadata": {},
   "outputs": [
    {
     "ename": "Javascript Error",
     "evalue": "Unexpected token (",
     "output_type": "error",
     "traceback": [
      "evalmachine.<anonymous>:2\nfunction (name) {\n         ^\n\nSyntaxError: Unexpected token (\n    at createScript (vm.js:80:10)\n    at Object.runInContext (vm.js:119:10)\n    at Context.rawRun (/home/dy/workspace/eagle/jupyter-nodejs/build/context.js:184:30)\n    at Domain.<anonymous> (/home/dy/workspace/eagle/jupyter-nodejs/build/context.js:204:27)\n    at Domain.run (domain.js:242:14)\n    at Context.rawEvaluate (/home/dy/workspace/eagle/jupyter-nodejs/build/context.js:202:9)\n    at Context.execute (/home/dy/workspace/eagle/jupyter-nodejs/build/context.js:354:21)\n    at Kernel.executeRequest (/home/dy/workspace/eagle/jupyter-nodejs/build/kernel.js:224:16)\n    at Kernel.onShell (/home/dy/workspace/eagle/jupyter-nodejs/build/kernel.js:126:14)\n    at emitMany (events.js:147:13)"
     ]
    }
   ],
   "source": [
    "// Error: syntax发现function关键字，需要一个函数的申明，却没有函数名称\n",
    "function (name) {\n",
    "    return 'Hello ' + name;\n",
    "}"
   ]
  },
  {
   "cell_type": "code",
   "execution_count": 9,
   "metadata": {},
   "outputs": [
    {
     "name": "stdout",
     "output_type": "stream",
     "text": [
      "Inside IIFE: Hello John\n",
      "Inside IIFE: Hello John\n"
     ]
    }
   ],
   "source": [
    "// 上述问题的解决方法\n",
    "var firstname = 'John';\n",
    "\n",
    "(function (name) {\n",
    "    var greeting = 'Inside IIFE: Hello';\n",
    "    console.log(greeting + ' ' + name);\n",
    "}(firstname));\n",
    "\n",
    "(function (name) {\n",
    "    var greeting = 'Inside IIFE: Hello';\n",
    "    console.log(greeting + ' ' + name);\n",
    "})(firstname); // 括号在外面也行"
   ]
  }
 ],
 "metadata": {
  "kernelspec": {
   "display_name": "NodeJS",
   "language": "javascript",
   "name": "nodejs"
  },
  "language_info": {
   "codemirror_mode": "javascript",
   "file_extension": ".js",
   "mimetype": "text/javascript",
   "name": "nodejs",
   "pygments_lexer": "javascript",
   "version": "0.10"
  }
 },
 "nbformat": 4,
 "nbformat_minor": 2
}
