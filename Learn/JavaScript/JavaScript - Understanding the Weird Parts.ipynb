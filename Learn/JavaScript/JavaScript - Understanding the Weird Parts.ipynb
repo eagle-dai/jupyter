{
 "cells": [
  {
   "cell_type": "markdown",
   "metadata": {},
   "source": [
    "### 037 Objects Functions and this"
   ]
  },
  {
   "cell_type": "code",
   "execution_count": 1,
   "metadata": {},
   "outputs": [
    {
     "name": "stdout",
     "output_type": "stream",
     "text": [
      "[object Object]\n",
      "hello\n",
      "[object Object]\n"
     ]
    }
   ],
   "source": [
    "function a() {\n",
    "    console.log(this);\n",
    "    this.newvariable = 'hello';\n",
    "}\n",
    "\n",
    "var b = function() {\n",
    "    console.log(this);\n",
    "}\n",
    "\n",
    "// 这里 this 都是 global object\n",
    "a();\n",
    "console.log(newvariable); // 注意，newvariable进入了global object\n",
    "b();"
   ]
  },
  {
   "cell_type": "code",
   "execution_count": 2,
   "metadata": {},
   "outputs": [
    {
     "name": "stdout",
     "output_type": "stream",
     "text": [
      "{\"name\":\"the c object\"}\n",
      "{\"name\":\"Updated c object\"}\n",
      "{\"name\":\"Updated c object\"}\n",
      "Updated again! The c object\n"
     ]
    }
   ],
   "source": [
    "var c = {\n",
    "    name: 'the c object',\n",
    "    log: function() {\n",
    "        console.log(this);\n",
    "\n",
    "        this.name = 'Updated c object';\n",
    "        console.log(this);\n",
    "        \n",
    "        // 一般认为这里是 javascript 语言的一个 bug\n",
    "        var setname = function(newname) { // function in function\n",
    "            this.name = newname; // 竟然又写到了 global object\n",
    "        };\n",
    "        setname('Updated again! The c object');\n",
    "        console.log(this);\n",
    "    }\n",
    "};\n",
    "c.log();\n",
    "console.log(name);"
   ]
  },
  {
   "cell_type": "code",
   "execution_count": 3,
   "metadata": {},
   "outputs": [
    {
     "name": "stdout",
     "output_type": "stream",
     "text": [
      "{\"name\":\"the c object\"}\n",
      "{\"name\":\"Updated c object\"}\n",
      "{\"name\":\"Updated again! The c object\"}\n"
     ]
    }
   ],
   "source": [
    "var c = {\n",
    "    name: 'the c object',\n",
    "    log: function() {\n",
    "        var self = this; // 一般的 pattern！all other this=>self\n",
    "        console.log(self);\n",
    "\n",
    "        this.name = 'Updated c object';\n",
    "        console.log(self);\n",
    "        \n",
    "        var setname = function(newname) {\n",
    "            self.name = newname;\n",
    "        };\n",
    "        setname('Updated again! The c object');\n",
    "        console.log(self);\n",
    "    }\n",
    "};\n",
    "c.log();"
   ]
  },
  {
   "cell_type": "markdown",
   "metadata": {},
   "source": [
    "### 038 Conceptual Aside Arrays - Collections of Anything"
   ]
  },
  {
   "cell_type": "code",
   "execution_count": 4,
   "metadata": {},
   "outputs": [
    {
     "name": "stdout",
     "output_type": "stream",
     "text": [
      "[Array] [1,false,{\"name\":\"Tony\",\"address\":\"111 Main St.\"},null,\"Hello\"]\n",
      "Hello Tony\n"
     ]
    }
   ],
   "source": [
    "var arr = [ // array can contain everything\n",
    "    1,\n",
    "    false,\n",
    "    {\n",
    "        name: 'Tony',\n",
    "        address: '111 Main St.'\n",
    "    },\n",
    "    function(name) {\n",
    "        var greeting = 'Hello ';\n",
    "        console.log(greeting + name);\n",
    "    },\n",
    "    \"Hello\"\n",
    "];\n",
    "console.log(arr);\n",
    "arr[3](arr[2].name)"
   ]
  },
  {
   "cell_type": "markdown",
   "metadata": {},
   "source": [
    "### 039 arguments and spread"
   ]
  },
  {
   "cell_type": "markdown",
   "metadata": {},
   "source": [
    "### 040 Framework Aside Function Overloading"
   ]
  },
  {
   "cell_type": "code",
   "execution_count": 5,
   "metadata": {},
   "outputs": [
    {
     "name": "stdout",
     "output_type": "stream",
     "text": [
      "Hello John Doe\n",
      "Hola John Doe\n",
      "Hello John Doe\n",
      "Hola John Doe\n"
     ]
    }
   ],
   "source": [
    "function greet(firstname, lastname, language) {\n",
    "    language = language || 'en';\n",
    "    if (language === 'en') {\n",
    "        console.log('Hello ' + firstname + ' ' + lastname);\n",
    "    }\n",
    "    if (language === 'es') {\n",
    "        console.log('Hola ' + firstname + ' ' + lastname);\n",
    "    }\n",
    "}\n",
    "greet('John', 'Doe', 'en');\n",
    "greet('John', 'Doe', 'es');\n",
    "\n",
    "// 虽然没有类似其它语言的函数重载，但也有解决方法，其中最简单的一种如下\n",
    "function greetEnglish(firstname, lastname) {\n",
    "    greet(firstname, lastname, 'en');\n",
    "}\n",
    "function greetSpanish(firstname, lastname) {\n",
    "    greet(firstname, lastname, 'es');\n",
    "}\n",
    "greetEnglish('John', 'Doe');\n",
    "greetSpanish('John', 'Doe');"
   ]
  }
 ],
 "metadata": {
  "kernelspec": {
   "display_name": "NodeJS",
   "language": "javascript",
   "name": "nodejs"
  },
  "language_info": {
   "codemirror_mode": "javascript",
   "file_extension": ".js",
   "mimetype": "text/javascript",
   "name": "nodejs",
   "pygments_lexer": "javascript",
   "version": "0.10"
  }
 },
 "nbformat": 4,
 "nbformat_minor": 2
}
