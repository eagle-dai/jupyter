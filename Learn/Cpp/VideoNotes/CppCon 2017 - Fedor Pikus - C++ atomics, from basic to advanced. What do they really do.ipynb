{
 "cells": [
  {
   "cell_type": "markdown",
   "metadata": {},
   "source": [
    "### CppCon 2017: Fedor Pikus “C++ atomics, from basic to advanced. What do they really do?”\n",
    "\n",
    "https://www.youtube.com/watch?v=ZQFzMfHIxng&list=PLR2BwNxHx0z8ccXrXKzuTnsfB17fidY3M&t=2962s&index=10"
   ]
  },
  {
   "cell_type": "markdown",
   "metadata": {},
   "source": [
    "#### 2:25 https://youtu.be/ZQFzMfHIxng?t=145"
   ]
  },
  {
   "cell_type": "code",
   "execution_count": 1,
   "metadata": {},
   "outputs": [
    {
     "data": {
      "text/plain": []
     },
     "execution_count": 1,
     "metadata": {},
     "output_type": "execute_result"
    }
   ],
   "source": [
    "#include <atomic>\n",
    "#include <cstddef>\n",
    "#include <iostream>\n",
    "#include <mutex>"
   ]
  },
  {
   "cell_type": "code",
   "execution_count": 2,
   "metadata": {},
   "outputs": [
    {
     "name": "stdout",
     "output_type": "stream",
     "text": [
      "15\n"
     ]
    },
    {
     "data": {
      "text/plain": []
     },
     "execution_count": 2,
     "metadata": {},
     "output_type": "execute_result"
    }
   ],
   "source": [
    "// Program A:\n",
    "{\n",
    "    const size_t N = 5;\n",
    "    long a[N] = { 1, 2, 3, 4, 5 }; // can be very long\n",
    "\n",
    "    std::atomic<long> sum{};\n",
    "    auto do_work = [&](size_t N, long* a) {\n",
    "        for (size_t i = 0; i < N; ++i) {\n",
    "            sum += a[i];\n",
    "        }\n",
    "    };\n",
    "\n",
    "    do_work(N, a);\n",
    "    std::cout << sum << '\\n';\n",
    "}"
   ]
  },
  {
   "cell_type": "code",
   "execution_count": 3,
   "metadata": {},
   "outputs": [
    {
     "name": "stdout",
     "output_type": "stream",
     "text": [
      "15\n"
     ]
    },
    {
     "data": {
      "text/plain": []
     },
     "execution_count": 3,
     "metadata": {},
     "output_type": "execute_result"
    }
   ],
   "source": [
    "// Program B:\n",
    "{\n",
    "    const size_t N = 5;\n",
    "    long a[N] = { 1, 2, 3, 4, 5 }; // can be very long\n",
    "\n",
    "    long sum(0);\n",
    "    std::mutex M;\n",
    "    auto do_work = [&](size_t N, long* a) {\n",
    "        long s = 0;\n",
    "        for (size_t i = 0; i < N; ++i) {\n",
    "            s += a[i];\n",
    "        }\n",
    "        std::lock_guard<std::mutex> L(M);\n",
    "        sum += s;\n",
    "    };\n",
    "\n",
    "    do_work(N, a);\n",
    "    std::cout << sum << '\\n';\n",
    "}"
   ]
  },
  {
   "cell_type": "markdown",
   "metadata": {},
   "source": [
    "**2:32 and 3:07** shows \"lock free\" 要慢很多！why?\n",
    "\n",
    "### Is lock-free faster?\n",
    "- Algorithm rules supreme **算法最关键**\n",
    "- \"Wait-free\" has nothing to do with time\n",
    "  - Wait-free refers to the number of compute \"steps\"\n",
    "  - Steps do not have to be of the same duration\n",
    "- **Atomic operations do not guarantee good performance**\n",
    "- There is no substitute for understanding what you're doing\n",
    "  - This class is the next best thing"
   ]
  },
  {
   "cell_type": "markdown",
   "metadata": {},
   "source": [
    "#### 4:24 What is an atomic operation?\n",
    "#### 8:50 Date shareing in C++"
   ]
  },
  {
   "cell_type": "code",
   "execution_count": 4,
   "metadata": {},
   "outputs": [
    {
     "name": "stdout",
     "output_type": "stream",
     "text": [
      "1"
     ]
    },
    {
     "data": {
      "text/plain": []
     },
     "execution_count": 4,
     "metadata": {},
     "output_type": "execute_result"
    }
   ],
   "source": [
    "{\n",
    "    std::atomic<int> x(0); // good\n",
    "    // std::atomic<int> x = 0; // bad - but compiles! cling bug?\n",
    "\n",
    "    ++x; // atomic!!!\n",
    "    std::cout << x;\n",
    "}\n"
   ]
  },
  {
   "cell_type": "markdown",
   "metadata": {},
   "source": [
    "#### 10:44 What types can be made atomic?\n",
    "- Any **trivially copyable** type can be made atomic\n",
    "- What is trivially copyable?\n",
    "  - Continues chunk of memory\n",
    "  - Copying the object means copying all bits (memcpy)\n",
    "  - No virtual functions, noexcept constructor"
   ]
  },
  {
   "cell_type": "markdown",
   "metadata": {},
   "source": [
    "#### 11:55 What operations can be done on `std::atomic<int>`?\n",
    "\n",
    "One of these is not the same as the others:\n",
    "```cpp\n",
    "++x;\n",
    "x++;\n",
    "x += 1;\n",
    "x != 2;\n",
    "x *= 2;\n",
    "int y = x * 2;\n",
    "x = y + 1;\n",
    "x = x + 1;\n",
    "x = x * 2;\n",
    "```\n",
    "\n",
    "- `x *= 2;` // this does not compile! There is no automic multiply in most hardware.只要能编译，C++需要保证该操作是atomic。\n",
    "- 最后两个也不是atomic，尽管它们能编译\n",
    "  - 一行里面有两个原子操作！Atomic read followed by atomic write!\n",
    "  - 另外一个线程可以在这两个原子操作之间改变这个原子变量\n"
   ]
  },
  {
   "cell_type": "markdown",
   "metadata": {},
   "source": [
    "#### `std::atomic<T>` and overloaded operators\n",
    "\n",
    "- `std::atomic<T>`只对可以原子运算的操作提供重载，否则不编译\n",
    "- 注意：包含原子变量的表达式还是可以编译的，问题在于整个表达式未必是一个原子操作。**这非常容易导致错误！**"
   ]
  },
  {
   "cell_type": "markdown",
   "metadata": {},
   "source": [
    "#### 15:41 What \"other operations\" can be done on `std::atomic<T>`?\n",
    "\n",
    "- Explicit reads/writes\n",
    "```cpp\n",
    "T y = x.load(); // same as T y = x;\n",
    "x.store(y); // same as x = y;\n",
    "```\n",
    "- Atomic exchange:\n",
    "```cpp\n",
    "T z = x.exchange(y); // Atomically: z = x; x = y;\n",
    "```\n",
    "\n",
    "- Compare-and-swap (conditional exchange):\n",
    "```cpp\n",
    "bool success = x.compare_exchange_strong(y, z); // T& y;\n",
    "    // if x==y, make x=z and return true;\n",
    "    // Otherwise, set y=x and return false\n",
    "```\n",
    "\n",
    "- CAS is the **key to most lock-free algorithms**"
   ]
  },
  {
   "cell_type": "markdown",
   "metadata": {},
   "source": [
    "#### 17:07 What is so special about CAS?\n",
    "\n",
    "##### Example: atomic increment with CAS:"
   ]
  },
  {
   "cell_type": "code",
   "execution_count": 5,
   "metadata": {
    "scrolled": true
   },
   "outputs": [
    {
     "name": "stdout",
     "output_type": "stream",
     "text": [
      "x = 1, x0 = 0"
     ]
    },
    {
     "data": {
      "text/plain": []
     },
     "execution_count": 5,
     "metadata": {},
     "output_type": "execute_result"
    }
   ],
   "source": [
    "{\n",
    "    std::atomic<int> x{0};\n",
    "    int x0 = x;\n",
    "    while(!x.compare_exchange_strong(x0, x0+1)) {}\n",
    "    \n",
    "    std::cout << \"x = \" << x << \", x0 = \" << x0;\n",
    "}"
   ]
  },
  {
   "cell_type": "markdown",
   "metadata": {},
   "source": [
    "上面例子里：\n",
    "- 如果没有其它线程在操作这个原子变量x，直接就能成功，返回true，循环退出\n",
    "- 如果有其它线程也有CAS在操作x，**x0会再一次赋值成改变后的x**，返回false，让循环重复，知道这个CAS beats 其它人的CAS\n",
    "- 这里是**lock-free，不是wait-free**\n",
    "\n",
    "某些lock-free更简单，但是这个能做任何事情：\n",
    "- increment doubles\n",
    "- multiply integers\n",
    "- and may more\n",
    "```cpp\n",
    "while(!x.compare_exchange_strong(x0, x0*2)) {}\n",
    "```"
   ]
  },
  {
   "cell_type": "markdown",
   "metadata": {},
   "source": [
    "#### 18:54 What \"other operations\" can be done on `std::atomic<T>`?\n",
    "\n",
    "- fetch_add"
   ]
  },
  {
   "cell_type": "code",
   "execution_count": 6,
   "metadata": {},
   "outputs": [
    {
     "name": "stdout",
     "output_type": "stream",
     "text": [
      "x = 3, z = 1"
     ]
    },
    {
     "data": {
      "text/plain": []
     },
     "execution_count": 6,
     "metadata": {},
     "output_type": "execute_result"
    }
   ],
   "source": [
    "{\n",
    "    std::atomic<int> x{1};\n",
    "    int y = 2;\n",
    "    int z = x.fetch_add(y); // same as x += y, but return old x\n",
    "    std::cout << \"x = \" << x << \", z = \" << z;\n",
    "}"
   ]
  },
  {
   "cell_type": "markdown",
   "metadata": {},
   "source": [
    "- fetch_sub, fetch_and, fetch_or, fetch_xor\n",
    "  - same as +=, -=, etc. operators\n",
    "  \n",
    "- more verbose, but **less error-prone than operators and expressions**\n",
    "  - 原因是operators and expressions不容易发现整个表达式是由多个atomic操作组成的，但整体并不是atomic\n",
    "  - 但是如果有多个这些function calls，更容易让人理解成对应于单个的atomic操作，直觉上并不觉得组合起来是atomic"
   ]
  },
  {
   "cell_type": "markdown",
   "metadata": {},
   "source": [
    "#### 21:22 How fast are atomic operations?\n",
    "- Performance should be measured\n",
    "- 硬件相关！编译器相关！\n",
    "\n",
    "#### 22:30 atomic vs. non-atomic 比较结果\n",
    "- atomic 略微慢一点\n",
    "\n",
    "#### 23:19 atomic vs. locks 比较结果\n",
    "- mutex 要慢不少\n",
    "- spinlock几乎和atomic差不多\n",
    "- 26:23: CAS比atomic/spinlock慢一些，但是比mutex快，介于两者之间"
   ]
  },
  {
   "cell_type": "markdown",
   "metadata": {},
   "source": [
    "#### 26:30 Is  atomic the same as lock-free?\n",
    "std::atomic隐藏了一个天大的秘密，并不总是lock-free"
   ]
  },
  {
   "cell_type": "code",
   "execution_count": 7,
   "metadata": {},
   "outputs": [
    {
     "name": "stdout",
     "output_type": "stream",
     "text": [
      "A lock-free: 1\n",
      "B lock-free: 1\n"
     ]
    },
    {
     "data": {
      "text/plain": []
     },
     "execution_count": 7,
     "metadata": {},
     "output_type": "execute_result"
    }
   ],
   "source": [
    "{\n",
    "    struct A {long x;};\n",
    "    struct B {long x; long y;};\n",
    "    struct C {long x; long y; long z;};\n",
    "    std::cout << \"A lock-free: \" << std::atomic<A>{}.is_lock_free() << '\\n'\n",
    "              << \"B lock-free: \" << std::atomic<B>{}.is_lock_free() << '\\n'; // maybe\n",
    "            //<< \"C lock-free: \" << std::atomic<C>{}.is_lock_free() << '\\n'; // cling error, should return 0\n",
    "}"
   ]
  },
  {
   "cell_type": "markdown",
   "metadata": {},
   "source": [
    "- is_lock_free() 是runtime function，为什么不是compile time?\n",
    "  - 原因是alignment\n",
    "- c++17提供了一个compile time function:\n",
    "  - constexpr is_always_lock_free()"
   ]
  },
  {
   "cell_type": "markdown",
   "metadata": {},
   "source": [
    "#### 29:43 Do atomic operations wait on each other?\n",
    "Testing of 3 cases:\n",
    "1. shared: `std::atomic<int> x;` ++x in two threads\n",
    "2. not shared: like above one, but in different cachelines\n",
    "3. non-shared (false sharing): `std::atomic<int> x[2];` ++x[0] in thread1, ++x[1] in thread2\n",
    "  - this is actually falsed shared, because x[0] and x[1] are in the same cacheline\n",
    "\n",
    "The testing result is at 31:52\n",
    "- case 1 and 3 is worse than 2\n",
    "\n",
    "**结论**：\n",
    "-  原子操作确实要互相等待，需要等待cache line的访问\n",
    "  - 这是date sharing without races要付出的代价\n",
    "  - 即使对不同的原子变量访问，也可能会落到相同的 cache line 上（false sharing），仍然付出real-time penalty"
   ]
  },
  {
   "cell_type": "markdown",
   "metadata": {},
   "source": [
    "#### 33.03 Strong and weak CAS\n",
    "\n",
    "- x.compare_exchange_strong(old_x, new_x); // T& old_x\n",
    "```cpp\n",
    "if (x == old_x) { x = new_x; return true; }\n",
    "else { old = x; return false; }\n",
    "```\n",
    "- x.compare_exchange_weak(old_x, new_x);\n",
    "  - same thing, but can \"spuriously fail\" and return false even if x == old_x\n",
    "  - what is the value of old_x if this happens?\n",
    "  - if weak CAS correctly returns x == old_x, why would it fail?\n",
    "\n",
    "compare_exchange_weak对x86系统，描述的问题不会发生，但是对其它不同的硬件，可能会发生\n",
    "\n",
    "##### CAS, concepturally (pseudo-code):\n",
    "```cpp\n",
    "bool compare_exchange_strong(T& old_v, T new_v) {\n",
    "    Lock L;        // Get exclusive access\n",
    "    T tmp = value; // Current value of the atomic\n",
    "    if (tmp != old_v) { \n",
    "        old_v = tmp;\n",
    "        return false;\n",
    "    }\n",
    "    value = new_v;\n",
    "    return true;\n",
    "}\n",
    "```\n",
    "Lock不是真的mutex，而是硬件实现的某些排他性访问机制\n",
    "\n",
    "##### 35:39 Read is faster than write:\n",
    "```cpp\n",
    "bool compare_exchange_strong(T& old_v, T new_v) {\n",
    "    T tmp = value;  // Current value of the atomic\n",
    "    if (tmp != old_v) {\n",
    "        old_v = tmp;\n",
    "        return false;\n",
    "    }\n",
    "    Lock L;         // Get exclusive access\n",
    "    tmp = value;    // value could have changed!\n",
    "    if (tmp != old_v) {\n",
    "        old_v = tmp;\n",
    "        return false;\n",
    "    }\n",
    "    value = new_v;\n",
    "    return true;\n",
    "}\n",
    "```\n",
    "Double-checked locking pattern is back! 不过这是硬件来实现的\n",
    "\n",
    "##### 36:27 If exclusive access is hard to get, let someone else try:\n",
    "```cpp\n",
    "bool compare_exchange_weak(T& old_v, T new_v) {\n",
    "    T tmp = value;  // Current value of the atomic\n",
    "    if (tmp != old_v) {\n",
    "        old_v = tmp;\n",
    "        return false;\n",
    "    }\n",
    "    TimedLock L;    // Get exclusive access\n",
    "    if (!L.locked()) return false;  // old_v is correct\n",
    "    tmp = value;    // value could have changed!\n",
    "    if (tmp != old_v) {\n",
    "        old_v = tmp;\n",
    "        return false;\n",
    "    }\n",
    "    value = new_v;\n",
    "    return true;\n",
    "}\n",
    "```\n",
    "Exclusive access在某些硬件平台上很难获得（X86没有这个问题）。Read可以，但是Exclusive access不容易。**所以 Lock => TimedLock**"
   ]
  },
  {
   "cell_type": "markdown",
   "metadata": {},
   "source": [
    "#### 37:37 There is MUCH more ...\n",
    "很少有人直接使用atomic变量，一般都是配合non-atomic变量一起使用\n",
    "\n",
    "- Atomic Queue\n",
    "\n",
    "```cpp\n",
    "int q[N];\n",
    "std::atomic<size_t> front;\n",
    "void push(int x) {\n",
    "    size_t my_slot = front.fetch_add(1);\n",
    "    q[my_slot] = x;\n",
    "}\n",
    "```\n",
    "\n",
    "- 这是一个lock-free queue，用atomic来实现的。\n",
    "- 这里的front是atomic类型，指向front的index。\n",
    "- 先不考虑多个线程write的情况，关于reader后面再说\n",
    "- my_slot如果为0，front为1，表示`q[0]`归当前的些操作\n",
    "\n",
    "**关键：**atomic变量作为非atomic数据的index，几乎所有lock-free的数据结构都是类似的方法。不一定是作为index，也可以作为指针。"
   ]
  },
  {
   "cell_type": "markdown",
   "metadata": {},
   "source": [
    "#### 39:48 Atomic list\n",
    "\n",
    "```cpp\n",
    "struct node {\n",
    "    int value;\n",
    "    node* next;\n",
    "};\n",
    "std::atomic<node*> head; // atomic用作指针指向non-atomic\n",
    "\n",
    "void push_front(int x) {\n",
    "    node *new_n = new node;\n",
    "    new_n->value = x;\n",
    "    node* old_h = head;\n",
    "    do {\n",
    "        new_n->next = old_h;\n",
    "    } while(!head.compare_exchange_strong(old_h, new_n)); // new_n: new node is new head\n",
    "                                                          // old_h: head has not changed\n",
    "}\n",
    "```\n",
    "\n",
    "**关键：**atomic变量作为可以作为指针，指向non-atomic的数据。几乎所有lock-free算法都和这类似"
   ]
  },
  {
   "cell_type": "markdown",
   "metadata": {},
   "source": [
    "#### 41:23 Atomic variables as gateways to memory access (generalized pointers)\n",
    "\n",
    "- 利用原子变量得到对普通内存(non-atomic)的独占访问\n",
    "- 怎么保证其它线程看到的普通内存是需要的final状态，而不是中间的混乱状态呢？\n",
    "  - memory barriers!"
   ]
  },
  {
   "cell_type": "markdown",
   "metadata": {},
   "source": [
    "#### 42:15 Memory barriers - the other side of atomics\n",
    "\n",
    "- Memory barriers控制一个CPU对内存的操作，怎么对另外一个CPU变得可见。\n",
    "- 如果没有Memory barriers，或者对应的其它东西，CPU们各自操作它们的cache，而主存根本就不必（及时的）进行相应的变化。不能保证任何人看到任何东西。\n",
    "- X86其实不是这样，但是有些系统是这样的。\n",
    "\n",
    "\n",
    "\n"
   ]
  },
  {
   "cell_type": "markdown",
   "metadata": {},
   "source": [
    "#### 42:58 Memory barriers\n",
    "\n",
    "- 是全局的\n",
    "- 控制多CPU的数据可见性\n",
    "- 必须由硬件控制\n",
    "- 一般不是由特殊指令实现的（尽管有这个可能）\n",
    "  - 一般是其它指令的attributes，用来修饰其它指令"
   ]
  },
  {
   "cell_type": "markdown",
   "metadata": {},
   "source": [
    "#### 43:13 Memory barriers in C++\n",
    "\n",
    "- C++11 引入memory barriers\n",
    "- memory barriers 和 memoyr order 关系紧密。memory barriers 是 memory order 背后的支撑\n"
   ]
  },
  {
   "cell_type": "code",
   "execution_count": 8,
   "metadata": {},
   "outputs": [
    {
     "data": {
      "text/plain": []
     },
     "execution_count": 8,
     "metadata": {},
     "output_type": "execute_result"
    }
   ],
   "source": [
    "{\n",
    "    std::atomic<int> x;\n",
    "    x.store(1, std::memory_order_release); // put a release-memory-barrier on the store\n",
    "}"
   ]
  },
  {
   "cell_type": "markdown",
   "metadata": {},
   "source": [
    "#### 44:08 No memory barrier: std::memory_order_relaxed\n",
    "- 意味着：可以随意reorder reads/writes\n",
    "- 下面的例子，\n",
    "  - a, b, c, x的write，在代码上是顺序发生的，\n",
    "  - 但实际顺序可以是乱的，任何顺序都是可能发生的\n",
    "\n",
    "```cpp\n",
    "int a, b, c;\n",
    "std::atomic<int> x;\n",
    "a = 1;\n",
    "b = 2;\n",
    "c = 3;\n",
    "x.fetch_add(1, std::memory_order_relaxed);\n",
    "```"
   ]
  },
  {
   "cell_type": "markdown",
   "metadata": {},
   "source": [
    "#### 44:40 Acquire barrier\n",
    "\n",
    "- Acquire barrier，也叫half barrier\n",
    "- **保证**：所有的程序代码上放在barrier之后操作，只在此barrier之后可见\n",
    "  - 所有的操作，包括读和写，而不是只有读，或者只有写\n",
    "  - 所有的操作，不光光是原子变量的，也包含其它变量的\n",
    "- 程序代码中barrier之前的操作（读和写），可能被重排序到barrier之后\n",
    "- 而代码上barrier之后的操作，不会被重拍到barrier之前"
   ]
  },
  {
   "cell_type": "markdown",
   "metadata": {},
   "source": [
    "#### 45:48 Release barrier\n",
    "\n",
    "- **保证**：代码上barrier之前的操作，在barrier之前可见\n",
    "- 读写操作不会被重排序到barrier之后\n",
    "- 例如：代码顺序上barrier之后的某个store操作可能被在barrier之前观察到，但代码上barrier之前的store不会在barrier之后可见"
   ]
  },
  {
   "cell_type": "markdown",
   "metadata": {},
   "source": [
    "#### 46:10 Acquire-release order\n",
    "\n",
    "- Acuqire and release barriers通常成对出现\n",
    "  - thread 1 writes 原子变量 **x**，使用release barrier，能保证所有在代码顺序上barrier之前的写操作可见\n",
    "  - thread 2 reads 原子变量 **x**，使用 acquire barrier，保证代码顺序上barrier之后的读操作确实是在barrier之后执行的\n",
    "- 这样，barrier之前的写确实写了，而读保证发生在barrier之后\n",
    "- 必须是对同一个原子变量操作\n",
    "- 之所以叫做release，thread 1有些private data，一番操作后，可以publish了，so release it\n",
    "- Thread 2, 使用acquire barrier，需要和thread 1的数据同步，在barrier之后的数据可见，保证acquire the data published in thread 1"
   ]
  },
  {
   "cell_type": "markdown",
   "metadata": {},
   "source": [
    "#### 48:12 Barriers and locks\n",
    "\n",
    "Acquire and release barriers are used in locks\n",
    "```cpp\n",
    "Lock L;        std::atomic<int> l(0);\n",
    "L.lock();      l.store(1, std::memory_order_acquire);\n",
    "++x;           ++x;\n",
    "L.unlock();    l.store(0, std::morory_order_release);\n",
    "```\n",
    "\n",
    "```cpp\n",
    "Lock L;        std::atomic<int> l(0);\n",
    "L.lock();      while (l.exchange(1, std::memory_order_qcquire));\n",
    "++x;           ++x;\n",
    "L.unlock();    l.store(0, std::morory_order_release);\n",
    "```\n",
    "\n",
    "视频中没有详细讲其中的原理。"
   ]
  },
  {
   "cell_type": "markdown",
   "metadata": {},
   "source": [
    "#### 48:18 Bidirectional barriers\n",
    "\n",
    "- Acquire-Release (std::**memory_order_acq_rel**)\n",
    "  - combines acquire and release barriers，没有操作能跨越这个barrier\n",
    "  - 两个线程必须使用相同的原子变量，只有这样才能工作\n",
    "  \n",
    "- Sequence consistency (std::**memory_order_seq_cst**)\n",
    "  - 最严格的barrier\n",
    "  - 不再要求使用相同的原子变量\n",
    "  - 假设对两个不同的原子变量使用这个barrier，你也能保证得到正确的顺序"
   ]
  },
  {
   "cell_type": "markdown",
   "metadata": {},
   "source": [
    "#### 48:50 为什么CAS有两个memory orders?\n",
    "\n",
    "- CAS是仅有的带有两个memory order参数的函数\n",
    "- 一个用作read，一个用作write\n",
    "\n",
    "```cpp\n",
    "bool compare_exchange_strong(T& old_v, T new_v, momory_order on_success, momory_order on_failure) {\n",
    "    T tmp = value.load(on_failure);\n",
    "    if (tmp != old_v) {\n",
    "        old_v = tmp;\n",
    "        return false;\n",
    "    }\n",
    "    Lock L;         // Get exclusive access\n",
    "    tmp = value;    // value could have changed!\n",
    "    if (tmp != old_v) {\n",
    "        old_v = tmp;\n",
    "        return false;\n",
    "    }\n",
    "    value.store(new_v, on_success);\n",
    "    return true;\n",
    "}\n",
    "```"
   ]
  },
  {
   "cell_type": "markdown",
   "metadata": {},
   "source": [
    "#### 49:27 Default memory order\n",
    "- std::memory_order_seq_cst - the strongest order\n",
    "- but really expensive\n",
    "\n",
    "**50:06** seq_cst的写，比起relaxed的写，以及non-atomic的写要**慢1.5个数量级**。后面两者非常接近"
   ]
  },
  {
   "cell_type": "markdown",
   "metadata": {},
   "source": [
    "#### 50:49 Memory barriers are expensive\n",
    "\n",
    "- Memory barriers可能比原子操作本身更expensive\n",
    "- 具体和硬件相关。对于ARM，非常昂贵\n",
    "- On X86:\n",
    "  - **all loads are acquire loads, all stores are release stores。这两种情况在X86上是免费的**\n",
    "  - 但是其它的 memory barriers 很昂贵，例如 release on read, acquire on write\n",
    "  - 所有的读改写（read-modify-write），例如 exchange，都有 bidirectional barriers\n",
    "  - **acq-rel 和 seq_cst对于x86是相同的**\n"
   ]
  },
  {
   "cell_type": "markdown",
   "metadata": {},
   "source": [
    "#### 51:32 Memory order expresses programmer's intent\n",
    "\n",
    "- lock-free代码很难写\n",
    "- 也很难读，别人难读，自己也难读\n",
    "- Memory order specification可以表达你程序员到底想做什么"
   ]
  },
  {
   "cell_type": "markdown",
   "metadata": {},
   "source": [
    "```cpp\n",
    "std::atomic<size_t> count;\n",
    "count.fetch_add(1, std::memory_order_relaxed);\n",
    "```\n",
    "\n",
    "- 对于上面的代码，要表达的是：\n",
    "  - count 被并发的自增，并不被用作其它数据的 index，也不被用作 reference count(没有其它的内存访问依赖于此)\n",
    "  - 读者怎么知道的？因为没有用任何 memory barrier。（relaxed 就是没有 barrier）\n",
    "  - 就是一种 counter\n",
    "- **NOTE：**在x86上，fetch_add实际上是 memory_order_acq_rel，你可能想要偷工减料，但不要这样做：\n",
    "  - 这样可能让别人，甚至自己confused\n",
    "  - 编译器也很有可能利用此信息来优化重排序（尽管现在并没有，尽管很难，但不是没有可能）"
   ]
  },
  {
   "cell_type": "markdown",
   "metadata": {},
   "source": [
    "#### 53:09 Memory order expresses programmer's intent - 另一个例子\n",
    "\n",
    "```cpp\n",
    "std::atomic<size_t> count;\n",
    "count.fetch_add(1, std::memory_order_release);\n",
    "```\n",
    "\n",
    "- 对于上面的代码，要表达的是：\n",
    "  - count作为其它数据的index。当其它数据在此线程准备好之后，可以被release了\n",
    "  - 代码如下：\n",
    "```cpp\n",
    "T data[max_count];\n",
    "initialize(data[count.load(std::memory_order_relaxed)]); // nobody can see new data yet\n",
    "count.fetch_add(1, std::memory_order_release); // now they can see it\n",
    "```\n",
    "为了能正确的使用这个data[]，我必须使用acquire barrier来load"
   ]
  },
  {
   "cell_type": "markdown",
   "metadata": {},
   "source": [
    "#### 53:51 Memory order expresses programmer's intent - 另一个例子\n",
    "\n",
    "```c++\n",
    "std::atomic<size_t> count;\n",
    "++count;\n",
    "```\n",
    "\n",
    "两种可能性：\n",
    "1. 有超过一个原子变量，所以需要sequential consistency (default memory order) 来同步它们\n",
    "- 更有可能，你并没有仔细考虑你在做什么。也许你遇到了bug，只好乱改改 memory order，直到bug消失"
   ]
  },
  {
   "cell_type": "markdown",
   "metadata": {},
   "source": [
    "#### 55:02 关于 sequential consistency的要点\n",
    "\n",
    "- Sequential consistency 让程序可读，并且一般并没有performance penalty\n",
    "- 但没有必要让每个原子操作都使用 memory_order_seq_cst，这样会丢失了程序员的意图"
   ]
  },
  {
   "cell_type": "markdown",
   "metadata": {},
   "source": [
    "#### 55:37 关于C++标准库的抱怨\n",
    "\n",
    "假设有如下代码：\n",
    "```cppp\n",
    "class C {\n",
    "    std::atomic<size_t> N;\n",
    "    T* p;\n",
    "    ...\n",
    "};\n",
    "\n",
    "C::~C() {\n",
    "    cleanup(p, N.load(std::memory_order_relaxed));\n",
    "}\n",
    "```\n",
    "\n",
    "- 这里使用原子方式的load，隐含表达了其它线程在对象销毁的时候，竟然还在访问此对象！\n",
    "- 当然，有可能是C++标准并没有提供 **N.load_nonatomic()**，这里不得不吓唬读者了"
   ]
  },
  {
   "cell_type": "markdown",
   "metadata": {},
   "source": [
    "#### 56:46 C++ and std::atomic"
   ]
  }
 ],
 "metadata": {
  "kernelspec": {
   "display_name": "C++17",
   "language": "C++",
   "name": "cling-cpp17"
  },
  "language_info": {
   "codemirror_mode": "c++",
   "file_extension": ".c++",
   "mimetype": "text/x-c++src",
   "name": "c++"
  }
 },
 "nbformat": 4,
 "nbformat_minor": 2
}
