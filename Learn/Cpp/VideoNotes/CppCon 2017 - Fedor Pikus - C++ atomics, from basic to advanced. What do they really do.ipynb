{
 "cells": [
  {
   "cell_type": "markdown",
   "metadata": {},
   "source": [
    "### CppCon 2017: Fedor Pikus “C++ atomics, from basic to advanced. What do they really do?”\n",
    "\n",
    "https://www.youtube.com/watch?v=ZQFzMfHIxng&list=PLR2BwNxHx0z8ccXrXKzuTnsfB17fidY3M&t=2962s&index=10"
   ]
  },
  {
   "cell_type": "markdown",
   "metadata": {},
   "source": [
    "#### 2:25 https://youtu.be/ZQFzMfHIxng?t=145"
   ]
  },
  {
   "cell_type": "code",
   "execution_count": 1,
   "metadata": {},
   "outputs": [
    {
     "data": {
      "text/plain": []
     },
     "execution_count": 1,
     "metadata": {},
     "output_type": "execute_result"
    }
   ],
   "source": [
    "#include <atomic>\n",
    "#include <cstddef>\n",
    "#include <iostream>\n",
    "#include <mutex>"
   ]
  },
  {
   "cell_type": "code",
   "execution_count": 2,
   "metadata": {},
   "outputs": [
    {
     "name": "stdout",
     "output_type": "stream",
     "text": [
      "15\n"
     ]
    },
    {
     "data": {
      "text/plain": []
     },
     "execution_count": 2,
     "metadata": {},
     "output_type": "execute_result"
    }
   ],
   "source": [
    "// Program A:\n",
    "{\n",
    "    const size_t N = 5;\n",
    "    long a[N] = { 1, 2, 3, 4, 5 }; // can be very long\n",
    "\n",
    "    std::atomic<long> sum{};\n",
    "    auto do_work = [&](size_t N, long* a) {\n",
    "        for (size_t i = 0; i < N; ++i) {\n",
    "            sum += a[i];\n",
    "        }\n",
    "    };\n",
    "\n",
    "    do_work(N, a);\n",
    "    std::cout << sum << '\\n';\n",
    "}"
   ]
  },
  {
   "cell_type": "code",
   "execution_count": 3,
   "metadata": {},
   "outputs": [
    {
     "name": "stdout",
     "output_type": "stream",
     "text": [
      "15\n"
     ]
    },
    {
     "data": {
      "text/plain": []
     },
     "execution_count": 3,
     "metadata": {},
     "output_type": "execute_result"
    }
   ],
   "source": [
    "// Program B:\n",
    "{\n",
    "    const size_t N = 5;\n",
    "    long a[N] = { 1, 2, 3, 4, 5 }; // can be very long\n",
    "\n",
    "    long sum(0);\n",
    "    std::mutex M;\n",
    "    auto do_work = [&](size_t N, long* a) {\n",
    "        long s = 0;\n",
    "        for (size_t i = 0; i < N; ++i) {\n",
    "            s += a[i];\n",
    "        }\n",
    "        std::lock_guard<std::mutex> L(M);\n",
    "        sum += s;\n",
    "    };\n",
    "\n",
    "    do_work(N, a);\n",
    "    std::cout << sum << '\\n';\n",
    "}"
   ]
  },
  {
   "cell_type": "markdown",
   "metadata": {},
   "source": [
    "**2:32 and 3:07** shows \"lock free\" 要慢很多！why?\n",
    "\n",
    "### Is lock-free faster?\n",
    "- Algorithm rules supreme **算法最关键**\n",
    "- \"Wait-free\" has nothing to do with time\n",
    "  - Wait-free refers to the number of compute \"steps\"\n",
    "  - Steps do not have to be of the same duration\n",
    "- **Atomic operations do not guarantee good performance**\n",
    "- There is no substitute for understanding what you're doing\n",
    "  - This class is the next best thing"
   ]
  },
  {
   "cell_type": "markdown",
   "metadata": {},
   "source": [
    "#### 4:24 What is an atomic operation?\n",
    "#### 8:50 Date shareing in C++"
   ]
  },
  {
   "cell_type": "code",
   "execution_count": 4,
   "metadata": {},
   "outputs": [
    {
     "name": "stdout",
     "output_type": "stream",
     "text": [
      "1"
     ]
    },
    {
     "data": {
      "text/plain": []
     },
     "execution_count": 4,
     "metadata": {},
     "output_type": "execute_result"
    }
   ],
   "source": [
    "{\n",
    "    std::atomic<int> x(0); // good\n",
    "    // std::atomic<int> x = 0; // bad - but compiles! cling bug?\n",
    "\n",
    "    ++x; // atomic!!!\n",
    "    std::cout << x;\n",
    "}\n"
   ]
  },
  {
   "cell_type": "markdown",
   "metadata": {},
   "source": [
    "#### 10:44 What types can be made atomic?\n",
    "- Any **trivially copyable** type can be made atomic\n",
    "- What is trivially copyable?\n",
    "  - Continues chunk of memory\n",
    "  - Copying the object means copying all bits (memcpy)\n",
    "  - No virtual functions, noexcept constructor"
   ]
  },
  {
   "cell_type": "markdown",
   "metadata": {},
   "source": [
    "#### 11:55 What operations can be done on `std::atomic<int>`?\n",
    "\n",
    "One of these is not the same as the others:\n",
    "```cpp\n",
    "++x;\n",
    "x++;\n",
    "x += 1;\n",
    "x != 2;\n",
    "x *= 2;\n",
    "int y = x * 2;\n",
    "x = y + 1;\n",
    "x = x + 1;\n",
    "x = x * 2;\n",
    "```\n",
    "\n",
    "- `x *= 2;` // this does not compile! There is no automic multiply in most hardware.只要能编译，C++需要保证该操作是atomic。\n",
    "- 最后两个也不是atomic，尽管它们能编译\n",
    "  - 一行里面有两个原子操作！Atomic read followed by atomic write!\n",
    "  - 另外一个线程可以在这两个原子操作之间改变这个原子变量\n"
   ]
  },
  {
   "cell_type": "markdown",
   "metadata": {},
   "source": [
    "#### `std::atomic<T>` and overloaded operators\n",
    "\n",
    "- `std::atomic<T>`只对可以原子运算的操作提供重载，否则不编译\n",
    "- 注意：包含原子变量的表达式还是可以编译的，问题在于整个表达式未必是一个原子操作。**这非常容易导致错误！**"
   ]
  },
  {
   "cell_type": "markdown",
   "metadata": {},
   "source": [
    "#### 15:41 What \"other operations\" can be done on `std::atomic<T>`?\n",
    "\n",
    "- Explicit reads/writes\n",
    "```cpp\n",
    "T y = x.load(); // same as T y = x;\n",
    "x.store(y); // same as x = y;\n",
    "```\n",
    "- Atomic exchange:\n",
    "```cpp\n",
    "T z = x.exchange(y); // Atomically: z = x; x = y;\n",
    "```\n",
    "\n",
    "- Compare-and-swap (conditional exchange):\n",
    "```cpp\n",
    "bool success = x.compare_exchange_strong(y, z); // T& y;\n",
    "    // if x==y, make x=z and return true;\n",
    "    // Otherwise, set y=x and return false\n",
    "```\n",
    "\n",
    "- CAS is the **key to most lock-free algorithms**"
   ]
  },
  {
   "cell_type": "markdown",
   "metadata": {},
   "source": [
    "#### 17:07 What is so special about CAS?\n",
    "\n",
    "##### Example: atomic increment with CAS:"
   ]
  },
  {
   "cell_type": "code",
   "execution_count": 5,
   "metadata": {
    "scrolled": true
   },
   "outputs": [
    {
     "name": "stdout",
     "output_type": "stream",
     "text": [
      "x = 1, x0 = 0"
     ]
    },
    {
     "data": {
      "text/plain": []
     },
     "execution_count": 5,
     "metadata": {},
     "output_type": "execute_result"
    }
   ],
   "source": [
    "{\n",
    "    std::atomic<int> x{0};\n",
    "    int x0 = x;\n",
    "    while(!x.compare_exchange_strong(x0, x0+1)) {}\n",
    "    \n",
    "    std::cout << \"x = \" << x << \", x0 = \" << x0;\n",
    "}"
   ]
  },
  {
   "cell_type": "markdown",
   "metadata": {},
   "source": [
    "上面例子里：\n",
    "- 如果没有其它线程在操作这个原子变量x，直接就能成功，返回true，循环退出\n",
    "- 如果有其它线程也有CAS在操作x，**x0会再一次赋值成改变后的x**，返回false，让循环重复，知道这个CAS beats 其它人的CAS\n",
    "- 这里是**lock-free，不是wait-free**\n",
    "\n",
    "某些lock-free更简单，但是这个能做任何事情：\n",
    "- increment doubles\n",
    "- multiply integers\n",
    "- and may more\n",
    "```cpp\n",
    "while(!x.compare_exchange_strong(x0, x0*2)) {}\n",
    "```"
   ]
  },
  {
   "cell_type": "markdown",
   "metadata": {},
   "source": [
    "#### 18:54 What \"other operations\" can be done on `std::atomic<T>`?\n",
    "\n",
    "- fetch_add"
   ]
  },
  {
   "cell_type": "code",
   "execution_count": 6,
   "metadata": {},
   "outputs": [
    {
     "name": "stdout",
     "output_type": "stream",
     "text": [
      "x = 3, z = 1"
     ]
    },
    {
     "data": {
      "text/plain": []
     },
     "execution_count": 6,
     "metadata": {},
     "output_type": "execute_result"
    }
   ],
   "source": [
    "{\n",
    "    std::atomic<int> x{1};\n",
    "    int y = 2;\n",
    "    int z = x.fetch_add(y); // same as x += y, but return old x\n",
    "    std::cout << \"x = \" << x << \", z = \" << z;\n",
    "}"
   ]
  },
  {
   "cell_type": "markdown",
   "metadata": {},
   "source": [
    "- fetch_sub, fetch_and, fetch_or, fetch_xor\n",
    "  - same as +=, -=, etc. operators\n",
    "  \n",
    "- more verbose, but **less error-prone than operators and expressions**\n",
    "  - 原因是operators and expressions不容易发现整个表达式是由多个atomic操作组成的，但整体并不是atomic\n",
    "  - 但是如果有多个这些function calls，更容易让人理解成对应于单个的atomic操作，直觉上并不觉得组合起来是atomic"
   ]
  },
  {
   "cell_type": "markdown",
   "metadata": {},
   "source": [
    "#### 21:22 How fast are atomic operations?\n",
    "- Performance should be measured\n",
    "- 硬件相关！编译器相关！\n",
    "\n",
    "#### 22:30 atomic vs. non-atomic 比较结果\n",
    "- atomic 略微慢一点\n",
    "\n",
    "#### 23:19 atomic vs. locks 比较结果\n",
    "- mutex 要慢不少\n",
    "- spinlock几乎和atomic差不多\n",
    "- 26:23: CAS比atomic/spinlock慢一些，但是比mutex快，介于两者之间"
   ]
  },
  {
   "cell_type": "markdown",
   "metadata": {},
   "source": [
    "#### 26:30 Is  atomic the same as lock-free?\n",
    "std::atomic隐藏了一个天大的秘密，并不总是lock-free"
   ]
  },
  {
   "cell_type": "code",
   "execution_count": 7,
   "metadata": {},
   "outputs": [
    {
     "name": "stdout",
     "output_type": "stream",
     "text": [
      "A lock-free: 1\n",
      "B lock-free: 1\n"
     ]
    },
    {
     "data": {
      "text/plain": []
     },
     "execution_count": 7,
     "metadata": {},
     "output_type": "execute_result"
    }
   ],
   "source": [
    "{\n",
    "    struct A {long x;};\n",
    "    struct B {long x; long y;};\n",
    "    struct C {long x; long y; long z;};\n",
    "    std::cout << \"A lock-free: \" << std::atomic<A>{}.is_lock_free() << '\\n'\n",
    "              << \"B lock-free: \" << std::atomic<B>{}.is_lock_free() << '\\n'; // maybe\n",
    "            //<< \"C lock-free: \" << std::atomic<C>{}.is_lock_free() << '\\n'; // cling error, should return 0\n",
    "}"
   ]
  },
  {
   "cell_type": "markdown",
   "metadata": {},
   "source": [
    "- is_lock_free() 是runtime function，为什么不是compile time?\n",
    "  - 原因是alignment\n",
    "- c++17提供了一个compile time function:\n",
    "  - constexpr is_always_lock_free()"
   ]
  },
  {
   "cell_type": "markdown",
   "metadata": {},
   "source": [
    "#### 29:43 Do atomic operations wait on each other?\n",
    "Testing of 3 cases:\n",
    "1. shared: `std::atomic<int> x;` ++x in two threads\n",
    "2. not shared: like above one, but in different cachelines\n",
    "3. non-shared (false sharing): `std::atomic<int> x[2];` ++x[0] in thread1, ++x[1] in thread2\n",
    "  - this is actually falsed shared, because x[0] and x[1] are in the same cacheline\n",
    "\n",
    "The testing result is at 31:52\n",
    "- case 1 and 3 is worse than 2\n",
    "\n",
    "**结论**：\n",
    "-  原子操作确实要互相等待，需要等待cache line的访问\n",
    "  - 这是date sharing without races要付出的代价\n",
    "  - 即使对不同的原子变量访问，也可能会落到相同的 cache line 上（false sharing），仍然付出real-time penalty"
   ]
  },
  {
   "cell_type": "markdown",
   "metadata": {},
   "source": [
    "#### 33.03 Strong and weak CAS\n",
    "\n",
    "- x.compare_exchange_strong(old_x, new_x); // T& old_x\n",
    "```cpp\n",
    "if (x == old_x) { x = new_x; return true; }\n",
    "else { old = x; return false; }\n",
    "```\n",
    "- x.compare_exchange_weak(old_x, new_x);\n",
    "  - same thing, but can \"spuriously fail\" and return false even if x == old_x\n",
    "  - what is the value of old_x if this happens?\n",
    "  - if weak CAS correctly returns x == old_x, why would it fail?\n",
    "\n",
    "##### CAS, concepturally (pseudo-code):\n",
    "```cpp\n",
    "bool compare_exchange_strong(T& old_v, T new_v) {\n",
    "    Lock L;        // Get exclusive access\n",
    "    T tmp = value; // Current value of the atomic\n",
    "    if (tmp != old_v) { old_v = tmp; return false; }\n",
    "    value = new_v;\n",
    "    return true;\n",
    "}\n",
    "```"
   ]
  }
 ],
 "metadata": {
  "kernelspec": {
   "display_name": "C++17",
   "language": "C++",
   "name": "cling-cpp17"
  },
  "language_info": {
   "codemirror_mode": "c++",
   "file_extension": ".c++",
   "mimetype": "text/x-c++src",
   "name": "c++"
  }
 },
 "nbformat": 4,
 "nbformat_minor": 2
}
