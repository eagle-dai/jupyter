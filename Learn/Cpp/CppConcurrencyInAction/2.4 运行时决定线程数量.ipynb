{
 "cells": [
  {
   "cell_type": "markdown",
   "metadata": {},
   "source": [
    "std::thread::hardware_concurrency() 在新版C++标准库中是一个很有用的函数。返回值也仅仅是一个提示，当系统信息无法获取时，函数也会返回0。\n",
    "\n",
    "### 原生并行版的 std::accumulate"
   ]
  },
  {
   "cell_type": "code",
   "execution_count": 1,
   "metadata": {},
   "outputs": [
    {
     "data": {
      "text/plain": []
     },
     "execution_count": 1,
     "metadata": {},
     "output_type": "execute_result"
    }
   ],
   "source": [
    "#include <iostream>\n",
    "#include <thread>\n",
    "#include <algorithm>\n",
    "#include <vector>\n",
    "#include <numeric> // std::accumulate"
   ]
  },
  {
   "cell_type": "code",
   "execution_count": 2,
   "metadata": {},
   "outputs": [
    {
     "data": {
      "text/plain": []
     },
     "execution_count": 2,
     "metadata": {},
     "output_type": "execute_result"
    }
   ],
   "source": [
    "namespace n1 {\n",
    "    template<typename Iterator, typename T>\n",
    "    struct accumulate_block\n",
    "    {\n",
    "        void operator()(Iterator first, Iterator last, T& result)\n",
    "        {\n",
    "            result = std::accumulate(first, last, result);\n",
    "        }\n",
    "    };\n",
    "\n",
    "    template<typename Iterator, typename T>\n",
    "    T parallel_accumulate(Iterator first, Iterator last, T init)\n",
    "    {\n",
    "        unsigned long const length = std::distance(first, last);\n",
    "        if (!length) // 1\n",
    "            return init;\n",
    "        unsigned long const min_per_thread = 25;\n",
    "        unsigned long const max_threads =\n",
    "            (length + min_per_thread - 1) / min_per_thread; // 2\n",
    "        unsigned long const hardware_threads = std::thread::hardware_concurrency();\n",
    "        unsigned long const num_threads = std::min(hardware_threads != 0 ? hardware_threads : 2, max_threads);\n",
    "        unsigned long const block_size = length / num_threads; // 4\n",
    "        std::vector<T> results(num_threads);\n",
    "        std::vector<std::thread> threads(num_threads - 1); // 5\n",
    "        Iterator block_start = first;\n",
    "        for (unsigned long i = 0; i < (num_threads - 1); ++i)\n",
    "        {\n",
    "            Iterator block_end = block_start;\n",
    "            std::advance(block_end, block_size); // 6\n",
    "            threads[i] = std::thread( // 7\n",
    "                accumulate_block<Iterator, T>(),\n",
    "                block_start, block_end, std::ref(results[i]));\n",
    "            block_start = block_end; // 8\n",
    "        }\n",
    "        accumulate_block<Iterator, T>()(\n",
    "            block_start, last, results[num_threads - 1]); // 9\n",
    "        std::for_each(threads.begin(), threads.end(), std::mem_fn(&std::thread::join)); // 10\n",
    "        return std::accumulate(results.begin(), results.end(), init); // 11\n",
    "    }\n",
    "}"
   ]
  },
  {
   "cell_type": "code",
   "execution_count": 3,
   "metadata": {},
   "outputs": [
    {
     "name": "stdout",
     "output_type": "stream",
     "text": [
      "499500\n"
     ]
    },
    {
     "data": {
      "text/plain": []
     },
     "execution_count": 3,
     "metadata": {},
     "output_type": "execute_result"
    }
   ],
   "source": [
    "{\n",
    "    using namespace n1;\n",
    "    \n",
    "    std::vector<int> v;\n",
    "    for (int i = 0; i < 1000; ++i) {\n",
    "        v.push_back(i);\n",
    "    }\n",
    "    int sum = parallel_accumulate(v.begin(), v.end(), 0);\n",
    "    std::cout << sum << \"\\n\";\n",
    "}"
   ]
  },
  {
   "cell_type": "markdown",
   "metadata": {},
   "source": [
    "结束这个例子之前，需要明确：\n",
    "- T类型的加法运算不满足结合律(比如，对于float型或double型，在进行加法操作时，系统很可能会做截断操作)，因为对范围中元素的分组，会导致\n",
    "parallel_accumulate得到的结果可能与 std::accumulate 得到的结果不同。\n",
    "- 同样的，这里对迭代器的要求更加严格：\n",
    "- 必须都是向前迭代器，而 std::accumulate 可以在只传入迭代器的情况下工作。\n",
    "- 对于创建出results容器，需要保证T有默认构造函数。\n",
    "- 对于算法并行，通常都要这样的修改；不过，需要根据算法本身的特性，选择不同的并行方式。\n",
    "\n",
    "需要注意的：因为不能直接从一个线程中返回一个值，所以需要传递results容器的引用到线程中去。另一个办法，通过地址来获取线程执行的结果；"
   ]
  }
 ],
 "metadata": {
  "kernelspec": {
   "display_name": "C++17",
   "language": "C++",
   "name": "cling-cpp17"
  },
  "language_info": {
   "codemirror_mode": "c++",
   "file_extension": ".c++",
   "mimetype": "text/x-c++src",
   "name": "c++"
  }
 },
 "nbformat": 4,
 "nbformat_minor": 2
}
