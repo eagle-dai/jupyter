{
 "cells": [
  {
   "cell_type": "markdown",
   "metadata": {},
   "source": [
    "### 2.1.1 启动线程"
   ]
  },
  {
   "cell_type": "code",
   "execution_count": 1,
   "metadata": {},
   "outputs": [
    {
     "data": {
      "text/plain": []
     },
     "execution_count": 1,
     "metadata": {},
     "output_type": "execute_result"
    }
   ],
   "source": [
    "#include <iostream>\n",
    "#include <thread>"
   ]
  },
  {
   "cell_type": "code",
   "execution_count": 2,
   "metadata": {},
   "outputs": [
    {
     "data": {
      "text/plain": []
     },
     "execution_count": 2,
     "metadata": {},
     "output_type": "execute_result"
    }
   ],
   "source": [
    "namespace n2 {\n",
    "    void do_something()\n",
    "    {\n",
    "        std::cout << \"do_something\" << \"\\n\";\n",
    "    }\n",
    "\n",
    "    void do_something_else()\n",
    "    {\n",
    "        std::cout << \"do_something_else\" << \"\\n\";\n",
    "    }\n",
    "\n",
    "    class background_task\n",
    "    {\n",
    "    public:\n",
    "        void operator()() const\n",
    "        {\n",
    "            do_something();\n",
    "            do_something_else();\n",
    "        }\n",
    "    };\n",
    "}"
   ]
  },
  {
   "cell_type": "code",
   "execution_count": 3,
   "metadata": {},
   "outputs": [
    {
     "name": "stdout",
     "output_type": "stream",
     "text": [
      "do_something\n",
      "do_something_else\n"
     ]
    },
    {
     "data": {
      "text/plain": []
     },
     "execution_count": 3,
     "metadata": {},
     "output_type": "execute_result"
    }
   ],
   "source": [
    "{\n",
    "    using namespace n2;\n",
    "    background_task f;\n",
    "    std::thread my_thread(f);\n",
    "\n",
    "    my_thread.join();\n",
    "}"
   ]
  },
  {
   "cell_type": "markdown",
   "metadata": {},
   "source": [
    "有件事需要注意，当把函数对象传入到线程构造函数中时，需要避免“**最令人头痛的语法解析**”(C++’s most vexing parse, 中文简介)。如果你传递了一个临时变量，而不是一个命名的变量；C++编译器会将其解析为函数声明，而不是类型对象的定义。"
   ]
  },
  {
   "cell_type": "code",
   "execution_count": 4,
   "metadata": {},
   "outputs": [
    {
     "name": "stderr",
     "output_type": "stream",
     "text": [
      "\u001b[1minput_line_6:8:26: \u001b[0m\u001b[0;1;35mwarning: \u001b[0m\u001b[1mparentheses were disambiguated as a function declaration [-Wvexing-parse]\u001b[0m\n",
      "    std::thread my_thread(background_task());\n",
      "\u001b[0;1;32m                         ^~~~~~~~~~~~~~~~~~~\n",
      "\u001b[0m\u001b[1minput_line_6:8:27: \u001b[0m\u001b[0;1;30mnote: \u001b[0madd a pair of parentheses to declare a variable\u001b[0m\n",
      "    std::thread my_thread(background_task());\n",
      "\u001b[0;1;32m                          ^\n",
      "\u001b[0m\u001b[0;32m                          (                )\n",
      "\u001b[0m"
     ]
    },
    {
     "data": {
      "text/plain": []
     },
     "execution_count": 4,
     "metadata": {},
     "output_type": "execute_result"
    }
   ],
   "source": [
    "/*\n",
    "这里相当与声明了一个名为my_thread的函数，这个函数带有一个参数(函数指针指向没有参数并返回background_task对象的函数)，\n",
    "返回一个 std::thread 对象的函数，而非启动了一个线程。\n",
    "*/\n",
    "{\n",
    "    using namespace n2;\n",
    "    std::thread my_thread(background_task());\n",
    "}"
   ]
  },
  {
   "cell_type": "code",
   "execution_count": 5,
   "metadata": {},
   "outputs": [
    {
     "name": "stdout",
     "output_type": "stream",
     "text": [
      "do_something\n",
      "do_something_else\n",
      "do_something\n",
      "do_something_else\n",
      "do_something\n",
      "do_something_else\n"
     ]
    },
    {
     "data": {
      "text/plain": []
     },
     "execution_count": 5,
     "metadata": {},
     "output_type": "execute_result"
    }
   ],
   "source": [
    "// 使用在前面命名函数对象的方式，或使用多组括号①，或使用新统一的初始化语法②，可以避免这个问题。\n",
    "{\n",
    "    using namespace n2;\n",
    "    \n",
    "    background_task f;\n",
    "    std::thread my_thread0(f);\n",
    "\n",
    "    std::thread my_thread1((background_task())); // 1\n",
    "    std::thread my_thread2{background_task()}; // 2\n",
    "    \n",
    "    my_thread0.join();\n",
    "    my_thread1.join();\n",
    "    my_thread2.join();\n",
    "}"
   ]
  },
  {
   "cell_type": "code",
   "execution_count": 6,
   "metadata": {},
   "outputs": [
    {
     "name": "stdout",
     "output_type": "stream",
     "text": [
      "do_something\n",
      "do_something_else\n"
     ]
    },
    {
     "data": {
      "text/plain": []
     },
     "execution_count": 6,
     "metadata": {},
     "output_type": "execute_result"
    }
   ],
   "source": [
    "// 使用lambda表达式也能避免这个问题\n",
    "{\n",
    "    using namespace n2;\n",
    "    std::thread my_thread([]{\n",
    "        do_something();\n",
    "        do_something_else();\n",
    "    });\n",
    "    my_thread.join();\n",
    "}"
   ]
  },
  {
   "cell_type": "markdown",
   "metadata": {},
   "source": [
    "### 2.1.3 特殊情况下的等待\n",
    "如果打算等待对应线程，则需要细心挑选调用join()的位置。当在线程运行之后产生**异常，在join()调用之前抛出，就意味着这次调用会被跳过**。\n",
    "\n",
    "避免应用被抛出的异常所终止，就需要作出一个决定。通常，当倾向于在无异常的情况下使用join()时，需要在异常处理过程中调用join()，从而避免生命周期的问题。下面的程序清单是一个例子。"
   ]
  },
  {
   "cell_type": "code",
   "execution_count": 7,
   "metadata": {},
   "outputs": [
    {
     "data": {
      "text/plain": []
     },
     "execution_count": 7,
     "metadata": {},
     "output_type": "execute_result"
    }
   ],
   "source": [
    "#include <iostream>\n",
    "#include <thread>"
   ]
  },
  {
   "cell_type": "code",
   "execution_count": 8,
   "metadata": {},
   "outputs": [
    {
     "data": {
      "text/plain": []
     },
     "execution_count": 8,
     "metadata": {},
     "output_type": "execute_result"
    }
   ],
   "source": [
    "namespace n8 {\n",
    "    void do_something(unsigned i)\n",
    "    {\n",
    "        std::cout << \"do_something: i = \" << i << \"\\n\";\n",
    "    }\n",
    "\n",
    "    struct func\n",
    "    {\n",
    "        int& i;\n",
    "        func(int& i_) : i(i_) {}\n",
    "        void operator() () {\n",
    "            for (unsigned j = 0; j < 3; ++j) {\n",
    "                do_something(i);\n",
    "            }\n",
    "        }\n",
    "    };\n",
    "}"
   ]
  },
  {
   "cell_type": "code",
   "execution_count": 9,
   "metadata": {},
   "outputs": [
    {
     "name": "stdout",
     "output_type": "stream",
     "text": [
      "do_something: i = 0\n",
      "do_something: i = 0\n",
      "do_something: i = 0\n"
     ]
    },
    {
     "data": {
      "text/plain": []
     },
     "execution_count": 9,
     "metadata": {},
     "output_type": "execute_result"
    }
   ],
   "source": [
    "// 代码使用了 try/catch 块确保访问本地状态的线程退出后，函数才结束。当函数正常退出时，会执行到2处；\n",
    "// 当函数执行过程中抛出异常，程序会执行到1处。\n",
    "{\n",
    "    using namespace n8;\n",
    "\n",
    "    int some_local_state = 0;\n",
    "    func my_func(some_local_state);\n",
    "    std::thread t(my_func);\n",
    "\n",
    "    try {\n",
    "        //do_something_in_current_thread();\n",
    "    }\n",
    "    catch(...) {\n",
    "        t.join(); // 1\n",
    "        throw;\n",
    "    }\n",
    "    t.join(); // 2\n",
    "}"
   ]
  },
  {
   "cell_type": "markdown",
   "metadata": {},
   "source": [
    "一种方式是使用“资源获取即初始化方式”(RAII，Resource Acquisition Is Initialization)，并且\n",
    "提供一个类，在析构函数中使用join()，如同下面清单中的代码。看它如何简化f()函数。"
   ]
  },
  {
   "cell_type": "code",
   "execution_count": 10,
   "metadata": {},
   "outputs": [
    {
     "name": "stdout",
     "output_type": "stream",
     "text": [
      "do_something: i = 0\n",
      "do_something: i = 0\n",
      "do_something: i = 0\n"
     ]
    },
    {
     "data": {
      "text/plain": []
     },
     "execution_count": 10,
     "metadata": {},
     "output_type": "execute_result"
    }
   ],
   "source": [
    "{\n",
    "    using namespace n8;\n",
    "    \n",
    "    class thread_guard\n",
    "    {\n",
    "        std::thread& t;\n",
    "    public:\n",
    "        explicit thread_guard(std::thread& t_) : t(t_)\n",
    "        {}\n",
    "        ~thread_guard()\n",
    "        {\n",
    "            if(t.joinable()) // 1\n",
    "            {\n",
    "                t.join(); // 2\n",
    "            }\n",
    "        }\n",
    "        thread_guard(thread_guard const&)=delete; // 3\n",
    "        thread_guard& operator=(thread_guard const&)=delete;\n",
    "    };\n",
    "    \n",
    "    int some_local_state=0;\n",
    "    func my_func(some_local_state);\n",
    "    std::thread t(my_func);\n",
    "    thread_guard g(t);\n",
    "    //do_something_in_current_thread();\n",
    "}"
   ]
  },
  {
   "cell_type": "markdown",
   "metadata": {},
   "source": [
    "### 2.1.4 后台运行线程\n",
    "调用 std::thread 成员函数detach()来分离一个线程。之后，相应的 std::thread 对象就与实际执行的线程无关了，并且这个线程也无法加入：\n",
    "\n",
    "    std::thread t(do_background_work);\n",
    "    t.detach();\n",
    "    assert(!t.joinable());\n",
    "    \n",
    "为了从 std::thread 对象中分离线程(前提是有可进行分离的线程),不能对没有执行线程的 std::thread 对象**使用detach(),也是join()的使用条件**，并且要用同样的方式进行检查——当 std::thread 对象使用**t.joinable()返回的是true，就可以使用t.detach()**。"
   ]
  }
 ],
 "metadata": {
  "kernelspec": {
   "display_name": "C++14",
   "language": "C++",
   "name": "cling-cpp14"
  },
  "language_info": {
   "codemirror_mode": "c++",
   "file_extension": ".c++",
   "mimetype": "text/x-c++src",
   "name": "c++"
  }
 },
 "nbformat": 4,
 "nbformat_minor": 2
}
