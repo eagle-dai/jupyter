{
 "cells": [
  {
   "cell_type": "markdown",
   "metadata": {},
   "source": [
    "### 2.1.1 启动线程"
   ]
  },
  {
   "cell_type": "code",
   "execution_count": 1,
   "metadata": {},
   "outputs": [
    {
     "data": {
      "text/plain": []
     },
     "execution_count": 1,
     "metadata": {},
     "output_type": "execute_result"
    }
   ],
   "source": [
    "#include <iostream>\n",
    "#include <thread>"
   ]
  },
  {
   "cell_type": "code",
   "execution_count": 2,
   "metadata": {},
   "outputs": [
    {
     "data": {
      "text/plain": []
     },
     "execution_count": 2,
     "metadata": {},
     "output_type": "execute_result"
    }
   ],
   "source": [
    "namespace n2 {\n",
    "    void do_something()\n",
    "    {\n",
    "        std::cout << \"do_something\" << \"\\n\";\n",
    "    }\n",
    "\n",
    "    void do_something_else()\n",
    "    {\n",
    "        std::cout << \"do_something_else\" << \"\\n\";\n",
    "    }\n",
    "\n",
    "    class background_task\n",
    "    {\n",
    "    public:\n",
    "        void operator()() const\n",
    "        {\n",
    "            do_something();\n",
    "            do_something_else();\n",
    "        }\n",
    "    };\n",
    "}"
   ]
  },
  {
   "cell_type": "code",
   "execution_count": 3,
   "metadata": {},
   "outputs": [
    {
     "name": "stdout",
     "output_type": "stream",
     "text": [
      "do_something\n",
      "do_something_else\n"
     ]
    },
    {
     "data": {
      "text/plain": []
     },
     "execution_count": 3,
     "metadata": {},
     "output_type": "execute_result"
    }
   ],
   "source": [
    "{\n",
    "    using namespace n2;\n",
    "    background_task f;\n",
    "    std::thread my_thread(f);\n",
    "\n",
    "    my_thread.join();\n",
    "}"
   ]
  },
  {
   "cell_type": "markdown",
   "metadata": {},
   "source": [
    "有件事需要注意，当把函数对象传入到线程构造函数中时，需要避免“最令人头痛的语法解析”(C++’s most vexing parse, 中文简介)。如果你传递了一个临时变量，而不是一个命名的变量；C++编译器会将其解析为函数声明，而不是类型对象的定义。"
   ]
  },
  {
   "cell_type": "code",
   "execution_count": 4,
   "metadata": {},
   "outputs": [
    {
     "name": "stderr",
     "output_type": "stream",
     "text": [
      "\u001b[1minput_line_6:8:26: \u001b[0m\u001b[0;1;35mwarning: \u001b[0m\u001b[1mparentheses were disambiguated as a function declaration [-Wvexing-parse]\u001b[0m\n",
      "    std::thread my_thread(background_task());\n",
      "\u001b[0;1;32m                         ^~~~~~~~~~~~~~~~~~~\n",
      "\u001b[0m\u001b[1minput_line_6:8:27: \u001b[0m\u001b[0;1;30mnote: \u001b[0madd a pair of parentheses to declare a variable\u001b[0m\n",
      "    std::thread my_thread(background_task());\n",
      "\u001b[0;1;32m                          ^\n",
      "\u001b[0m\u001b[0;32m                          (                )\n",
      "\u001b[0m"
     ]
    },
    {
     "data": {
      "text/plain": []
     },
     "execution_count": 4,
     "metadata": {},
     "output_type": "execute_result"
    }
   ],
   "source": [
    "/*\n",
    "这里相当与声明了一个名为my_thread的函数，这个函数带有一个参数(函数指针指向没有参数并返回background_task对象的函数)，\n",
    "返回一个 std::thread 对象的函数，而非启动了一个线程。\n",
    "*/\n",
    "{\n",
    "    using namespace n2;\n",
    "    std::thread my_thread(background_task());\n",
    "}"
   ]
  },
  {
   "cell_type": "code",
   "execution_count": 5,
   "metadata": {},
   "outputs": [
    {
     "name": "stdout",
     "output_type": "stream",
     "text": [
      "do_something\n",
      "do_something_else\n",
      "do_something\n",
      "do_something_else\n",
      "do_something\n",
      "do_something_else\n"
     ]
    },
    {
     "data": {
      "text/plain": []
     },
     "execution_count": 5,
     "metadata": {},
     "output_type": "execute_result"
    }
   ],
   "source": [
    "// 使用在前面命名函数对象的方式，或使用多组括号①，或使用新统一的初始化语法②，可以避免这个问题。\n",
    "{\n",
    "    using namespace n2;\n",
    "    \n",
    "    background_task f;\n",
    "    std::thread my_thread0(f);\n",
    "\n",
    "    std::thread my_thread1((background_task())); // 1\n",
    "    std::thread my_thread2{background_task()}; // 2\n",
    "    \n",
    "    my_thread0.join();\n",
    "    my_thread1.join();\n",
    "    my_thread2.join();\n",
    "}"
   ]
  },
  {
   "cell_type": "code",
   "execution_count": 6,
   "metadata": {},
   "outputs": [
    {
     "name": "stdout",
     "output_type": "stream",
     "text": [
      "do_something\n",
      "do_something_else\n"
     ]
    },
    {
     "data": {
      "text/plain": []
     },
     "execution_count": 6,
     "metadata": {},
     "output_type": "execute_result"
    }
   ],
   "source": [
    "// 使用lambda表达式也能避免这个问题\n",
    "{\n",
    "    using namespace n2;\n",
    "    std::thread my_thread([]{\n",
    "        do_something();\n",
    "        do_something_else();\n",
    "    });\n",
    "    my_thread.join();\n",
    "}"
   ]
  }
 ],
 "metadata": {
  "kernelspec": {
   "display_name": "C++14",
   "language": "C++",
   "name": "cling-cpp14"
  },
  "language_info": {
   "codemirror_mode": "c++",
   "file_extension": ".c++",
   "mimetype": "text/x-c++src",
   "name": "c++"
  }
 },
 "nbformat": 4,
 "nbformat_minor": 2
}
