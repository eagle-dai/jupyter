{
 "cells": [
  {
   "cell_type": "code",
   "execution_count": 1,
   "metadata": {},
   "outputs": [
    {
     "data": {
      "text/plain": []
     },
     "execution_count": 1,
     "metadata": {},
     "output_type": "execute_result"
    }
   ],
   "source": [
    "#include <iostream>\n",
    "#include <thread>"
   ]
  },
  {
   "cell_type": "code",
   "execution_count": 2,
   "metadata": {},
   "outputs": [
    {
     "name": "stdout",
     "output_type": "stream",
     "text": [
      "3, hello, 5000000\n"
     ]
    },
    {
     "data": {
      "text/plain": []
     },
     "execution_count": 2,
     "metadata": {},
     "output_type": "execute_result"
    }
   ],
   "source": [
    "namespace n1 {\n",
    "    void f(int i, std::string const& s)\n",
    "    {\n",
    "        // just for delay\n",
    "        int sum = 0;\n",
    "        for (int i = 0; i < 1000000; ++i) {\n",
    "            sum += s.length();\n",
    "        }\n",
    "\n",
    "        std::cout << i << \", \" << s << \", \" << sum << \"\\n\";\n",
    "    }\n",
    "    std::thread t(f, 3, \"hello\");\n",
    "}"
   ]
  },
  {
   "cell_type": "code",
   "execution_count": 3,
   "metadata": {},
   "outputs": [
    {
     "name": "stdout",
     "output_type": "stream",
     "text": [
      "3, 10, 2000000\n",
      "3, 10, 2000000\n"
     ]
    },
    {
     "data": {
      "text/plain": []
     },
     "execution_count": 3,
     "metadata": {},
     "output_type": "execute_result"
    }
   ],
   "source": [
    "{\n",
    "    using namespace n1;\n",
    "    int some_param = 10;\n",
    "\n",
    "    char buffer[64]; // 1\n",
    "    sprintf(buffer, \"%i\", some_param);\n",
    "\n",
    "    std::thread t(f, 3, buffer); // 2\n",
    "    t.detach();\n",
    "    \n",
    "    // 运行到这里，函数返回，buffer立刻被回收，而thread可能没有结束，所以buffer里面可能是任何值\n",
    "    std::thread t2(f, 3, std::string(buffer)); // 解决方法，使用std::string，避免悬垂指针\n",
    "    t2.detach();\n",
    "}"
   ]
  },
  {
   "cell_type": "markdown",
   "metadata": {},
   "source": [
    "还可能遇到相反的情况：期望传递一个引用，但整个对象被复制了。当线程更新一个引用传递的数据结构时，这种情况就可能发生，比如："
   ]
  }
 ],
 "metadata": {
  "kernelspec": {
   "display_name": "C++17",
   "language": "C++",
   "name": "cling-cpp17"
  },
  "language_info": {
   "codemirror_mode": "c++",
   "file_extension": ".c++",
   "mimetype": "text/x-c++src",
   "name": "c++"
  }
 },
 "nbformat": 4,
 "nbformat_minor": 2
}
