{
 "cells": [
  {
   "cell_type": "code",
   "execution_count": 1,
   "metadata": {},
   "outputs": [
    {
     "data": {
      "text/plain": []
     },
     "execution_count": 1,
     "metadata": {},
     "output_type": "execute_result"
    }
   ],
   "source": [
    "#include <iostream>\n",
    "#include <thread>\n",
    "#include<functional> "
   ]
  },
  {
   "cell_type": "code",
   "execution_count": 2,
   "metadata": {},
   "outputs": [
    {
     "name": "stdout",
     "output_type": "stream",
     "text": [
      "3, hello, 45000000\n"
     ]
    },
    {
     "data": {
      "text/plain": []
     },
     "execution_count": 2,
     "metadata": {},
     "output_type": "execute_result"
    }
   ],
   "source": [
    "namespace n1 {\n",
    "    void f(int i, std::string const& s)\n",
    "    {\n",
    "        // just for delay\n",
    "        long sum = 0;\n",
    "        for (long i = 0; i < 9000000; ++i) {\n",
    "            sum += s.length();\n",
    "        }\n",
    "\n",
    "        std::cout << i << \", \" << s << \", \" << sum << \"\\n\";\n",
    "    }\n",
    "    std::thread t(f, 3, \"hello\");\n",
    "}"
   ]
  },
  {
   "cell_type": "code",
   "execution_count": 3,
   "metadata": {},
   "outputs": [
    {
     "name": "stdout",
     "output_type": "stream",
     "text": [
      "3, A0, 18000000\n"
     ]
    },
    {
     "data": {
      "text/plain": []
     },
     "execution_count": 3,
     "metadata": {},
     "output_type": "execute_result"
    }
   ],
   "source": [
    "{\n",
    "    using namespace n1;\n",
    "    int some_param = 10;\n",
    "\n",
    "    char buffer[64]; // 1\n",
    "    sprintf(buffer, \"%i\", some_param);\n",
    "\n",
    "    std::thread t(f, 3, buffer); // 2\n",
    "    t.detach();\n",
    "    buffer[0] = 'A';\n",
    "    // 运行到这里，函数返回，buffer立刻被回收，而thread可能没有结束，所以buffer里面可能是任何值\n",
    "}"
   ]
  },
  {
   "cell_type": "code",
   "execution_count": 4,
   "metadata": {},
   "outputs": [
    {
     "name": "stdout",
     "output_type": "stream",
     "text": [
      "3, 10, 18000000\n"
     ]
    },
    {
     "data": {
      "text/plain": []
     },
     "execution_count": 4,
     "metadata": {},
     "output_type": "execute_result"
    }
   ],
   "source": [
    "{\n",
    "    using namespace n1;\n",
    "    int some_param = 10;\n",
    "\n",
    "    char buffer[64]; // 1\n",
    "    sprintf(buffer, \"%i\", some_param);\n",
    "\n",
    "    // 解决方法，使用std::string，避免悬垂指针\n",
    "    std::thread t2(f, 3, std::string(buffer));\n",
    "    t2.detach();\n",
    "    buffer[0] = 'B';\n",
    "}"
   ]
  },
  {
   "cell_type": "markdown",
   "metadata": {},
   "source": [
    "还可能遇到相反的情况：期望传递一个引用，但整个对象被复制了。当线程更新一个引用传递的数据结构时，这种情况就可能发生，比如："
   ]
  },
  {
   "cell_type": "code",
   "execution_count": 5,
   "metadata": {},
   "outputs": [
    {
     "data": {
      "text/plain": []
     },
     "execution_count": 5,
     "metadata": {},
     "output_type": "execute_result"
    }
   ],
   "source": [
    "namespace n2 {\n",
    "    using widget_id = int;\n",
    "    struct widget_data {\n",
    "        int data{};\n",
    "    };\n",
    "\n",
    "    void update_data_for_widget(widget_id w, widget_data& data) // 1\n",
    "    {\n",
    "        data.data++;\n",
    "        std::cout << \"update_data_for_widget(): data = \" << data.data << \"\\n\";\n",
    "    }\n",
    "    void display_status()\n",
    "    {\n",
    "        std::cout << \"display_status() \\n\";\n",
    "    }\n",
    "    void process_widget_data(widget_data& data)\n",
    "    {\n",
    "        std::cout << \"process_widget_data() \\n\";\n",
    "    }\n",
    "}"
   ]
  },
  {
   "cell_type": "code",
   "execution_count": 6,
   "metadata": {},
   "outputs": [
    {
     "data": {
      "text/plain": []
     },
     "execution_count": 6,
     "metadata": {},
     "output_type": "execute_result"
    }
   ],
   "source": [
    "/*\n",
    "{\n",
    "    using namespace n2;\n",
    "\n",
    "    widget_id w = 1;\n",
    "    widget_data data;\n",
    "    std::thread t(update_data_for_widget, w, data); // 2\n",
    "    display_status();\n",
    "    t.join();\n",
    "    process_widget_data(data); // 3\n",
    "}\n",
    "*/"
   ]
  },
  {
   "cell_type": "markdown",
   "metadata": {},
   "source": [
    "虽然update_data_for_widget①的第二个参数期待传入一个引用，但是\tstd::thread\t的构造函 数②并不知晓；构造函数无视函数期待的参数类型，并盲目的拷贝已提供的变量。当线程调用 update_data_for_widget函数时，传递给函数的参数是data变量内部拷贝的引用，而非数据本 身的引用。因此，当线程结束时，内部拷贝数据将会在数据更新阶段被销毁，且 process_widget_data将会接收到没有修改的data变量③。**可以使用\tstd::ref\t将参数转换成引 用的形式，从而可将线程的调用改为以下形式**："
   ]
  },
  {
   "cell_type": "code",
   "execution_count": 7,
   "metadata": {},
   "outputs": [
    {
     "name": "stdout",
     "output_type": "stream",
     "text": [
      "display_status() \n",
      "update_data_for_widget(): data = 1\n",
      "process_widget_data() \n"
     ]
    },
    {
     "data": {
      "text/plain": []
     },
     "execution_count": 7,
     "metadata": {},
     "output_type": "execute_result"
    }
   ],
   "source": [
    "{\n",
    "    using namespace n2;\n",
    "\n",
    "    widget_id w = 1;\n",
    "    widget_data data;\n",
    "    std::thread t(update_data_for_widget, w, std::ref(data)); // 2\n",
    "    display_status();\n",
    "    t.join();\n",
    "    process_widget_data(data); // 3\n",
    "}"
   ]
  },
  {
   "cell_type": "markdown",
   "metadata": {},
   "source": [
    "如果你熟悉\tstd::bind\t，就应该不会对以上述传参的形式感到奇怪，因为\tstd::thread\t构造函 数和\tstd::bind\t的操作都在标准库中定义好了，可以传递一个成员函数指针作为线程函数， 并提供一个合适的对象指针作为第一个参数："
   ]
  },
  {
   "cell_type": "code",
   "execution_count": 8,
   "metadata": {},
   "outputs": [
    {
     "name": "stdout",
     "output_type": "stream",
     "text": [
      "X::do_lengthy_work() \n"
     ]
    },
    {
     "data": {
      "text/plain": []
     },
     "execution_count": 8,
     "metadata": {},
     "output_type": "execute_result"
    }
   ],
   "source": [
    "{\n",
    "    class X\n",
    "    {\n",
    "    public:\n",
    "        void do_lengthy_work()\n",
    "        {\n",
    "            std::cout << \"X::do_lengthy_work() \\n\";\n",
    "        }\n",
    "    };\n",
    "\n",
    "    X my_x;\n",
    "    std::thread t(&X::do_lengthy_work, &my_x); // 1\n",
    "    t.join();\n",
    "}"
   ]
  }
 ],
 "metadata": {
  "kernelspec": {
   "display_name": "C++17",
   "language": "C++",
   "name": "cling-cpp17"
  },
  "language_info": {
   "codemirror_mode": "c++",
   "file_extension": ".c++",
   "mimetype": "text/x-c++src",
   "name": "c++"
  }
 },
 "nbformat": 4,
 "nbformat_minor": 2
}
