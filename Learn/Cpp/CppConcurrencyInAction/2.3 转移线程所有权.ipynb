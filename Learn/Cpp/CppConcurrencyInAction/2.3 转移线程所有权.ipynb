{
 "cells": [
  {
   "cell_type": "code",
   "execution_count": 1,
   "metadata": {},
   "outputs": [
    {
     "data": {
      "text/plain": []
     },
     "execution_count": 1,
     "metadata": {},
     "output_type": "execute_result"
    }
   ],
   "source": [
    "#include <iostream>\n",
    "#include <thread>\n",
    "#include <vector>\n",
    "#include <algorithm>"
   ]
  },
  {
   "cell_type": "markdown",
   "metadata": {},
   "source": [
    "### scoped_thread的用法"
   ]
  },
  {
   "cell_type": "code",
   "execution_count": 2,
   "metadata": {},
   "outputs": [
    {
     "data": {
      "text/plain": []
     },
     "execution_count": 2,
     "metadata": {},
     "output_type": "execute_result"
    }
   ],
   "source": [
    "namespace n1 {\n",
    "\n",
    "    void do_something(unsigned i)\n",
    "    {\n",
    "        std::cout << \"do_something: i = \" << i << \"\\n\";\n",
    "    }\n",
    "\n",
    "    struct func\n",
    "    {\n",
    "        int& i;\n",
    "        func(int& i_) : i(i_) {}\n",
    "        void operator() () {\n",
    "            for (unsigned j = 0; j < 3; ++j) {\n",
    "                do_something(i);\n",
    "            }\n",
    "        }\n",
    "    };\n",
    "\n",
    "    class scoped_thread\n",
    "    {\n",
    "        std::thread t;\n",
    "    public:\n",
    "        explicit scoped_thread(std::thread t_) : // 1\n",
    "            t(std::move(t_))\n",
    "        {\n",
    "            if (!t.joinable()) // 2\n",
    "                throw std::logic_error(\"No thread\");\n",
    "        }\n",
    "        ~scoped_thread()\n",
    "        {\n",
    "            t.join(); // 3\n",
    "        }\n",
    "        scoped_thread(scoped_thread const&) = delete;\n",
    "        scoped_thread& operator=(scoped_thread const&) = delete;\n",
    "    };\n",
    "}"
   ]
  },
  {
   "cell_type": "code",
   "execution_count": 3,
   "metadata": {},
   "outputs": [
    {
     "name": "stdout",
     "output_type": "stream",
     "text": [
      "do_something: i = 1\n",
      "do_something: i = 1\n",
      "do_something: i = 1\n"
     ]
    },
    {
     "data": {
      "text/plain": []
     },
     "execution_count": 3,
     "metadata": {},
     "output_type": "execute_result"
    }
   ],
   "source": [
    "{\n",
    "    using namespace n1;\n",
    "\n",
    "    int some_local_state = 1;\n",
    "    func my_func(some_local_state);\n",
    "    std::thread t(my_func);\n",
    "    t.join();\n",
    "}"
   ]
  },
  {
   "cell_type": "code",
   "execution_count": 4,
   "metadata": {},
   "outputs": [
    {
     "name": "stdout",
     "output_type": "stream",
     "text": [
      "do_something: i = 1\n",
      "do_something: i = 1\n",
      "do_something: i = 1\n"
     ]
    },
    {
     "data": {
      "text/plain": []
     },
     "execution_count": 4,
     "metadata": {},
     "output_type": "execute_result"
    }
   ],
   "source": [
    "{\n",
    "    using namespace n1;\n",
    "    \n",
    "    int some_local_state = 1;\n",
    "    func my_func(some_local_state);\n",
    "    scoped_thread st{std::thread(my_func)};\n",
    "}"
   ]
  },
  {
   "cell_type": "code",
   "execution_count": 5,
   "metadata": {},
   "outputs": [
    {
     "name": "stderr",
     "output_type": "stream",
     "text": [
      "\u001b[1minput_line_7:6:21: \u001b[0m\u001b[0;1;35mwarning: \u001b[0m\u001b[1mparentheses were disambiguated as a function declaration [-Wvexing-parse]\u001b[0m\n",
      "    scoped_thread st(std::thread(func(some_local_state)));\n",
      "\u001b[0;1;32m                    ^~~~~~~~~~~~~~~~~~~~~~~~~~~~~~~~~~~~~\n",
      "\u001b[0m\u001b[1minput_line_7:6:22: \u001b[0m\u001b[0;1;30mnote: \u001b[0madd a pair of parentheses to declare a variable\u001b[0m\n",
      "    scoped_thread st(std::thread(func(some_local_state)));\n",
      "\u001b[0;1;32m                     ^\n",
      "\u001b[0m\u001b[0;32m                     (                                  )\n",
      "\u001b[0m"
     ]
    },
    {
     "data": {
      "text/plain": []
     },
     "execution_count": 5,
     "metadata": {},
     "output_type": "execute_result"
    }
   ],
   "source": [
    "{\n",
    "    using namespace n1;\n",
    "    \n",
    "    int some_local_state = 1;\n",
    "    scoped_thread st(std::thread(func(some_local_state)));\n",
    "}"
   ]
  },
  {
   "cell_type": "code",
   "execution_count": 6,
   "metadata": {},
   "outputs": [
    {
     "name": "stdout",
     "output_type": "stream",
     "text": [
      "do_something: i = 1\n",
      "do_something: i = 1\n",
      "do_something: i = 1\n"
     ]
    },
    {
     "data": {
      "text/plain": []
     },
     "execution_count": 6,
     "metadata": {},
     "output_type": "execute_result"
    }
   ],
   "source": [
    "{\n",
    "    using namespace n1;\n",
    "    \n",
    "    int some_local_state = 1;\n",
    "    scoped_thread st{std::thread(func(some_local_state))};\n",
    "}"
   ]
  },
  {
   "cell_type": "markdown",
   "metadata": {},
   "source": [
    "### 量产线程，等待它们结束"
   ]
  },
  {
   "cell_type": "code",
   "execution_count": 7,
   "metadata": {},
   "outputs": [
    {
     "data": {
      "text/plain": []
     },
     "execution_count": 7,
     "metadata": {},
     "output_type": "execute_result"
    }
   ],
   "source": [
    "namespace n2 {\n",
    "    void do_work(unsigned id)\n",
    "    {\n",
    "        std::cout << \"do_word( \" << id << \" )\\n\";\n",
    "    }\n",
    "}"
   ]
  },
  {
   "cell_type": "code",
   "execution_count": 8,
   "metadata": {},
   "outputs": [
    {
     "name": "stdout",
     "output_type": "stream",
     "text": [
      "do_word( 0 )\n",
      "do_word( 1 )\n",
      "do_word( 2 )\n",
      "do_word( 3 )\n",
      "do_word( 4 )\n"
     ]
    },
    {
     "data": {
      "text/plain": []
     },
     "execution_count": 8,
     "metadata": {},
     "output_type": "execute_result"
    }
   ],
   "source": [
    "{\n",
    "    using namespace n2;\n",
    "\n",
    "    std::vector<std::thread> threads;\n",
    "    for (unsigned i = 0; i < 5; ++i) {\n",
    "        threads.push_back(std::thread(do_work, i)); // 产生线程\n",
    "    }\n",
    "    std::for_each(threads.begin(), threads.end(),\n",
    "        std::mem_fn(&std::thread::join)); // 对每个线程调用join()\n",
    "}"
   ]
  },
  {
   "cell_type": "code",
   "execution_count": null,
   "metadata": {},
   "outputs": [],
   "source": []
  }
 ],
 "metadata": {
  "kernelspec": {
   "display_name": "C++17",
   "language": "C++",
   "name": "cling-cpp17"
  },
  "language_info": {
   "codemirror_mode": "c++",
   "file_extension": ".c++",
   "mimetype": "text/x-c++src",
   "name": "c++"
  }
 },
 "nbformat": 4,
 "nbformat_minor": 2
}
