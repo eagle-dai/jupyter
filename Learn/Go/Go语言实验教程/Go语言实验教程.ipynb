{
 "cells": [
  {
   "cell_type": "markdown",
   "metadata": {},
   "source": [
    "### go的hello_world"
   ]
  },
  {
   "cell_type": "code",
   "execution_count": 1,
   "metadata": {},
   "outputs": [
    {
     "name": "stdout",
     "output_type": "stream",
     "text": [
      "hello world\n"
     ]
    }
   ],
   "source": [
    "//package main\n",
    "import \"fmt\"\n",
    "\n",
    "func main() {\n",
    "    fmt.Println(\"hello world\")\n",
    "}\n",
    "\n",
    "main()"
   ]
  },
  {
   "cell_type": "markdown",
   "metadata": {},
   "source": [
    "### 值"
   ]
  },
  {
   "cell_type": "code",
   "execution_count": 2,
   "metadata": {},
   "outputs": [
    {
     "name": "stdout",
     "output_type": "stream",
     "text": [
      "golang\n",
      "1+1 = 2\n",
      "7.0/3.0 = 2.3333333333333335\n",
      "7/3 = 2\n",
      "7/3.0 = 2.3333333333333335\n",
      "false\n",
      "true\n",
      "false\n"
     ]
    }
   ],
   "source": [
    "//package main\n",
    "import \"fmt\"\n",
    "\n",
    "func main() {\n",
    "\n",
    "    // 字符串可以通过 `+` 连接。\n",
    "    fmt.Println(\"go\" + \"lang\")\n",
    "\n",
    "    // 整数和浮点数\n",
    "    fmt.Println(\"1+1 =\", 1+1)\n",
    "    fmt.Println(\"7.0/3.0 =\", 7.0/3.0)\n",
    "    fmt.Println(\"7/3 =\", 7/3)\n",
    "    fmt.Println(\"7/3.0 =\", 7/3.0)\n",
    "\n",
    "    // 布尔型，还有你想要的逻辑运算符。\n",
    "    fmt.Println(true && false)\n",
    "    fmt.Println(true || false)\n",
    "    fmt.Println(!true)\n",
    "}\n",
    "\n",
    "main()"
   ]
  },
  {
   "cell_type": "markdown",
   "metadata": {},
   "source": [
    "### 变量"
   ]
  },
  {
   "cell_type": "code",
   "execution_count": 3,
   "metadata": {},
   "outputs": [
    {
     "name": "stdout",
     "output_type": "stream",
     "text": [
      "initial\n",
      "1 2\n",
      "true\n",
      "0\n",
      "short\n"
     ]
    }
   ],
   "source": [
    "//package main\n",
    "import \"fmt\"\n",
    "\n",
    "func main() {\n",
    "\n",
    "    // `var` 声明 1 个或者多个变量。\n",
    "    var a string = \"initial\"\n",
    "    fmt.Println(a)\n",
    "\n",
    "    // 你可以申明一次性声明多个变量。\n",
    "    var b, c int = 1, 2\n",
    "    fmt.Println(b, c)\n",
    "\n",
    "    // Go 将自动推断已经初始化的变量类型。\n",
    "    var d = true\n",
    "    fmt.Println(d)\n",
    "\n",
    "    // 声明变量且没有给出对应的初始值时，变量将会初始化为\n",
    "    // _零值_ 。例如，一个 `int` 的零值是 `0`。\n",
    "    var e int\n",
    "    fmt.Println(e)\n",
    "\n",
    "    // `:=` 语句是申明并初始化变量的简写，例如\n",
    "    // 这个例子中的 `var f string = \"short\"`。\n",
    "    f := \"short\"\n",
    "    fmt.Println(f)\n",
    "}\n",
    "\n",
    "main()"
   ]
  },
  {
   "cell_type": "markdown",
   "metadata": {},
   "source": [
    "### 常量"
   ]
  },
  {
   "cell_type": "code",
   "execution_count": 4,
   "metadata": {},
   "outputs": [
    {
     "name": "stdout",
     "output_type": "stream",
     "text": [
      "constant\n",
      "6e+11\n",
      "600000000000\n",
      "-0.28470407323754404\n",
      "-0.28470407323754404\n",
      "-0.28470407323754404\n"
     ]
    }
   ],
   "source": [
    "//package main\n",
    "\n",
    "import \"fmt\"\n",
    "import \"math\"\n",
    "\n",
    "// `const` 用于声明一个常量。\n",
    "const s string = \"constant\"\n",
    "\n",
    "func main() {\n",
    "    fmt.Println(s)\n",
    "\n",
    "    // `const` 语句可以出现在任何 `var` 语句可以出现的地方\n",
    "    const n = 500000000\n",
    "\n",
    "    // 常数表达式可以执行任意精度的运算\n",
    "    const d = 3e20 / n\n",
    "    fmt.Println(d)\n",
    "\n",
    "    // 数值型常量是没有确定的类型的，直到它们被给定了一个\n",
    "    // 类型，比如说一次显示的类型转化。\n",
    "    fmt.Println(int64(d))\n",
    "\n",
    "    // 当上下文需要时，一个数可以被给定一个类型，比如\n",
    "    // 变量赋值或者函数调用。举个例子，这里的 `math.Sin`\n",
    "    // 函数需要一个 `float64` 的参数。\n",
    "    fmt.Println(math.Sin(n))\n",
    "    fmt.Println(math.Sin(500000000))\n",
    "    fmt.Println(math.Sin(500000000.0))\n",
    "}\n",
    "\n",
    "main()"
   ]
  },
  {
   "cell_type": "markdown",
   "metadata": {},
   "source": [
    "### for循环\n",
    "\n",
    "`for` 是 Go 中唯一的循环结构。这里有 `for` 循环的三个基本使用方式。"
   ]
  },
  {
   "cell_type": "code",
   "execution_count": 5,
   "metadata": {},
   "outputs": [
    {
     "name": "stdout",
     "output_type": "stream",
     "text": [
      "1\n",
      "2\n",
      "3\n",
      "7\n",
      "8\n",
      "9\n",
      "loop\n"
     ]
    }
   ],
   "source": [
    "//package main\n",
    "\n",
    "import \"fmt\"\n",
    "\n",
    "func main() {\n",
    "\n",
    "    // 最常用的方式，带单个循环条件。\n",
    "    i := 1\n",
    "    for i <= 3 {\n",
    "        fmt.Println(i)\n",
    "        i = i + 1\n",
    "    }\n",
    "\n",
    "    // 经典的初始化/条件/后续形式 `for` 循环。\n",
    "    for j := 7; j <= 9; j++ {\n",
    "        fmt.Println(j)\n",
    "    }\n",
    "\n",
    "    // 不带条件的 `for` 循环将一直执行，直到在循环体内使用\n",
    "    // 了 `break` 或者 `return` 来跳出循环。\n",
    "    for {\n",
    "        fmt.Println(\"loop\")\n",
    "        break\n",
    "    }\n",
    "}\n",
    "\n",
    "main()"
   ]
  },
  {
   "cell_type": "markdown",
   "metadata": {},
   "source": [
    "### if_else分支\n",
    "`if` 和 `else` 分支结构在 Go 中当然是直接了当的了。\n",
    "\n",
    "注意，在 Go 中，你可以不使用圆括号，但是花括号是需要的。"
   ]
  },
  {
   "cell_type": "code",
   "execution_count": 6,
   "metadata": {},
   "outputs": [
    {
     "name": "stdout",
     "output_type": "stream",
     "text": [
      "7 is odd\n",
      "8 is divisible by 4\n",
      "9 has 1 digit\n"
     ]
    }
   ],
   "source": [
    "//package main\n",
    "\n",
    "import \"fmt\"\n",
    "\n",
    "func main() {\n",
    "\n",
    "    // 这里是一个基本的例子。\n",
    "    if 7%2 == 0 {\n",
    "        fmt.Println(\"7 is even\")\n",
    "    } else {\n",
    "        fmt.Println(\"7 is odd\")\n",
    "    }\n",
    "\n",
    "    // 你可以不要 `else` 只用 `if` 语句。\n",
    "    if 8%4 == 0 {\n",
    "        fmt.Println(\"8 is divisible by 4\")\n",
    "    }\n",
    "\n",
    "    // 在条件语句之前可以有一个语句；任何在这里声明的变量\n",
    "    // 都可以在所有的条件分支中使用。\n",
    "    if num := 9; num < 0 {\n",
    "        fmt.Println(num, \"is negative\")\n",
    "    } else if num < 10 {\n",
    "        fmt.Println(num, \"has 1 digit\")\n",
    "    } else {\n",
    "        fmt.Println(num, \"has multiple digits\")\n",
    "    }\n",
    "}\n",
    "\n",
    "main()"
   ]
  },
  {
   "cell_type": "markdown",
   "metadata": {},
   "source": [
    "### 分支结构\n",
    "\n",
    "_switch_ ，方便的条件分支语句。"
   ]
  },
  {
   "cell_type": "code",
   "execution_count": 7,
   "metadata": {},
   "outputs": [
    {
     "name": "stdout",
     "output_type": "stream",
     "text": [
      "write 2 as two\n",
      "it's a weekday\n",
      "it's after noon\n"
     ]
    }
   ],
   "source": [
    "//package main\n",
    "\n",
    "import \"fmt\"\n",
    "import \"time\"\n",
    "\n",
    "func main() {\n",
    "\n",
    "    // 一个基本的 `switch`。\n",
    "    i := 2\n",
    "    fmt.Print(\"write \", i, \" as \")\n",
    "    switch i {\n",
    "    case 1:\n",
    "        fmt.Println(\"one\")\n",
    "    case 2:\n",
    "        fmt.Println(\"two\")\n",
    "    case 3:\n",
    "        fmt.Println(\"three\")\n",
    "    }\n",
    "\n",
    "    // 在一个 `case` 语句中，你可以使用逗号来分隔多个表\n",
    "    // 达式。在这个例子中，我们很好的使用了可选的\n",
    "    // `default` 分支。\n",
    "    switch time.Now().Weekday() {\n",
    "    case time.Saturday, time.Sunday:\n",
    "        fmt.Println(\"it's the weekend\")\n",
    "    default:\n",
    "        fmt.Println(\"it's a weekday\")\n",
    "    }\n",
    "\n",
    "    // 不带表达式的 `switch` 是实现 if/else 逻辑的另一种\n",
    "    // 方式。这里展示了 `case` 表达式是如何使用非常量的。\n",
    "    t := time.Now()\n",
    "    switch {\n",
    "    case t.Hour() < 12:\n",
    "        fmt.Println(\"it's before noon\")\n",
    "    default:\n",
    "        fmt.Println(\"it's after noon\")\n",
    "    }\n",
    "}\n",
    "main()"
   ]
  }
 ],
 "metadata": {
  "kernelspec": {
   "display_name": "Go (lgo)",
   "language": "go",
   "name": "lgo"
  },
  "language_info": {
   "file_extension": "",
   "mimetype": "",
   "name": "go",
   "version": ""
  }
 },
 "nbformat": 4,
 "nbformat_minor": 2
}
