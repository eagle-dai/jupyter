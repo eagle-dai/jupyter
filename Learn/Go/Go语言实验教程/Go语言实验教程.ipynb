{
 "cells": [
  {
   "cell_type": "markdown",
   "metadata": {},
   "source": [
    "### go的hello_world"
   ]
  },
  {
   "cell_type": "code",
   "execution_count": 1,
   "metadata": {},
   "outputs": [
    {
     "name": "stdout",
     "output_type": "stream",
     "text": [
      "hello world\n"
     ]
    }
   ],
   "source": [
    "//package main\n",
    "import \"fmt\"\n",
    "\n",
    "func main() {\n",
    "    fmt.Println(\"hello world\")\n",
    "}\n",
    "\n",
    "main()"
   ]
  },
  {
   "cell_type": "markdown",
   "metadata": {},
   "source": [
    "### 值"
   ]
  },
  {
   "cell_type": "code",
   "execution_count": 2,
   "metadata": {},
   "outputs": [
    {
     "name": "stdout",
     "output_type": "stream",
     "text": [
      "golang\n",
      "1+1 = 2\n",
      "7.0/3.0 = 2.3333333333333335\n",
      "7/3 = 2\n",
      "7/3.0 = 2.3333333333333335\n",
      "false\n",
      "true\n",
      "false\n"
     ]
    }
   ],
   "source": [
    "//package main\n",
    "import \"fmt\"\n",
    "\n",
    "func main() {\n",
    "\n",
    "    // 字符串可以通过 `+` 连接。\n",
    "    fmt.Println(\"go\" + \"lang\")\n",
    "\n",
    "    // 整数和浮点数\n",
    "    fmt.Println(\"1+1 =\", 1+1)\n",
    "    fmt.Println(\"7.0/3.0 =\", 7.0/3.0)\n",
    "    fmt.Println(\"7/3 =\", 7/3)\n",
    "    fmt.Println(\"7/3.0 =\", 7/3.0)\n",
    "\n",
    "    // 布尔型，还有你想要的逻辑运算符。\n",
    "    fmt.Println(true && false)\n",
    "    fmt.Println(true || false)\n",
    "    fmt.Println(!true)\n",
    "}\n",
    "\n",
    "main()"
   ]
  },
  {
   "cell_type": "markdown",
   "metadata": {},
   "source": [
    "### 变量"
   ]
  },
  {
   "cell_type": "code",
   "execution_count": 3,
   "metadata": {},
   "outputs": [
    {
     "name": "stdout",
     "output_type": "stream",
     "text": [
      "initial\n",
      "1 2\n",
      "true\n",
      "0\n",
      "short\n"
     ]
    }
   ],
   "source": [
    "//package main\n",
    "import \"fmt\"\n",
    "\n",
    "func main() {\n",
    "\n",
    "    // `var` 声明 1 个或者多个变量。\n",
    "    var a string = \"initial\"\n",
    "    fmt.Println(a)\n",
    "\n",
    "    // 你可以申明一次性声明多个变量。\n",
    "    var b, c int = 1, 2\n",
    "    fmt.Println(b, c)\n",
    "\n",
    "    // Go 将自动推断已经初始化的变量类型。\n",
    "    var d = true\n",
    "    fmt.Println(d)\n",
    "\n",
    "    // 声明变量且没有给出对应的初始值时，变量将会初始化为\n",
    "    // _零值_ 。例如，一个 `int` 的零值是 `0`。\n",
    "    var e int\n",
    "    fmt.Println(e)\n",
    "\n",
    "    // `:=` 语句是申明并初始化变量的简写，例如\n",
    "    // 这个例子中的 `var f string = \"short\"`。\n",
    "    f := \"short\"\n",
    "    fmt.Println(f)\n",
    "}\n",
    "\n",
    "main()"
   ]
  },
  {
   "cell_type": "markdown",
   "metadata": {},
   "source": [
    "### 常量"
   ]
  },
  {
   "cell_type": "code",
   "execution_count": 4,
   "metadata": {},
   "outputs": [
    {
     "name": "stdout",
     "output_type": "stream",
     "text": [
      "constant\n",
      "6e+11\n",
      "600000000000\n",
      "-0.28470407323754404\n",
      "-0.28470407323754404\n",
      "-0.28470407323754404\n"
     ]
    }
   ],
   "source": [
    "//package main\n",
    "\n",
    "import \"fmt\"\n",
    "import \"math\"\n",
    "\n",
    "// `const` 用于声明一个常量。\n",
    "const s string = \"constant\"\n",
    "\n",
    "func main() {\n",
    "    fmt.Println(s)\n",
    "\n",
    "    // `const` 语句可以出现在任何 `var` 语句可以出现的地方\n",
    "    const n = 500000000\n",
    "\n",
    "    // 常数表达式可以执行任意精度的运算\n",
    "    const d = 3e20 / n\n",
    "    fmt.Println(d)\n",
    "\n",
    "    // 数值型常量是没有确定的类型的，直到它们被给定了一个\n",
    "    // 类型，比如说一次显示的类型转化。\n",
    "    fmt.Println(int64(d))\n",
    "\n",
    "    // 当上下文需要时，一个数可以被给定一个类型，比如\n",
    "    // 变量赋值或者函数调用。举个例子，这里的 `math.Sin`\n",
    "    // 函数需要一个 `float64` 的参数。\n",
    "    fmt.Println(math.Sin(n))\n",
    "    fmt.Println(math.Sin(500000000))\n",
    "    fmt.Println(math.Sin(500000000.0))\n",
    "}\n",
    "\n",
    "main()"
   ]
  },
  {
   "cell_type": "markdown",
   "metadata": {},
   "source": [
    "### for循环\n",
    "\n",
    "`for` 是 Go 中唯一的循环结构。这里有 `for` 循环的三个基本使用方式。"
   ]
  },
  {
   "cell_type": "code",
   "execution_count": 5,
   "metadata": {},
   "outputs": [
    {
     "name": "stdout",
     "output_type": "stream",
     "text": [
      "1\n",
      "2\n",
      "3\n",
      "7\n",
      "8\n",
      "9\n",
      "loop\n"
     ]
    }
   ],
   "source": [
    "//package main\n",
    "\n",
    "import \"fmt\"\n",
    "\n",
    "func main() {\n",
    "\n",
    "    // 最常用的方式，带单个循环条件。\n",
    "    i := 1\n",
    "    for i <= 3 {\n",
    "        fmt.Println(i)\n",
    "        i = i + 1\n",
    "    }\n",
    "\n",
    "    // 经典的初始化/条件/后续形式 `for` 循环。\n",
    "    for j := 7; j <= 9; j++ {\n",
    "        fmt.Println(j)\n",
    "    }\n",
    "\n",
    "    // 不带条件的 `for` 循环将一直执行，直到在循环体内使用\n",
    "    // 了 `break` 或者 `return` 来跳出循环。\n",
    "    for {\n",
    "        fmt.Println(\"loop\")\n",
    "        break\n",
    "    }\n",
    "}\n",
    "\n",
    "main()"
   ]
  },
  {
   "cell_type": "markdown",
   "metadata": {},
   "source": [
    "### if_else分支\n",
    "`if` 和 `else` 分支结构在 Go 中当然是直接了当的了。\n",
    "\n",
    "注意，在 Go 中，你可以不使用圆括号，但是花括号是需要的。"
   ]
  },
  {
   "cell_type": "code",
   "execution_count": 6,
   "metadata": {},
   "outputs": [
    {
     "name": "stdout",
     "output_type": "stream",
     "text": [
      "7 is odd\n",
      "8 is divisible by 4\n",
      "9 has 1 digit\n"
     ]
    }
   ],
   "source": [
    "//package main\n",
    "\n",
    "import \"fmt\"\n",
    "\n",
    "func main() {\n",
    "\n",
    "    // 这里是一个基本的例子。\n",
    "    if 7%2 == 0 {\n",
    "        fmt.Println(\"7 is even\")\n",
    "    } else {\n",
    "        fmt.Println(\"7 is odd\")\n",
    "    }\n",
    "\n",
    "    // 你可以不要 `else` 只用 `if` 语句。\n",
    "    if 8%4 == 0 {\n",
    "        fmt.Println(\"8 is divisible by 4\")\n",
    "    }\n",
    "\n",
    "    // 在条件语句之前可以有一个语句；任何在这里声明的变量\n",
    "    // 都可以在所有的条件分支中使用。\n",
    "    if num := 9; num < 0 {\n",
    "        fmt.Println(num, \"is negative\")\n",
    "    } else if num < 10 {\n",
    "        fmt.Println(num, \"has 1 digit\")\n",
    "    } else {\n",
    "        fmt.Println(num, \"has multiple digits\")\n",
    "    }\n",
    "}\n",
    "\n",
    "main()"
   ]
  },
  {
   "cell_type": "markdown",
   "metadata": {},
   "source": [
    "### 分支结构\n",
    "\n",
    "_switch_ ，方便的条件分支语句。"
   ]
  },
  {
   "cell_type": "code",
   "execution_count": 7,
   "metadata": {},
   "outputs": [
    {
     "name": "stdout",
     "output_type": "stream",
     "text": [
      "write 2 as two\n",
      "it's a weekday\n",
      "it's after noon\n"
     ]
    }
   ],
   "source": [
    "//package main\n",
    "\n",
    "import \"fmt\"\n",
    "import \"time\"\n",
    "\n",
    "func main() {\n",
    "\n",
    "    // 一个基本的 `switch`。\n",
    "    i := 2\n",
    "    fmt.Print(\"write \", i, \" as \")\n",
    "    switch i {\n",
    "    case 1:\n",
    "        fmt.Println(\"one\")\n",
    "    case 2:\n",
    "        fmt.Println(\"two\")\n",
    "    case 3:\n",
    "        fmt.Println(\"three\")\n",
    "    }\n",
    "\n",
    "    // 在一个 `case` 语句中，你可以使用逗号来分隔多个表\n",
    "    // 达式。在这个例子中，我们很好的使用了可选的\n",
    "    // `default` 分支。\n",
    "    switch time.Now().Weekday() {\n",
    "    case time.Saturday, time.Sunday:\n",
    "        fmt.Println(\"it's the weekend\")\n",
    "    default:\n",
    "        fmt.Println(\"it's a weekday\")\n",
    "    }\n",
    "\n",
    "    // 不带表达式的 `switch` 是实现 if/else 逻辑的另一种\n",
    "    // 方式。这里展示了 `case` 表达式是如何使用非常量的。\n",
    "    t := time.Now()\n",
    "    switch {\n",
    "    case t.Hour() < 12:\n",
    "        fmt.Println(\"it's before noon\")\n",
    "    default:\n",
    "        fmt.Println(\"it's after noon\")\n",
    "    }\n",
    "}\n",
    "main()"
   ]
  },
  {
   "cell_type": "markdown",
   "metadata": {},
   "source": [
    "### 数组\n",
    " 在 Go 中，_数组_ 是一个固定长度的数列。"
   ]
  },
  {
   "cell_type": "code",
   "execution_count": 8,
   "metadata": {},
   "outputs": [
    {
     "name": "stdout",
     "output_type": "stream",
     "text": [
      "emp: [0 0 0 0 0]\n",
      "set: [0 0 0 0 100]\n",
      "get: 100\n",
      "len: 5\n",
      "dcl: [1 2 3 4 5]\n",
      "2d:  [[0 1 2] [1 2 3]]\n"
     ]
    }
   ],
   "source": [
    "//package main\n",
    "\n",
    "import \"fmt\"\n",
    "\n",
    "func main() {\n",
    "\n",
    "    // 这里我们创建了一个数组 `a` 来存放刚好 5 个 `int`。\n",
    "    // 元素的类型和长度都是数组类型的一部分。数组默认是\n",
    "    // 零值的，对于 `int` 数组来说也就是 `0`。\n",
    "    var a [5]int\n",
    "    fmt.Println(\"emp:\", a)\n",
    "\n",
    "    // 我们可以使用 `array[index] = value` 语法来设置数组\n",
    "    // 指定位置的值，或者用 `array[index]` 得到值。\n",
    "    a[4] = 100\n",
    "    fmt.Println(\"set:\", a)\n",
    "    fmt.Println(\"get:\", a[4])\n",
    "\n",
    "    // 使用内置函数 `len` 返回数组的长度\n",
    "    fmt.Println(\"len:\", len(a))\n",
    "\n",
    "    // 使用这个语法在一行内初始化一个数组\n",
    "    b := [5]int{1, 2, 3, 4, 5}\n",
    "    fmt.Println(\"dcl:\", b)\n",
    "\n",
    "    // 数组的存储类型是单一的，但是你可以组合这些数据\n",
    "    // 来构造多维的数据结构。\n",
    "    var twoD [2][3]int\n",
    "    for i := 0; i < 2; i++ {\n",
    "        for j := 0; j < 3; j++ {\n",
    "            twoD[i][j] = i + j\n",
    "        }\n",
    "    }\n",
    "    fmt.Println(\"2d: \", twoD)\n",
    "}\n",
    "\n",
    "main()"
   ]
  },
  {
   "cell_type": "markdown",
   "metadata": {},
   "source": [
    "### 切片"
   ]
  },
  {
   "cell_type": "code",
   "execution_count": 9,
   "metadata": {},
   "outputs": [
    {
     "name": "stdout",
     "output_type": "stream",
     "text": [
      "emp: [  ]\n",
      "set: [a b c]\n",
      "get: c\n",
      "len: 3\n",
      "apd: [a b c d e f]\n",
      "cpy: [a b c d e f]\n",
      "sl1: [c d e]\n",
      "sl2: [a b c d e]\n",
      "sl3: [c d e f]\n",
      "dcl: [g h i]\n",
      "2d:  [[0] [1 2] [2 3 4]]\n"
     ]
    }
   ],
   "source": [
    "//package main\n",
    "\n",
    "import \"fmt\"\n",
    "\n",
    "func main() {\n",
    "\n",
    "    // 不像数组，slice 的类型仅有它所包含的元素决定（不像\n",
    "    // 数组中还需要元素的个数）。要创建一个长度非零的空\n",
    "    // slice，需要使用内建的方法 `make`。这里我们创建了一\n",
    "    // 个长度为3的 `string` 类型 slice（初始化为零值）。\n",
    "    s := make([]string, 3)\n",
    "    fmt.Println(\"emp:\", s) // emp: [  ]\n",
    "\n",
    "    // 我们可以和数组一起设置和得到值\n",
    "    s[0] = \"a\"\n",
    "    s[1] = \"b\"\n",
    "    s[2] = \"c\"\n",
    "    fmt.Println(\"set:\", s) // set: [a b c]\n",
    "    fmt.Println(\"get:\", s[2])\n",
    "\n",
    "    // 如你所料，`len` 返回 slice 的长度\n",
    "    fmt.Println(\"len:\", len(s))\n",
    "\n",
    "    // 作为基本操作的补充，slice 支持比数组更多的操作。\n",
    "    // 其中一个是内建的 `append`，它返回一个包含了一个\n",
    "    // 或者多个新值的 slice。注意我们接受返回由 append\n",
    "    // 返回的新的 slice 值。\n",
    "    s = append(s, \"d\")\n",
    "    s = append(s, \"e\", \"f\")\n",
    "    fmt.Println(\"apd:\", s) // apd: [a b c d e f]\n",
    "\n",
    "    // Slice 也可以被 `copy`。这里我们创建一个空的和 `s` 有\n",
    "    // 相同长度的 slice `c`，并且将 `s` 复制给 `c`。\n",
    "    c := make([]string, len(s))\n",
    "    copy(c, s)\n",
    "    fmt.Println(\"cpy:\", c) // cpy: [a b c d e f]\n",
    "\n",
    "    // Slice 支持通过 `slice[low:high]` 语法进行“切片”操\n",
    "    // 作。例如，这里得到一个包含元素 `s[2]`, `s[3]`,`s[4]` 的 slice。\n",
    "    l := s[2:5]\n",
    "    fmt.Println(\"sl1:\", l) // sl1: [c d e]\n",
    "\n",
    "    // 这个 slice 从 `s[0]` 到（但是不包含）`s[5]`。\n",
    "    l = s[:5]\n",
    "    fmt.Println(\"sl2:\", l) // sl2: [a b c d e]\n",
    "\n",
    "    // 这个 slice 从（包含）`s[2]` 到 slice 的后一个值。\n",
    "    l = s[2:]\n",
    "    fmt.Println(\"sl3:\", l) // sl3: [c d e f]\n",
    "\n",
    "    // 我们可以在一行代码中申明并初始化一个 slice 变量。\n",
    "    t := []string{\"g\", \"h\", \"i\"}\n",
    "    fmt.Println(\"dcl:\", t)\n",
    "\n",
    "    // Slice 可以组成多维数据结构。内部的 slice 长度可以不同，这和多维数组不同。\n",
    "    twoD := make([][]int, 3)\n",
    "    for i := 0; i < 3; i++ {\n",
    "        innerLen := i + 1\n",
    "        twoD[i] = make([]int, innerLen)\n",
    "        for j := 0; j < innerLen; j++ {\n",
    "            twoD[i][j] = i + j\n",
    "        }\n",
    "    }\n",
    "    fmt.Println(\"2d: \", twoD)\n",
    "}\n",
    "main()"
   ]
  },
  {
   "cell_type": "markdown",
   "metadata": {},
   "source": [
    "### 关联数组\n",
    "\n",
    "_map_ 是 Go 内置[关联数据类型](http://zh.wikipedia.org/wiki/关联数组)（在一些其他的语言中称为_哈希_ 或者_字典_ ）"
   ]
  },
  {
   "cell_type": "code",
   "execution_count": 10,
   "metadata": {},
   "outputs": [
    {
     "name": "stdout",
     "output_type": "stream",
     "text": [
      "map: map[k1:7 k2:13]\n",
      "v1:  7\n",
      "len: 2\n",
      "map: map[k1:7]\n",
      "prs: false\n",
      "map: map[foo:1 bar:2]\n"
     ]
    }
   ],
   "source": [
    "//package main\n",
    "\n",
    "import \"fmt\"\n",
    "\n",
    "func main() {\n",
    "\n",
    "    // 要创建一个空 map，需要使用内建的 `make`:\n",
    "    // `make(map[key-type]val-type)`.\n",
    "    m := make(map[string]int)\n",
    "\n",
    "    // 使用典型的 `make[key] = val` 语法来设置键值对。\n",
    "    m[\"k1\"] = 7\n",
    "    m[\"k2\"] = 13\n",
    "\n",
    "    // 使用例如 `Println` 来打印一个 map 将会输出所有的键值对。\n",
    "    fmt.Println(\"map:\", m) // map: map[k1:7 k2:13]\n",
    "\n",
    "    // 使用 `name[key]` 来获取一个键的值\n",
    "    v1 := m[\"k1\"]\n",
    "    fmt.Println(\"v1: \", v1)\n",
    "\n",
    "    // 当对一个 map 调用内建的 `len` 时，返回的是键值对数目\n",
    "    fmt.Println(\"len:\", len(m))\n",
    "\n",
    "    // 内建的 `delete` 可以从一个 map 中移除键值对\n",
    "    delete(m, \"k2\")\n",
    "    fmt.Println(\"map:\", m)\n",
    "\n",
    "    // 当从一个 map 中取值时，可选的第二返回值指示这个键是否在这个 map 中。这可以用来消除键不存在和键有零值，\n",
    "    // 像 `0` 或者 `\"\"` 而产生的歧义。\n",
    "    _, prs := m[\"k2\"]\n",
    "    fmt.Println(\"prs:\", prs)\n",
    "\n",
    "    // 你也可以通过这个语法在同一行申明和初始化一个新的map。\n",
    "    n := map[string]int{\"foo\": 1, \"bar\": 2}\n",
    "    fmt.Println(\"map:\", n)\n",
    "}\n",
    "main()"
   ]
  },
  {
   "cell_type": "markdown",
   "metadata": {},
   "source": [
    "### range遍历\n",
    "_range_ 迭代各种各样的数据结构。让我们来看看如何在我们\n",
    "已经学过的数据结构上使用 `range` 吧。"
   ]
  },
  {
   "cell_type": "code",
   "execution_count": 11,
   "metadata": {},
   "outputs": [
    {
     "name": "stdout",
     "output_type": "stream",
     "text": [
      "sum: 9\n",
      "index: 1\n",
      "a -> apple\n",
      "b -> banana\n",
      "0 103\n",
      "1 111\n"
     ]
    }
   ],
   "source": [
    "//package main\n",
    "\n",
    "import \"fmt\"\n",
    "\n",
    "func main() {\n",
    "\n",
    "    // 这里我们使用 `range` 来统计一个 slice 的元素个数。\n",
    "    // 数组也可以采用这种方法。\n",
    "    nums := []int{2, 3, 4}\n",
    "    sum := 0\n",
    "    for _, num := range nums {\n",
    "        sum += num\n",
    "    }\n",
    "    fmt.Println(\"sum:\", sum)\n",
    "\n",
    "    // `range` 在数组和 slice 中都同样提供每个项的索引和\n",
    "    // 值。上面我们不需要索引，所以我们使用 _空值定义符_\n",
    "    // `_` 来忽略它。有时候我们实际上是需要这个索引的。\n",
    "    for i, num := range nums {\n",
    "        if num == 3 {\n",
    "            fmt.Println(\"index:\", i)\n",
    "        }\n",
    "    }\n",
    "\n",
    "    // `range` 在 map 中迭代键值对。\n",
    "    kvs := map[string]string{\"a\": \"apple\", \"b\": \"banana\"}\n",
    "    for k, v := range kvs {\n",
    "        fmt.Printf(\"%s -> %s\\n\", k, v)\n",
    "    }\n",
    "    \n",
    "    // `range` 在字符串中迭代 unicode 编码。第一个返回值是\n",
    "    // `rune` 的起始字节位置，然后第二个是 `rune` 自己。\n",
    "    for i, c := range \"go\" {\n",
    "        fmt.Println(i, c)\n",
    "    }\n",
    "}\n",
    "main()"
   ]
  },
  {
   "cell_type": "markdown",
   "metadata": {},
   "source": [
    "### 函数\n",
    "_函数_ 是 Go 的中心。我们将通过一些不同的例子来进行学习。"
   ]
  },
  {
   "cell_type": "code",
   "execution_count": 12,
   "metadata": {},
   "outputs": [
    {
     "name": "stdout",
     "output_type": "stream",
     "text": [
      "1+2 = 3\n"
     ]
    }
   ],
   "source": [
    "//package main\n",
    "\n",
    "import \"fmt\"\n",
    "\n",
    "// 这里是一个函数，接受两个 `int` 并且以 `int` 返回它们的和\n",
    "func plus(a int, b int) int {\n",
    "\n",
    "    // Go 需要明确的返回值，例如，它不会自动返回最后一个表达式的值\n",
    "    return a + b\n",
    "}\n",
    "\n",
    "func main() {\n",
    "\n",
    "    // 正如你期望的那样，通过 `name(args)` 来调用一个函数，\n",
    "    res := plus(1, 2)\n",
    "    fmt.Println(\"1+2 =\", res)\n",
    "}\n",
    "main()\n",
    "// todo: coalesced parameter types"
   ]
  },
  {
   "cell_type": "markdown",
   "metadata": {},
   "source": [
    "### 多返回值"
   ]
  },
  {
   "cell_type": "code",
   "execution_count": 13,
   "metadata": {},
   "outputs": [
    {
     "name": "stdout",
     "output_type": "stream",
     "text": [
      "3\n",
      "7\n",
      "7\n"
     ]
    }
   ],
   "source": [
    "//package main\n",
    "\n",
    "import \"fmt\"\n",
    "\n",
    "// `(int, int)` 在这个函数中标志着这个函数返回 2 个 `int`。\n",
    "func vals() (int, int) {\n",
    "    return 3, 7\n",
    "}\n",
    "\n",
    "func main() {\n",
    "\n",
    "    // 这里我们通过_多赋值_ 操作来使用这两个不同的返回值。\n",
    "    a, b := vals()\n",
    "    fmt.Println(a)\n",
    "    fmt.Println(b)\n",
    "\n",
    "    // 如果你仅仅想返回值的一部分的话，你可以使用空白定\n",
    "    // 义符 `_`。\n",
    "    _, c := vals()\n",
    "    fmt.Println(c)\n",
    "}\n",
    "main()"
   ]
  },
  {
   "cell_type": "markdown",
   "metadata": {},
   "source": [
    "### 变参函数"
   ]
  },
  {
   "cell_type": "code",
   "execution_count": 14,
   "metadata": {},
   "outputs": [
    {
     "name": "stdout",
     "output_type": "stream",
     "text": [
      "[1 2] 3\n",
      "[1 2 3] 6\n",
      "[1 2 3 4] 10\n"
     ]
    }
   ],
   "source": [
    "//package main\n",
    "\n",
    "import \"fmt\"\n",
    "\n",
    "// 这个函数使用任意数目的 `int` 作为参数。\n",
    "func sum(nums ...int) {\n",
    "    fmt.Print(nums, \" \")\n",
    "    total := 0\n",
    "    for _, num := range nums {\n",
    "        total += num\n",
    "    }\n",
    "    fmt.Println(total)\n",
    "}\n",
    "\n",
    "func main() {\n",
    "\n",
    "    // 变参函数使用常规的调用方式，除了参数比较特殊。\n",
    "    sum(1, 2)\n",
    "    sum(1, 2, 3)\n",
    "\n",
    "    // 如果你的 slice 已经有了多个值，想把它们作为变参\n",
    "    // 使用，你要这样调用 `func(slice...)`。\n",
    "    nums := []int{1, 2, 3, 4}\n",
    "    sum(nums...)\n",
    "}\n",
    "main()"
   ]
  },
  {
   "cell_type": "markdown",
   "metadata": {},
   "source": [
    "### 闭包"
   ]
  },
  {
   "cell_type": "code",
   "execution_count": 15,
   "metadata": {},
   "outputs": [
    {
     "name": "stdout",
     "output_type": "stream",
     "text": [
      "1\n",
      "2\n",
      "3\n",
      "1\n"
     ]
    }
   ],
   "source": [
    "//package main\n",
    "\n",
    "import \"fmt\"\n",
    "\n",
    "// 这个 `intSeq` 函数返回另一个在 `intSeq` 函数体内定义的\n",
    "// 匿名函数。这个返回的函数使用闭包的方式 _隐藏_ 变量 `i`。\n",
    "func intSeq() func() int {\n",
    "    i := 0\n",
    "    return func() int {\n",
    "        i += 1\n",
    "        return i\n",
    "    }\n",
    "}\n",
    "\n",
    "func main() {\n",
    "\n",
    "    // 我们调用 `intSeq` 函数，将返回值（也是一个函数）赋给\n",
    "    // `nextInt`。这个函数的值包含了自己的值 `i`，这样在每\n",
    "    // 次调用 `nextInt` 是都会更新 `i` 的值。\n",
    "    nextInt := intSeq()\n",
    "\n",
    "    // 通过多次调用 `nextInt` 来看看闭包的效果。\n",
    "    fmt.Println(nextInt())\n",
    "    fmt.Println(nextInt())\n",
    "    fmt.Println(nextInt())\n",
    "\n",
    "    // 为了确认这个状态对于这个特定的函数是唯一的，我们\n",
    "    // 重新创建并测试一下。\n",
    "    newInts := intSeq()\n",
    "    fmt.Println(newInts())\n",
    "}\n",
    "main()"
   ]
  },
  {
   "cell_type": "markdown",
   "metadata": {},
   "source": [
    "### 递归"
   ]
  },
  {
   "cell_type": "code",
   "execution_count": 16,
   "metadata": {},
   "outputs": [
    {
     "name": "stdout",
     "output_type": "stream",
     "text": [
      "5040\n"
     ]
    }
   ],
   "source": [
    "//package main\n",
    "\n",
    "import \"fmt\"\n",
    "\n",
    "// `face` 函数在到达 `face(0)` 前一直调用自身。\n",
    "func fact(n int) int {\n",
    "    if n == 0 {\n",
    "        return 1\n",
    "    }\n",
    "    return n * fact(n-1)\n",
    "}\n",
    "\n",
    "func main() {\n",
    "    fmt.Println(fact(7))\n",
    "}\n",
    "main()"
   ]
  },
  {
   "cell_type": "markdown",
   "metadata": {},
   "source": [
    "### 指针"
   ]
  },
  {
   "cell_type": "code",
   "execution_count": 17,
   "metadata": {},
   "outputs": [
    {
     "name": "stdout",
     "output_type": "stream",
     "text": [
      "initial: 1\n",
      "zeroval: 1\n",
      "zeroptr: 0\n",
      "pointer: 0xc420338340\n"
     ]
    }
   ],
   "source": [
    "//package main\n",
    "\n",
    "import \"fmt\"\n",
    "\n",
    "// 我们将通过两个函数：`zeroval` 和 `zeroptr` 来比较指针和值类型的不同。\n",
    "// `zeroval` 有一个 `int` 型参数，所以使用值传递。`zeroval` 将从调用它的那个函数中得到一个 `ival`\n",
    "// 形参的拷贝。\n",
    "func zeroval(ival int) {\n",
    "    ival = 0\n",
    "}\n",
    "\n",
    "// `zeroptr` 有一和上面不同的 `*int` 参数，意味着它用了一个 `int`指针。\n",
    "// 函数体内的 `*iptr` 接着_解引用_ 这个指针，从它内存地址得到这个地址对应的当前值。对一个解引用的指\n",
    "// 针赋值将会改变这个指针引用的真实地址的值。\n",
    "func zeroptr(iptr *int) {\n",
    "    *iptr = 0\n",
    "}\n",
    "\n",
    "func main() {\n",
    "    i := 1\n",
    "    fmt.Println(\"initial:\", i)\n",
    "\n",
    "    zeroval(i)\n",
    "    fmt.Println(\"zeroval:\", i)\n",
    "\n",
    "    // 通过 `&i` 语法来取得 `i` 的内存地址，例如一个变量\n",
    "    // `i` 的指针。\n",
    "    zeroptr(&i)\n",
    "    fmt.Println(\"zeroptr:\", i)\n",
    "\n",
    "    // 指针也是可以被打印的。\n",
    "    fmt.Println(\"pointer:\", &i)\n",
    "}\n",
    "\n",
    "main()"
   ]
  },
  {
   "cell_type": "markdown",
   "metadata": {},
   "source": [
    "### 结构体"
   ]
  },
  {
   "cell_type": "code",
   "execution_count": 18,
   "metadata": {},
   "outputs": [
    {
     "name": "stdout",
     "output_type": "stream",
     "text": [
      "{Bob 20}\n",
      "{Alice 30}\n",
      "{Alice 30}\n",
      "{Fred 0}\n",
      "&{Ann 40}\n",
      "Sean\n",
      "50\n",
      "51\n",
      "52\n"
     ]
    }
   ],
   "source": [
    "//package main\n",
    "\n",
    "import \"fmt\"\n",
    "\n",
    "// 这里的 `person` 结构体包含了 `name` 和 `age` 两个字段。\n",
    "type person struct {\n",
    "    name string\n",
    "    age  int\n",
    "}\n",
    "\n",
    "func main() {\n",
    "\n",
    "    // 使用这个语法创建了一个新的结构体元素。\n",
    "    fmt.Println(person{\"Bob\", 20})\n",
    "\n",
    "    // 你可以在初始化一个结构体元素时指定字段名字。\n",
    "    fmt.Println(person{name: \"Alice\", age: 30})\n",
    "    fmt.Println(person{age: 30, name: \"Alice\"})\n",
    "\n",
    "    // 省略的字段将被初始化为零值。\n",
    "    fmt.Println(person{name: \"Fred\"})\n",
    "\n",
    "    // `&` 前缀生成一个结构体指针。\n",
    "    fmt.Println(&person{name: \"Ann\", age: 40})\n",
    "\n",
    "    // 使用点来访问结构体字段。\n",
    "    s := person{name: \"Sean\", age: 50}\n",
    "    fmt.Println(s.name)\n",
    "\n",
    "    // 也可以对结构体指针使用`.` - 指针会被自动解引用。\n",
    "    sp := &s\n",
    "    fmt.Println(sp.age)\n",
    "\n",
    "    // 结构体是可变的。\n",
    "    sp.age = 51\n",
    "    fmt.Println(sp.age)\n",
    "\n",
    "    s.age++\n",
    "    fmt.Println(sp.age)\n",
    "}\n",
    "main()"
   ]
  },
  {
   "cell_type": "markdown",
   "metadata": {},
   "source": [
    "## 方法\n",
    "Go 支持在结构体类型中定义_方法_ 。\n",
    "\n",
    "Go 自动处理方法调用时的值和指针之间的转化。你可以使用指针来调用方法来避免在方法调用时产生一个拷贝，\n",
    "或者让方法能够改变接受的数据。"
   ]
  },
  {
   "cell_type": "code",
   "execution_count": 19,
   "metadata": {},
   "outputs": [
    {
     "name": "stdout",
     "output_type": "stream",
     "text": [
      "area:  50\n",
      "perim: 30\n",
      "area:  50\n",
      "perim: 30\n"
     ]
    }
   ],
   "source": [
    "// package main\n",
    "\n",
    "import \"fmt\"\n",
    "\n",
    "type rect struct {\n",
    "    width, height int\n",
    "}\n",
    "\n",
    "// 这里的 `area` 方法有一个_接收器类型_ `rect`。\n",
    "func (r *rect) area() int {\n",
    "    return r.width * r.height\n",
    "}\n",
    "\n",
    "// 可以为值类型或者指针类型的接收器定义方法。这里是一个值类型接收器的例子。\n",
    "func (r rect) perim() int {\n",
    "    return 2*r.width + 2*r.height\n",
    "}\n",
    "\n",
    "func main() {\n",
    "    r := rect{width: 10, height: 5}\n",
    "\n",
    "    // 这里我们调用上面为结构体定义的两个方法。\n",
    "    fmt.Println(\"area: \", r.area())\n",
    "    fmt.Println(\"perim:\", r.perim())\n",
    "\n",
    "    // Go 自动处理方法调用时的值和指针之间的转化。你可以使用指针来调用方法来避免在方法调用时产生一个拷贝，\n",
    "    // 或者让方法能够改变接受的数据。\n",
    "    rp := &r\n",
    "    fmt.Println(\"area: \", rp.area())\n",
    "    fmt.Println(\"perim:\", rp.perim())\n",
    "}\n",
    "\n",
    "main()"
   ]
  },
  {
   "cell_type": "markdown",
   "metadata": {},
   "source": [
    "### 接口\n",
    "_接口_ 是方法特征的命名集合。\n",
    "\n",
    "要在 Go 中实现一个接口，我们只需要实现接口中的所有方法。"
   ]
  },
  {
   "cell_type": "code",
   "execution_count": 20,
   "metadata": {},
   "outputs": [
    {
     "name": "stdout",
     "output_type": "stream",
     "text": [
      "{3 4}\n",
      "12\n",
      "14\n",
      "{5}\n",
      "78.53981633974483\n",
      "31.41592653589793\n"
     ]
    }
   ],
   "source": [
    "//package main\n",
    "\n",
    "import \"fmt\"\n",
    "import \"math\"\n",
    "\n",
    "// 这里是一个几何体的基本接口。\n",
    "type geometry interface {\n",
    "    area() float64\n",
    "    perim() float64\n",
    "}\n",
    "\n",
    "// 在我们的例子中，我们将让 `square` 和 `circle` 实现这个接口\n",
    "type square struct {\n",
    "    width, height float64\n",
    "}\n",
    "type circle struct {\n",
    "    radius float64\n",
    "}\n",
    "\n",
    "// 要在 Go 中实现一个接口，我们只需要实现接口中的所有\n",
    "// 方法。这里我们让 `square` 实现了 `geometry` 接口。\n",
    "func (s square) area() float64 {\n",
    "    return s.width * s.height\n",
    "}\n",
    "func (s square) perim() float64 {\n",
    "    return 2*s.width + 2*s.height\n",
    "}\n",
    "\n",
    "// `circle` 的实现。\n",
    "func (c circle) area() float64 {\n",
    "    return math.Pi * c.radius * c.radius\n",
    "}\n",
    "func (c circle) perim() float64 {\n",
    "    return 2 * math.Pi * c.radius\n",
    "}\n",
    "\n",
    "// 如果一个变量的是接口类型，那么我们可以调用这个被命名的\n",
    "// 接口中的方法。这里有一个一通用的 `measure` 函数，利用这个\n",
    "// 特性，它可以用在任何 `geometry` 上。\n",
    "func measure(g geometry) {\n",
    "    fmt.Println(g)\n",
    "    fmt.Println(g.area())\n",
    "    fmt.Println(g.perim())\n",
    "}\n",
    "\n",
    "func main() {\n",
    "    s := square{width: 3, height: 4}\n",
    "    c := circle{radius: 5}\n",
    "\n",
    "    // 结构体类型 `circle` 和 `square` 都实现了 `geometry`\n",
    "    // 接口，所以我们可以使用它们的实例作为 `measure` 的参数。\n",
    "    measure(s)\n",
    "    measure(c)\n",
    "}\n",
    "main()"
   ]
  },
  {
   "cell_type": "markdown",
   "metadata": {},
   "source": [
    "### 错误处理\n",
    "\n",
    "按照惯例，错误通常是最后一个返回值并且是 `error` 类型，一个内建的接口。"
   ]
  },
  {
   "cell_type": "code",
   "execution_count": 21,
   "metadata": {},
   "outputs": [
    {
     "name": "stdout",
     "output_type": "stream",
     "text": [
      "f1 worked: 10\n",
      "f1 failed: can't work with 42\n",
      "f2 worked: 10\n",
      "f2 failed: 42 - can't work with it\n",
      "-------\n",
      "42\n",
      "can't work with it\n"
     ]
    }
   ],
   "source": [
    "//package main\n",
    "\n",
    "import \"errors\"\n",
    "import \"fmt\"\n",
    "\n",
    "// 按照惯例，错误通常是最后一个返回值并且是 `error` 类型，一个内建的接口。\n",
    "func f1(arg int) (int, error) {\n",
    "    if arg == 42 {\n",
    "        // `errors.New` 构造一个使用给定的错误信息的基本`error` 值。\n",
    "        return -1, errors.New(\"can't work with 42\")\n",
    "    }\n",
    "\n",
    "    // 返回错误值为 nil 代表没有错误。\n",
    "    return arg + 3, nil\n",
    "}\n",
    "\n",
    "// 通过实现 `Error` 方法来自定义 `error` 类型是可以的。\n",
    "// 这里使用自定义错误类型来表示上面的参数错误。\n",
    "type argError struct {\n",
    "    arg  int\n",
    "    prob string\n",
    "}\n",
    "\n",
    "func (e *argError) Error() string {\n",
    "    return fmt.Sprintf(\"%d - %s\", e.arg, e.prob)\n",
    "}\n",
    "\n",
    "func f2(arg int) (int, error) {\n",
    "    if arg == 42 {\n",
    "\n",
    "        // 在这个例子中，我们使用 `&argError` 语法来建立一个新的结构体，\n",
    "        // 并提供了 `arg` 和 `prob` 这个两个字段的值。\n",
    "        return -1, &argError{arg, \"can't work with it\"}\n",
    "    }\n",
    "    return arg + 3, nil\n",
    "}\n",
    "\n",
    "func main() {\n",
    "\n",
    "    // 下面的两个循环测试了各个返回错误的函数。注意在 `if`\n",
    "    // 行内的错误检查代码，在 Go 中是一个普遍的用法。\n",
    "    for _, i := range []int{7, 42} {\n",
    "        if r, e := f1(i); e != nil {\n",
    "            fmt.Println(\"f1 failed:\", e)\n",
    "        } else {\n",
    "            fmt.Println(\"f1 worked:\", r)\n",
    "        }\n",
    "    }\n",
    "\n",
    "    for _, i := range []int{7, 42} {\n",
    "        if r, e := f2(i); e != nil {\n",
    "            fmt.Println(\"f2 failed:\", e)\n",
    "        } else {\n",
    "            fmt.Println(\"f2 worked:\", r)\n",
    "        }\n",
    "    }\n",
    "\n",
    "    fmt.Println(\"-------\")\n",
    "    // 你如果想在程序中使用一个自定义错误类型中的数据，你需要通过类型断言来得到这个错误类型的实例。\n",
    "    // ae, ok := e.(*argError): 类型断言括号中表示指针类型，ae是恢复的类型，ok表示是否成功\n",
    "    _, e := f2(42)\n",
    "    if ae, ok := e.(*argError); ok {\n",
    "        fmt.Println(ae.arg)\n",
    "        fmt.Println(ae.prob)\n",
    "    }\n",
    "}\n",
    "main()"
   ]
  },
  {
   "cell_type": "markdown",
   "metadata": {},
   "source": [
    "### 协程"
   ]
  },
  {
   "cell_type": "code",
   "execution_count": 22,
   "metadata": {},
   "outputs": [
    {
     "name": "stdout",
     "output_type": "stream",
     "text": [
      "direct : 0\n",
      "direct : 1\n",
      "direct : 2\n",
      "done\n",
      "going\n",
      "goroutine : 0\n",
      "goroutine : 1\n",
      "goroutine : 2\n"
     ]
    }
   ],
   "source": [
    "//package main\n",
    "\n",
    "import \"fmt\"\n",
    "\n",
    "func f(from string) {\n",
    "    for i := 0; i < 3; i++ {\n",
    "        fmt.Println(from, \":\", i)\n",
    "    }\n",
    "}\n",
    "\n",
    "func main() {\n",
    "\n",
    "    // 假设我们有一个函数叫做 `f(s)`。我们使用一般的方式\n",
    "    // 调并同时运行。\n",
    "    f(\"direct\")\n",
    "\n",
    "    // 使用 `go f(s)` 在一个 Go 协程中调用这个函数。\n",
    "    // 这个新的 Go 协程将会并行的执行这个函数调用。\n",
    "    go f(\"goroutine\")\n",
    "\n",
    "    // 你也可以为匿名函数启动一个 Go 协程。\n",
    "    go func(msg string) {\n",
    "        fmt.Println(msg)\n",
    "    }(\"going\")\n",
    "\n",
    "    // 现在这两个 Go 协程在独立的 Go 协程中异步的运行，所以\n",
    "    // 我们需要等它们执行结束。这里的 `Scanln` 代码需要我们\n",
    "    // 在程序退出前按下任意键结束。\n",
    "    var input string\n",
    "    fmt.Scanln(&input)\n",
    "    fmt.Println(\"done\")\n",
    "}\n",
    "main()"
   ]
  }
 ],
 "metadata": {
  "kernelspec": {
   "display_name": "Go (lgo)",
   "language": "go",
   "name": "lgo"
  },
  "language_info": {
   "file_extension": "",
   "mimetype": "",
   "name": "go",
   "version": ""
  }
 },
 "nbformat": 4,
 "nbformat_minor": 2
}
