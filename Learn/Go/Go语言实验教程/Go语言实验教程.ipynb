{
 "cells": [
  {
   "cell_type": "markdown",
   "metadata": {},
   "source": [
    "### go的hello_world"
   ]
  },
  {
   "cell_type": "code",
   "execution_count": 1,
   "metadata": {},
   "outputs": [
    {
     "name": "stdout",
     "output_type": "stream",
     "text": [
      "hello world\n"
     ]
    }
   ],
   "source": [
    "//package main\n",
    "import \"fmt\"\n",
    "\n",
    "func main() {\n",
    "    fmt.Println(\"hello world\")\n",
    "}\n",
    "\n",
    "main()"
   ]
  },
  {
   "cell_type": "markdown",
   "metadata": {},
   "source": [
    "### 值"
   ]
  },
  {
   "cell_type": "code",
   "execution_count": 2,
   "metadata": {},
   "outputs": [
    {
     "name": "stdout",
     "output_type": "stream",
     "text": [
      "golang\n",
      "1+1 = 2\n",
      "7.0/3.0 = 2.3333333333333335\n",
      "7/3 = 2\n",
      "7/3.0 = 2.3333333333333335\n",
      "false\n",
      "true\n",
      "false\n"
     ]
    }
   ],
   "source": [
    "//package main\n",
    "import \"fmt\"\n",
    "\n",
    "func main() {\n",
    "\n",
    "    // 字符串可以通过 `+` 连接。\n",
    "    fmt.Println(\"go\" + \"lang\")\n",
    "\n",
    "    // 整数和浮点数\n",
    "    fmt.Println(\"1+1 =\", 1+1)\n",
    "    fmt.Println(\"7.0/3.0 =\", 7.0/3.0)\n",
    "    fmt.Println(\"7/3 =\", 7/3)\n",
    "    fmt.Println(\"7/3.0 =\", 7/3.0)\n",
    "\n",
    "    // 布尔型，还有你想要的逻辑运算符。\n",
    "    fmt.Println(true && false)\n",
    "    fmt.Println(true || false)\n",
    "    fmt.Println(!true)\n",
    "}\n",
    "\n",
    "main()"
   ]
  },
  {
   "cell_type": "markdown",
   "metadata": {},
   "source": [
    "### 变量"
   ]
  },
  {
   "cell_type": "code",
   "execution_count": 3,
   "metadata": {},
   "outputs": [
    {
     "name": "stdout",
     "output_type": "stream",
     "text": [
      "initial\n",
      "1 2\n",
      "true\n",
      "0\n",
      "short\n"
     ]
    }
   ],
   "source": [
    "//package main\n",
    "import \"fmt\"\n",
    "\n",
    "func main() {\n",
    "\n",
    "    // `var` 声明 1 个或者多个变量。\n",
    "    var a string = \"initial\"\n",
    "    fmt.Println(a)\n",
    "\n",
    "    // 你可以申明一次性声明多个变量。\n",
    "    var b, c int = 1, 2\n",
    "    fmt.Println(b, c)\n",
    "\n",
    "    // Go 将自动推断已经初始化的变量类型。\n",
    "    var d = true\n",
    "    fmt.Println(d)\n",
    "\n",
    "    // 声明变量且没有给出对应的初始值时，变量将会初始化为\n",
    "    // _零值_ 。例如，一个 `int` 的零值是 `0`。\n",
    "    var e int\n",
    "    fmt.Println(e)\n",
    "\n",
    "    // `:=` 语句是申明并初始化变量的简写，例如\n",
    "    // 这个例子中的 `var f string = \"short\"`。\n",
    "    f := \"short\"\n",
    "    fmt.Println(f)\n",
    "}\n",
    "\n",
    "main()"
   ]
  },
  {
   "cell_type": "markdown",
   "metadata": {},
   "source": [
    "### 常量"
   ]
  },
  {
   "cell_type": "code",
   "execution_count": 4,
   "metadata": {},
   "outputs": [
    {
     "name": "stdout",
     "output_type": "stream",
     "text": [
      "constant\n",
      "6e+11\n",
      "600000000000\n",
      "-0.28470407323754404\n",
      "-0.28470407323754404\n",
      "-0.28470407323754404\n"
     ]
    }
   ],
   "source": [
    "//package main\n",
    "\n",
    "import \"fmt\"\n",
    "import \"math\"\n",
    "\n",
    "// `const` 用于声明一个常量。\n",
    "const s string = \"constant\"\n",
    "\n",
    "func main() {\n",
    "    fmt.Println(s)\n",
    "\n",
    "    // `const` 语句可以出现在任何 `var` 语句可以出现的地方\n",
    "    const n = 500000000\n",
    "\n",
    "    // 常数表达式可以执行任意精度的运算\n",
    "    const d = 3e20 / n\n",
    "    fmt.Println(d)\n",
    "\n",
    "    // 数值型常量是没有确定的类型的，直到它们被给定了一个\n",
    "    // 类型，比如说一次显示的类型转化。\n",
    "    fmt.Println(int64(d))\n",
    "\n",
    "    // 当上下文需要时，一个数可以被给定一个类型，比如\n",
    "    // 变量赋值或者函数调用。举个例子，这里的 `math.Sin`\n",
    "    // 函数需要一个 `float64` 的参数。\n",
    "    fmt.Println(math.Sin(n))\n",
    "    fmt.Println(math.Sin(500000000))\n",
    "    fmt.Println(math.Sin(500000000.0))\n",
    "}\n",
    "\n",
    "main()"
   ]
  },
  {
   "cell_type": "markdown",
   "metadata": {},
   "source": [
    "### for循环\n",
    "\n",
    "`for` 是 Go 中唯一的循环结构。这里有 `for` 循环的三个基本使用方式。"
   ]
  },
  {
   "cell_type": "code",
   "execution_count": 5,
   "metadata": {},
   "outputs": [
    {
     "name": "stdout",
     "output_type": "stream",
     "text": [
      "1\n",
      "2\n",
      "3\n",
      "7\n",
      "8\n",
      "9\n",
      "loop\n"
     ]
    }
   ],
   "source": [
    "//package main\n",
    "\n",
    "import \"fmt\"\n",
    "\n",
    "func main() {\n",
    "\n",
    "    // 最常用的方式，带单个循环条件。\n",
    "    i := 1\n",
    "    for i <= 3 {\n",
    "        fmt.Println(i)\n",
    "        i = i + 1\n",
    "    }\n",
    "\n",
    "    // 经典的初始化/条件/后续形式 `for` 循环。\n",
    "    for j := 7; j <= 9; j++ {\n",
    "        fmt.Println(j)\n",
    "    }\n",
    "\n",
    "    // 不带条件的 `for` 循环将一直执行，直到在循环体内使用\n",
    "    // 了 `break` 或者 `return` 来跳出循环。\n",
    "    for {\n",
    "        fmt.Println(\"loop\")\n",
    "        break\n",
    "    }\n",
    "}\n",
    "\n",
    "main()"
   ]
  },
  {
   "cell_type": "markdown",
   "metadata": {},
   "source": [
    "### if_else分支\n",
    "`if` 和 `else` 分支结构在 Go 中当然是直接了当的了。\n",
    "\n",
    "注意，在 Go 中，你可以不使用圆括号，但是花括号是需要的。"
   ]
  },
  {
   "cell_type": "code",
   "execution_count": 6,
   "metadata": {},
   "outputs": [
    {
     "name": "stdout",
     "output_type": "stream",
     "text": [
      "7 is odd\n",
      "8 is divisible by 4\n",
      "9 has 1 digit\n"
     ]
    }
   ],
   "source": [
    "//package main\n",
    "\n",
    "import \"fmt\"\n",
    "\n",
    "func main() {\n",
    "\n",
    "    // 这里是一个基本的例子。\n",
    "    if 7%2 == 0 {\n",
    "        fmt.Println(\"7 is even\")\n",
    "    } else {\n",
    "        fmt.Println(\"7 is odd\")\n",
    "    }\n",
    "\n",
    "    // 你可以不要 `else` 只用 `if` 语句。\n",
    "    if 8%4 == 0 {\n",
    "        fmt.Println(\"8 is divisible by 4\")\n",
    "    }\n",
    "\n",
    "    // 在条件语句之前可以有一个语句；任何在这里声明的变量\n",
    "    // 都可以在所有的条件分支中使用。\n",
    "    if num := 9; num < 0 {\n",
    "        fmt.Println(num, \"is negative\")\n",
    "    } else if num < 10 {\n",
    "        fmt.Println(num, \"has 1 digit\")\n",
    "    } else {\n",
    "        fmt.Println(num, \"has multiple digits\")\n",
    "    }\n",
    "}\n",
    "\n",
    "main()"
   ]
  },
  {
   "cell_type": "markdown",
   "metadata": {},
   "source": [
    "### 分支结构\n",
    "\n",
    "_switch_ ，方便的条件分支语句。"
   ]
  },
  {
   "cell_type": "code",
   "execution_count": 7,
   "metadata": {},
   "outputs": [
    {
     "name": "stdout",
     "output_type": "stream",
     "text": [
      "write 2 as two\n",
      "it's the weekend\n",
      "it's after noon\n"
     ]
    }
   ],
   "source": [
    "//package main\n",
    "\n",
    "import \"fmt\"\n",
    "import \"time\"\n",
    "\n",
    "func main() {\n",
    "\n",
    "    // 一个基本的 `switch`。\n",
    "    i := 2\n",
    "    fmt.Print(\"write \", i, \" as \")\n",
    "    switch i {\n",
    "    case 1:\n",
    "        fmt.Println(\"one\")\n",
    "    case 2:\n",
    "        fmt.Println(\"two\")\n",
    "    case 3:\n",
    "        fmt.Println(\"three\")\n",
    "    }\n",
    "\n",
    "    // 在一个 `case` 语句中，你可以使用逗号来分隔多个表\n",
    "    // 达式。在这个例子中，我们很好的使用了可选的\n",
    "    // `default` 分支。\n",
    "    switch time.Now().Weekday() {\n",
    "    case time.Saturday, time.Sunday:\n",
    "        fmt.Println(\"it's the weekend\")\n",
    "    default:\n",
    "        fmt.Println(\"it's a weekday\")\n",
    "    }\n",
    "\n",
    "    // 不带表达式的 `switch` 是实现 if/else 逻辑的另一种\n",
    "    // 方式。这里展示了 `case` 表达式是如何使用非常量的。\n",
    "    t := time.Now()\n",
    "    switch {\n",
    "    case t.Hour() < 12:\n",
    "        fmt.Println(\"it's before noon\")\n",
    "    default:\n",
    "        fmt.Println(\"it's after noon\")\n",
    "    }\n",
    "}\n",
    "main()"
   ]
  },
  {
   "cell_type": "markdown",
   "metadata": {},
   "source": [
    "### 数组\n",
    " 在 Go 中，_数组_ 是一个固定长度的数列。"
   ]
  },
  {
   "cell_type": "code",
   "execution_count": 8,
   "metadata": {},
   "outputs": [
    {
     "name": "stdout",
     "output_type": "stream",
     "text": [
      "emp: [0 0 0 0 0]\n",
      "set: [0 0 0 0 100]\n",
      "get: 100\n",
      "len: 5\n",
      "dcl: [1 2 3 4 5]\n",
      "2d:  [[0 1 2] [1 2 3]]\n"
     ]
    }
   ],
   "source": [
    "//package main\n",
    "\n",
    "import \"fmt\"\n",
    "\n",
    "func main() {\n",
    "\n",
    "    // 这里我们创建了一个数组 `a` 来存放刚好 5 个 `int`。\n",
    "    // 元素的类型和长度都是数组类型的一部分。数组默认是\n",
    "    // 零值的，对于 `int` 数组来说也就是 `0`。\n",
    "    var a [5]int\n",
    "    fmt.Println(\"emp:\", a)\n",
    "\n",
    "    // 我们可以使用 `array[index] = value` 语法来设置数组\n",
    "    // 指定位置的值，或者用 `array[index]` 得到值。\n",
    "    a[4] = 100\n",
    "    fmt.Println(\"set:\", a)\n",
    "    fmt.Println(\"get:\", a[4])\n",
    "\n",
    "    // 使用内置函数 `len` 返回数组的长度\n",
    "    fmt.Println(\"len:\", len(a))\n",
    "\n",
    "    // 使用这个语法在一行内初始化一个数组\n",
    "    b := [5]int{1, 2, 3, 4, 5}\n",
    "    fmt.Println(\"dcl:\", b)\n",
    "\n",
    "    // 数组的存储类型是单一的，但是你可以组合这些数据\n",
    "    // 来构造多维的数据结构。\n",
    "    var twoD [2][3]int\n",
    "    for i := 0; i < 2; i++ {\n",
    "        for j := 0; j < 3; j++ {\n",
    "            twoD[i][j] = i + j\n",
    "        }\n",
    "    }\n",
    "    fmt.Println(\"2d: \", twoD)\n",
    "}\n",
    "\n",
    "main()"
   ]
  },
  {
   "cell_type": "markdown",
   "metadata": {},
   "source": [
    "### 切片"
   ]
  },
  {
   "cell_type": "code",
   "execution_count": 9,
   "metadata": {},
   "outputs": [
    {
     "name": "stdout",
     "output_type": "stream",
     "text": [
      "emp: [  ]\n",
      "set: [a b c]\n",
      "get: c\n",
      "len: 3\n",
      "apd: [a b c d e f]\n",
      "cpy: [a b c d e f]\n",
      "sl1: [c d e]\n",
      "sl2: [a b c d e]\n",
      "sl3: [c d e f]\n",
      "dcl: [g h i]\n",
      "2d:  [[0] [1 2] [2 3 4]]\n"
     ]
    }
   ],
   "source": [
    "//package main\n",
    "\n",
    "import \"fmt\"\n",
    "\n",
    "func main() {\n",
    "\n",
    "    // 不像数组，slice 的类型仅有它所包含的元素决定（不像\n",
    "    // 数组中还需要元素的个数）。要创建一个长度非零的空\n",
    "    // slice，需要使用内建的方法 `make`。这里我们创建了一\n",
    "    // 个长度为3的 `string` 类型 slice（初始化为零值）。\n",
    "    s := make([]string, 3)\n",
    "    fmt.Println(\"emp:\", s) // emp: [  ]\n",
    "\n",
    "    // 我们可以和数组一起设置和得到值\n",
    "    s[0] = \"a\"\n",
    "    s[1] = \"b\"\n",
    "    s[2] = \"c\"\n",
    "    fmt.Println(\"set:\", s) // set: [a b c]\n",
    "    fmt.Println(\"get:\", s[2])\n",
    "\n",
    "    // 如你所料，`len` 返回 slice 的长度\n",
    "    fmt.Println(\"len:\", len(s))\n",
    "\n",
    "    // 作为基本操作的补充，slice 支持比数组更多的操作。\n",
    "    // 其中一个是内建的 `append`，它返回一个包含了一个\n",
    "    // 或者多个新值的 slice。注意我们接受返回由 append\n",
    "    // 返回的新的 slice 值。\n",
    "    s = append(s, \"d\")\n",
    "    s = append(s, \"e\", \"f\")\n",
    "    fmt.Println(\"apd:\", s) // apd: [a b c d e f]\n",
    "\n",
    "    // Slice 也可以被 `copy`。这里我们创建一个空的和 `s` 有\n",
    "    // 相同长度的 slice `c`，并且将 `s` 复制给 `c`。\n",
    "    c := make([]string, len(s))\n",
    "    copy(c, s)\n",
    "    fmt.Println(\"cpy:\", c) // cpy: [a b c d e f]\n",
    "\n",
    "    // Slice 支持通过 `slice[low:high]` 语法进行“切片”操\n",
    "    // 作。例如，这里得到一个包含元素 `s[2]`, `s[3]`,`s[4]` 的 slice。\n",
    "    l := s[2:5]\n",
    "    fmt.Println(\"sl1:\", l) // sl1: [c d e]\n",
    "\n",
    "    // 这个 slice 从 `s[0]` 到（但是不包含）`s[5]`。\n",
    "    l = s[:5]\n",
    "    fmt.Println(\"sl2:\", l) // sl2: [a b c d e]\n",
    "\n",
    "    // 这个 slice 从（包含）`s[2]` 到 slice 的后一个值。\n",
    "    l = s[2:]\n",
    "    fmt.Println(\"sl3:\", l) // sl3: [c d e f]\n",
    "\n",
    "    // 我们可以在一行代码中申明并初始化一个 slice 变量。\n",
    "    t := []string{\"g\", \"h\", \"i\"}\n",
    "    fmt.Println(\"dcl:\", t)\n",
    "\n",
    "    // Slice 可以组成多维数据结构。内部的 slice 长度可以不同，这和多维数组不同。\n",
    "    twoD := make([][]int, 3)\n",
    "    for i := 0; i < 3; i++ {\n",
    "        innerLen := i + 1\n",
    "        twoD[i] = make([]int, innerLen)\n",
    "        for j := 0; j < innerLen; j++ {\n",
    "            twoD[i][j] = i + j\n",
    "        }\n",
    "    }\n",
    "    fmt.Println(\"2d: \", twoD)\n",
    "}\n",
    "main()"
   ]
  },
  {
   "cell_type": "markdown",
   "metadata": {},
   "source": [
    "### 关联数组\n",
    "\n",
    "_map_ 是 Go 内置[关联数据类型](http://zh.wikipedia.org/wiki/关联数组)（在一些其他的语言中称为_哈希_ 或者_字典_ ）"
   ]
  },
  {
   "cell_type": "code",
   "execution_count": 10,
   "metadata": {},
   "outputs": [
    {
     "name": "stdout",
     "output_type": "stream",
     "text": [
      "map: map[k1:7 k2:13]\n",
      "v1:  7\n",
      "len: 2\n",
      "map: map[k1:7]\n",
      "prs: false\n",
      "map: map[foo:1 bar:2]\n"
     ]
    }
   ],
   "source": [
    "//package main\n",
    "\n",
    "import \"fmt\"\n",
    "\n",
    "func main() {\n",
    "\n",
    "    // 要创建一个空 map，需要使用内建的 `make`:\n",
    "    // `make(map[key-type]val-type)`.\n",
    "    m := make(map[string]int)\n",
    "\n",
    "    // 使用典型的 `make[key] = val` 语法来设置键值对。\n",
    "    m[\"k1\"] = 7\n",
    "    m[\"k2\"] = 13\n",
    "\n",
    "    // 使用例如 `Println` 来打印一个 map 将会输出所有的键值对。\n",
    "    fmt.Println(\"map:\", m) // map: map[k1:7 k2:13]\n",
    "\n",
    "    // 使用 `name[key]` 来获取一个键的值\n",
    "    v1 := m[\"k1\"]\n",
    "    fmt.Println(\"v1: \", v1)\n",
    "\n",
    "    // 当对一个 map 调用内建的 `len` 时，返回的是键值对数目\n",
    "    fmt.Println(\"len:\", len(m))\n",
    "\n",
    "    // 内建的 `delete` 可以从一个 map 中移除键值对\n",
    "    delete(m, \"k2\")\n",
    "    fmt.Println(\"map:\", m)\n",
    "\n",
    "    // 当从一个 map 中取值时，可选的第二返回值指示这个键是否在这个 map 中。这可以用来消除键不存在和键有零值，\n",
    "    // 像 `0` 或者 `\"\"` 而产生的歧义。\n",
    "    _, prs := m[\"k2\"]\n",
    "    fmt.Println(\"prs:\", prs)\n",
    "\n",
    "    // 你也可以通过这个语法在同一行申明和初始化一个新的map。\n",
    "    n := map[string]int{\"foo\": 1, \"bar\": 2}\n",
    "    fmt.Println(\"map:\", n)\n",
    "}\n",
    "main()"
   ]
  },
  {
   "cell_type": "markdown",
   "metadata": {},
   "source": [
    "### range遍历\n",
    "_range_ 迭代各种各样的数据结构。让我们来看看如何在我们\n",
    "已经学过的数据结构上使用 `range` 吧。"
   ]
  },
  {
   "cell_type": "code",
   "execution_count": 11,
   "metadata": {},
   "outputs": [
    {
     "name": "stdout",
     "output_type": "stream",
     "text": [
      "sum: 9\n",
      "index: 1\n",
      "b -> banana\n",
      "a -> apple\n",
      "0 103\n",
      "1 111\n"
     ]
    }
   ],
   "source": [
    "//package main\n",
    "\n",
    "import \"fmt\"\n",
    "\n",
    "func main() {\n",
    "\n",
    "    // 这里我们使用 `range` 来统计一个 slice 的元素个数。\n",
    "    // 数组也可以采用这种方法。\n",
    "    nums := []int{2, 3, 4}\n",
    "    sum := 0\n",
    "    for _, num := range nums {\n",
    "        sum += num\n",
    "    }\n",
    "    fmt.Println(\"sum:\", sum)\n",
    "\n",
    "    // `range` 在数组和 slice 中都同样提供每个项的索引和\n",
    "    // 值。上面我们不需要索引，所以我们使用 _空值定义符_\n",
    "    // `_` 来忽略它。有时候我们实际上是需要这个索引的。\n",
    "    for i, num := range nums {\n",
    "        if num == 3 {\n",
    "            fmt.Println(\"index:\", i)\n",
    "        }\n",
    "    }\n",
    "\n",
    "    // `range` 在 map 中迭代键值对。\n",
    "    kvs := map[string]string{\"a\": \"apple\", \"b\": \"banana\"}\n",
    "    for k, v := range kvs {\n",
    "        fmt.Printf(\"%s -> %s\\n\", k, v)\n",
    "    }\n",
    "    \n",
    "    // `range` 在字符串中迭代 unicode 编码。第一个返回值是\n",
    "    // `rune` 的起始字节位置，然后第二个是 `rune` 自己。\n",
    "    for i, c := range \"go\" {\n",
    "        fmt.Println(i, c)\n",
    "    }\n",
    "}\n",
    "main()"
   ]
  },
  {
   "cell_type": "markdown",
   "metadata": {},
   "source": [
    "### 函数\n",
    "_函数_ 是 Go 的中心。我们将通过一些不同的例子来进行学习。"
   ]
  },
  {
   "cell_type": "code",
   "execution_count": 12,
   "metadata": {},
   "outputs": [
    {
     "name": "stdout",
     "output_type": "stream",
     "text": [
      "1+2 = 3\n"
     ]
    }
   ],
   "source": [
    "//package main\n",
    "\n",
    "import \"fmt\"\n",
    "\n",
    "// 这里是一个函数，接受两个 `int` 并且以 `int` 返回它们的和\n",
    "func plus(a int, b int) int {\n",
    "\n",
    "    // Go 需要明确的返回值，例如，它不会自动返回最后一个表达式的值\n",
    "    return a + b\n",
    "}\n",
    "\n",
    "func main() {\n",
    "\n",
    "    // 正如你期望的那样，通过 `name(args)` 来调用一个函数，\n",
    "    res := plus(1, 2)\n",
    "    fmt.Println(\"1+2 =\", res)\n",
    "}\n",
    "main()\n",
    "// todo: coalesced parameter types"
   ]
  },
  {
   "cell_type": "markdown",
   "metadata": {},
   "source": [
    "### 多返回值"
   ]
  },
  {
   "cell_type": "code",
   "execution_count": 13,
   "metadata": {},
   "outputs": [
    {
     "name": "stdout",
     "output_type": "stream",
     "text": [
      "3\n",
      "7\n",
      "7\n"
     ]
    }
   ],
   "source": [
    "//package main\n",
    "\n",
    "import \"fmt\"\n",
    "\n",
    "// `(int, int)` 在这个函数中标志着这个函数返回 2 个 `int`。\n",
    "func vals() (int, int) {\n",
    "    return 3, 7\n",
    "}\n",
    "\n",
    "func main() {\n",
    "\n",
    "    // 这里我们通过_多赋值_ 操作来使用这两个不同的返回值。\n",
    "    a, b := vals()\n",
    "    fmt.Println(a)\n",
    "    fmt.Println(b)\n",
    "\n",
    "    // 如果你仅仅想返回值的一部分的话，你可以使用空白定\n",
    "    // 义符 `_`。\n",
    "    _, c := vals()\n",
    "    fmt.Println(c)\n",
    "}\n",
    "main()"
   ]
  },
  {
   "cell_type": "markdown",
   "metadata": {},
   "source": [
    "### 变参函数"
   ]
  },
  {
   "cell_type": "code",
   "execution_count": 14,
   "metadata": {},
   "outputs": [
    {
     "name": "stdout",
     "output_type": "stream",
     "text": [
      "[1 2] 3\n",
      "[1 2 3] 6\n",
      "[1 2 3 4] 10\n"
     ]
    }
   ],
   "source": [
    "//package main\n",
    "\n",
    "import \"fmt\"\n",
    "\n",
    "// 这个函数使用任意数目的 `int` 作为参数。\n",
    "func sum(nums ...int) {\n",
    "    fmt.Print(nums, \" \")\n",
    "    total := 0\n",
    "    for _, num := range nums {\n",
    "        total += num\n",
    "    }\n",
    "    fmt.Println(total)\n",
    "}\n",
    "\n",
    "func main() {\n",
    "\n",
    "    // 变参函数使用常规的调用方式，除了参数比较特殊。\n",
    "    sum(1, 2)\n",
    "    sum(1, 2, 3)\n",
    "\n",
    "    // 如果你的 slice 已经有了多个值，想把它们作为变参\n",
    "    // 使用，你要这样调用 `func(slice...)`。\n",
    "    nums := []int{1, 2, 3, 4}\n",
    "    sum(nums...)\n",
    "}\n",
    "main()"
   ]
  },
  {
   "cell_type": "markdown",
   "metadata": {},
   "source": [
    "### 闭包"
   ]
  },
  {
   "cell_type": "code",
   "execution_count": 15,
   "metadata": {},
   "outputs": [
    {
     "name": "stdout",
     "output_type": "stream",
     "text": [
      "1\n",
      "2\n",
      "3\n",
      "1\n"
     ]
    }
   ],
   "source": [
    "//package main\n",
    "\n",
    "import \"fmt\"\n",
    "\n",
    "// 这个 `intSeq` 函数返回另一个在 `intSeq` 函数体内定义的\n",
    "// 匿名函数。这个返回的函数使用闭包的方式 _隐藏_ 变量 `i`。\n",
    "func intSeq() func() int {\n",
    "    i := 0\n",
    "    return func() int {\n",
    "        i += 1\n",
    "        return i\n",
    "    }\n",
    "}\n",
    "\n",
    "func main() {\n",
    "\n",
    "    // 我们调用 `intSeq` 函数，将返回值（也是一个函数）赋给\n",
    "    // `nextInt`。这个函数的值包含了自己的值 `i`，这样在每\n",
    "    // 次调用 `nextInt` 是都会更新 `i` 的值。\n",
    "    nextInt := intSeq()\n",
    "\n",
    "    // 通过多次调用 `nextInt` 来看看闭包的效果。\n",
    "    fmt.Println(nextInt())\n",
    "    fmt.Println(nextInt())\n",
    "    fmt.Println(nextInt())\n",
    "\n",
    "    // 为了确认这个状态对于这个特定的函数是唯一的，我们\n",
    "    // 重新创建并测试一下。\n",
    "    newInts := intSeq()\n",
    "    fmt.Println(newInts())\n",
    "}\n",
    "main()"
   ]
  }
 ],
 "metadata": {
  "kernelspec": {
   "display_name": "Go (lgo)",
   "language": "go",
   "name": "lgo"
  },
  "language_info": {
   "file_extension": "",
   "mimetype": "",
   "name": "go",
   "version": ""
  }
 },
 "nbformat": 4,
 "nbformat_minor": 2
}
