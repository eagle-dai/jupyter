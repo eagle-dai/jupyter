{
 "cells": [
  {
   "cell_type": "markdown",
   "metadata": {},
   "source": [
    "### Maps - Go Lang Practical Programming Tutorial p.14\n",
    "https://www.youtube.com/watch?v=Uv4ZLaV6a9g"
   ]
  },
  {
   "cell_type": "code",
   "execution_count": 1,
   "metadata": {},
   "outputs": [
    {
     "name": "stdout",
     "output_type": "stream",
     "text": [
      "map[Sam:67 Timmy:42 Jess:92]\n",
      "42\n",
      "map[Jess:92 Sam:67]\n",
      "Jess : 92\n",
      "Sam : 67\n"
     ]
    }
   ],
   "source": [
    "// package main\n",
    "import \"fmt\"\n",
    "\n",
    "func main() {\n",
    "    // var grades map[string]float32\n",
    "    // grades = make(map[string]float32)\n",
    "    grades := make(map[string]float32)\n",
    "\n",
    "    grades[\"Timmy\"] = 42\n",
    "    grades[\"Jess\"] = 92\n",
    "    grades[\"Sam\"] = 67\n",
    "\n",
    "    fmt.Println(grades)\n",
    "\n",
    "    TimesGrade := grades[\"Timmy\"]\n",
    "    fmt.Println(TimesGrade)\n",
    "\n",
    "    delete(grades, \"Timmy\")\n",
    "    fmt.Println(grades)\n",
    "\n",
    "    for k, v := range grades {\n",
    "        fmt.Println(k, \":\", v)\n",
    "    }\n",
    "}\n",
    "\n",
    "main()"
   ]
  }
 ],
 "metadata": {
  "kernelspec": {
   "display_name": "Go (lgo)",
   "language": "go",
   "name": "lgo"
  },
  "language_info": {
   "file_extension": "",
   "mimetype": "",
   "name": "go",
   "version": ""
  }
 },
 "nbformat": 4,
 "nbformat_minor": 2
}
