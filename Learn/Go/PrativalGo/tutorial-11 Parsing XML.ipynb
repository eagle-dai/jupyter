{
 "cells": [
  {
   "cell_type": "markdown",
   "metadata": {},
   "source": [
    "### Parsing XML - Go Lang Practical Programming Tutorial p.11\n",
    "https://www.youtube.com/watch?v=-PATP8IZq5A"
   ]
  },
  {
   "cell_type": "code",
   "execution_count": 1,
   "metadata": {},
   "outputs": [
    {
     "name": "stdout",
     "output_type": "stream",
     "text": [
      "[{http://www.washingtonpost.com/news-politics-sitemap.xml} {http://www.washingtonpost.com/news-blogs-politics-sitemap.xml} {http://www.washingtonpost.com/news-opinions-sitemap.xml} {http://www.washingtonpost.com/news-blogs-opinions-sitemap.xml} {http://www.washingtonpost.com/news-local-sitemap.xml} {http://www.washingtonpost.com/news-blogs-local-sitemap.xml} {http://www.washingtonpost.com/news-sports-sitemap.xml} {http://www.washingtonpost.com/news-blogs-sports-sitemap.xml} {http://www.washingtonpost.com/news-national-sitemap.xml} {http://www.washingtonpost.com/news-blogs-national-sitemap.xml} {http://www.washingtonpost.com/news-world-sitemap.xml} {http://www.washingtonpost.com/news-blogs-world-sitemap.xml} {http://www.washingtonpost.com/news-business-sitemap.xml} {http://www.washingtonpost.com/news-blogs-business-sitemap.xml} {http://www.washingtonpost.com/news-technology-sitemap.xml} {http://www.washingtonpost.com/news-blogs-technology-sitemap.xml} {http://www.washingtonpost.com/news-lifestyle-sitemap.xml} {http://www.washingtonpost.com/news-blogs-lifestyle-sitemap.xml} {http://www.washingtonpost.com/news-entertainment-sitemap.xml} {http://www.washingtonpost.com/news-blogs-entertainment-sitemap.xml} {http://www.washingtonpost.com/news-blogs-goingoutguide-sitemap.xml} {http://www.washingtonpost.com/news-goingoutguide-sitemap.xml}]\n"
     ]
    }
   ],
   "source": [
    "// package main\n",
    "\n",
    "import (\"fmt\"\n",
    "        \"net/http\"\n",
    "        \"io/ioutil\"\n",
    "        \"net/url\"\n",
    "        \"encoding/xml\"\n",
    "      )\n",
    "\n",
    "/*\n",
    "var washPostXML = []byte(`\n",
    "<sitemapindex xmlns=\"http://www.sitemaps.org/schemas/sitemap/0.9\">\n",
    "   <sitemap>\n",
    "      <loc>http://www.washingtonpost.com/news-politics-sitemap.xml</loc>\n",
    "   </sitemap>\n",
    "   <sitemap>\n",
    "      <loc>http://www.washingtonpost.com/news-blogs-politics-sitemap.xml</loc>\n",
    "   </sitemap>\n",
    "   <sitemap>\n",
    "      <loc>http://www.washingtonpost.com/news-opinions-sitemap.xml</loc>\n",
    "   </sitemap>\n",
    "</sitemapindex>`)\n",
    "*/\n",
    "\n",
    "// NOTE: Locations 首字母必须大写！否则被当做 internal，encoding/xml ummarshal 不能工作\n",
    "type SitemapIndex struct {\n",
    "    Locations []Location `xml:\"sitemap\"`\n",
    "}\n",
    "\n",
    "type Location struct {\n",
    "    Loc string `xml:\"loc\"`\n",
    "}\n",
    "\n",
    "func main() {\n",
    "    proxy := func(_ *http.Request) (*url.URL, error) {\n",
    "        return url.Parse(\"http://proxy:8080\")\n",
    "    }\n",
    "    transport := &http.Transport{Proxy: proxy}\n",
    "    client := &http.Client{Transport: transport}\n",
    "\n",
    "    resp, _ := client.Get(\"https://www.washingtonpost.com/news-sitemap-index.xml\")\n",
    "    bytes, _ := ioutil.ReadAll(resp.Body)\n",
    "    resp.Body.Close()\n",
    "    \n",
    "    var s SitemapIndex\n",
    "    xml.Unmarshal(bytes, &s)\n",
    "\n",
    "    fmt.Println(s.Locations)\n",
    "}\n",
    "\n",
    "main()"
   ]
  },
  {
   "cell_type": "markdown",
   "metadata": {},
   "source": [
    "为了让结果格式化可读，Location 加入 String() 函数"
   ]
  },
  {
   "cell_type": "code",
   "execution_count": 2,
   "metadata": {},
   "outputs": [
    {
     "name": "stdout",
     "output_type": "stream",
     "text": [
      "[http://www.washingtonpost.com/news-politics-sitemap.xml http://www.washingtonpost.com/news-blogs-politics-sitemap.xml http://www.washingtonpost.com/news-opinions-sitemap.xml http://www.washingtonpost.com/news-blogs-opinions-sitemap.xml http://www.washingtonpost.com/news-local-sitemap.xml http://www.washingtonpost.com/news-blogs-local-sitemap.xml http://www.washingtonpost.com/news-sports-sitemap.xml http://www.washingtonpost.com/news-blogs-sports-sitemap.xml http://www.washingtonpost.com/news-national-sitemap.xml http://www.washingtonpost.com/news-blogs-national-sitemap.xml http://www.washingtonpost.com/news-world-sitemap.xml http://www.washingtonpost.com/news-blogs-world-sitemap.xml http://www.washingtonpost.com/news-business-sitemap.xml http://www.washingtonpost.com/news-blogs-business-sitemap.xml http://www.washingtonpost.com/news-technology-sitemap.xml http://www.washingtonpost.com/news-blogs-technology-sitemap.xml http://www.washingtonpost.com/news-lifestyle-sitemap.xml http://www.washingtonpost.com/news-blogs-lifestyle-sitemap.xml http://www.washingtonpost.com/news-entertainment-sitemap.xml http://www.washingtonpost.com/news-blogs-entertainment-sitemap.xml http://www.washingtonpost.com/news-blogs-goingoutguide-sitemap.xml http://www.washingtonpost.com/news-goingoutguide-sitemap.xml]\n"
     ]
    }
   ],
   "source": [
    "import (\"fmt\"\n",
    "        \"net/http\"\n",
    "        \"io/ioutil\"\n",
    "        \"net/url\"\n",
    "        \"encoding/xml\"\n",
    "      )\n",
    "\n",
    "// NOTE: Locations 首字母必须大写！否则被当做 internal，encoding/xml ummarshal 不能工作\n",
    "type SitemapIndex struct {\n",
    "    Locations []Location `xml:\"sitemap\"`\n",
    "}\n",
    "\n",
    "type Location struct {\n",
    "    Loc string `xml:\"loc\"`\n",
    "}\n",
    "\n",
    "func (l Location) String() string {\n",
    "    return fmt.Sprintf(l.Loc)\n",
    "}\n",
    "\n",
    "func main() {\n",
    "    proxy := func(_ *http.Request) (*url.URL, error) {\n",
    "        return url.Parse(\"http://proxy:8080\")\n",
    "    }\n",
    "    transport := &http.Transport{Proxy: proxy}\n",
    "    client := &http.Client{Transport: transport}\n",
    "\n",
    "    resp, _ := client.Get(\"https://www.washingtonpost.com/news-sitemap-index.xml\")\n",
    "    bytes, _ := ioutil.ReadAll(resp.Body)\n",
    "    resp.Body.Close()\n",
    "    \n",
    "    var s SitemapIndex\n",
    "    xml.Unmarshal(bytes, &s)\n",
    "\n",
    "    fmt.Println(s.Locations)\n",
    "}\n",
    "\n",
    "main()"
   ]
  }
 ],
 "metadata": {
  "kernelspec": {
   "display_name": "Go (lgo)",
   "language": "go",
   "name": "lgo"
  },
  "language_info": {
   "file_extension": "",
   "mimetype": "",
   "name": "go",
   "version": ""
  }
 },
 "nbformat": 4,
 "nbformat_minor": 2
}
