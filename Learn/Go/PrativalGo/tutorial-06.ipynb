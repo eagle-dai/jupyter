{
 "cells": [
  {
   "cell_type": "markdown",
   "metadata": {},
   "source": [
    "### Structs - Go Lang Practical Programming Tutorial p.6\n",
    "https://www.youtube.com/watch?v=3fsvqo9pQyg"
   ]
  },
  {
   "cell_type": "code",
   "execution_count": 1,
   "metadata": {},
   "outputs": [
    {
     "name": "stdout",
     "output_type": "stream",
     "text": [
      "22341\n"
     ]
    }
   ],
   "source": [
    "// package main\n",
    "\n",
    "import (\"fmt\")\n",
    "\n",
    "type car struct {\n",
    "    gas_pedal uint16 // min 0, max 65535\n",
    "    brake_pedal uint16\n",
    "    steering_wheel int16 // -32k - +32k\n",
    "    top_speed_kml float64\n",
    "}\n",
    "\n",
    "func main() {\n",
    "    //var a_car car\n",
    "    a_car := car{gas_pedal: 22341,\n",
    "                 brake_pedal: 0,\n",
    "                 steering_wheel: 12561,\n",
    "                 top_speed_kml: 225.0}\n",
    "    // a_car := car{22341, 0, 12561, 225.0} // same as above\n",
    "\n",
    "    fmt.Println(a_car.gas_pedal)\n",
    "}\n",
    "\n",
    "main()"
   ]
  }
 ],
 "metadata": {
  "kernelspec": {
   "display_name": "Go (lgo)",
   "language": "go",
   "name": "lgo"
  },
  "language_info": {
   "file_extension": "",
   "mimetype": "",
   "name": "go",
   "version": ""
  }
 },
 "nbformat": 4,
 "nbformat_minor": 2
}
