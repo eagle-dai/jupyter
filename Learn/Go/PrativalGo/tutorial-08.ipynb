{
 "cells": [
  {
   "cell_type": "markdown",
   "metadata": {},
   "source": [
    "### Pointer Receivers - Go Lang Practical Programming Tutorial p.8\n",
    "https://www.youtube.com/watch?v=93f9_bJQdHk"
   ]
  },
  {
   "cell_type": "code",
   "execution_count": 1,
   "metadata": {
    "collapsed": true
   },
   "outputs": [],
   "source": [
    "// package main\n",
    "\n",
    "import \"fmt\""
   ]
  },
  {
   "cell_type": "code",
   "execution_count": 2,
   "metadata": {},
   "outputs": [
    {
     "name": "stdout",
     "output_type": "stream",
     "text": [
      "65000\n",
      "223.16319523918517\n",
      "138.6675253452876\n",
      "495.9182116426337\n",
      "308.15005632286136\n"
     ]
    }
   ],
   "source": [
    "const usixteenbitmax float64 = 65535\n",
    "const kmh_multiple float64 = 1.60934\n",
    "\n",
    "type car struct {\n",
    "    gas_pedal uint16 // min 0, max 65535\n",
    "    brake_pedal uint16\n",
    "    steering_wheel int16 // -32k - +32k\n",
    "    top_speed_kml float64\n",
    "}\n",
    "\n",
    "func (c car) kmh() float64 {\n",
    "    return float64(c.gas_pedal) * (c.top_speed_kml/usixteenbitmax)\n",
    "}\n",
    "\n",
    "func (c car) mph() float64 {\n",
    "    return float64(c.gas_pedal) * (c.top_speed_kml/usixteenbitmax/kmh_multiple)\n",
    "}\n",
    "\n",
    "func (c *car) new_top_speed(newspeed float64) {\n",
    "    c.top_speed_kml = newspeed\n",
    "}\n",
    "\n",
    "func main() {\n",
    "    a_car := car{gas_pedal: 65000,\n",
    "                 brake_pedal: 0,\n",
    "                 steering_wheel: 12561,\n",
    "                 top_speed_kml: 225.0}\n",
    "\n",
    "    fmt.Println(a_car.gas_pedal)\n",
    "    fmt.Println(a_car.kmh())\n",
    "    fmt.Println(a_car.mph())\n",
    "\n",
    "    a_car.new_top_speed(500)\n",
    "    fmt.Println(a_car.kmh())\n",
    "    fmt.Println(a_car.mph())\n",
    "}\n",
    "\n",
    "main()"
   ]
  },
  {
   "cell_type": "code",
   "execution_count": 3,
   "metadata": {},
   "outputs": [
    {
     "name": "stdout",
     "output_type": "stream",
     "text": [
      "65000\n",
      "495.9182116426337\n",
      "138.6675253452876\n",
      "495.9182116426337\n",
      "308.15005632286136\n"
     ]
    }
   ],
   "source": [
    "const usixteenbitmax float64 = 65535\n",
    "const kmh_multiple float64 = 1.60934\n",
    "\n",
    "type car struct {\n",
    "    gas_pedal uint16 // min 0, max 65535\n",
    "    brake_pedal uint16\n",
    "    steering_wheel int16 // -32k - +32k\n",
    "    top_speed_kml float64\n",
    "}\n",
    "\n",
    "func (c car) kmh() float64 {\n",
    "    c.top_speed_kml = 500\n",
    "    return float64(c.gas_pedal) * (c.top_speed_kml/usixteenbitmax)\n",
    "}\n",
    "\n",
    "func (c car) mph() float64 {\n",
    "    return float64(c.gas_pedal) * (c.top_speed_kml/usixteenbitmax/kmh_multiple)\n",
    "}\n",
    "\n",
    "func (c *car) new_top_speed(newspeed float64) {\n",
    "    c.top_speed_kml = newspeed\n",
    "}\n",
    "\n",
    "func main() {\n",
    "    a_car := car{gas_pedal: 65000,\n",
    "                 brake_pedal: 0,\n",
    "                 steering_wheel: 12561,\n",
    "                 top_speed_kml: 225.0}\n",
    "\n",
    "    fmt.Println(a_car.gas_pedal)\n",
    "    fmt.Println(a_car.kmh())\n",
    "    fmt.Println(a_car.mph())\n",
    "\n",
    "    a_car.new_top_speed(500)\n",
    "    fmt.Println(a_car.kmh())\n",
    "    fmt.Println(a_car.mph())\n",
    "}\n",
    "\n",
    "main()"
   ]
  }
 ],
 "metadata": {
  "kernelspec": {
   "display_name": "Go (lgo)",
   "language": "go",
   "name": "lgo"
  },
  "language_info": {
   "file_extension": "",
   "mimetype": "",
   "name": "go",
   "version": ""
  }
 },
 "nbformat": 4,
 "nbformat_minor": 2
}
