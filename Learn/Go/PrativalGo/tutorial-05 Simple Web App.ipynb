{
 "cells": [
  {
   "cell_type": "markdown",
   "metadata": {},
   "source": [
    "### Simple Web App - Go Lang Practical Programming Tutorial p.5\n",
    "https://www.youtube.com/watch?v=-QmdZ7821wA&list=PLR2BwNxHx0z9bxaeK6hxiovtogvdFLXeP&index=5"
   ]
  },
  {
   "cell_type": "code",
   "execution_count": null,
   "metadata": {
    "collapsed": true
   },
   "outputs": [],
   "source": [
    "// package main\n",
    "\n",
    "import (\"fmt\"\n",
    "       \"net/http\")\n",
    "\n",
    "func index_handler(w http.ResponseWriter, r *http.Request) {\n",
    "    fmt.Fprintf(w, \"Whoa, Go is neat!\")\n",
    "}\n",
    "\n",
    "func about_handler(w http.ResponseWriter, r *http.Request) {\n",
    "    fmt.Fprintf(w, \"Expert web design\")\n",
    "}\n",
    "\n",
    "func main() {\n",
    "    http.HandleFunc(\"/\", index_handler) // conda:8000\n",
    "    http.HandleFunc(\"/about\", about_handler) // conda:8000/about\n",
    "    http.ListenAndServe(\":8000\", nil)\n",
    "}\n",
    "\n",
    "main()"
   ]
  }
 ],
 "metadata": {
  "kernelspec": {
   "display_name": "Go (lgo)",
   "language": "go",
   "name": "lgo"
  },
  "language_info": {
   "file_extension": "",
   "mimetype": "",
   "name": "go",
   "version": ""
  }
 },
 "nbformat": 4,
 "nbformat_minor": 2
}
