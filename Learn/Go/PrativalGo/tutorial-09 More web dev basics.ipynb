{
 "cells": [
  {
   "cell_type": "markdown",
   "metadata": {},
   "source": [
    "### More web dev basics - Go Lang Practical Programming Tutorial p.9\n",
    "https://www.youtube.com/watch?v=QSLvvxzTa7o"
   ]
  },
  {
   "cell_type": "code",
   "execution_count": null,
   "metadata": {},
   "outputs": [],
   "source": [
    "// package main\n",
    "\n",
    "import (\"fmt\"\n",
    "        \"net/http\")\n",
    "\n",
    "func index_handler(w http.ResponseWriter, r *http.Request) {\n",
    "    fmt.Fprintf(w, \"<h1>Hey there</h1>\")\n",
    "    fmt.Fprintf(w, \"<p>Go is fast</p>\")\n",
    "    fmt.Fprintf(w, \"<p>...and simple!</p>\")\n",
    "    fmt.Fprintf(w, \"<p>You %s enen add %s</p>\", \"can\", \"<strong>variables</strong>\")\n",
    "}\n",
    "\n",
    "func main() {\n",
    "    http.HandleFunc(\"/\", index_handler)\n",
    "    http.ListenAndServe(\":8000\", nil)\n",
    "}\n",
    "\n",
    "main()"
   ]
  },
  {
   "cell_type": "code",
   "execution_count": null,
   "metadata": {},
   "outputs": [],
   "source": [
    "import (\"fmt\"\n",
    "        \"net/http\")\n",
    "\n",
    "func index_handler(w http.ResponseWriter, r *http.Request) {\n",
    "    fmt.Fprintf(w, `<h1>Hey there</h1>\n",
    "                <p>Go is fast</p>\n",
    "                <p>...and simple!</p>\n",
    "                `)\n",
    "}\n",
    "\n",
    "func main() {\n",
    "    http.HandleFunc(\"/\", index_handler)\n",
    "    http.ListenAndServe(\":8000\", nil)\n",
    "}\n",
    "\n",
    "main()"
   ]
  }
 ],
 "metadata": {
  "kernelspec": {
   "display_name": "Go (lgo)",
   "language": "go",
   "name": "lgo"
  },
  "language_info": {
   "file_extension": "",
   "mimetype": "",
   "name": "go",
   "version": ""
  }
 },
 "nbformat": 4,
 "nbformat_minor": 2
}
