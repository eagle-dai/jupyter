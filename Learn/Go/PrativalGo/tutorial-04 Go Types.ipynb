{
 "cells": [
  {
   "cell_type": "markdown",
   "metadata": {},
   "source": [
    "### Pointers - Go Lang Practical Programming Tutorial p.4\n",
    "https://www.youtube.com/watch?v=OwakEEY_DFw&list=PLR2BwNxHx0z9bxaeK6hxiovtogvdFLXeP&index=4"
   ]
  },
  {
   "cell_type": "code",
   "execution_count": 1,
   "metadata": {
    "collapsed": true
   },
   "outputs": [],
   "source": [
    "//package main\n",
    "\n",
    "import \"fmt\""
   ]
  },
  {
   "cell_type": "code",
   "execution_count": 2,
   "metadata": {},
   "outputs": [
    {
     "name": "stdout",
     "output_type": "stream",
     "text": [
      "0xc42046a010\n",
      "15\n",
      "5\n",
      "25\n",
      "25\n"
     ]
    }
   ],
   "source": [
    "func main() {\n",
    "    x := 15\n",
    "    a := &x\n",
    "    fmt.Println(a)\n",
    "    fmt.Println(*a)\n",
    "\n",
    "    *a = 5\n",
    "    fmt.Println(x)\n",
    "    \n",
    "    *a = *a * *a\n",
    "    fmt.Println(x)\n",
    "    fmt.Println(*a)\n",
    "}\n",
    "\n",
    "main()"
   ]
  }
 ],
 "metadata": {
  "kernelspec": {
   "display_name": "Go (lgo)",
   "language": "go",
   "name": "lgo"
  },
  "language_info": {
   "file_extension": "",
   "mimetype": "",
   "name": "go",
   "version": ""
  }
 },
 "nbformat": 4,
 "nbformat_minor": 2
}
