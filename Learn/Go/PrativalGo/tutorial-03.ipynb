{
 "cells": [
  {
   "cell_type": "markdown",
   "metadata": {},
   "source": [
    "### Go Types - Go Lang Practical Programming Tutorial p.3\n",
    "https://www.youtube.com/watch?v=ZCceigT2A6I&t=55s&list=PLR2BwNxHx0z9bxaeK6hxiovtogvdFLXeP&index=3"
   ]
  },
  {
   "cell_type": "code",
   "execution_count": 1,
   "metadata": {},
   "outputs": [
    {
     "name": "stdout",
     "output_type": "stream",
     "text": [
      "15.1\n"
     ]
    }
   ],
   "source": [
    "//package main\n",
    "\n",
    "import \"fmt\"\n",
    "\n",
    "func add(x float64, y float64) float64 {\n",
    "    return x + y\n",
    "}\n",
    "\n",
    "func main() {\n",
    "    var num1 float64 = 5.6\n",
    "    var num2 float64 = 9.5\n",
    "    fmt.Println(add(num1, num2))\n",
    "}\n",
    "\n",
    "main()"
   ]
  },
  {
   "cell_type": "code",
   "execution_count": 2,
   "metadata": {},
   "outputs": [
    {
     "name": "stdout",
     "output_type": "stream",
     "text": [
      "15.1\n"
     ]
    }
   ],
   "source": [
    "func add(x, y float64) float64 {\n",
    "    return x + y\n",
    "}\n",
    "\n",
    "func main() {\n",
    "    var num1, num2 float64 = 5.6, 9.5\n",
    "    fmt.Println(add(num1, num2))\n",
    "}\n",
    "\n",
    "main()"
   ]
  },
  {
   "cell_type": "code",
   "execution_count": 3,
   "metadata": {},
   "outputs": [
    {
     "name": "stdout",
     "output_type": "stream",
     "text": [
      "15.1\n"
     ]
    }
   ],
   "source": [
    "func add(x, y float64) float64 {\n",
    "    return x + y\n",
    "}\n",
    "\n",
    "func main() {\n",
    "    num1, num2 := 5.6, 9.5\n",
    "    fmt.Println(add(num1, num2))\n",
    "}\n",
    "\n",
    "main()"
   ]
  },
  {
   "cell_type": "code",
   "execution_count": 4,
   "metadata": {},
   "outputs": [
    {
     "name": "stderr",
     "output_type": "stream",
     "text": [
      "7:21: cannot use num1 (variable of type float64) as float32 value in argument to add\n"
     ]
    }
   ],
   "source": [
    "func add(x, y float32) float32 {\n",
    "    return x + y\n",
    "}\n",
    "\n",
    "func main() {\n",
    "    num1, num2 := 5.6, 9.5\n",
    "    fmt.Println(add(num1, num2))\n",
    "}\n",
    "\n",
    "main()"
   ]
  },
  {
   "cell_type": "code",
   "execution_count": 5,
   "metadata": {},
   "outputs": [
    {
     "name": "stderr",
     "output_type": "stream",
     "text": [
      "6:9: num1 declared but not used\n"
     ]
    }
   ],
   "source": [
    "func multiple(a, b string) (string, string) {\n",
    "    return a, b\n",
    "}\n",
    "\n",
    "func main() {\n",
    "    var num1, num2 = 5.6, 9.5\n",
    "    w1, w2 := \"Hey\", \"there\"\n",
    "    fmt.Println(multiple(w1, w2))\n",
    "}\n",
    "\n",
    "main()"
   ]
  },
  {
   "cell_type": "code",
   "execution_count": 6,
   "metadata": {},
   "outputs": [
    {
     "name": "stdout",
     "output_type": "stream",
     "text": [
      "Hey there\n"
     ]
    }
   ],
   "source": [
    "func multiple(a, b string) (string, string) {\n",
    "    return a, b\n",
    "}\n",
    "\n",
    "func main() {\n",
    "    w1, w2 := \"Hey\", \"there\"\n",
    "    fmt.Println(multiple(w1, w2))\n",
    "}\n",
    "\n",
    "main()"
   ]
  }
 ],
 "metadata": {
  "kernelspec": {
   "display_name": "Go (lgo)",
   "language": "go",
   "name": "lgo"
  },
  "language_info": {
   "file_extension": "",
   "mimetype": "",
   "name": "go",
   "version": ""
  }
 },
 "nbformat": 4,
 "nbformat_minor": 2
}
