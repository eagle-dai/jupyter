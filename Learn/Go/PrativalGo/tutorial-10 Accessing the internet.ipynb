{
 "cells": [
  {
   "cell_type": "markdown",
   "metadata": {},
   "source": [
    "### Accessing the internet - Go Lang Practical Programming Tutorial p.10\n",
    "https://www.youtube.com/watch?v=ccANcNk8Dac"
   ]
  },
  {
   "cell_type": "code",
   "execution_count": null,
   "metadata": {
    "collapsed": true
   },
   "outputs": [],
   "source": [
    "// package main\n",
    "\n",
    "import (\"fmt\"\n",
    "        \"net/http\"\n",
    "        \"io/ioutil\")\n",
    "\n",
    "func main() {\n",
    "    resp, _ := http.Get(\"https://www.washingtonpost.com/news-sitemap-index.xml\")\n",
    "    bytes, _ := ioutil.ReadAll(resp.Body)\n",
    "    string_body := string(bytes)\n",
    "    fmt.Println(string_body)\n",
    "    resp.Body.Close()\n",
    "}\n",
    "\n",
    "main()\n",
    "\n",
    "// NOTE: error behind proxy"
   ]
  },
  {
   "cell_type": "code",
   "execution_count": 2,
   "metadata": {},
   "outputs": [
    {
     "name": "stdout",
     "output_type": "stream",
     "text": [
      "<?xml version=\"1.0\" encoding=\"UTF-8\"?>\r\n",
      "<sitemapindex xmlns=\"http://www.sitemaps.org/schemas/sitemap/0.9\">\r\n",
      "   <sitemap>\r\n",
      "      <loc>http://www.washingtonpost.com/news-politics-sitemap.xml</loc>\r\n",
      "   </sitemap>\r\n",
      "   <sitemap>\r\n",
      "      <loc>http://www.washingtonpost.com/news-blogs-politics-sitemap.xml</loc>\r\n",
      "   </sitemap>\r\n",
      "   <sitemap>\r\n",
      "      <loc>http://www.washingtonpost.com/news-opinions-sitemap.xml</loc>\r\n",
      "   </sitemap>\r\n",
      "   <sitemap>\r\n",
      "      <loc>http://www.washingtonpost.com/news-blogs-opinions-sitemap.xml</loc>\r\n",
      "   </sitemap>\r\n",
      "   <sitemap>\r\n",
      "      <loc>http://www.washingtonpost.com/news-local-sitemap.xml</loc>\r\n",
      "   </sitemap>\r\n",
      "   <sitemap>\r\n",
      "      <loc>http://www.washingtonpost.com/news-blogs-local-sitemap.xml</loc>\r\n",
      "   </sitemap>   \r\n",
      "   <sitemap>\r\n",
      "      <loc>http://www.washingtonpost.com/news-sports-sitemap.xml</loc>\r\n",
      "   </sitemap>\r\n",
      "   <sitemap>\r\n",
      "      <loc>http://www.washingtonpost.com/news-blogs-sports-sitemap.xml</loc>\r\n",
      "   </sitemap>   \r\n",
      "   <sitemap>\r\n",
      "      <loc>http://www.washingtonpost.com/news-national-sitemap.xml</loc>\r\n",
      "   </sitemap>\r\n",
      "   <sitemap>\r\n",
      "      <loc>http://www.washingtonpost.com/news-blogs-national-sitemap.xml</loc>\r\n",
      "   </sitemap>   \r\n",
      "   <sitemap>\r\n",
      "      <loc>http://www.washingtonpost.com/news-world-sitemap.xml</loc>\r\n",
      "   </sitemap>\r\n",
      "   <sitemap>\r\n",
      "      <loc>http://www.washingtonpost.com/news-blogs-world-sitemap.xml</loc>\r\n",
      "   </sitemap>   \r\n",
      "   <sitemap>\r\n",
      "      <loc>http://www.washingtonpost.com/news-business-sitemap.xml</loc>\r\n",
      "   </sitemap>\r\n",
      "   <sitemap>\r\n",
      "      <loc>http://www.washingtonpost.com/news-blogs-business-sitemap.xml</loc>\r\n",
      "   </sitemap>   \r\n",
      "   <sitemap>\r\n",
      "      <loc>http://www.washingtonpost.com/news-technology-sitemap.xml</loc>\r\n",
      "   </sitemap>\r\n",
      "   <sitemap>\r\n",
      "      <loc>http://www.washingtonpost.com/news-blogs-technology-sitemap.xml</loc>\r\n",
      "   </sitemap>   \r\n",
      "   <sitemap>\r\n",
      "      <loc>http://www.washingtonpost.com/news-lifestyle-sitemap.xml</loc>\r\n",
      "   </sitemap>\r\n",
      "   <sitemap>\r\n",
      "      <loc>http://www.washingtonpost.com/news-blogs-lifestyle-sitemap.xml</loc>\r\n",
      "   </sitemap>   \r\n",
      "   <sitemap>\r\n",
      "      <loc>http://www.washingtonpost.com/news-entertainment-sitemap.xml</loc>\r\n",
      "   </sitemap>\r\n",
      "   <sitemap>\r\n",
      "      <loc>http://www.washingtonpost.com/news-blogs-entertainment-sitemap.xml</loc>\r\n",
      "   </sitemap>  \r\n",
      "   <sitemap>\r\n",
      "      <loc>http://www.washingtonpost.com/news-blogs-goingoutguide-sitemap.xml</loc>\r\n",
      "   </sitemap>   \r\n",
      "   <sitemap>\r\n",
      "      <loc>http://www.washingtonpost.com/news-goingoutguide-sitemap.xml</loc>\r\n",
      "   </sitemap> \r\n",
      "</sitemapindex>\n"
     ]
    }
   ],
   "source": [
    "// package main\n",
    "\n",
    "import (\"fmt\"\n",
    "        \"net/http\"\n",
    "        \"io/ioutil\"\n",
    "        \"net/url\")\n",
    "\n",
    "func main() {\n",
    "    proxy := func(_ *http.Request) (*url.URL, error) {\n",
    "        return url.Parse(\"http://proxy:8080\")\n",
    "    }\n",
    "    transport := &http.Transport{Proxy: proxy}\n",
    "    client := &http.Client{Transport: transport}\n",
    "\n",
    "    resp, _ := client.Get(\"https://www.washingtonpost.com/news-sitemap-index.xml\")\n",
    "    bytes, _ := ioutil.ReadAll(resp.Body)\n",
    "    string_body := string(bytes)\n",
    "    fmt.Println(string_body)\n",
    "    resp.Body.Close()\n",
    "}\n",
    "\n",
    "main()"
   ]
  },
  {
   "cell_type": "code",
   "execution_count": null,
   "metadata": {
    "collapsed": true
   },
   "outputs": [],
   "source": []
  }
 ],
 "metadata": {
  "kernelspec": {
   "display_name": "Go (lgo)",
   "language": "go",
   "name": "lgo"
  },
  "language_info": {
   "file_extension": "",
   "mimetype": "",
   "name": "go",
   "version": ""
  }
 },
 "nbformat": 4,
 "nbformat_minor": 2
}
