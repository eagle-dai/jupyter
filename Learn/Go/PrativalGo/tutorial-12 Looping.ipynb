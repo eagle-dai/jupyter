{
 "cells": [
  {
   "cell_type": "markdown",
   "metadata": {},
   "source": [
    "### Looping - Go Lang Practical Programming Tutorial p.12\n",
    "https://www.youtube.com/watch?v=oP95o2cUbTI"
   ]
  },
  {
   "cell_type": "code",
   "execution_count": 1,
   "metadata": {},
   "outputs": [
    {
     "name": "stdout",
     "output_type": "stream",
     "text": [
      "0\n",
      "1\n",
      "2\n",
      "3\n",
      "4\n",
      "5\n",
      "6\n",
      "7\n",
      "8\n",
      "9\n"
     ]
    }
   ],
   "source": [
    "// package main\n",
    "\n",
    "import \"fmt\"\n",
    "\n",
    "func main() {\n",
    "    for i:=0; i<10; i++ {\n",
    "        fmt.Println(i)\n",
    "    }\n",
    "}\n",
    "\n",
    "main()"
   ]
  },
  {
   "cell_type": "code",
   "execution_count": 2,
   "metadata": {},
   "outputs": [
    {
     "name": "stdout",
     "output_type": "stream",
     "text": [
      "0\n",
      "2\n",
      "4\n",
      "6\n",
      "8\n"
     ]
    }
   ],
   "source": [
    "func main() {\n",
    "    i:=0\n",
    "    for i<10 {\n",
    "        fmt.Println(i)\n",
    "        i+=2\n",
    "    }\n",
    "}\n",
    "\n",
    "main()"
   ]
  },
  {
   "cell_type": "code",
   "execution_count": 3,
   "metadata": {},
   "outputs": [],
   "source": [
    "func main() {\n",
    "    /*\n",
    "    for { // infinite\n",
    "        fmt.Println(\"Do stuff\")\n",
    "    }\n",
    "    */\n",
    "}\n",
    "\n",
    "main()"
   ]
  },
  {
   "cell_type": "code",
   "execution_count": 4,
   "metadata": {},
   "outputs": [
    {
     "name": "stdout",
     "output_type": "stream",
     "text": [
      "Do stuff 5\n",
      "Do stuff 8\n",
      "Do stuff 11\n",
      "Do stuff 14\n",
      "Do stuff 17\n",
      "Do stuff 20\n",
      "Do stuff 23\n"
     ]
    }
   ],
   "source": [
    "func main() {\n",
    "    x := 5\n",
    "    for {\n",
    "        fmt.Println(\"Do stuff\", x)\n",
    "        x += 3\n",
    "        if x > 25 {\n",
    "            break\n",
    "        }\n",
    "    }\n",
    "}\n",
    "\n",
    "main()"
   ]
  },
  {
   "cell_type": "code",
   "execution_count": 5,
   "metadata": {},
   "outputs": [
    {
     "name": "stdout",
     "output_type": "stream",
     "text": [
      "Do stuff 5\n",
      "Do stuff 8\n",
      "Do stuff 11\n",
      "Do stuff 14\n",
      "Do stuff 17\n",
      "Do stuff 20\n"
     ]
    }
   ],
   "source": [
    "func main() {\n",
    "    a := 3\n",
    "    for x:=5; a<25; x+=3 {\n",
    "        fmt.Println(\"Do stuff\", x)\n",
    "        a += 4\n",
    "    }\n",
    "}\n",
    "\n",
    "main()"
   ]
  },
  {
   "cell_type": "code",
   "execution_count": 6,
   "metadata": {},
   "outputs": [
    {
     "name": "stdout",
     "output_type": "stream",
     "text": [
      "Here are some variables\n",
      "http://www.washingtonpost.com/news-politics-sitemap.xml\n",
      "http://www.washingtonpost.com/news-blogs-politics-sitemap.xml\n",
      "http://www.washingtonpost.com/news-opinions-sitemap.xml\n",
      "http://www.washingtonpost.com/news-blogs-opinions-sitemap.xml\n",
      "http://www.washingtonpost.com/news-local-sitemap.xml\n",
      "http://www.washingtonpost.com/news-blogs-local-sitemap.xml\n",
      "http://www.washingtonpost.com/news-sports-sitemap.xml\n",
      "http://www.washingtonpost.com/news-blogs-sports-sitemap.xml\n",
      "http://www.washingtonpost.com/news-national-sitemap.xml\n",
      "http://www.washingtonpost.com/news-blogs-national-sitemap.xml\n",
      "http://www.washingtonpost.com/news-world-sitemap.xml\n",
      "http://www.washingtonpost.com/news-blogs-world-sitemap.xml\n",
      "http://www.washingtonpost.com/news-business-sitemap.xml\n",
      "http://www.washingtonpost.com/news-blogs-business-sitemap.xml\n",
      "http://www.washingtonpost.com/news-technology-sitemap.xml\n",
      "http://www.washingtonpost.com/news-blogs-technology-sitemap.xml\n",
      "http://www.washingtonpost.com/news-lifestyle-sitemap.xml\n",
      "http://www.washingtonpost.com/news-blogs-lifestyle-sitemap.xml\n",
      "http://www.washingtonpost.com/news-entertainment-sitemap.xml\n",
      "http://www.washingtonpost.com/news-blogs-entertainment-sitemap.xml\n",
      "http://www.washingtonpost.com/news-blogs-goingoutguide-sitemap.xml\n",
      "http://www.washingtonpost.com/news-goingoutguide-sitemap.xml"
     ]
    }
   ],
   "source": [
    "import (\"fmt\"\n",
    "        \"net/http\"\n",
    "        \"io/ioutil\"\n",
    "        \"net/url\"\n",
    "        \"encoding/xml\"\n",
    "      )\n",
    "\n",
    "// NOTE: Locations 首字母必须大写！否则被当做 internal，encoding/xml ummarshal 不能工作\n",
    "type SitemapIndex struct {\n",
    "    Locations []Location `xml:\"sitemap\"`\n",
    "}\n",
    "\n",
    "type Location struct {\n",
    "    Loc string `xml:\"loc\"`\n",
    "}\n",
    "\n",
    "func (l Location) String() string {\n",
    "    return fmt.Sprintf(l.Loc)\n",
    "}\n",
    "\n",
    "func main() {\n",
    "    proxy := func(_ *http.Request) (*url.URL, error) {\n",
    "        return url.Parse(\"http://proxy:8080\")\n",
    "    }\n",
    "    transport := &http.Transport{Proxy: proxy}\n",
    "    client := &http.Client{Transport: transport}\n",
    "\n",
    "    resp, _ := client.Get(\"https://www.washingtonpost.com/news-sitemap-index.xml\")\n",
    "    bytes, _ := ioutil.ReadAll(resp.Body)\n",
    "    resp.Body.Close()\n",
    "    \n",
    "    var s SitemapIndex\n",
    "    xml.Unmarshal(bytes, &s)\n",
    "\n",
    "    fmt.Printf(\"Here %s some %s\", \"are\", \"variables\")\n",
    "    for _, Location := range s.Locations {\n",
    "        fmt.Printf(\"\\n%s\", Location)\n",
    "    }\n",
    "}\n",
    "\n",
    "main()"
   ]
  }
 ],
 "metadata": {
  "kernelspec": {
   "display_name": "Go (lgo)",
   "language": "go",
   "name": "lgo"
  },
  "language_info": {
   "file_extension": "",
   "mimetype": "",
   "name": "go",
   "version": ""
  }
 },
 "nbformat": 4,
 "nbformat_minor": 2
}
