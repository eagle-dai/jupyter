{
 "cells": [
  {
   "cell_type": "markdown",
   "metadata": {},
   "source": [
    "# Getting Started"
   ]
  },
  {
   "cell_type": "markdown",
   "metadata": {},
   "source": [
    "## Understanding NLP Tasks\n",
    "\n",
    "### Tasks in Natural Language Processing\n",
    "- Tokenization\n",
    "  - 文本切分为词语和句子\n",
    "  - Example: Mary | had | a | little | lamb. | Its | fleece | was | white | as | snow\n",
    "\n",
    "- Stopword Removal\n",
    "  - 过滤掉 \"common words\"，不包含信息的 words\n",
    "  - Example: Mary (had a) little lamb.\n",
    "  \n",
    "- N-Grams - N元语法\n",
    "  - Example: (New York) is a great city. Have you ever been to (New York)?\n",
    "  - 上面的 New York 应该被当做一个 entity.此 entity 是两个词，所以叫 Bigrams\n",
    "  \n",
    "- Word Sense Disambiguation - 词义消歧\n",
    "  - Example: The movie had really (cool) effects. / I'd like a tall glass of (cool) water.\n",
    "\n",
    "- Parts of Speech (POS, 词类）Tagging - 词性标注\n",
    "  - Mary had a little lamb.\n",
    "  - None Verb  Adj.  None\n",
    "  \n",
    "- Stemming - 词干提取\n",
    "  - Close/Closed/Closely/Closer => Clos"
   ]
  },
  {
   "cell_type": "markdown",
   "metadata": {},
   "source": [
    "### Tokenizing Text"
   ]
  },
  {
   "cell_type": "code",
   "execution_count": 1,
   "metadata": {},
   "outputs": [
    {
     "name": "stdout",
     "output_type": "stream",
     "text": [
      "['Mary had a little lamb.', 'Her flece was white as snow']\n"
     ]
    }
   ],
   "source": [
    "import nltk\n",
    "\n",
    "text = \"Mary had a little lamb. Her flece was white as snow\"\n",
    "from nltk.tokenize import word_tokenize, sent_tokenize\n",
    "sents = sent_tokenize(text)\n",
    "print(sents)"
   ]
  },
  {
   "cell_type": "code",
   "execution_count": 2,
   "metadata": {},
   "outputs": [
    {
     "name": "stdout",
     "output_type": "stream",
     "text": [
      "[['Mary', 'had', 'a', 'little', 'lamb', '.'], ['Her', 'flece', 'was', 'white', 'as', 'snow']]\n"
     ]
    }
   ],
   "source": [
    "words = [word_tokenize(sent) for sent in sents]\n",
    "print(words)"
   ]
  },
  {
   "cell_type": "code",
   "execution_count": null,
   "metadata": {},
   "outputs": [],
   "source": []
  }
 ],
 "metadata": {
  "kernelspec": {
   "display_name": "Python 3",
   "language": "python",
   "name": "python3"
  },
  "language_info": {
   "codemirror_mode": {
    "name": "ipython",
    "version": 3
   },
   "file_extension": ".py",
   "mimetype": "text/x-python",
   "name": "python",
   "nbconvert_exporter": "python",
   "pygments_lexer": "ipython3",
   "version": "3.6.7"
  }
 },
 "nbformat": 4,
 "nbformat_minor": 2
}
