{
 "cells": [
  {
   "cell_type": "markdown",
   "metadata": {},
   "source": [
    "# Course Overview"
   ]
  },
  {
   "cell_type": "markdown",
   "metadata": {},
   "source": [
    "## Understanding NLP Tasks\n",
    "\n",
    "### Tasks in Natural Language Processing\n",
    "- Tokenization\n",
    "  - 文本切分为词语和句子\n",
    "  - Example: Mary | had | a | little | lamb. | Its | fleece | was | white | as | snow\n",
    "  \n",
    "- Stopword Removal\n",
    "  - 过滤掉 \"common words\"，不包含信息的 words\n",
    "  - Example: Mary (had a) little lamb."
   ]
  },
  {
   "cell_type": "code",
   "execution_count": null,
   "metadata": {},
   "outputs": [],
   "source": []
  }
 ],
 "metadata": {
  "kernelspec": {
   "display_name": "Python 3",
   "language": "python",
   "name": "python3"
  },
  "language_info": {
   "codemirror_mode": {
    "name": "ipython",
    "version": 3
   },
   "file_extension": ".py",
   "mimetype": "text/x-python",
   "name": "python",
   "nbconvert_exporter": "python",
   "pygments_lexer": "ipython3",
   "version": "3.6.7"
  }
 },
 "nbformat": 4,
 "nbformat_minor": 2
}
