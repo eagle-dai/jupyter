{
 "cells": [
  {
   "cell_type": "code",
   "execution_count": 1,
   "metadata": {
    "collapsed": true
   },
   "outputs": [],
   "source": [
    "import numpy as np\n",
    "import numpy.random as np_random"
   ]
  },
  {
   "cell_type": "code",
   "execution_count": 2,
   "metadata": {},
   "outputs": [
    {
     "data": {
      "text/plain": [
       "array([ 0.        ,  1.        ,  1.41421356,  1.73205081,  2.        ,\n",
       "        2.23606798,  2.44948974,  2.64575131,  2.82842712,  3.        ])"
      ]
     },
     "execution_count": 2,
     "metadata": {},
     "output_type": "execute_result"
    }
   ],
   "source": [
    "# 求平方根\n",
    "arr = np.arange(10)\n",
    "np.sqrt(arr)"
   ]
  },
  {
   "cell_type": "code",
   "execution_count": 3,
   "metadata": {},
   "outputs": [
    {
     "name": "stdout",
     "output_type": "stream",
     "text": [
      "[-1.73513146 -0.93189137  1.10662483 -0.20036815  0.14018401  0.70469504\n",
      "  0.56580029 -0.13044112]\n",
      "[ 0.40152097  1.03293838 -0.36604115 -1.15840552 -1.23235866 -0.05153246\n",
      " -1.37450028 -1.14564813]\n"
     ]
    },
    {
     "data": {
      "text/plain": [
       "array([ 0.40152097,  1.03293838,  1.10662483, -0.20036815,  0.14018401,\n",
       "        0.70469504,  0.56580029, -0.13044112])"
      ]
     },
     "execution_count": 3,
     "metadata": {},
     "output_type": "execute_result"
    }
   ],
   "source": [
    "# 数组比较\n",
    "x = np_random.randn(8)\n",
    "y = np_random.randn(8)\n",
    "print(x)\n",
    "print(y)\n",
    "np.maximum(x, y)"
   ]
  },
  {
   "cell_type": "code",
   "execution_count": 4,
   "metadata": {},
   "outputs": [
    {
     "name": "stdout",
     "output_type": "stream",
     "text": [
      "[-2.06575024 -0.92319273 -1.37649306 -0.11705042  6.20745895  0.14962426\n",
      "  2.46829254]\n"
     ]
    },
    {
     "data": {
      "text/plain": [
       "(array([-0.06575024, -0.92319273, -0.37649306, -0.11705042,  0.20745895,\n",
       "         0.14962426,  0.46829254]), array([-2., -0., -1., -0.,  6.,  0.,  2.]))"
      ]
     },
     "execution_count": 4,
     "metadata": {},
     "output_type": "execute_result"
    }
   ],
   "source": [
    "# 使用modf函数把浮点数分解成整数和小数部分\n",
    "arr = np_random.randn(7) * 5  # 统一乘5\n",
    "print(arr)\n",
    "np.modf(arr)"
   ]
  }
 ],
 "metadata": {
  "kernelspec": {
   "display_name": "Python 2",
   "language": "python",
   "name": "python2"
  },
  "language_info": {
   "codemirror_mode": {
    "name": "ipython",
    "version": 2
   },
   "file_extension": ".py",
   "mimetype": "text/x-python",
   "name": "python",
   "nbconvert_exporter": "python",
   "pygments_lexer": "ipython2",
   "version": "2.7.13"
  }
 },
 "nbformat": 4,
 "nbformat_minor": 2
}
