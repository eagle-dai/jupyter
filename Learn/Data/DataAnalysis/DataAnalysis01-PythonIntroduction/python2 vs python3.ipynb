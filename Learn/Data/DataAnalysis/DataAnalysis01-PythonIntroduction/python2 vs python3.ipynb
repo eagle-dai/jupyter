{
 "cells": [
  {
   "cell_type": "markdown",
   "metadata": {},
   "source": [
    "- print() 函数 python3 必须要括号"
   ]
  },
  {
   "cell_type": "markdown",
   "metadata": {},
   "source": [
    "- python2: 3/2=1\n",
    "- python3: 3/2=1.5"
   ]
  },
  {
   "cell_type": "markdown",
   "metadata": {},
   "source": [
    "- python3: 支持utf-8字符串"
   ]
  },
  {
   "cell_type": "markdown",
   "metadata": {},
   "source": [
    "- python3: xrange() 被集成在range()函数中，是一个生成器"
   ]
  },
  {
   "cell_type": "markdown",
   "metadata": {},
   "source": [
    "- python3 处理异常的改变：\n",
    " - raising: raise IOError(\"file error\")\n",
    " - handling: except NameError as en"
   ]
  },
  {
   "cell_type": "markdown",
   "metadata": {},
   "source": [
    "- python3: 取消了.next，变成了next()"
   ]
  },
  {
   "cell_type": "markdown",
   "metadata": {},
   "source": [
    "- python3: for循环变量和全局命名空间泄露，需要加括号\n",
    " - for var in (item1, item2, ...):"
   ]
  },
  {
   "cell_type": "markdown",
   "metadata": {},
   "source": [
    "- python2: 是可以比较不可排序的对象的，python3不支持，抛出错误"
   ]
  },
  {
   "cell_type": "markdown",
   "metadata": {},
   "source": [
    "- python3通过input解析用户输入：把用户的输入存储为一个str对象"
   ]
  },
  {
   "cell_type": "markdown",
   "metadata": {},
   "source": [
    "- python3 返回可迭代对象，而不是列表"
   ]
  },
  {
   "cell_type": "markdown",
   "metadata": {},
   "source": [
    "- python2: 使用 __future__模块支持python3: division, print_function"
   ]
  },
  {
   "cell_type": "code",
   "execution_count": 1,
   "metadata": {},
   "outputs": [
    {
     "name": "stdout",
     "output_type": "stream",
     "text": [
      "1\n",
      "1.5\n"
     ]
    }
   ],
   "source": [
    "# python2: 使用 __future__模块支持python3: division, print_function\n",
    "print(3/2)\n",
    "\n",
    "from __future__ import division\n",
    "print(3/2)"
   ]
  },
  {
   "cell_type": "code",
   "execution_count": null,
   "metadata": {
    "collapsed": true
   },
   "outputs": [],
   "source": []
  }
 ],
 "metadata": {
  "kernelspec": {
   "display_name": "Python 2",
   "language": "python",
   "name": "python2"
  },
  "language_info": {
   "codemirror_mode": {
    "name": "ipython",
    "version": 2
   },
   "file_extension": ".py",
   "mimetype": "text/x-python",
   "name": "python",
   "nbconvert_exporter": "python",
   "pygments_lexer": "ipython2",
   "version": "2.7.14"
  }
 },
 "nbformat": 4,
 "nbformat_minor": 2
}
