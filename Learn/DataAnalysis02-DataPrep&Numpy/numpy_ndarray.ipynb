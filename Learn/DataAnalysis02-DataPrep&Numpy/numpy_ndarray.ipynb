{
 "cells": [
  {
   "cell_type": "markdown",
   "metadata": {},
   "source": [
    "# numpy 创建 ndarray (n-dimensional array)"
   ]
  },
  {
   "cell_type": "code",
   "execution_count": 1,
   "metadata": {},
   "outputs": [
    {
     "name": "stdout",
     "output_type": "stream",
     "text": [
      "使用普通一维数组生成NumPy一维数组\n",
      "[ 6.   7.5  8.   0.   1. ]\n",
      "打印元素类型\n",
      "float64\n"
     ]
    }
   ],
   "source": [
    "import numpy as np\n",
    "\n",
    "print('使用普通一维数组生成NumPy一维数组')\n",
    "data = [6, 7.5, 8, 0, 1]\n",
    "arr = np.array(data)\n",
    "print(arr)\n",
    "print('打印元素类型')\n",
    "print(arr.dtype)"
   ]
  },
  {
   "cell_type": "code",
   "execution_count": 2,
   "metadata": {},
   "outputs": [
    {
     "name": "stdout",
     "output_type": "stream",
     "text": [
      "使用普通二维数组生成NumPy二维数组\n",
      "[[1 2 3 4]\n",
      " [5 6 7 8]]\n",
      "打印数组维度\n",
      "(2L, 4L)\n"
     ]
    }
   ],
   "source": [
    "print('使用普通二维数组生成NumPy二维数组')\n",
    "data = [[1, 2, 3, 4], [5, 6, 7, 8]]\n",
    "arr = np.array(data)\n",
    "print(arr)\n",
    "print('打印数组维度')\n",
    "print(arr.shape)"
   ]
  },
  {
   "cell_type": "code",
   "execution_count": 3,
   "metadata": {},
   "outputs": [
    {
     "name": "stdout",
     "output_type": "stream",
     "text": [
      "使用zeros/empty\n",
      "[ 0.  0.  0.  0.  0.  0.  0.  0.  0.  0.]\n",
      "[[ 0.  0.  0.  0.  0.  0.]\n",
      " [ 0.  0.  0.  0.  0.  0.]\n",
      " [ 0.  0.  0.  0.  0.  0.]]\n",
      "[[[  1.18575755e-321   0.00000000e+000]\n",
      "  [  0.00000000e+000   0.00000000e+000]\n",
      "  [  0.00000000e+000   0.00000000e+000]]\n",
      "\n",
      " [[  0.00000000e+000   0.00000000e+000]\n",
      "  [  0.00000000e+000   0.00000000e+000]\n",
      "  [  0.00000000e+000   0.00000000e+000]]]\n"
     ]
    }
   ],
   "source": [
    "print('使用zeros/empty')\n",
    "print(np.zeros(10)) # 生成包含10个0的一维数组\n",
    "print(np.zeros((3, 6))) # 生成3*6的二维数组\n",
    "print(np.empty((2, 3, 2))) # 生成2*3*2的三维数组，所有元素未初始化。"
   ]
  },
  {
   "cell_type": "code",
   "execution_count": 4,
   "metadata": {},
   "outputs": [
    {
     "name": "stdout",
     "output_type": "stream",
     "text": [
      "使用arrange生成连续元素\n",
      "[ 0  1  2  3  4  5  6  7  8  9 10 11 12 13 14]\n"
     ]
    }
   ],
   "source": [
    "print('使用arrange生成连续元素')\n",
    "print(np.arange(15)) # [0, 1, 2, ..., 14]"
   ]
  },
  {
   "cell_type": "markdown",
   "metadata": {},
   "source": [
    "# numpy 数据类型"
   ]
  },
  {
   "cell_type": "code",
   "execution_count": 5,
   "metadata": {},
   "outputs": [
    {
     "name": "stdout",
     "output_type": "stream",
     "text": [
      "生成数组时指定数据类型\n",
      "float64\n",
      "int32\n"
     ]
    }
   ],
   "source": [
    "import numpy as np\n",
    "\n",
    "print('生成数组时指定数据类型')\n",
    "arr = np.array([1, 2, 3], dtype = np.float64)\n",
    "print(arr.dtype)\n",
    "arr = np.array([1, 2, 3], dtype = np.int32)\n",
    "print(arr.dtype)"
   ]
  },
  {
   "cell_type": "code",
   "execution_count": 6,
   "metadata": {},
   "outputs": [
    {
     "name": "stdout",
     "output_type": "stream",
     "text": [
      "使用astype复制数组并转换数据类型\n",
      "int32\n",
      "float64\n"
     ]
    }
   ],
   "source": [
    "print('使用astype复制数组并转换数据类型')\n",
    "int_arr = np.array([1, 2, 3, 4, 5])\n",
    "float_arr = int_arr.astype(np.float)\n",
    "print(int_arr.dtype)\n",
    "print(float_arr.dtype)"
   ]
  },
  {
   "cell_type": "code",
   "execution_count": 7,
   "metadata": {},
   "outputs": [
    {
     "name": "stdout",
     "output_type": "stream",
     "text": [
      "使用astype将float转换为int时小数部分被舍弃\n",
      "[ 3 -1 -2  0 12 10]\n"
     ]
    }
   ],
   "source": [
    "print('使用astype将float转换为int时小数部分被舍弃')\n",
    "float_arr = np.array([3.7, -1.2, -2.6, 0.5, 12.9, 10.1])\n",
    "int_arr = float_arr.astype(dtype = np.int)\n",
    "print(int_arr)"
   ]
  },
  {
   "cell_type": "code",
   "execution_count": 8,
   "metadata": {},
   "outputs": [
    {
     "name": "stdout",
     "output_type": "stream",
     "text": [
      "使用astype把字符串转换为数组，如果失败抛出异常。\n",
      "[  1.25  -9.6   42.  ]\n"
     ]
    }
   ],
   "source": [
    "print('使用astype把字符串转换为数组，如果失败抛出异常。')\n",
    "str_arr = np.array(['1.25', '-9.6', '42'], dtype = np.string_)\n",
    "float_arr = str_arr.astype(dtype = np.float)\n",
    "print(float_arr)"
   ]
  },
  {
   "cell_type": "code",
   "execution_count": 9,
   "metadata": {},
   "outputs": [
    {
     "name": "stdout",
     "output_type": "stream",
     "text": [
      "astype使用其它数组的数据类型作为参数\n",
      "[ 0.  1.  2.  3.  4.  5.  6.  7.  8.  9.]\n",
      "(0, 1)\n"
     ]
    }
   ],
   "source": [
    "print('astype使用其它数组的数据类型作为参数')\n",
    "int_arr = np.arange(10)\n",
    "float_arr = np.array([.23, 0.270, .357, 0.44, 0.5], dtype = np.float64)\n",
    "print(int_arr.astype(float_arr.dtype))\n",
    "print(int_arr[0], int_arr[1])  # astype做了复制，数组本身不变。"
   ]
  },
  {
   "cell_type": "markdown",
   "metadata": {},
   "source": [
    "# Operations between arrays and scalars"
   ]
  },
  {
   "cell_type": "code",
   "execution_count": 10,
   "metadata": {},
   "outputs": [
    {
     "data": {
      "text/plain": [
       "array([[  1.,   4.,   9.],\n",
       "       [ 16.,  25.,  36.]])"
      ]
     },
     "execution_count": 10,
     "metadata": {},
     "output_type": "execute_result"
    }
   ],
   "source": [
    "import numpy as np\n",
    "\n",
    "# 数组乘法／减法，对应元素相乘／相减。\n",
    "arr = np.array([[1.0, 2.0, 3.0], [4., 5., 6.]])\n",
    "arr * arr"
   ]
  },
  {
   "cell_type": "code",
   "execution_count": 11,
   "metadata": {},
   "outputs": [
    {
     "data": {
      "text/plain": [
       "array([[ 0.,  0.,  0.],\n",
       "       [ 0.,  0.,  0.]])"
      ]
     },
     "execution_count": 11,
     "metadata": {},
     "output_type": "execute_result"
    }
   ],
   "source": [
    "arr - arr"
   ]
  },
  {
   "cell_type": "code",
   "execution_count": 12,
   "metadata": {},
   "outputs": [
    {
     "data": {
      "text/plain": [
       "array([[ 1.        ,  0.5       ,  0.33333333],\n",
       "       [ 0.25      ,  0.2       ,  0.16666667]])"
      ]
     },
     "execution_count": 12,
     "metadata": {},
     "output_type": "execute_result"
    }
   ],
   "source": [
    "# 标量操作作用在数组的每个元素上\n",
    "arr = np.array([[1.0, 2.0, 3.0], [4., 5., 6.]])\n",
    "1 / arr"
   ]
  },
  {
   "cell_type": "code",
   "execution_count": 13,
   "metadata": {},
   "outputs": [
    {
     "data": {
      "text/plain": [
       "array([[ 1.        ,  1.41421356,  1.73205081],\n",
       "       [ 2.        ,  2.23606798,  2.44948974]])"
      ]
     },
     "execution_count": 13,
     "metadata": {},
     "output_type": "execute_result"
    }
   ],
   "source": [
    "arr ** 0.5  # 开根号"
   ]
  },
  {
   "cell_type": "markdown",
   "metadata": {},
   "source": [
    "# 基本索引和切片"
   ]
  },
  {
   "cell_type": "code",
   "execution_count": 14,
   "metadata": {},
   "outputs": [
    {
     "name": "stdout",
     "output_type": "stream",
     "text": [
      "[7 8 9]\n",
      "3\n",
      "3\n"
     ]
    }
   ],
   "source": [
    "import numpy as np\n",
    "\n",
    "# 通过索引访问二维数组某一行或某个元素\n",
    "arr = np.array([[1, 2, 3], [4, 5, 6], [7, 8, 9]])\n",
    "print(arr[2])\n",
    "print(arr[0][2])\n",
    "print(arr[0, 2]) # 普通Python数组不能用, Numpy特有的写法，效果和上一行一样"
   ]
  },
  {
   "cell_type": "code",
   "execution_count": 15,
   "metadata": {},
   "outputs": [
    {
     "name": "stdout",
     "output_type": "stream",
     "text": [
      "(2L, 2L, 3L)\n"
     ]
    },
    {
     "data": {
      "text/plain": [
       "array([[[ 1,  2,  3],\n",
       "        [ 4,  5,  6]],\n",
       "\n",
       "       [[ 7,  8,  9],\n",
       "        [10, 11, 12]]])"
      ]
     },
     "execution_count": 15,
     "metadata": {},
     "output_type": "execute_result"
    }
   ],
   "source": [
    "# 对更高维数组的访问和操作\n",
    "arr = np.array([[[1, 2, 3], [4, 5, 6]], [[7, 8, 9], [10, 11, 12]]])\n",
    "print(arr.shape)\n",
    "arr"
   ]
  },
  {
   "cell_type": "code",
   "execution_count": 16,
   "metadata": {},
   "outputs": [
    {
     "name": "stdout",
     "output_type": "stream",
     "text": [
      "(2L, 3L)\n"
     ]
    },
    {
     "data": {
      "text/plain": [
       "array([[1, 2, 3],\n",
       "       [4, 5, 6]])"
      ]
     },
     "execution_count": 16,
     "metadata": {},
     "output_type": "execute_result"
    }
   ],
   "source": [
    "print(arr[0].shape)\n",
    "arr[0]  # 结果是个2维数组"
   ]
  },
  {
   "cell_type": "code",
   "execution_count": 17,
   "metadata": {},
   "outputs": [
    {
     "name": "stdout",
     "output_type": "stream",
     "text": [
      "(3L,)\n"
     ]
    },
    {
     "data": {
      "text/plain": [
       "array([7, 8, 9])"
      ]
     },
     "execution_count": 17,
     "metadata": {},
     "output_type": "execute_result"
    }
   ],
   "source": [
    "print(arr[1, 0].shape)\n",
    "arr[1, 0] # 结果是个2维数组 ???"
   ]
  },
  {
   "cell_type": "code",
   "execution_count": 18,
   "metadata": {},
   "outputs": [
    {
     "data": {
      "text/plain": [
       "array([[[42, 42, 42],\n",
       "        [42, 42, 42]],\n",
       "\n",
       "       [[ 7,  8,  9],\n",
       "        [10, 11, 12]]])"
      ]
     },
     "execution_count": 18,
     "metadata": {},
     "output_type": "execute_result"
    }
   ],
   "source": [
    "old_values = arr[0].copy()  # 复制arr[0]的值\n",
    "arr[0] = 42 # 把arr[0]所有的元素都设置为同一个值\n",
    "arr"
   ]
  },
  {
   "cell_type": "code",
   "execution_count": 19,
   "metadata": {},
   "outputs": [
    {
     "data": {
      "text/plain": [
       "array([[[ 1,  2,  3],\n",
       "        [ 4,  5,  6]],\n",
       "\n",
       "       [[ 7,  8,  9],\n",
       "        [10, 11, 12]]])"
      ]
     },
     "execution_count": 19,
     "metadata": {},
     "output_type": "execute_result"
    }
   ],
   "source": [
    "arr[0] = old_values # 把原来的数组写回去\n",
    "arr"
   ]
  },
  {
   "cell_type": "code",
   "execution_count": 20,
   "metadata": {},
   "outputs": [
    {
     "data": {
      "text/plain": [
       "array([2, 3, 4, 5, 6])"
      ]
     },
     "execution_count": 20,
     "metadata": {},
     "output_type": "execute_result"
    }
   ],
   "source": [
    "#使用切片访问和操作数组\n",
    "\n",
    "arr = np.array([1, 2, 3, 4, 5, 6, 7, 8, 9, 10])\n",
    "arr[1:6] # 打印元素arr[1]到arr[5]"
   ]
  },
  {
   "cell_type": "code",
   "execution_count": 21,
   "metadata": {},
   "outputs": [
    {
     "data": {
      "text/plain": [
       "array([[1, 2, 3],\n",
       "       [4, 5, 6]])"
      ]
     },
     "execution_count": 21,
     "metadata": {},
     "output_type": "execute_result"
    }
   ],
   "source": [
    "arr = np.array([[1, 2, 3], [4, 5, 6], [7, 8, 9]])\n",
    "arr[:2] # 打印第1、2行"
   ]
  },
  {
   "cell_type": "code",
   "execution_count": 22,
   "metadata": {},
   "outputs": [
    {
     "data": {
      "text/plain": [
       "array([[2, 3],\n",
       "       [5, 6]])"
      ]
     },
     "execution_count": 22,
     "metadata": {},
     "output_type": "execute_result"
    }
   ],
   "source": [
    "arr[:2, 1:] # 打印第1、2行，第2、3列"
   ]
  },
  {
   "cell_type": "code",
   "execution_count": 23,
   "metadata": {},
   "outputs": [
    {
     "data": {
      "text/plain": [
       "array([[1],\n",
       "       [4],\n",
       "       [7]])"
      ]
     },
     "execution_count": 23,
     "metadata": {},
     "output_type": "execute_result"
    }
   ],
   "source": [
    "arr[:, :1]  # 打印第一列的所有元素"
   ]
  },
  {
   "cell_type": "code",
   "execution_count": 24,
   "metadata": {},
   "outputs": [
    {
     "name": "stdout",
     "output_type": "stream",
     "text": [
      "[[1 2 3]\n",
      " [4 5 6]\n",
      " [7 8 9]]\n"
     ]
    },
    {
     "data": {
      "text/plain": [
       "array([[1, 0, 0],\n",
       "       [4, 0, 0],\n",
       "       [7, 8, 9]])"
      ]
     },
     "execution_count": 24,
     "metadata": {},
     "output_type": "execute_result"
    }
   ],
   "source": [
    "print(arr)\n",
    "arr[:2, 1:] = 0 # 第1、2行，第2、3列的元素设置为0\n",
    "arr"
   ]
  },
  {
   "cell_type": "markdown",
   "metadata": {},
   "source": [
    "# boolean indexing"
   ]
  },
  {
   "cell_type": "code",
   "execution_count": 25,
   "metadata": {},
   "outputs": [
    {
     "name": "stdout",
     "output_type": "stream",
     "text": [
      "使用布尔数组作为索引\n"
     ]
    },
    {
     "data": {
      "text/plain": [
       "array([[ 1.24247887, -0.49331447,  0.90338733,  0.36949535],\n",
       "       [-0.73536228,  0.39704435, -1.44870951, -1.3662859 ],\n",
       "       [ 0.26954955,  0.02381796, -1.54020906, -0.02161121],\n",
       "       [ 0.11428104, -1.34006857,  0.88230236,  0.14169866],\n",
       "       [-0.93220977, -0.70196244, -0.46290321, -1.13325656],\n",
       "       [-1.04431613, -0.1313138 ,  0.13935642, -0.71161923],\n",
       "       [-0.73656279, -1.01375543, -2.55794766, -1.41029853]])"
      ]
     },
     "execution_count": 25,
     "metadata": {},
     "output_type": "execute_result"
    }
   ],
   "source": [
    "import numpy as np\n",
    "import numpy.random as np_random\n",
    "\n",
    "print '使用布尔数组作为索引'\n",
    "name_arr = np.array(['Bob', 'Joe', 'Will', 'Bob', 'Will', 'Joe', 'Joe'])\n",
    "rnd_arr = np_random.randn(7, 4) # 随机7*4数组\n",
    "rnd_arr"
   ]
  },
  {
   "cell_type": "code",
   "execution_count": 26,
   "metadata": {},
   "outputs": [
    {
     "data": {
      "text/plain": [
       "array([ True, False, False,  True, False, False, False], dtype=bool)"
      ]
     },
     "execution_count": 26,
     "metadata": {},
     "output_type": "execute_result"
    }
   ],
   "source": [
    "name_arr == 'Bob' # 返回布尔数组，元素等于'Bob'为True，否则False。"
   ]
  },
  {
   "cell_type": "code",
   "execution_count": 27,
   "metadata": {},
   "outputs": [
    {
     "data": {
      "text/plain": [
       "array([[ 1.24247887, -0.49331447,  0.90338733,  0.36949535],\n",
       "       [ 0.11428104, -1.34006857,  0.88230236,  0.14169866]])"
      ]
     },
     "execution_count": 27,
     "metadata": {},
     "output_type": "execute_result"
    }
   ],
   "source": [
    "rnd_arr[name_arr == 'Bob']  # 利用布尔数组选择行"
   ]
  },
  {
   "cell_type": "code",
   "execution_count": 28,
   "metadata": {},
   "outputs": [
    {
     "data": {
      "text/plain": [
       "array([[ 1.24247887, -0.49331447],\n",
       "       [ 0.11428104, -1.34006857]])"
      ]
     },
     "execution_count": 28,
     "metadata": {},
     "output_type": "execute_result"
    }
   ],
   "source": [
    "rnd_arr[name_arr == 'Bob', :2]  # 增加限制打印列的范围"
   ]
  },
  {
   "cell_type": "code",
   "execution_count": 29,
   "metadata": {},
   "outputs": [
    {
     "data": {
      "text/plain": [
       "array([[-0.73536228,  0.39704435, -1.44870951, -1.3662859 ],\n",
       "       [ 0.26954955,  0.02381796, -1.54020906, -0.02161121],\n",
       "       [-0.93220977, -0.70196244, -0.46290321, -1.13325656],\n",
       "       [-1.04431613, -0.1313138 ,  0.13935642, -0.71161923],\n",
       "       [-0.73656279, -1.01375543, -2.55794766, -1.41029853]])"
      ]
     },
     "execution_count": 29,
     "metadata": {},
     "output_type": "execute_result"
    }
   ],
   "source": [
    "rnd_arr[~(name_arr == 'Bob')] # 对布尔数组的内容取反"
   ]
  },
  {
   "cell_type": "code",
   "execution_count": 30,
   "metadata": {},
   "outputs": [
    {
     "data": {
      "text/plain": [
       "array([[ 1.24247887, -0.49331447,  0.90338733,  0.36949535],\n",
       "       [ 0.26954955,  0.02381796, -1.54020906, -0.02161121],\n",
       "       [ 0.11428104, -1.34006857,  0.88230236,  0.14169866],\n",
       "       [-0.93220977, -0.70196244, -0.46290321, -1.13325656]])"
      ]
     },
     "execution_count": 30,
     "metadata": {},
     "output_type": "execute_result"
    }
   ],
   "source": [
    "mask_arr = (name_arr == 'Bob') | (name_arr == 'Will') # 逻辑运算混合结果\n",
    "rnd_arr[mask_arr]"
   ]
  },
  {
   "cell_type": "code",
   "execution_count": 31,
   "metadata": {},
   "outputs": [
    {
     "data": {
      "text/plain": [
       "array([[ 7.        ,  7.        ,  7.        ,  7.        ],\n",
       "       [-0.73536228,  0.39704435, -1.44870951, -1.3662859 ],\n",
       "       [ 7.        ,  7.        ,  7.        ,  7.        ],\n",
       "       [ 7.        ,  7.        ,  7.        ,  7.        ],\n",
       "       [ 7.        ,  7.        ,  7.        ,  7.        ],\n",
       "       [-1.04431613, -0.1313138 ,  0.13935642, -0.71161923],\n",
       "       [-0.73656279, -1.01375543, -2.55794766, -1.41029853]])"
      ]
     },
     "execution_count": 31,
     "metadata": {},
     "output_type": "execute_result"
    }
   ],
   "source": [
    "rnd_arr[name_arr != 'Joe'] = 7  # 先布尔数组选择行，然后把每行的元素设置为7。\n",
    "rnd_arr"
   ]
  },
  {
   "cell_type": "markdown",
   "metadata": {},
   "source": [
    "# Fancy Indexing: 使用整数数组作为索引"
   ]
  },
  {
   "cell_type": "code",
   "execution_count": 32,
   "metadata": {},
   "outputs": [
    {
     "data": {
      "text/plain": [
       "array([[ 0.,  0.,  0.,  0.],\n",
       "       [ 1.,  1.,  1.,  1.],\n",
       "       [ 2.,  2.,  2.,  2.],\n",
       "       [ 3.,  3.,  3.,  3.],\n",
       "       [ 4.,  4.,  4.,  4.],\n",
       "       [ 5.,  5.,  5.,  5.],\n",
       "       [ 6.,  6.,  6.,  6.],\n",
       "       [ 7.,  7.,  7.,  7.]])"
      ]
     },
     "execution_count": 32,
     "metadata": {},
     "output_type": "execute_result"
    }
   ],
   "source": [
    "import numpy as np\n",
    "\n",
    "arr = np.empty((8, 4))\n",
    "for i in range(8):\n",
    "    arr[i] = i\n",
    "arr"
   ]
  },
  {
   "cell_type": "code",
   "execution_count": 33,
   "metadata": {},
   "outputs": [
    {
     "name": "stdout",
     "output_type": "stream",
     "text": [
      "[[ 4.  4.  4.  4.]\n",
      " [ 3.  3.  3.  3.]\n",
      " [ 0.  0.  0.  0.]\n",
      " [ 6.  6.  6.  6.]]\n",
      "[[ 5.  5.  5.  5.]\n",
      " [ 3.  3.  3.  3.]\n",
      " [ 1.  1.  1.  1.]]\n"
     ]
    }
   ],
   "source": [
    "print arr[[4, 3, 0, 6]] # 打印arr[4]、arr[3]、arr[0]和arr[6]。\n",
    "print arr[[-3, -5, -7]] # 打印arr[-3]、arr[-5]和arr[-7]行"
   ]
  },
  {
   "cell_type": "code",
   "execution_count": 34,
   "metadata": {},
   "outputs": [
    {
     "data": {
      "text/plain": [
       "array([[ 0,  1,  2,  3],\n",
       "       [ 4,  5,  6,  7],\n",
       "       [ 8,  9, 10, 11],\n",
       "       [12, 13, 14, 15],\n",
       "       [16, 17, 18, 19],\n",
       "       [20, 21, 22, 23],\n",
       "       [24, 25, 26, 27],\n",
       "       [28, 29, 30, 31]])"
      ]
     },
     "execution_count": 34,
     "metadata": {},
     "output_type": "execute_result"
    }
   ],
   "source": [
    "arr = np.arange(32).reshape((8, 4))  # 通过reshape变换成二维数组\n",
    "arr"
   ]
  },
  {
   "cell_type": "code",
   "execution_count": 35,
   "metadata": {},
   "outputs": [
    {
     "data": {
      "text/plain": [
       "array([ 4, 23, 29, 10])"
      ]
     },
     "execution_count": 35,
     "metadata": {},
     "output_type": "execute_result"
    }
   ],
   "source": [
    "arr[[1, 5, 7, 2], [0, 3, 1, 2]] # 打印arr[1, 0]、arr[5, 3]，arr[7, 1]和arr[2, 2]"
   ]
  },
  {
   "cell_type": "code",
   "execution_count": 36,
   "metadata": {},
   "outputs": [
    {
     "data": {
      "text/plain": [
       "array([[ 4,  7,  5,  6],\n",
       "       [20, 23, 21, 22],\n",
       "       [28, 31, 29, 30],\n",
       "       [ 8, 11,  9, 10]])"
      ]
     },
     "execution_count": 36,
     "metadata": {},
     "output_type": "execute_result"
    }
   ],
   "source": [
    "arr[[1, 5, 7, 2]][:, [0, 3, 1, 2]]  # 1572行的0312列"
   ]
  },
  {
   "cell_type": "code",
   "execution_count": 37,
   "metadata": {},
   "outputs": [
    {
     "data": {
      "text/plain": [
       "array([[ 4,  7,  5,  6],\n",
       "       [20, 23, 21, 22],\n",
       "       [28, 31, 29, 30],\n",
       "       [ 8, 11,  9, 10]])"
      ]
     },
     "execution_count": 37,
     "metadata": {},
     "output_type": "execute_result"
    }
   ],
   "source": [
    "arr[np.ix_([1, 5, 7, 2], [0, 3, 1, 2])] # 可读性更好的写法"
   ]
  }
 ],
 "metadata": {
  "kernelspec": {
   "display_name": "Python 2",
   "language": "python",
   "name": "python2"
  },
  "language_info": {
   "codemirror_mode": {
    "name": "ipython",
    "version": 2
   },
   "file_extension": ".py",
   "mimetype": "text/x-python",
   "name": "python",
   "nbconvert_exporter": "python",
   "pygments_lexer": "ipython2",
   "version": "2.7.13"
  }
 },
 "nbformat": 4,
 "nbformat_minor": 2
}
