{
 "cells": [
  {
   "cell_type": "markdown",
   "metadata": {},
   "source": [
    "# list, array, numpy 效率对比"
   ]
  },
  {
   "cell_type": "code",
   "execution_count": 1,
   "metadata": {},
   "outputs": [
    {
     "name": "stdout",
     "output_type": "stream",
     "text": [
      "list:\n",
      "0.690217971802\n",
      "0.142707824707\n",
      "1.03918719292\n",
      "array:\n",
      "1.68310904503\n",
      "1.10939216614\n",
      "4.03880000114\n",
      "numpy:\n",
      "2.3971760273\n",
      "1.84532904625\n",
      "0.0167219638824\n"
     ]
    }
   ],
   "source": [
    "import timeit\n",
    "\n",
    "common_for = \"\"\"\n",
    "for d in data:\n",
    "    s += d\n",
    "\"\"\"\n",
    "\n",
    "common_sum = \"\"\"\n",
    "sum(data)\n",
    "\"\"\"\n",
    "\n",
    "common_numpy_sum = \"\"\"\n",
    "numpy.sum(data)\n",
    "\"\"\"\n",
    "\n",
    "def timeit_list(n, loops):\n",
    "    list_setup = \"\"\"\n",
    "import numpy\n",
    "data = [1] * {}\n",
    "s = 0\n",
    "\"\"\".format(n)\n",
    "    print 'list:'\n",
    "    print timeit.timeit(common_for, list_setup, number = loops)\n",
    "    print timeit.timeit(common_sum, list_setup, number = loops)\n",
    "    print timeit.timeit(common_numpy_sum, list_setup, number = loops)\n",
    "\n",
    "def timeit_array(n, loops):\n",
    "    array_setup = \"\"\"\n",
    "import numpy\n",
    "import array\n",
    "data = array.array('L', [1] * {})\n",
    "s = 0\n",
    "\"\"\".format(n)\n",
    "    print 'array:'\n",
    "    print timeit.timeit(common_for, array_setup, number = loops)\n",
    "    print timeit.timeit(common_sum, array_setup, number = loops)\n",
    "    print timeit.timeit(common_numpy_sum, array_setup, number = loops)\n",
    "\n",
    "def timeit_numpy(n, loops):\n",
    "    numpy_setup = \"\"\"\n",
    "import numpy\n",
    "data = numpy.array([1] * {})\n",
    "s = 0\n",
    "\"\"\".format(n)\n",
    "    print 'numpy:'\n",
    "    print timeit.timeit(common_for, numpy_setup, number = loops)\n",
    "    print timeit.timeit(common_sum, numpy_setup, number = loops)\n",
    "    print timeit.timeit(common_numpy_sum, numpy_setup, number = loops)\n",
    "\n",
    "#if __name__ == '__main__':\n",
    "timeit_list(50000, 500)\n",
    "timeit_array(50000, 500)\n",
    "timeit_numpy(50000, 500)\n"
   ]
  }
 ],
 "metadata": {
  "kernelspec": {
   "display_name": "Python 2",
   "language": "python",
   "name": "python2"
  },
  "language_info": {
   "codemirror_mode": {
    "name": "ipython",
    "version": 2
   },
   "file_extension": ".py",
   "mimetype": "text/x-python",
   "name": "python",
   "nbconvert_exporter": "python",
   "pygments_lexer": "ipython2",
   "version": "2.7.14"
  }
 },
 "nbformat": 4,
 "nbformat_minor": 2
}
